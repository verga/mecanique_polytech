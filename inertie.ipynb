{
 "cells": [
  {
   "cell_type": "markdown",
   "id": "0ae98cc7-303a-4ac4-afa7-10bea8e4357e",
   "metadata": {},
   "source": [
    "LaTex\n",
    "\n",
    "$\\newcommand{\\I}{\\mathrm{i}} \n",
    "\\newcommand{\\E}{\\mathrm{e}} \n",
    "\\newcommand{\\D}{\\mathop{}\\!\\mathrm{d}}\n",
    "\\newcommand{\\bra}[1]{\\langle{#1}|}\n",
    "\\newcommand{\\ket}[1]{|{#1}\\rangle}\n",
    "\\newcommand{\\braket}[1]{\\langle{#1}\\rangle}\n",
    "\\newcommand{\\bm}[1]{\\boldsymbol{#1}}$"
   ]
  },
  {
   "cell_type": "markdown",
   "id": "980a155d-f806-47a0-934b-439a8d66071c",
   "metadata": {},
   "source": [
    "# Bibliothèque"
   ]
  },
  {
   "cell_type": "code",
   "execution_count": 3,
   "id": "d27b300f-6cd2-451b-ae08-85ea50c822a3",
   "metadata": {
    "tags": []
   },
   "outputs": [],
   "source": [
    "# numpy\n",
    "import numpy as np"
   ]
  },
  {
   "cell_type": "code",
   "execution_count": 4,
   "id": "0f5f7d61-0d2a-4074-aaa5-429bcc9b62d6",
   "metadata": {},
   "outputs": [],
   "source": [
    "# matplotlib\n",
    "import matplotlib\n",
    "import matplotlib.pylab as plt\n",
    "from IPython.display import Image"
   ]
  },
  {
   "cell_type": "code",
   "execution_count": 5,
   "id": "a8473f5a-e761-4455-945e-4989a4073b7c",
   "metadata": {
    "tags": []
   },
   "outputs": [],
   "source": [
    "%matplotlib inline"
   ]
  },
  {
   "cell_type": "code",
   "execution_count": 6,
   "id": "e26eb50d-d3bc-4125-b32c-507199304575",
   "metadata": {
    "tags": []
   },
   "outputs": [],
   "source": [
    "# sympy\n",
    "import sympy as sy\n",
    "from sympy import symbols\n",
    "from sympy import simplify, expand, collect, cancel, apart, trigsimp\n",
    "from sympy import integrate, diff, series\n",
    "sy.init_printing(use_unicode = True)"
   ]
  },
  {
   "cell_type": "markdown",
   "id": "255c4a7e-b127-48cf-8197-2f55ef061dff",
   "metadata": {},
   "source": [
    "# Exemples"
   ]
  },
  {
   "cell_type": "markdown",
   "id": "e7986bce-6003-4dd4-97fe-737e4a8cddf5",
   "metadata": {},
   "source": [
    "## Triangle"
   ]
  },
  {
   "cell_type": "code",
   "execution_count": 7,
   "id": "118708e3-7fc0-4988-a6d4-14d24bf10f3a",
   "metadata": {},
   "outputs": [
    {
     "data": {
      "text/plain": [
       "[Text(0, 0.0, '$0$'), Text(0, 1.5, '$h$')]"
      ]
     },
     "execution_count": 7,
     "metadata": {},
     "output_type": "execute_result"
    },
    {
     "data": {
      "image/png": "[encoded data removed]",
      "text/plain": [
       "<Figure size 400x400 with 1 Axes>"
      ]
     },
     "metadata": {},
     "output_type": "display_data"
    }
   ],
   "source": [
    "N = 65\n",
    "x = np.linspace(-1,1,N)\n",
    "y = -1.5*np.abs(x) + 1.5\n",
    "fig, ax = plt.subplots(figsize = (4,4))\n",
    "ax.plot(x, y, color = '0.35')\n",
    "ax.plot([-1,1], [0,0], color = '0.35')\n",
    "ax.plot([0,0], [0,1.5], \":\", color = '0.35')\n",
    "ax.plot([0,0], [0,0], \".\", color = '#800', ms = 18)\n",
    "ax.set_xticks([-1, 0, 1])\n",
    "ax.set_xticklabels([\"$-a$\", \"$0$\", \"$a$\"], fontsize = 18)\n",
    "ax.set_yticks([0, 1.5])\n",
    "ax.set_yticklabels([\"$0$\", \"$h$\"], fontsize = 18)"
   ]
  },
  {
   "cell_type": "markdown",
   "id": "e42fffa7-f8c3-4a3d-8810-d95143fe2cf1",
   "metadata": {},
   "source": [
    "On a un triangle $y=-(b/a) |x| + h$, et on veut calculer son moment d'inertie (en prennant $(0,0)$ comme centre de coordonnées associées au corps)."
   ]
  },
  {
   "cell_type": "code",
   "execution_count": 8,
   "id": "878a5f92-d06c-44b9-a7a0-da082b4e99b6",
   "metadata": {},
   "outputs": [],
   "source": [
    "x, y = sy.symbols(\"x, y\", real=True)\n",
    "a, h = sy.symbols(\"a h\", real=True)\n",
    "rho, M = sy.symbols(\"rho M\", real=True)"
   ]
  },
  {
   "cell_type": "code",
   "execution_count": 9,
   "id": "cf96e551-f786-4cea-9af7-3eae47258a37",
   "metadata": {},
   "outputs": [],
   "source": [
    "# intégrale double sur le triangle\n",
    "def I_triangle(f):\n",
    "    return sy.integrate(sy.integrate(f, (y, 0,  (h/a)*x + h)), (x, -a, 0)) +\\\n",
    "           sy.integrate(sy.integrate(f, (y, 0, -(h/a)*x + h)), (x, 0, a))"
   ]
  },
  {
   "cell_type": "code",
   "execution_count": 10,
   "id": "7a7fc553-8a0e-4e00-bebf-6853bf875631",
   "metadata": {},
   "outputs": [
    {
     "data": {
      "image/png": "[encoded data removed]",
      "text/latex": [
       "$\\displaystyle a h$"
      ],
      "text/plain": [
       "a⋅h"
      ]
     },
     "execution_count": 10,
     "metadata": {},
     "output_type": "execute_result"
    }
   ],
   "source": [
    "# aire du triangle A, on a M = rho A\n",
    "A = I_triangle(1)\n",
    "A"
   ]
  },
  {
   "cell_type": "code",
   "execution_count": 11,
   "id": "f4a9ca47-8cd7-4ecb-8e33-ff9836a73e78",
   "metadata": {},
   "outputs": [
    {
     "data": {
      "image/png": "[encoded data removed]",
      "text/latex": [
       "$\\displaystyle \\left[\\begin{matrix}\\frac{M h^{2}}{6} & 0 & 0\\\\0 & \\frac{M a^{2}}{6} & 0\\\\0 & 0 & \\frac{M \\left(a^{2} + h^{2}\\right)}{6}\\end{matrix}\\right]$"
      ],
      "text/plain": [
       "⎡   2                   ⎤\n",
       "⎢M⋅h                    ⎥\n",
       "⎢────   0         0     ⎥\n",
       "⎢ 6                     ⎥\n",
       "⎢                       ⎥\n",
       "⎢         2             ⎥\n",
       "⎢      M⋅a              ⎥\n",
       "⎢ 0    ────       0     ⎥\n",
       "⎢       6               ⎥\n",
       "⎢                       ⎥\n",
       "⎢              ⎛ 2    2⎞⎥\n",
       "⎢            M⋅⎝a  + h ⎠⎥\n",
       "⎢ 0     0    ───────────⎥\n",
       "⎣                 6     ⎦"
      ]
     },
     "execution_count": 11,
     "metadata": {},
     "output_type": "execute_result"
    }
   ],
   "source": [
    "# inertie\n",
    "# I_xx, I_yy, I_zz = I_xx + I_yy, I_xy = I_yx = 0\n",
    "I_xx = (M/A) * I_triangle(y**2)\n",
    "I_yy = (M/A) * I_triangle(x**2)\n",
    "I_xy = (M/A) * I_triangle(x*y)\n",
    "I_zz = sy.simplify(I_xx + I_yy)\n",
    "\n",
    "I = sy.Matrix([[I_xx, I_xy, 0], [I_xy, I_yy, 0], [0, 0, I_zz]])\n",
    "I"
   ]
  },
  {
   "cell_type": "markdown",
   "id": "e7e9675e-74b8-42b3-b954-53c4a4eb7c05",
   "metadata": {},
   "source": [
    "## Cône"
   ]
  },
  {
   "cell_type": "markdown",
   "id": "55adcfea-4727-4bd4-b6c5-5aebba410cca",
   "metadata": {},
   "source": [
    "Definition paramétrique $\\bm x = \\bm x(r,\\theta,h)$:\n",
    "\\begin{align*}\n",
    "x(r,\\theta,h) &= r\\cos(\\theta)\\\\\n",
    "y(r,\\theta,h) &= r\\sin(\\theta)\\\\\n",
    "z(r,\\theta,h) &= h\n",
    "\\end{align*}\n",
    "\n",
    "Centre de masse:\n",
    "$$\\bm R_M = \\frac{\\rho}{M} \\int_0^H \\D h \\int_0^{hR/H} \\D r\\int_0^{2\\pi} r\\D \\theta \\bm x(r,\\theta,h)$$\n",
    "avec\n",
    "$$M = \\rho \\int_0^H \\D h \\int_0^{hR/H} \\D r\\int_0^{2\\pi} r\\D \\theta $$"
   ]
  },
  {
   "cell_type": "code",
   "execution_count": 13,
   "id": "a4aacdda-31ce-4ecb-a5cd-f3d1095d8195",
   "metadata": {},
   "outputs": [],
   "source": [
    "R, H, rho = sy.symbols(\"R, H, rho\", positive = True)\n",
    "r, t, h = sy.symbols(\"r, t, h\", real = True)\n",
    "vol = sy.integrate( sy.integrate( sy.integrate( r, (r, 0, h*R/H) ), (t, 0, 2*sy.pi) ), (h, 0, H) )"
   ]
  },
  {
   "cell_type": "code",
   "execution_count": 14,
   "id": "b550be77-5a33-4b56-b457-cd28945b7815",
   "metadata": {},
   "outputs": [
    {
     "data": {
      "image/png": "[encoded data removed]",
      "text/latex": [
       "$\\displaystyle \\frac{\\pi H R^{2} \\rho}{3}$"
      ],
      "text/plain": [
       "     2  \n",
       "π⋅H⋅R ⋅ρ\n",
       "────────\n",
       "   3    "
      ]
     },
     "execution_count": 14,
     "metadata": {},
     "output_type": "execute_result"
    }
   ],
   "source": [
    "rho * vol"
   ]
  },
  {
   "cell_type": "code",
   "execution_count": 15,
   "id": "d0c9cb14-d1e5-492b-8514-82743b41b708",
   "metadata": {},
   "outputs": [
    {
     "data": {
      "image/png": "[encoded data removed]",
      "text/latex": [
       "$\\displaystyle \\left[\\begin{matrix}0\\\\0\\\\\\frac{3 H}{4}\\end{matrix}\\right]$"
      ],
      "text/plain": [
       "⎡ 0 ⎤\n",
       "⎢   ⎥\n",
       "⎢ 0 ⎥\n",
       "⎢   ⎥\n",
       "⎢3⋅H⎥\n",
       "⎢───⎥\n",
       "⎣ 4 ⎦"
      ]
     },
     "execution_count": 15,
     "metadata": {},
     "output_type": "execute_result"
    }
   ],
   "source": [
    "XM = sy.integrate( sy.integrate( sy.integrate( r**2 * sy.cos(t), (r, 0, h*R/H) ), (t, 0, 2*sy.pi) ), (h, 0, H) )\n",
    "YM = sy.integrate( sy.integrate( sy.integrate( r**2 * sy.sin(t), (r, 0, h*R/H) ), (t, 0, 2*sy.pi) ), (h, 0, H) )\n",
    "ZM = sy.integrate( sy.integrate( sy.integrate( r*h, (r, 0, h*R/H) ), (t, 0, 2*sy.pi) ), (h, 0, H) )\n",
    "R_M = sy.simplify( (1/vol) * sy.Matrix( [[XM],[YM],[ZM]] ) )\n",
    "R_M"
   ]
  },
  {
   "cell_type": "markdown",
   "id": "e43ef05c-44ff-419a-a4ce-d377861ff019",
   "metadata": {},
   "source": [
    "## Demi-boule"
   ]
  },
  {
   "cell_type": "markdown",
   "id": "2f387abd-441c-4bce-a547-08d0346a4196",
   "metadata": {},
   "source": [
    "Équation paramétrique $\\bm x = \\bm x(r,\\theta, \\phi)$:\n",
    "\\begin{align*}\n",
    "x(r,\\theta,h) &= r\\sin(\\theta)\\cos(\\phi)\\\\\n",
    "y(r,\\theta,h) &= r\\sin(\\theta)\\sin(\\phi)\\\\\n",
    "z(r,\\theta,h) &= r\\cos(\\theta)\n",
    "\\end{align*}\n",
    "\n",
    "Volume:\n",
    "$$V = 2\\pi\\int_0^R \\D r \\int_0^{\\pi/2} r^2\\D \\theta \\sin(\\theta)$$\n",
    "\n",
    "Centre de masse:\n",
    "$$\\bm R_M = \\frac{1}{V} \\int_0^R \\D r \\int_0^{\\pi/2} r^2\\D \\theta \\int_0^{2\\pi} \\D \\phi \\sin(\\theta) \\bm x(r,\\theta, \\phi)$$"
   ]
  },
  {
   "cell_type": "code",
   "execution_count": 16,
   "id": "211978da-2c01-474f-b3d2-0fd8de48c256",
   "metadata": {},
   "outputs": [
    {
     "data": {
      "image/png": "[encoded data removed]",
      "text/latex": [
       "$\\displaystyle \\frac{2 \\pi R^{3}}{3}$"
      ],
      "text/plain": [
       "     3\n",
       "2⋅π⋅R \n",
       "──────\n",
       "  3   "
      ]
     },
     "execution_count": 16,
     "metadata": {},
     "output_type": "execute_result"
    }
   ],
   "source": [
    "R = sy.symbols(\"R\", positive = True)\n",
    "r, theta, phi = sy.symbols(\"r, theta,phi\", real = True)\n",
    "vol = sy.integrate( sy.integrate( sy.integrate( r**2 * sy.sin(theta), (phi, 0, 2*sy.pi) ), (theta, 0, sy.pi/2) ), (r, 0, R) )\n",
    "vol"
   ]
  },
  {
   "cell_type": "code",
   "execution_count": 17,
   "id": "f61504b0-e045-4533-a538-025097791d2f",
   "metadata": {},
   "outputs": [],
   "source": [
    "ZM = sy.integrate( sy.integrate( sy.integrate( \n",
    "    r**3 * sy.sin(theta) * sy.cos(theta), \n",
    "    (phi, 0, 2*sy.pi) ), (theta, 0, sy.pi/2) ), (r, 0, R) )"
   ]
  },
  {
   "cell_type": "code",
   "execution_count": 18,
   "id": "d8371185-1295-4e75-8b43-5b96db55db54",
   "metadata": {},
   "outputs": [
    {
     "data": {
      "image/png": "[encoded data removed]",
      "text/latex": [
       "$\\displaystyle \\frac{\\pi R^{4}}{4}$"
      ],
      "text/plain": [
       "   4\n",
       "π⋅R \n",
       "────\n",
       " 4  "
      ]
     },
     "execution_count": 18,
     "metadata": {},
     "output_type": "execute_result"
    }
   ],
   "source": [
    "ZM"
   ]
  },
  {
   "cell_type": "code",
   "execution_count": 19,
   "id": "03002e2e-bff2-428b-bde4-efe6e3a9f77a",
   "metadata": {},
   "outputs": [
    {
     "data": {
      "image/png": "[encoded data removed]",
      "text/latex": [
       "$\\displaystyle \\left[ 0, \\  0, \\  \\frac{3 R}{8}\\right]$"
      ],
      "text/plain": [
       "⎡      3⋅R⎤\n",
       "⎢0, 0, ───⎥\n",
       "⎣       8 ⎦"
      ]
     },
     "execution_count": 19,
     "metadata": {},
     "output_type": "execute_result"
    }
   ],
   "source": [
    "# centre de masse\n",
    "[0,0,ZM/vol]"
   ]
  },
  {
   "cell_type": "markdown",
   "id": "28bd67fe-3ff8-42f6-8bcd-be4dbe917ef4",
   "metadata": {},
   "source": [
    "Si la sphère est creuse, on se donne une densité de masse de surface (en masse/longueur$^2$). Comme le rayon est fixe, les équations paramétriques deviennent:\n",
    "\\begin{align*}\n",
    "x(r,\\theta,h) &= R\\sin(\\theta)\\cos(\\phi)\\\\\n",
    "y(r,\\theta,h) &= R\\sin(\\theta)\\sin(\\phi)\\\\\n",
    "z(r,\\theta,h) &= R\\cos(\\theta)\n",
    "\\end{align*}\n",
    "\n",
    "Surface:\n",
    "$$S = 2\\pi \\int_0^{\\pi/2} r^2\\D \\theta \\sin(\\theta)$$\n",
    "\n",
    "Centre de masse:\n",
    "$$\\bm R_M = \\frac{1}{S} \\int_0^{\\pi/2} r^2\\D \\theta \\int_0^{2\\pi} \\D \\phi \\sin(\\theta) \\bm x(r,\\theta, \\phi)$$"
   ]
  },
  {
   "cell_type": "code",
   "execution_count": 20,
   "id": "110dfd65-2947-4907-be0f-6c71395a9ce0",
   "metadata": {},
   "outputs": [
    {
     "data": {
      "image/png": "[encoded data removed]",
      "text/latex": [
       "$\\displaystyle 2 \\pi R^{2}$"
      ],
      "text/plain": [
       "     2\n",
       "2⋅π⋅R "
      ]
     },
     "execution_count": 20,
     "metadata": {},
     "output_type": "execute_result"
    }
   ],
   "source": [
    "aire = sy.integrate( sy.integrate( R**2 * sy.sin(theta), (phi, 0, 2*sy.pi) ), (theta, 0, sy.pi/2) )\n",
    "aire"
   ]
  },
  {
   "cell_type": "code",
   "execution_count": 21,
   "id": "027e6895-31ab-499d-88c4-dec78e547c9c",
   "metadata": {},
   "outputs": [
    {
     "data": {
      "image/png": "[encoded data removed]",
      "text/latex": [
       "$\\displaystyle \\left[ 0, \\  0, \\  \\frac{R}{2}\\right]$"
      ],
      "text/plain": [
       "⎡      R⎤\n",
       "⎢0, 0, ─⎥\n",
       "⎣      2⎦"
      ]
     },
     "execution_count": 21,
     "metadata": {},
     "output_type": "execute_result"
    }
   ],
   "source": [
    "# centre de masse\n",
    "ZM = sy.integrate( sy.integrate( \n",
    "    R**3 * sy.sin(theta) * sy.cos(theta), \n",
    "    (phi, 0, 2*sy.pi) ), (theta, 0, sy.pi/2) )\n",
    "[0,0,ZM/aire]"
   ]
  },
  {
   "cell_type": "markdown",
   "id": "dbaa344a-d7bc-4d78-a39f-afe952e8ea59",
   "metadata": {},
   "source": [
    "# Moment d'inertie\n",
    "\n",
    "La formule:\n",
    "$$I_{ij} = I^G_{ij} + M(d^2 \\delta_{ij} - d_id_j)$$\n",
    "nous donne le changement de $I^G$ (moment par rapport au centre de masse) quand on déplace l'origine de coordonnées du centre de masse vers un point situé en $\\bm d$."
   ]
  },
  {
   "cell_type": "markdown",
   "id": "6e149ddb-83d2-4d68-a8ef-b773d82a5a09",
   "metadata": {},
   "source": [
    "### Example d'une plaque carrée"
   ]
  },
  {
   "cell_type": "code",
   "execution_count": 22,
   "id": "bfe467b7-225d-4d03-8c8d-b0704cc3a049",
   "metadata": {},
   "outputs": [
    {
     "data": {
      "image/png": "[encoded data removed]",
      "text/latex": [
       "$\\displaystyle a^{2}$"
      ],
      "text/plain": [
       " 2\n",
       "a "
      ]
     },
     "execution_count": 22,
     "metadata": {},
     "output_type": "execute_result"
    }
   ],
   "source": [
    "a, x, y = sy.symbols(\"a, x, y\", real=True)\n",
    "M = sy.symbols(\"M\", real=True)\n",
    "def I_carre_0(f):\n",
    "    return sy.integrate(sy.integrate(f, (y, 0, a)), (x, 0, a))\n",
    "\n",
    "A = I_carre_0(1)\n",
    "rho = M/A      \n",
    "A"
   ]
  },
  {
   "cell_type": "code",
   "execution_count": 23,
   "id": "7e8ebf08-2d36-4f54-9e3c-995cbb91a8cd",
   "metadata": {},
   "outputs": [
    {
     "data": {
      "image/png": "[encoded data removed]",
      "text/latex": [
       "$\\displaystyle \\left[\\begin{matrix}\\frac{M a^{2}}{3} & - \\frac{M a^{2}}{4} & 0\\\\- \\frac{M a^{2}}{4} & \\frac{M a^{2}}{3} & 0\\\\0 & 0 & \\frac{2 M a^{2}}{3}\\end{matrix}\\right]$"
      ],
      "text/plain": [
       "⎡    2       2         ⎤\n",
       "⎢ M⋅a    -M⋅a          ⎥\n",
       "⎢ ────   ──────    0   ⎥\n",
       "⎢  3       4           ⎥\n",
       "⎢                      ⎥\n",
       "⎢    2       2         ⎥\n",
       "⎢-M⋅a     M⋅a          ⎥\n",
       "⎢──────   ────     0   ⎥\n",
       "⎢  4       3           ⎥\n",
       "⎢                      ⎥\n",
       "⎢                     2⎥\n",
       "⎢                2⋅M⋅a ⎥\n",
       "⎢  0       0     ──────⎥\n",
       "⎣                  3   ⎦"
      ]
     },
     "execution_count": 23,
     "metadata": {},
     "output_type": "execute_result"
    }
   ],
   "source": [
    "# ORIGINE(0,0)\n",
    "I_xx = rho * I_carre_0(y**2)                \n",
    "I_yy = rho * I_carre_0(x**2)           \n",
    "I_xy = rho * I_carre_0(-x*y)\n",
    "I_zz = I_xx + I_yy\n",
    "I_0 = sy.Matrix([[I_xx, I_xy, 0], [I_xy, I_yy, 0], [0, 0, I_zz]])\n",
    "I_0"
   ]
  },
  {
   "cell_type": "code",
   "execution_count": 24,
   "id": "1df46e49-855b-43e6-afe5-a1ce436ce049",
   "metadata": {},
   "outputs": [
    {
     "data": {
      "image/png": "[encoded data removed]",
      "text/latex": [
       "$\\displaystyle \\left[\\begin{matrix}\\frac{M a^{2}}{3} & 0 & 0\\\\0 & \\frac{M a^{2}}{12} & 0\\\\0 & 0 & \\frac{5 M a^{2}}{12}\\end{matrix}\\right]$"
      ],
      "text/plain": [
       "⎡   2              ⎤\n",
       "⎢M⋅a               ⎥\n",
       "⎢────   0      0   ⎥\n",
       "⎢ 3                ⎥\n",
       "⎢                  ⎥\n",
       "⎢         2        ⎥\n",
       "⎢      M⋅a         ⎥\n",
       "⎢ 0    ────    0   ⎥\n",
       "⎢       12         ⎥\n",
       "⎢                  ⎥\n",
       "⎢                 2⎥\n",
       "⎢            5⋅M⋅a ⎥\n",
       "⎢ 0     0    ──────⎥\n",
       "⎣              12  ⎦"
      ]
     },
     "execution_count": 24,
     "metadata": {},
     "output_type": "execute_result"
    }
   ],
   "source": [
    "# ORIGINE (a/2,0)\n",
    "def I_carre_1(f):\n",
    "    return sy.integrate(sy.integrate(f, (y, 0, a)), (x, -a/2, a/2)) \n",
    "\n",
    "I_xx = rho * I_carre_1(y**2)                \n",
    "I_yy = rho * I_carre_1(x**2)           \n",
    "I_xy = rho * I_carre_1(-x*y)\n",
    "I_zz = I_xx + I_yy\n",
    "I_1 = sy.Matrix([[I_xx, I_xy, 0], [I_xy, I_yy, 0], [0, 0, I_zz]])\n",
    "I_1"
   ]
  },
  {
   "cell_type": "code",
   "execution_count": 25,
   "id": "742d7b26-abf3-4d63-b2fe-3b8036202671",
   "metadata": {},
   "outputs": [
    {
     "data": {
      "image/png": "[encoded data removed]",
      "text/latex": [
       "$\\displaystyle \\left[\\begin{matrix}\\frac{M a^{2}}{12} & 0 & 0\\\\0 & \\frac{M a^{2}}{12} & 0\\\\0 & 0 & \\frac{M a^{2}}{6}\\end{matrix}\\right]$"
      ],
      "text/plain": [
       "⎡   2            ⎤\n",
       "⎢M⋅a             ⎥\n",
       "⎢────   0     0  ⎥\n",
       "⎢ 12             ⎥\n",
       "⎢                ⎥\n",
       "⎢         2      ⎥\n",
       "⎢      M⋅a       ⎥\n",
       "⎢ 0    ────   0  ⎥\n",
       "⎢       12       ⎥\n",
       "⎢                ⎥\n",
       "⎢               2⎥\n",
       "⎢            M⋅a ⎥\n",
       "⎢ 0     0    ────⎥\n",
       "⎣             6  ⎦"
      ]
     },
     "execution_count": 25,
     "metadata": {},
     "output_type": "execute_result"
    }
   ],
   "source": [
    "# Centre de masse (a/2,a/2)\n",
    "def I_carre_G(f):\n",
    "    return sy.integrate(sy.integrate(f, (y, -a/2, a/2)), (x, -a/2, a/2))\n",
    "\n",
    "I_xx = rho * I_carre_G(y**2)                \n",
    "I_yy = rho * I_carre_G(x**2)           \n",
    "I_xy = rho * I_carre_G(-x*y)\n",
    "I_zz = I_xx + I_yy\n",
    "I_G = sy.Matrix([[I_xx, I_xy, 0], [I_xy, I_yy, 0], [0, 0, I_zz]])\n",
    "I_G"
   ]
  },
  {
   "cell_type": "code",
   "execution_count": 26,
   "id": "7ac575c5-3569-4150-94eb-cad6835742e3",
   "metadata": {},
   "outputs": [
    {
     "data": {
      "image/png": "[encoded data removed]",
      "text/latex": [
       "$\\displaystyle \\left[\\begin{matrix}\\frac{M a^{2}}{3} & - \\frac{M a^{2}}{4} & 0\\\\- \\frac{M a^{2}}{4} & \\frac{M a^{2}}{3} & 0\\\\0 & 0 & \\frac{2 M a^{2}}{3}\\end{matrix}\\right]$"
      ],
      "text/plain": [
       "⎡    2       2         ⎤\n",
       "⎢ M⋅a    -M⋅a          ⎥\n",
       "⎢ ────   ──────    0   ⎥\n",
       "⎢  3       4           ⎥\n",
       "⎢                      ⎥\n",
       "⎢    2       2         ⎥\n",
       "⎢-M⋅a     M⋅a          ⎥\n",
       "⎢──────   ────     0   ⎥\n",
       "⎢  4       3           ⎥\n",
       "⎢                      ⎥\n",
       "⎢                     2⎥\n",
       "⎢                2⋅M⋅a ⎥\n",
       "⎢  0       0     ──────⎥\n",
       "⎣                  3   ⎦"
      ]
     },
     "execution_count": 26,
     "metadata": {},
     "output_type": "execute_result"
    }
   ],
   "source": [
    "# I_0: on a d = (-a/2,-a/2)\n",
    "I_d0 = sy.Matrix([[M*a**2/4, -M*a**2/4 , 0], [-M*a**2/4, M*a**2/4, 0], [0, 0,  M*a**2/2]])\n",
    "I_G + I_d0"
   ]
  },
  {
   "cell_type": "code",
   "execution_count": 27,
   "id": "0ad9c524-1e78-4727-91eb-cab2e2e10d0e",
   "metadata": {},
   "outputs": [
    {
     "data": {
      "image/png": "[encoded data removed]",
      "text/latex": [
       "$\\displaystyle \\left[\\begin{matrix}\\frac{M a^{2}}{3} & 0 & 0\\\\0 & \\frac{M a^{2}}{12} & 0\\\\0 & 0 & \\frac{5 M a^{2}}{12}\\end{matrix}\\right]$"
      ],
      "text/plain": [
       "⎡   2              ⎤\n",
       "⎢M⋅a               ⎥\n",
       "⎢────   0      0   ⎥\n",
       "⎢ 3                ⎥\n",
       "⎢                  ⎥\n",
       "⎢         2        ⎥\n",
       "⎢      M⋅a         ⎥\n",
       "⎢ 0    ────    0   ⎥\n",
       "⎢       12         ⎥\n",
       "⎢                  ⎥\n",
       "⎢                 2⎥\n",
       "⎢            5⋅M⋅a ⎥\n",
       "⎢ 0     0    ──────⎥\n",
       "⎣              12  ⎦"
      ]
     },
     "execution_count": 27,
     "metadata": {},
     "output_type": "execute_result"
    }
   ],
   "source": [
    "# I_1: on a d = (0,-a/2)\n",
    "I_d1 = sy.Matrix([[M*a**2/4, 0 , 0], [0, 0, 0], [0, 0,  M*a**2/4]])\n",
    "I_G + I_d1"
   ]
  },
  {
   "cell_type": "markdown",
   "id": "1802d46d-89dd-4321-8cfe-3a35e3d149eb",
   "metadata": {},
   "source": [
    "### Axes principaux"
   ]
  },
  {
   "cell_type": "code",
   "execution_count": 28,
   "id": "fc78592e-4e85-401b-95c3-6dab5e616b98",
   "metadata": {},
   "outputs": [
    {
     "data": {
      "image/png": "[encoded data removed]",
      "text/latex": [
       "$\\displaystyle \\left[ \\frac{M a^{2}}{12}, \\  \\frac{7 M a^{2}}{12}, \\  \\frac{2 M a^{2}}{3}\\right]$"
      ],
      "text/plain": [
       "⎡   2       2       2⎤\n",
       "⎢M⋅a   7⋅M⋅a   2⋅M⋅a ⎥\n",
       "⎢────, ──────, ──────⎥\n",
       "⎣ 12     12      3   ⎦"
      ]
     },
     "execution_count": 28,
     "metadata": {},
     "output_type": "execute_result"
    }
   ],
   "source": [
    "# Carre O=(0,0)\n",
    "l = sy.symbols(\"lambda\", real=True)\n",
    "p = sy.det(I_0 - l*sy.eye(3))\n",
    "sy.solve(sy.Eq(p,0),l)"
   ]
  },
  {
   "cell_type": "code",
   "execution_count": 29,
   "id": "b6dc91f2-44ca-485a-82c8-1f794dee9ac4",
   "metadata": {},
   "outputs": [
    {
     "data": {
      "image/png": "[encoded data removed]",
      "text/latex": [
       "$\\displaystyle \\left[ \\left( \\frac{M a^{2}}{12}, \\  1, \\  \\left[ \\left[\\begin{matrix}1\\\\1\\\\0\\end{matrix}\\right]\\right]\\right), \\  \\left( \\frac{7 M a^{2}}{12}, \\  1, \\  \\left[ \\left[\\begin{matrix}-1\\\\1\\\\0\\end{matrix}\\right]\\right]\\right), \\  \\left( \\frac{2 M a^{2}}{3}, \\  1, \\  \\left[ \\left[\\begin{matrix}0\\\\0\\\\1\\end{matrix}\\right]\\right]\\right)\\right]$"
      ],
      "text/plain": [
       "⎡⎛   2     ⎡⎡1⎤⎤⎞  ⎛     2     ⎡⎡-1⎤⎤⎞  ⎛     2     ⎡⎡0⎤⎤⎞⎤\n",
       "⎢⎜M⋅a      ⎢⎢ ⎥⎥⎟  ⎜7⋅M⋅a      ⎢⎢  ⎥⎥⎟  ⎜2⋅M⋅a      ⎢⎢ ⎥⎥⎟⎥\n",
       "⎢⎜────, 1, ⎢⎢1⎥⎥⎟, ⎜──────, 1, ⎢⎢1 ⎥⎥⎟, ⎜──────, 1, ⎢⎢0⎥⎥⎟⎥\n",
       "⎢⎜ 12      ⎢⎢ ⎥⎥⎟  ⎜  12       ⎢⎢  ⎥⎥⎟  ⎜  3        ⎢⎢ ⎥⎥⎟⎥\n",
       "⎣⎝         ⎣⎣0⎦⎦⎠  ⎝           ⎣⎣0 ⎦⎦⎠  ⎝           ⎣⎣1⎦⎦⎠⎦"
      ]
     },
     "execution_count": 29,
     "metadata": {},
     "output_type": "execute_result"
    }
   ],
   "source": [
    "I_0.eigenvects()"
   ]
  },
  {
   "cell_type": "markdown",
   "id": "ac7c021c-fe09-460c-a143-72bbed11a465",
   "metadata": {},
   "source": [
    "on voit qu'une rotation de 45 degrés permet de diagonaliser la matrice (un axe passant par le centre du carrée)."
   ]
  }
 ],
 "metadata": {
  "kernelspec": {
   "display_name": "Python 3 (ipykernel)",
   "language": "python",
   "name": "python3"
  },
  "language_info": {
   "codemirror_mode": {
    "name": "ipython",
    "version": 3
   },
   "file_extension": ".py",
   "mimetype": "text/x-python",
   "name": "python",
   "nbconvert_exporter": "python",
   "pygments_lexer": "ipython3",
   "version": "3.10.9"
  }
 },
 "nbformat": 4,
 "nbformat_minor": 5
}
