{
 "cells": [
  {
   "cell_type": "code",
   "execution_count": 1,
   "id": "3229da5a-ee37-4850-b7cf-29e98d126cfc",
   "metadata": {},
   "outputs": [
    {
     "data": {
      "image/png": "[encoded data removed]",
      "text/latex": [
       "$\\displaystyle \\left[\\begin{matrix}- \\frac{1}{4} & 0 & 0 & 0\\\\0 & \\frac{1}{4} & - \\frac{1}{2} & 0\\\\0 & - \\frac{1}{2} & \\frac{1}{4} & 0\\\\0 & 0 & 0 & - \\frac{1}{4}\\end{matrix}\\right]$"
      ],
      "text/plain": [
       "⎡-1/4   0     0     0  ⎤\n",
       "⎢                      ⎥\n",
       "⎢ 0    1/4   -1/2   0  ⎥\n",
       "⎢                      ⎥\n",
       "⎢ 0    -1/2  1/4    0  ⎥\n",
       "⎢                      ⎥\n",
       "⎣ 0     0     0    -1/4⎦"
      ]
     },
     "execution_count": 1,
     "metadata": {},
     "output_type": "execute_result"
    }
   ],
   "source": [
    "import sympy\n",
    "from sympy import I, Rational, Matrix\n",
    "from sympy.physics.quantum import TensorProduct\n",
    "#\n",
    "sympy.init_printing()\n",
    "X = Matrix([[0,1],[1,0]])\n",
    "Y = Matrix([[0,-I],[I,0]])\n",
    "Z = Matrix([[1,0],[0,-1]])\n",
    "h = -Rational(1,4) * (TensorProduct(X,X) + TensorProduct(Y,Y) + TensorProduct(Z,Z))\n",
    "h\n"
   ]
  },
  {
   "cell_type": "code",
   "execution_count": null,
   "id": "47e19547-487e-441b-b790-96ca1442e6f5",
   "metadata": {},
   "outputs": [],
   "source": []
  }
 ],
 "metadata": {
  "kernelspec": {
   "display_name": "Python 3 (ipykernel)",
   "language": "python",
   "name": "python3"
  },
  "language_info": {
   "codemirror_mode": {
    "name": "ipython",
    "version": 3
   },
   "file_extension": ".py",
   "mimetype": "text/x-python",
   "name": "python",
   "nbconvert_exporter": "python",
   "pygments_lexer": "ipython3",
   "version": "3.11.8"
  }
 },
 "nbformat": 4,
 "nbformat_minor": 5
}
