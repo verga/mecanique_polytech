{
 "cells": [
  {
   "cell_type": "markdown",
   "id": "61ac6340-b547-4cc7-9459-e50db131f8be",
   "metadata": {},
   "source": [
    "Markdown macros\n",
    "\n",
    "$\\newcommand{\\I}{\\mathrm{i}} \n",
    "\\newcommand{\\E}{\\mathrm{e}} \n",
    "\\newcommand{\\D}{\\mathop{}\\!\\mathrm{d}}\n",
    "\\newcommand{\\bra}[1]{\\langle{#1}|}\n",
    "\\newcommand{\\ket}[1]{|{#1}\\rangle}\n",
    "\\newcommand{\\braket}[1]{\\langle{#1}\\rangle}\n",
    "\\newcommand{\\bm}[1]{\\boldsymbol{#1}}$"
   ]
  },
  {
   "cell_type": "markdown",
   "id": "215e3555-f812-40e3-b089-7ba1e0039243",
   "metadata": {},
   "source": [
    "# Imports"
   ]
  },
  {
   "cell_type": "code",
   "execution_count": 1,
   "id": "3caa142b-ba9e-49ed-967a-bd14a59ad741",
   "metadata": {},
   "outputs": [],
   "source": [
    "# numpy\n",
    "import numpy as np"
   ]
  },
  {
   "cell_type": "code",
   "execution_count": 2,
   "id": "fd923f80-d3c4-4948-9915-3f85113e5be0",
   "metadata": {},
   "outputs": [],
   "source": [
    "# matplotlib\n",
    "import matplotlib\n",
    "import matplotlib.pylab as plt\n",
    "# figure parameters\n",
    "plt.rcParams['figure.dpi'] = 150"
   ]
  },
  {
   "cell_type": "code",
   "execution_count": 3,
   "id": "afdb9ddc-84ab-4705-80a8-c864bbf71e89",
   "metadata": {
    "tags": []
   },
   "outputs": [],
   "source": [
    "%matplotlib inline"
   ]
  },
  {
   "cell_type": "code",
   "execution_count": 4,
   "id": "cf03d3de-fe4a-4062-b406-57be82d9dbb8",
   "metadata": {
    "tags": []
   },
   "outputs": [],
   "source": [
    "# sympy\n",
    "import sympy as sy\n",
    "from sympy import symbols\n",
    "from sympy import simplify, expand, collect, cancel, apart, trigsimp\n",
    "from sympy import integrate, diff, series\n",
    "sy.init_printing(use_unicode = True)"
   ]
  },
  {
   "cell_type": "markdown",
   "id": "df4630ee-1670-4be3-8568-409dee0769f4",
   "metadata": {},
   "source": [
    "# Rotations en trois dimensions"
   ]
  },
  {
   "cell_type": "code",
   "execution_count": 5,
   "id": "b853e3a0-a009-4a6a-af60-9fa0ca99c98c",
   "metadata": {},
   "outputs": [],
   "source": [
    "phi, theta, psi = symbols(\"phi, theta, psi\", real=True)\n",
    "alpha, beta, gamma = symbols(\"alpha, beta, gamma\", real=True)\n",
    "\n",
    "# Matrixe identité\n",
    "Id = sy.Matrix([[1,  0, 0],\n",
    "                [0, 1, 0],\n",
    "                [0, 0, 1]])\n",
    "# Base canonique\n",
    "e_x = Id[:,0]\n",
    "e_y = Id[:,1]\n",
    "e_z = Id[:,2]\n",
    "\n",
    "# Matrices de rotaion autour des axes X, Y, Z\n",
    "def R_x(phi):\n",
    "    c = sy.cos(phi)\n",
    "    s = sy.sin(phi)\n",
    "    return sy.Matrix([[1,  0, 0],\n",
    "                  [0, c, -s],\n",
    "                  [0, s,  c]])\n",
    "def R_y(phi):\n",
    "    c = sy.cos(phi)\n",
    "    s = sy.sin(phi)\n",
    "    return sy.Matrix([[ c, 0, s],\n",
    "                  [ 0, 1, 0],\n",
    "                  [-s, 0, c]])\n",
    "\n",
    "def R_z(phi):\n",
    "    c = sy.cos(phi)\n",
    "    s = sy.sin(phi)\n",
    "    return sy.Matrix([[c, -s, 0],\n",
    "                  [s,  c, 0],\n",
    "                  [0,  0, 1]])"
   ]
  },
  {
   "cell_type": "code",
   "execution_count": 6,
   "id": "84b120a8-884f-4a00-a3ec-166e95d1b3b4",
   "metadata": {},
   "outputs": [
    {
     "data": {
      "image/png": "[encoded data removed]",
      "text/latex": [
       "$\\displaystyle \\left( \\left[\\begin{matrix}1 & 0 & 0\\\\0 & \\cos{\\left(\\phi \\right)} & - \\sin{\\left(\\phi \\right)}\\\\0 & \\sin{\\left(\\phi \\right)} & \\cos{\\left(\\phi \\right)}\\end{matrix}\\right], \\  \\left[\\begin{matrix}\\cos{\\left(\\phi \\right)} & 0 & \\sin{\\left(\\phi \\right)}\\\\0 & 1 & 0\\\\- \\sin{\\left(\\phi \\right)} & 0 & \\cos{\\left(\\phi \\right)}\\end{matrix}\\right], \\  \\left[\\begin{matrix}\\cos{\\left(\\phi \\right)} & - \\sin{\\left(\\phi \\right)} & 0\\\\\\sin{\\left(\\phi \\right)} & \\cos{\\left(\\phi \\right)} & 0\\\\0 & 0 & 1\\end{matrix}\\right]\\right)$"
      ],
      "text/plain": [
       "⎛⎡1    0        0   ⎤  ⎡cos(φ)   0  sin(φ)⎤  ⎡cos(φ)  -sin(φ)  0⎤⎞\n",
       "⎜⎢                  ⎥  ⎢                  ⎥  ⎢                  ⎥⎟\n",
       "⎜⎢0  cos(φ)  -sin(φ)⎥, ⎢   0     1    0   ⎥, ⎢sin(φ)  cos(φ)   0⎥⎟\n",
       "⎜⎢                  ⎥  ⎢                  ⎥  ⎢                  ⎥⎟\n",
       "⎝⎣0  sin(φ)  cos(φ) ⎦  ⎣-sin(φ)  0  cos(φ)⎦  ⎣  0        0     1⎦⎠"
      ]
     },
     "execution_count": 6,
     "metadata": {},
     "output_type": "execute_result"
    }
   ],
   "source": [
    "R_x(phi), R_y(phi), R_z(phi)"
   ]
  },
  {
   "cell_type": "code",
   "execution_count": 7,
   "id": "a7a83e02-988d-478e-babe-e79c1cd3dbf9",
   "metadata": {},
   "outputs": [
    {
     "data": {
      "image/png": "[encoded data removed]",
      "text/latex": [
       "$\\displaystyle \\left[\\begin{matrix}1 & 0 & 0\\\\0 & 1 & 0\\\\0 & 0 & 1\\end{matrix}\\right]$"
      ],
      "text/plain": [
       "⎡1  0  0⎤\n",
       "⎢       ⎥\n",
       "⎢0  1  0⎥\n",
       "⎢       ⎥\n",
       "⎣0  0  1⎦"
      ]
     },
     "execution_count": 7,
     "metadata": {},
     "output_type": "execute_result"
    }
   ],
   "source": [
    "Id"
   ]
  },
  {
   "cell_type": "code",
   "execution_count": 8,
   "id": "aca82389-dcae-4233-8ece-63de88775689",
   "metadata": {},
   "outputs": [
    {
     "data": {
      "image/png": "[encoded data removed]",
      "text/latex": [
       "$\\displaystyle \\cos{\\left(\\phi \\right)}$"
      ],
      "text/plain": [
       "cos(φ)"
      ]
     },
     "execution_count": 8,
     "metadata": {},
     "output_type": "execute_result"
    }
   ],
   "source": [
    "# angle de rotation cos(phi) = (tr(R)-1)/2\n",
    "sy.Rational(1,2)*(sy.trace(R_x(phi)) - 1)"
   ]
  },
  {
   "cell_type": "code",
   "execution_count": 11,
   "id": "c70c041c-d2eb-4f34-962b-cf7cbdf8c51f",
   "metadata": {},
   "outputs": [
    {
     "data": {
      "image/png": "[encoded data removed]",
      "text/latex": [
       "$\\displaystyle \\left( 1, \\  \\left[\\begin{matrix}1 & 0 & 0\\\\0 & 1 & 0\\\\0 & 0 & 1\\end{matrix}\\right]\\right)$"
      ],
      "text/plain": [
       "⎛   ⎡1  0  0⎤⎞\n",
       "⎜   ⎢       ⎥⎟\n",
       "⎜1, ⎢0  1  0⎥⎟\n",
       "⎜   ⎢       ⎥⎟\n",
       "⎝   ⎣0  0  1⎦⎠"
      ]
     },
     "execution_count": 11,
     "metadata": {},
     "output_type": "execute_result"
    }
   ],
   "source": [
    "# la matrice de rotation est orthogonale de determinant 1\n",
    "sy.simplify( sy.det(R_x(phi)) ), simplify(R_x(phi).T * R_x(phi) )"
   ]
  },
  {
   "cell_type": "code",
   "execution_count": 12,
   "id": "187f7268-380a-4aed-8481-b83050865885",
   "metadata": {},
   "outputs": [
    {
     "data": {
      "image/png": "[encoded data removed]",
      "text/latex": [
       "$\\displaystyle \\left[\\begin{matrix}\\cos{\\left(\\alpha \\right)} \\cos{\\left(\\beta \\right)} & - \\sin{\\left(\\alpha \\right)} \\cos{\\left(\\gamma \\right)} + \\sin{\\left(\\beta \\right)} \\sin{\\left(\\gamma \\right)} \\cos{\\left(\\alpha \\right)} & \\sin{\\left(\\alpha \\right)} \\sin{\\left(\\gamma \\right)} + \\sin{\\left(\\beta \\right)} \\cos{\\left(\\alpha \\right)} \\cos{\\left(\\gamma \\right)}\\\\\\sin{\\left(\\alpha \\right)} \\cos{\\left(\\beta \\right)} & \\sin{\\left(\\alpha \\right)} \\sin{\\left(\\beta \\right)} \\sin{\\left(\\gamma \\right)} + \\cos{\\left(\\alpha \\right)} \\cos{\\left(\\gamma \\right)} & \\sin{\\left(\\alpha \\right)} \\sin{\\left(\\beta \\right)} \\cos{\\left(\\gamma \\right)} - \\sin{\\left(\\gamma \\right)} \\cos{\\left(\\alpha \\right)}\\\\- \\sin{\\left(\\beta \\right)} & \\sin{\\left(\\gamma \\right)} \\cos{\\left(\\beta \\right)} & \\cos{\\left(\\beta \\right)} \\cos{\\left(\\gamma \\right)}\\end{matrix}\\right]$"
      ],
      "text/plain": [
       "⎡cos(α)⋅cos(β)  -sin(α)⋅cos(γ) + sin(β)⋅sin(γ)⋅cos(α)  sin(α)⋅sin(γ) + sin(β)⋅\n",
       "⎢                                                                             \n",
       "⎢sin(α)⋅cos(β)  sin(α)⋅sin(β)⋅sin(γ) + cos(α)⋅cos(γ)   sin(α)⋅sin(β)⋅cos(γ) - \n",
       "⎢                                                                             \n",
       "⎣   -sin(β)                 sin(γ)⋅cos(β)                         cos(β)⋅cos(γ\n",
       "\n",
       "cos(α)⋅cos(γ)⎤\n",
       "             ⎥\n",
       "sin(γ)⋅cos(α)⎥\n",
       "             ⎥\n",
       ")            ⎦"
      ]
     },
     "execution_count": 12,
     "metadata": {},
     "output_type": "execute_result"
    }
   ],
   "source": [
    "# Tait-Bryan alpha (lacet) beta (tangage) et gamma (roulis)\n",
    "R_z(alpha) * R_y(beta) * R_x(gamma)"
   ]
  },
  {
   "cell_type": "code",
   "execution_count": 13,
   "id": "f8d6b928-a415-421f-a91b-227f04dc7ea1",
   "metadata": {},
   "outputs": [
    {
     "data": {
      "image/png": "[encoded data removed]",
      "text/latex": [
       "$\\displaystyle \\left[\\begin{matrix}- \\sin{\\left(\\phi \\right)} \\sin{\\left(\\psi \\right)} \\cos{\\left(\\theta \\right)} + \\cos{\\left(\\phi \\right)} \\cos{\\left(\\psi \\right)} & - \\sin{\\left(\\phi \\right)} \\cos{\\left(\\psi \\right)} \\cos{\\left(\\theta \\right)} - \\sin{\\left(\\psi \\right)} \\cos{\\left(\\phi \\right)} & \\sin{\\left(\\phi \\right)} \\sin{\\left(\\theta \\right)}\\\\\\sin{\\left(\\phi \\right)} \\cos{\\left(\\psi \\right)} + \\sin{\\left(\\psi \\right)} \\cos{\\left(\\phi \\right)} \\cos{\\left(\\theta \\right)} & - \\sin{\\left(\\phi \\right)} \\sin{\\left(\\psi \\right)} + \\cos{\\left(\\phi \\right)} \\cos{\\left(\\psi \\right)} \\cos{\\left(\\theta \\right)} & - \\sin{\\left(\\theta \\right)} \\cos{\\left(\\phi \\right)}\\\\\\sin{\\left(\\psi \\right)} \\sin{\\left(\\theta \\right)} & \\sin{\\left(\\theta \\right)} \\cos{\\left(\\psi \\right)} & \\cos{\\left(\\theta \\right)}\\end{matrix}\\right]$"
      ],
      "text/plain": [
       "⎡-sin(φ)⋅sin(ψ)⋅cos(θ) + cos(φ)⋅cos(ψ)  -sin(φ)⋅cos(ψ)⋅cos(θ) - sin(ψ)⋅cos(φ) \n",
       "⎢                                                                             \n",
       "⎢sin(φ)⋅cos(ψ) + sin(ψ)⋅cos(φ)⋅cos(θ)   -sin(φ)⋅sin(ψ) + cos(φ)⋅cos(ψ)⋅cos(θ) \n",
       "⎢                                                                             \n",
       "⎣            sin(ψ)⋅sin(θ)                          sin(θ)⋅cos(ψ)             \n",
       "\n",
       " sin(φ)⋅sin(θ) ⎤\n",
       "               ⎥\n",
       " -sin(θ)⋅cos(φ)⎥\n",
       "               ⎥\n",
       "     cos(θ)    ⎦"
      ]
     },
     "execution_count": 13,
     "metadata": {},
     "output_type": "execute_result"
    }
   ],
   "source": [
    "# Angles d'Euler phi, theta et psi\n",
    "euler = R_z(phi) * R_x(theta) * R_z(psi)\n",
    "euler"
   ]
  },
  {
   "cell_type": "code",
   "execution_count": 14,
   "id": "5bbeb70c-d62c-4521-9d24-20d73d5670f4",
   "metadata": {},
   "outputs": [
    {
     "data": {
      "image/png": "[encoded data removed]",
      "text/latex": [
       "$\\displaystyle \\cos{\\left(\\theta \\right)}$"
      ],
      "text/plain": [
       "cos(θ)"
      ]
     },
     "execution_count": 14,
     "metadata": {},
     "output_type": "execute_result"
    }
   ],
   "source": [
    "euler[2,2]"
   ]
  },
  {
   "cell_type": "markdown",
   "id": "6b75dc44-1510-49e9-b952-c4f4a09aeb04",
   "metadata": {},
   "source": [
    "## Formule d'Euler-Rodrigues"
   ]
  },
  {
   "cell_type": "markdown",
   "id": "e937f855-0fa7-460c-adae-4365afe5b052",
   "metadata": {},
   "source": [
    "#### La rotation d'un vecteur $r = (x, y, z)$ d'un angle infinitésimal $\\D a$ autour d'un axe $\\bm n = (n_x, n_y, n_z)$ de norme 1 ($n^2 = 1$), s'écrit\n",
    "$$\\bm r' = \\bm r + \\D r = \\bm r + \\D a \\, \\bm n \\times \\bm r$$\n",
    "Pour trouver la rotation d'un angle $a$ on va utiliser une représentation du produit vectoriel. Soit $\\bm e = (\\bm e_x, \\bm e_y, \\bm e_z)$ une base canonique de $\\mathbb{R}^3$; on défini l'application $\\bm L = (L_x, L_y, L_z)$ (reliée au moment cinétique) par\n",
    "\\begin{align*}\n",
    "L_x \\bm r &= \\bm e_x \\times \\bm r \\\\\n",
    "L_y \\bm r &= \\bm e_y \\times \\bm r \\\\\n",
    "L_z \\bm r &= \\bm e_z \\times \\bm r\n",
    "\\end{align*}\n",
    "On en déduit:\n",
    "\\begin{align*}\n",
    "L_x &= \\begin{pmatrix} 0 & 0 & 0 \\\\ 0 & 0 & -1 \\\\ 0 & 1 & 0 \\end{pmatrix} \\\\\n",
    "L_y &= \\begin{pmatrix} 0 & 0 & 1 \\\\ 0 & 0 & 0 \\\\ -1 & 0 & 0 \\end{pmatrix} \\\\\n",
    "L_z &= \\begin{pmatrix} 0 & -1 & 0 \\\\ 1 & 0 & 0 \\\\ 0 & 0 & 0 \\end{pmatrix}\n",
    "\\end{align*}\n",
    "Le produit scalaire $\\bm L \\cdot \\bm n$ satisfait,\n",
    "$$\\bm L \\cdot \\bm n = \\begin{pmatrix} 0 & -n_z & n_y \\\\ n_z & 0 & -n_x \\\\ -n_y & n_x & 0 \\end{pmatrix}$$\n",
    "ce qui donne la représentation du prouit vectoriel comme une matrice antisymétrique:\n",
    "$$(\\bm L \\cdot \\bm n) \\bm r = \\bm n \\times \\bm r$$\n",
    "\n",
    "Une rotation d'angle $a$ autour d'un axe $\\bm n$ peut donc s'écrire:\n",
    "$$\\bm r' = \\lim_{n \\rightarrow \\infty} \\left(1 + \\frac{a}{N} \\bm L \\cdot \\bm n \\right)^N \\bm r$$\n",
    "où on a utilisé $a/N \\rightarrow \\D a$ pour $N \\rightarrow \\infty$. Par conséquant, on définit la matrice de rotation comme:\n",
    "$$R_{\\bm n}(a) = \\E^{a (\\bm L \\cdot \\bm n)}$$ \n",
    "telle que \n",
    "$$\\bm r' = R_{\\bm n}(a) \\bm r$$\n",
    "Il est remarquable qu'on puisse calculer explicitement cette exponentielle. En effet, on a l'identité:\n",
    "$$(\\bm L \\cdot \\bm n)^3 = - \\bm L \\cdot \\bm n$$\n",
    "ce qui a pour conséquence que la série de l'exponentielle ne contient que les puissances 0, 1 et 2 de $(\\bm L \\cdot \\bm n)$:\n",
    "$$\\E^{a (\\bm L \\cdot \\bm n)} = R_{\\bm n}(a) = I + \\sin(a) (\\bm L \\cdot \\bm n) + [1 - \\cos(a)] (\\bm L \\cdot \\bm n)^2$$\n",
    "Ce qui nous donne la formule d'Euler-Rodrigues:\n",
    "$$R_{\\bm n}(a)\\bm r = \\E^{a (\\bm L \\cdot \\bm n)} \\bm r = (\\bm n \\cdot \\bm r) \\bm n + \\cos(a) (\\bm n \\times \\bm r) \\times \\bm n + \\sin(a) (\\bm n \\times \\bm r)$$\n",
    "\n",
    "En notant que \n",
    "$$(\\bm L \\cdot \\bm n)^2 = \\bm n \\bm n^{T} - I$$\n",
    "on peut séparer la matrice de rotation comme la somme de trois matrices:\n",
    "$$R_{\\bm n}(a) = \\cos(a) I + [1 - \\cos(a)] \\bm n \\bm n^{T} + \\sin(a) (\\bm L \\cdot \\bm n)$$\n"
   ]
  },
  {
   "cell_type": "code",
   "execution_count": 7,
   "id": "c314a2b7-81b3-4616-8121-0d9216b51276",
   "metadata": {},
   "outputs": [],
   "source": [
    "# Euler-Rodrigez, matrice de rotation R_n(a)\n",
    "def ER(a, n):\n",
    "    n_x, n_y, n_z = n[0], n[1], n[2]\n",
    "    Ln = sy.Matrix([[   0, -n_z,  n_y],\n",
    "                    [ n_z,    0, -n_x],\n",
    "                    [-n_y,  n_x,    0]])\n",
    "    Id = sy.Matrix([[1,  0, 0],\n",
    "                    [0, 1, 0],\n",
    "                    [0, 0, 1]])\n",
    "    return sy.simplify(sy.cos(a)*Id + (1 - sy.cos(a))*n*n.T + sy.sin(a)*Ln)"
   ]
  },
  {
   "cell_type": "code",
   "execution_count": 49,
   "id": "ab2a30dc-7a76-4b59-ac38-6e6b3347db45",
   "metadata": {},
   "outputs": [
    {
     "data": {
      "image/png": "[encoded data removed]",
      "text/latex": [
       "$\\displaystyle \\left[\\begin{matrix}\\cos{\\left(\\phi \\right)} & - \\sin{\\left(\\phi \\right)} & 0\\\\\\sin{\\left(\\phi \\right)} & \\cos{\\left(\\phi \\right)} & 0\\\\0 & 0 & 1\\end{matrix}\\right]$"
      ],
      "text/plain": [
       "⎡cos(φ)  -sin(φ)  0⎤\n",
       "⎢                  ⎥\n",
       "⎢sin(φ)  cos(φ)   0⎥\n",
       "⎢                  ⎥\n",
       "⎣  0        0     1⎦"
      ]
     },
     "execution_count": 49,
     "metadata": {},
     "output_type": "execute_result"
    }
   ],
   "source": [
    "# Exemple\n",
    "\n",
    "ER(phi, e_z)"
   ]
  },
  {
   "cell_type": "code",
   "execution_count": 8,
   "id": "842a826a-ef4b-4836-af78-0d9df1a80446",
   "metadata": {},
   "outputs": [],
   "source": [
    "# matrice uL = n_x L_x + n_y L_y + n_z L_z\n",
    "(x, y, z) = symbols(\"x, y, z\", real=True)\n",
    "(n_x, n_y, n_z) = symbols(\"n_x, n_y, n_z\", real=True)\n",
    "uL = sy.Matrix([[   0, -n_z,  n_y],\n",
    "                [ n_z,    0, -n_x],\n",
    "                [-n_y,  n_x,    0]])"
   ]
  },
  {
   "cell_type": "code",
   "execution_count": 16,
   "id": "cf0e3237-8756-4e30-8f59-b273e4aae482",
   "metadata": {},
   "outputs": [
    {
     "data": {
      "image/png": "[encoded data removed]",
      "text/latex": [
       "$\\displaystyle \\left[\\begin{matrix}0 & - n_{z} & n_{y}\\\\n_{z} & 0 & - n_{x}\\\\- n_{y} & n_{x} & 0\\end{matrix}\\right]$"
      ],
      "text/plain": [
       "⎡ 0    -n_z  n_y⎤\n",
       "⎢               ⎥\n",
       "⎢n_z    0    -nₓ⎥\n",
       "⎢               ⎥\n",
       "⎣-n_y   nₓ    0 ⎦"
      ]
     },
     "execution_count": 16,
     "metadata": {},
     "output_type": "execute_result"
    }
   ],
   "source": [
    "uL"
   ]
  },
  {
   "cell_type": "code",
   "execution_count": 17,
   "id": "cb54b431-22ad-42fc-bcb9-c622b2b08175",
   "metadata": {},
   "outputs": [
    {
     "data": {
      "image/png": "[encoded data removed]",
      "text/latex": [
       "$\\displaystyle \\left[\\begin{matrix}- n_{y}^{2} - n_{z}^{2} & n_{x} n_{y} & n_{x} n_{z}\\\\n_{x} n_{y} & - n_{x}^{2} - n_{z}^{2} & n_{y} n_{z}\\\\n_{x} n_{z} & n_{y} n_{z} & - n_{x}^{2} - n_{y}^{2}\\end{matrix}\\right]$"
      ],
      "text/plain": [
       "⎡     2      2                            ⎤\n",
       "⎢- n_y  - n_z      nₓ⋅n_y        nₓ⋅n_z   ⎥\n",
       "⎢                                         ⎥\n",
       "⎢                   2      2              ⎥\n",
       "⎢   nₓ⋅n_y      - nₓ  - n_z     n_y⋅n_z   ⎥\n",
       "⎢                                         ⎥\n",
       "⎢                                 2      2⎥\n",
       "⎣   nₓ⋅n_z        n_y⋅n_z     - nₓ  - n_y ⎦"
      ]
     },
     "execution_count": 17,
     "metadata": {},
     "output_type": "execute_result"
    }
   ],
   "source": [
    "uL * uL"
   ]
  },
  {
   "cell_type": "code",
   "execution_count": 18,
   "id": "ff3898a0-846b-46b3-847f-ceebbc56534f",
   "metadata": {},
   "outputs": [
    {
     "data": {
      "image/png": "[encoded data removed]",
      "text/latex": [
       "$\\displaystyle \\left[\\begin{matrix}0 & n_{z} & - n_{y}\\\\- n_{z} & 0 & n_{x}\\\\n_{y} & - n_{x} & 0\\end{matrix}\\right]$"
      ],
      "text/plain": [
       "⎡ 0    n_z  -n_y⎤\n",
       "⎢               ⎥\n",
       "⎢-n_z   0    nₓ ⎥\n",
       "⎢               ⎥\n",
       "⎣n_y   -nₓ   0  ⎦"
      ]
     },
     "execution_count": 18,
     "metadata": {},
     "output_type": "execute_result"
    }
   ],
   "source": [
    "simplify(uL * uL * uL).subs(n_x**2 + n_y**2 + n_z**2,1)"
   ]
  },
  {
   "cell_type": "code",
   "execution_count": 9,
   "id": "123421ba-a0b4-433f-9265-488f309cd9d0",
   "metadata": {},
   "outputs": [
    {
     "data": {
      "image/png": "[encoded data removed]",
      "text/latex": [
       "$\\displaystyle \\left[\\begin{matrix}n_{x}^{2} & n_{x} n_{y} & n_{x} n_{z}\\\\n_{x} n_{y} & n_{y}^{2} & n_{y} n_{z}\\\\n_{x} n_{z} & n_{y} n_{z} & n_{z}^{2}\\end{matrix}\\right]$"
      ],
      "text/plain": [
       "⎡   2                    ⎤\n",
       "⎢ nₓ     nₓ⋅n_y   nₓ⋅n_z ⎥\n",
       "⎢                        ⎥\n",
       "⎢            2           ⎥\n",
       "⎢nₓ⋅n_y   n_y     n_y⋅n_z⎥\n",
       "⎢                        ⎥\n",
       "⎢                     2  ⎥\n",
       "⎣nₓ⋅n_z  n_y⋅n_z   n_z   ⎦"
      ]
     },
     "execution_count": 9,
     "metadata": {},
     "output_type": "execute_result"
    }
   ],
   "source": [
    "# matrice nn^T\n",
    "n = sy.Matrix([[n_x],[n_y],[n_z]])\n",
    "n * n.T"
   ]
  },
  {
   "cell_type": "code",
   "execution_count": 20,
   "id": "6e8187c5-e717-47b5-892e-f0ccc14b97ca",
   "metadata": {},
   "outputs": [
    {
     "data": {
      "image/png": "[encoded data removed]",
      "text/latex": [
       "$\\displaystyle \\left[\\begin{matrix}n_{x}^{2} \\cdot \\left(1 - \\cos{\\left(\\alpha \\right)}\\right) + \\cos{\\left(\\alpha \\right)} & - n_{x} n_{y} \\left(\\cos{\\left(\\alpha \\right)} - 1\\right) - n_{z} \\sin{\\left(\\alpha \\right)} & - n_{x} n_{z} \\left(\\cos{\\left(\\alpha \\right)} - 1\\right) + n_{y} \\sin{\\left(\\alpha \\right)}\\\\- n_{x} n_{y} \\left(\\cos{\\left(\\alpha \\right)} - 1\\right) + n_{z} \\sin{\\left(\\alpha \\right)} & n_{y}^{2} \\cdot \\left(1 - \\cos{\\left(\\alpha \\right)}\\right) + \\cos{\\left(\\alpha \\right)} & - n_{x} \\sin{\\left(\\alpha \\right)} - n_{y} n_{z} \\left(\\cos{\\left(\\alpha \\right)} - 1\\right)\\\\- n_{x} n_{z} \\left(\\cos{\\left(\\alpha \\right)} - 1\\right) - n_{y} \\sin{\\left(\\alpha \\right)} & n_{x} \\sin{\\left(\\alpha \\right)} - n_{y} n_{z} \\left(\\cos{\\left(\\alpha \\right)} - 1\\right) & n_{z}^{2} \\cdot \\left(1 - \\cos{\\left(\\alpha \\right)}\\right) + \\cos{\\left(\\alpha \\right)}\\end{matrix}\\right]$"
      ],
      "text/plain": [
       "⎡      2                                                                      \n",
       "⎢    nₓ ⋅(1 - cos(α)) + cos(α)      -nₓ⋅n_y⋅(cos(α) - 1) - n_z⋅sin(α)  -nₓ⋅n_z\n",
       "⎢                                                                             \n",
       "⎢                                         2                                   \n",
       "⎢-nₓ⋅n_y⋅(cos(α) - 1) + n_z⋅sin(α)     n_y ⋅(1 - cos(α)) + cos(α)      -nₓ⋅sin\n",
       "⎢                                                                             \n",
       "⎢                                                                            2\n",
       "⎣-nₓ⋅n_z⋅(cos(α) - 1) - n_y⋅sin(α)  nₓ⋅sin(α) - n_y⋅n_z⋅(cos(α) - 1)      n_z \n",
       "\n",
       "                          ⎤\n",
       "⋅(cos(α) - 1) + n_y⋅sin(α)⎥\n",
       "                          ⎥\n",
       "                          ⎥\n",
       "(α) - n_y⋅n_z⋅(cos(α) - 1)⎥\n",
       "                          ⎥\n",
       "                          ⎥\n",
       "⋅(1 - cos(α)) + cos(α)    ⎦"
      ]
     },
     "execution_count": 20,
     "metadata": {},
     "output_type": "execute_result"
    }
   ],
   "source": [
    "# Matrice d'Euler-Rodrigues\n",
    "R_n = sy.simplify( \n",
    "    sy.cos(alpha)*Id + \n",
    "    (1 - sy.cos(alpha)) * n * n.T + \n",
    "    sy.sin(alpha) * uL)\n",
    "R_n"
   ]
  },
  {
   "cell_type": "code",
   "execution_count": 21,
   "id": "205a85d4-5d00-4ef4-980b-f871781f3959",
   "metadata": {},
   "outputs": [
    {
     "data": {
      "image/png": "[encoded data removed]",
      "text/latex": [
       "$\\displaystyle \\left[\\begin{matrix}n_{y}^{2} \\left(\\cos{\\left(\\alpha \\right)} - 1\\right) + n_{z}^{2} \\left(\\cos{\\left(\\alpha \\right)} - 1\\right) + 1 & - n_{x} n_{y} \\left(\\cos{\\left(\\alpha \\right)} - 1\\right) - n_{z} \\sin{\\left(\\alpha \\right)} & - n_{x} n_{z} \\left(\\cos{\\left(\\alpha \\right)} - 1\\right) + n_{y} \\sin{\\left(\\alpha \\right)}\\\\- n_{x} n_{y} \\left(\\cos{\\left(\\alpha \\right)} - 1\\right) + n_{z} \\sin{\\left(\\alpha \\right)} & n_{x}^{2} \\left(\\cos{\\left(\\alpha \\right)} - 1\\right) + n_{z}^{2} \\left(\\cos{\\left(\\alpha \\right)} - 1\\right) + 1 & - n_{x} \\sin{\\left(\\alpha \\right)} - n_{y} n_{z} \\left(\\cos{\\left(\\alpha \\right)} - 1\\right)\\\\- n_{x} n_{z} \\left(\\cos{\\left(\\alpha \\right)} - 1\\right) - n_{y} \\sin{\\left(\\alpha \\right)} & n_{x} \\sin{\\left(\\alpha \\right)} - n_{y} n_{z} \\left(\\cos{\\left(\\alpha \\right)} - 1\\right) & n_{x}^{2} \\left(\\cos{\\left(\\alpha \\right)} - 1\\right) + n_{y}^{2} \\left(\\cos{\\left(\\alpha \\right)} - 1\\right) + 1\\end{matrix}\\right]$"
      ],
      "text/plain": [
       "⎡   2                   2                                                     \n",
       "⎢n_y ⋅(cos(α) - 1) + n_z ⋅(cos(α) - 1) + 1     -nₓ⋅n_y⋅(cos(α) - 1) - n_z⋅sin(\n",
       "⎢                                                                             \n",
       "⎢                                             2                   2           \n",
       "⎢    -nₓ⋅n_y⋅(cos(α) - 1) + n_z⋅sin(α)      nₓ ⋅(cos(α) - 1) + n_z ⋅(cos(α) - \n",
       "⎢                                                                             \n",
       "⎢                                                                             \n",
       "⎣    -nₓ⋅n_z⋅(cos(α) - 1) - n_y⋅sin(α)          nₓ⋅sin(α) - n_y⋅n_z⋅(cos(α) - \n",
       "\n",
       "                                                ⎤\n",
       "α)         -nₓ⋅n_z⋅(cos(α) - 1) + n_y⋅sin(α)    ⎥\n",
       "                                                ⎥\n",
       "                                                ⎥\n",
       "1) + 1     -nₓ⋅sin(α) - n_y⋅n_z⋅(cos(α) - 1)    ⎥\n",
       "                                                ⎥\n",
       "          2                   2                 ⎥\n",
       "1)      nₓ ⋅(cos(α) - 1) + n_y ⋅(cos(α) - 1) + 1⎦"
      ]
     },
     "execution_count": 21,
     "metadata": {},
     "output_type": "execute_result"
    }
   ],
   "source": [
    "# formule équivalente de R_n\n",
    "sy. simplify(\n",
    "    sy.Matrix(np.diag([1,1,1])) + \n",
    "    sy.sin(alpha) * uL + \n",
    "    (1 - sy.cos(alpha)) * uL * uL)"
   ]
  },
  {
   "cell_type": "markdown",
   "id": "4406c8eb-9393-4371-87ef-841d3624525a",
   "metadata": {},
   "source": [
    "On aborde maintenant le problème inverse, celui de trouver l'axe et l'angle de rotation à partir de la matrice $R$. On voit inmédiatement que la trace de $R$ contient l'information sur l'angle:\n",
    "$$\\mathrm{Tr} R = 1 + 2 \\cos(a)$$\n",
    "Le calcul de $\\bm n$ est aussi directe: il suffit de regarder les termes en $\\sin (a)$, qui sont linéaires en $\\bm n$, par exemple,\n",
    "$$R_{32} - R_{23} = 2\\sin(a) n_x, \\; R_{13} - R_{31} = 2\\sin(a) n_y, \\; R_{21} - R_{12} = 2\\sin(a) n_z$$\n",
    "d'où on déduit:\n",
    "$$\\bm n = \\frac{1}{2 \\sin(a)} \\begin{pmatrix} R_{32} - R_{23} \\\\ R_{13} - R_{31} \\\\ R_{21} - R_{12} \\end{pmatrix}$$\n",
    "Le cas $a=\\pi$ correspond à \n",
    "$$R=  I - 2 (\\bm L \\cdot \\bm n)^2 = -I + \\bm n \\bm n^T$$\n",
    "donc, les vecteurs colonne de $R + I$ sont proportionnels à $\\bm n$."
   ]
  },
  {
   "cell_type": "markdown",
   "id": "f82dfa4a-46b9-42a0-9115-c4d039a8b4e1",
   "metadata": {},
   "source": [
    "# TD1 matrice de rotation"
   ]
  },
  {
   "cell_type": "markdown",
   "id": "f8a19007-bf11-4aed-b6d9-055e2c7c0bff",
   "metadata": {},
   "source": [
    "On commence par écrire la matrice R."
   ]
  },
  {
   "cell_type": "code",
   "execution_count": 11,
   "id": "e005b2d3-af45-4e20-a31f-e73c5e3e3fb1",
   "metadata": {},
   "outputs": [
    {
     "data": {
      "image/png": "[encoded data removed]",
      "text/latex": [
       "$\\displaystyle \\left[\\begin{matrix}\\frac{1}{4} + \\frac{3 \\sqrt{2}}{8} & - \\frac{\\sqrt{3}}{4} + \\frac{\\sqrt{6}}{8} & - \\frac{\\sqrt{6}}{4}\\\\- \\frac{\\sqrt{3}}{4} + \\frac{\\sqrt{6}}{8} & \\frac{\\sqrt{2}}{8} + \\frac{3}{4} & - \\frac{\\sqrt{2}}{4}\\\\\\frac{\\sqrt{6}}{4} & \\frac{\\sqrt{2}}{4} & \\frac{\\sqrt{2}}{2}\\end{matrix}\\right]$"
      ],
      "text/plain": [
       "⎡1   3⋅√2     √3   √6  -√6 ⎤\n",
       "⎢─ + ────   - ── + ──  ────⎥\n",
       "⎢4    8       4    8    4  ⎥\n",
       "⎢                          ⎥\n",
       "⎢  √3   √6   √2   3    -√2 ⎥\n",
       "⎢- ── + ──   ── + ─    ────⎥\n",
       "⎢  4    8    8    4     4  ⎥\n",
       "⎢                          ⎥\n",
       "⎢   √6         √2       √2 ⎥\n",
       "⎢   ──         ──       ── ⎥\n",
       "⎣   4          4        2  ⎦"
      ]
     },
     "execution_count": 11,
     "metadata": {},
     "output_type": "execute_result"
    }
   ],
   "source": [
    "r2 = sy.sqrt(2)\n",
    "r3 = sy.sqrt(3)\n",
    "r6 = sy.sqrt(6)\n",
    "R = sy.Rational(1,8)*sy.Matrix([[2 + 3*r2, r6 - 2*r3, -2*r6],\n",
    "               [r6 - r6*r2, 6 + r2, -2*r2],\n",
    "               [2*r6, 2*r2, 4*r2]])\n",
    "R"
   ]
  },
  {
   "cell_type": "markdown",
   "id": "0a983fca-5e9a-4234-bf03-87856fe8473f",
   "metadata": {},
   "source": [
    "On définit les vecteurs de la base canonique"
   ]
  },
  {
   "cell_type": "code",
   "execution_count": 12,
   "id": "c7a3a159-c820-4e87-88ce-0a385a5fa432",
   "metadata": {},
   "outputs": [
    {
     "data": {
      "image/png": "[encoded data removed]",
      "text/latex": [
       "$\\displaystyle \\left( \\left[\\begin{matrix}1\\\\0\\\\0\\end{matrix}\\right], \\  \\left[\\begin{matrix}0\\\\1\\\\0\\end{matrix}\\right], \\  \\left[\\begin{matrix}0\\\\0\\\\1\\end{matrix}\\right]\\right)$"
      ],
      "text/plain": [
       "⎛⎡1⎤  ⎡0⎤  ⎡0⎤⎞\n",
       "⎜⎢ ⎥  ⎢ ⎥  ⎢ ⎥⎟\n",
       "⎜⎢0⎥, ⎢1⎥, ⎢0⎥⎟\n",
       "⎜⎢ ⎥  ⎢ ⎥  ⎢ ⎥⎟\n",
       "⎝⎣0⎦  ⎣0⎦  ⎣1⎦⎠"
      ]
     },
     "execution_count": 12,
     "metadata": {},
     "output_type": "execute_result"
    }
   ],
   "source": [
    "Id = sy.eye(3) # matrice identité\n",
    "e_x = Id[:,0]\n",
    "e_y = Id[:,1]\n",
    "e_z = Id[:,2]\n",
    "\n",
    "e_x, e_y, e_z"
   ]
  },
  {
   "cell_type": "markdown",
   "id": "a0c8a128-4eeb-41db-9bfe-ff50455be57a",
   "metadata": {},
   "source": [
    "**Question 1:** montrer que R est une matrice de rotation:\n",
    "$$R^T = R^{-1}, \\quad \\det R = 1$$"
   ]
  },
  {
   "cell_type": "code",
   "execution_count": 13,
   "id": "3fe65422-15eb-4f6d-99d1-d4af49a60b66",
   "metadata": {},
   "outputs": [
    {
     "data": {
      "image/png": "[encoded data removed]",
      "text/latex": [
       "$\\displaystyle \\left[\\begin{matrix}1 & 0 & 0\\\\0 & 1 & 0\\\\0 & 0 & 1\\end{matrix}\\right]$"
      ],
      "text/plain": [
       "⎡1  0  0⎤\n",
       "⎢       ⎥\n",
       "⎢0  1  0⎥\n",
       "⎢       ⎥\n",
       "⎣0  0  1⎦"
      ]
     },
     "execution_count": 13,
     "metadata": {},
     "output_type": "execute_result"
    }
   ],
   "source": [
    "sy.simplify(R*R.T)"
   ]
  },
  {
   "cell_type": "code",
   "execution_count": 14,
   "id": "78423a09-cf2d-4810-9892-5bff9d45cd54",
   "metadata": {},
   "outputs": [
    {
     "data": {
      "image/png": "[encoded data removed]",
      "text/latex": [
       "$\\displaystyle 1$"
      ],
      "text/plain": [
       "1"
      ]
     },
     "execution_count": 14,
     "metadata": {},
     "output_type": "execute_result"
    }
   ],
   "source": [
    "sy.det(R)"
   ]
  },
  {
   "cell_type": "code",
   "execution_count": 20,
   "id": "f94f9afb",
   "metadata": {},
   "outputs": [
    {
     "data": {
      "image/png": "[encoded data removed]",
      "text/latex": [
       "$\\displaystyle \\left[\\begin{matrix}0\\end{matrix}\\right]$"
      ],
      "text/plain": [
       "[0]"
      ]
     },
     "execution_count": 20,
     "metadata": {},
     "output_type": "execute_result"
    }
   ],
   "source": [
    "sy.simplify(R[:,0].T*R[:,1])"
   ]
  },
  {
   "cell_type": "code",
   "execution_count": null,
   "id": "23714ae6",
   "metadata": {},
   "outputs": [],
   "source": []
  },
  {
   "cell_type": "markdown",
   "id": "d5c394cf-561b-458d-bc2b-8e093498bc65",
   "metadata": {},
   "source": [
    "**Question 2:** trouve l'angle et l'axe de rotation $(a, \\bm u)$\n",
    "\n",
    "On utilise les formules:\n",
    "$$\\cos a = \\frac{1}{2}( \\mathrm{tr} R - 1)$$\n",
    "et\n",
    "$$\\bm u = \\frac{1}{2 \\sin(a)} \\begin{pmatrix} R_{32} - R_{23} \\\\ R_{13} - R_{31} \\\\ R_{21} - R_{12} \\end{pmatrix}$$"
   ]
  },
  {
   "cell_type": "code",
   "execution_count": 27,
   "id": "35cc1210-646a-4d90-b02d-022717e25b32",
   "metadata": {},
   "outputs": [
    {
     "data": {
      "image/png": "[encoded data removed]",
      "text/latex": [
       "$\\displaystyle \\frac{\\sqrt{2}}{2}$"
      ],
      "text/plain": [
       "√2\n",
       "──\n",
       "2 "
      ]
     },
     "execution_count": 27,
     "metadata": {},
     "output_type": "execute_result"
    }
   ],
   "source": [
    "(sy.trace(R) - 1)/2"
   ]
  },
  {
   "cell_type": "code",
   "execution_count": 28,
   "id": "a0747a10-c2f9-425c-ae79-f6cd5c2eadc4",
   "metadata": {},
   "outputs": [
    {
     "data": {
      "image/png": "[encoded data removed]",
      "text/latex": [
       "$\\displaystyle \\frac{\\pi}{4}$"
      ],
      "text/plain": [
       "π\n",
       "─\n",
       "4"
      ]
     },
     "execution_count": 28,
     "metadata": {},
     "output_type": "execute_result"
    }
   ],
   "source": [
    "# calcul de langle a\n",
    "a = sy.acos((sy.trace(R) - 1)/2)\n",
    "a"
   ]
  },
  {
   "cell_type": "code",
   "execution_count": 29,
   "id": "f336adfa-3a74-40fa-8e20-8b56a06f6be1",
   "metadata": {},
   "outputs": [
    {
     "data": {
      "image/png": "[encoded data removed]",
      "text/latex": [
       "$\\displaystyle \\left[\\begin{matrix}\\frac{1}{2}\\\\- \\frac{\\sqrt{3}}{2}\\\\0\\end{matrix}\\right]$"
      ],
      "text/plain": [
       "⎡1/2 ⎤\n",
       "⎢    ⎥\n",
       "⎢-√3 ⎥\n",
       "⎢────⎥\n",
       "⎢ 2  ⎥\n",
       "⎢    ⎥\n",
       "⎣ 0  ⎦"
      ]
     },
     "execution_count": 29,
     "metadata": {},
     "output_type": "execute_result"
    }
   ],
   "source": [
    "# calcul du vecteur u\n",
    "u = 1/(2*sy.sin(a)) * ((R[2,1] - R[1,2])*e_x + (R[0,2] - R[2,0])*e_y + (R[1,0] - R[0,1])*e_z)\n",
    "u"
   ]
  },
  {
   "cell_type": "markdown",
   "id": "ca2cf553-7aac-467f-bfaa-c29f3b766afd",
   "metadata": {},
   "source": [
    "**Question 3** On vérifie que la formule d'Euler-Rodrigues \n",
    "$$R_{\\bm u}(a) = \\cos(a) I + [1 - \\cos(a)] \\bm u \\bm u^{T} + \\sin(a) (\\bm L \\cdot \\bm u)$$\n",
    "avec les $a$ et $\\bm u$ calculés, donne bien la mtrice $R$. Dans cette formule $\\bm L = (L_x, L_y, L_z)$ est un vecteur de trois matrices qui permet de calculer le produit vectoriel:\n",
    "$$\\bm L \\cdot \\bm u = \\begin{pmatrix} 0 & -u_z & u_y \\\\ u_z & 0 & -u_x \\\\ -u_y & u_x & 0 \\end{pmatrix}$$\n",
    "Par exemple \n",
    "$$ \\bm u \\wedge \\bm v = (\\bm L \\cdot \\bm u) \\bm v$$"
   ]
  },
  {
   "cell_type": "code",
   "execution_count": 30,
   "id": "93a8e779-1bde-451a-80ad-c9a097cb7d40",
   "metadata": {},
   "outputs": [
    {
     "data": {
      "image/png": "[encoded data removed]",
      "text/latex": [
       "$\\displaystyle \\left[\\begin{matrix}\\frac{1}{4} + \\frac{3 \\sqrt{2}}{8} & \\frac{\\sqrt{3} \\left(-2 + \\sqrt{2}\\right)}{8} & - \\frac{\\sqrt{6}}{4}\\\\\\frac{\\sqrt{3} \\left(-2 + \\sqrt{2}\\right)}{8} & \\frac{\\sqrt{2}}{8} + \\frac{3}{4} & - \\frac{\\sqrt{2}}{4}\\\\\\frac{\\sqrt{6}}{4} & \\frac{\\sqrt{2}}{4} & \\frac{\\sqrt{2}}{2}\\end{matrix}\\right]$"
      ],
      "text/plain": [
       "⎡  1   3⋅√2    √3⋅(-2 + √2)  -√6 ⎤\n",
       "⎢  ─ + ────    ────────────  ────⎥\n",
       "⎢  4    8           8         4  ⎥\n",
       "⎢                                ⎥\n",
       "⎢√3⋅(-2 + √2)     √2   3     -√2 ⎥\n",
       "⎢────────────     ── + ─     ────⎥\n",
       "⎢     8           8    4      4  ⎥\n",
       "⎢                                ⎥\n",
       "⎢     √6            √2        √2 ⎥\n",
       "⎢     ──            ──        ── ⎥\n",
       "⎣     4             4         2  ⎦"
      ]
     },
     "execution_count": 30,
     "metadata": {},
     "output_type": "execute_result"
    }
   ],
   "source": [
    "# vérification\n",
    "# R = cos(a) I + [1 - cos(a)] n nT + sin(a) Ln\n",
    "u_x, u_y, u_z = u[0], u[1], u[2]\n",
    "Lu = sy.Matrix([[   0, -u_z,  u_y],\n",
    "                [ u_z,    0, -u_x],\n",
    "                [-u_y,  u_x,    0]])\n",
    "\n",
    "RR = sy.simplify(sy.cos(a)*Id + (1 - sy.cos(a)) * u * u.T + sy.sin(a) * Lu)\n",
    "RR"
   ]
  },
  {
   "cell_type": "code",
   "execution_count": 31,
   "id": "0edb214c-c430-4929-86ee-d70fc0a8f177",
   "metadata": {},
   "outputs": [
    {
     "data": {
      "image/png": "[encoded data removed]",
      "text/latex": [
       "$\\displaystyle \\left[\\begin{matrix}0 & 0 & 0\\\\0 & 0 & 0\\\\0 & 0 & 0\\end{matrix}\\right]$"
      ],
      "text/plain": [
       "⎡0  0  0⎤\n",
       "⎢       ⎥\n",
       "⎢0  0  0⎥\n",
       "⎢       ⎥\n",
       "⎣0  0  0⎦"
      ]
     },
     "execution_count": 31,
     "metadata": {},
     "output_type": "execute_result"
    }
   ],
   "source": [
    "sy.simplify(RR - R)"
   ]
  },
  {
   "cell_type": "code",
   "execution_count": 14,
   "id": "2fd6e1b9-07f8-445a-ad10-746e95bad171",
   "metadata": {},
   "outputs": [
    {
     "data": {
      "image/png": "[encoded data removed]",
      "text/latex": [
       "$\\displaystyle \\left( \\left[\\begin{matrix}- v_{y} w_{z} + v_{z} w_{y}\\\\v_{x} w_{z} - v_{z} w_{x}\\\\- v_{x} w_{y} + v_{y} w_{x}\\end{matrix}\\right], \\  \\left[\\begin{matrix}- v_{y} w_{z} + v_{z} w_{y}\\\\v_{x} w_{z} - v_{z} w_{x}\\\\- v_{x} w_{y} + v_{y} w_{x}\\end{matrix}\\right]\\right)$"
      ],
      "text/plain": [
       "⎛⎡-v_y⋅w_z + v_z⋅w_y⎤  ⎡-v_y⋅w_z + v_z⋅w_y⎤⎞\n",
       "⎜⎢                  ⎥  ⎢                  ⎥⎟\n",
       "⎜⎢ vₓ⋅w_z - v_z⋅wₓ  ⎥, ⎢ vₓ⋅w_z - v_z⋅wₓ  ⎥⎟\n",
       "⎜⎢                  ⎥  ⎢                  ⎥⎟\n",
       "⎝⎣ -vₓ⋅w_y + v_y⋅wₓ ⎦  ⎣ -vₓ⋅w_y + v_y⋅wₓ ⎦⎠"
      ]
     },
     "execution_count": 14,
     "metadata": {},
     "output_type": "execute_result"
    }
   ],
   "source": [
    "# Exemple de produit vectoriel\n",
    "v_x, v_y, v_z = symbols(\"v_x, v_y, v_z\", real = True)\n",
    "w_x, w_y, w_z = symbols(\"w_x, w_y, w_z\", real = True)\n",
    "v = v_x*e_x + v_y*e_y + v_z*e_z\n",
    "w = w_x*e_x + w_y*e_y + w_z*e_z\n",
    "Lw = sy.Matrix([[   0, -w_z,  w_y],\n",
    "                [ w_z,    0, -w_x],\n",
    "                [-w_y,  w_x,    0]])\n",
    "Lw * v, w.cross(v)"
   ]
  },
  {
   "cell_type": "markdown",
   "id": "1856dcd0-cfa1-463b-9678-297d56267135",
   "metadata": {},
   "source": [
    "**Question 4:** On calcule à partir de la matrice R les angles $(\\phi, \\theta, \\psi)$ de Euler.\n",
    "\n",
    "On utilise la fonction $\\mathrm{atan}(y,x)$ qui donne l'angle dans le bon quadrant:"
   ]
  },
  {
   "cell_type": "code",
   "execution_count": 33,
   "id": "6d9f5165-1e32-478a-8754-9de7b0ecceeb",
   "metadata": {},
   "outputs": [
    {
     "data": {
      "image/png": "[encoded data removed]",
      "text/latex": [
       "$\\displaystyle \\left( \\frac{\\pi}{4}, \\  \\frac{3 \\pi}{4}, \\  - \\frac{3 \\pi}{4}, \\  - \\frac{\\pi}{4}\\right)$"
      ],
      "text/plain": [
       "⎛π  3⋅π  -3⋅π   -π ⎞\n",
       "⎜─, ───, ─────, ───⎟\n",
       "⎝4   4     4     4 ⎠"
      ]
     },
     "execution_count": 33,
     "metadata": {},
     "output_type": "execute_result"
    }
   ],
   "source": [
    "# atan2(y,x)\n",
    "# quadrant 1, 2, 3, et 4:\n",
    "sy.atan2(1,1), sy.atan2(1,-1), sy.atan2(-1,-1), sy.atan2(-1,1)"
   ]
  },
  {
   "cell_type": "markdown",
   "id": "7fe7277d-b49d-4cdf-b94d-f0e567f653e0",
   "metadata": {},
   "source": [
    "Les angles d'Euler satisfont:\n",
    "\\begin{gather}\n",
    "\\phi = \\arctan(R_{13}, -R_{23}) \\\\\n",
    "\\theta = \\arccos(R_{22}) \\\\\n",
    "\\psi = \\arctan(R_{31}, R_{13})\n",
    "\\end{gather}"
   ]
  },
  {
   "cell_type": "code",
   "execution_count": 34,
   "id": "6ca998d6-f333-4742-94b6-25a8a02c9003",
   "metadata": {},
   "outputs": [
    {
     "data": {
      "image/png": "[encoded data removed]",
      "text/latex": [
       "$\\displaystyle \\left( - \\frac{\\pi}{3}, \\  \\frac{\\pi}{4}, \\  \\frac{\\pi}{3}\\right)$"
      ],
      "text/plain": [
       "⎛-π   π  π⎞\n",
       "⎜───, ─, ─⎟\n",
       "⎝ 3   4  3⎠"
      ]
     },
     "execution_count": 34,
     "metadata": {},
     "output_type": "execute_result"
    }
   ],
   "source": [
    "# angles d'Euler\n",
    "# phi = -atan2(R13, -R23)\n",
    "# theta = acos(R33)\n",
    "# psi = atan2(R31, R32)\n",
    "\n",
    "phi0 = sy.atan2(R[0,2], -R[1,2])\n",
    "theta0 = sy.acos(R[2,2])\n",
    "psi0 = sy.atan2(R[2,0], R[2,1])\n",
    "phi0, theta0, psi0"
   ]
  },
  {
   "cell_type": "markdown",
   "id": "2512729c-05e1-4749-9b89-3838d7653fc5",
   "metadata": {},
   "source": [
    "On vérifie le résultat: on doit obtenir la matrice R en utilisant $(\\phi,\\theta,\\psi)$"
   ]
  },
  {
   "cell_type": "code",
   "execution_count": 35,
   "id": "72d8bb30-7991-4c95-8b59-b974e854a411",
   "metadata": {},
   "outputs": [
    {
     "data": {
      "image/png": "[encoded data removed]",
      "text/latex": [
       "$\\displaystyle \\left[\\begin{matrix}\\frac{1}{4} + \\frac{3 \\sqrt{2}}{8} & - \\frac{\\sqrt{3}}{4} + \\frac{\\sqrt{6}}{8} & - \\frac{\\sqrt{6}}{4}\\\\- \\frac{\\sqrt{3}}{4} + \\frac{\\sqrt{6}}{8} & \\frac{\\sqrt{2}}{8} + \\frac{3}{4} & - \\frac{\\sqrt{2}}{4}\\\\\\frac{\\sqrt{6}}{4} & \\frac{\\sqrt{2}}{4} & \\frac{\\sqrt{2}}{2}\\end{matrix}\\right]$"
      ],
      "text/plain": [
       "⎡1   3⋅√2     √3   √6  -√6 ⎤\n",
       "⎢─ + ────   - ── + ──  ────⎥\n",
       "⎢4    8       4    8    4  ⎥\n",
       "⎢                          ⎥\n",
       "⎢  √3   √6   √2   3    -√2 ⎥\n",
       "⎢- ── + ──   ── + ─    ────⎥\n",
       "⎢  4    8    8    4     4  ⎥\n",
       "⎢                          ⎥\n",
       "⎢   √6         √2       √2 ⎥\n",
       "⎢   ──         ──       ── ⎥\n",
       "⎣   4          4        2  ⎦"
      ]
     },
     "execution_count": 35,
     "metadata": {},
     "output_type": "execute_result"
    }
   ],
   "source": [
    "sy.simplify(R_z(phi0) * R_x(theta0) * R_z(psi0))"
   ]
  },
  {
   "cell_type": "code",
   "execution_count": 36,
   "id": "9e2355c5-c213-49c9-8c33-8abc80c36454",
   "metadata": {},
   "outputs": [
    {
     "data": {
      "image/png": "[encoded data removed]",
      "text/latex": [
       "$\\displaystyle \\left[\\begin{matrix}\\frac{1}{4} + \\frac{3 \\sqrt{2}}{8} & - \\frac{\\sqrt{3}}{4} + \\frac{\\sqrt{6}}{8} & - \\frac{\\sqrt{6}}{4}\\\\- \\frac{\\sqrt{3}}{4} + \\frac{\\sqrt{6}}{8} & \\frac{\\sqrt{2}}{8} + \\frac{3}{4} & - \\frac{\\sqrt{2}}{4}\\\\\\frac{\\sqrt{6}}{4} & \\frac{\\sqrt{2}}{4} & \\frac{\\sqrt{2}}{2}\\end{matrix}\\right]$"
      ],
      "text/plain": [
       "⎡1   3⋅√2     √3   √6  -√6 ⎤\n",
       "⎢─ + ────   - ── + ──  ────⎥\n",
       "⎢4    8       4    8    4  ⎥\n",
       "⎢                          ⎥\n",
       "⎢  √3   √6   √2   3    -√2 ⎥\n",
       "⎢- ── + ──   ── + ─    ────⎥\n",
       "⎢  4    8    8    4     4  ⎥\n",
       "⎢                          ⎥\n",
       "⎢   √6         √2       √2 ⎥\n",
       "⎢   ──         ──       ── ⎥\n",
       "⎣   4          4        2  ⎦"
      ]
     },
     "execution_count": 36,
     "metadata": {},
     "output_type": "execute_result"
    }
   ],
   "source": [
    "R"
   ]
  },
  {
   "cell_type": "markdown",
   "id": "5a173f44-d830-44ca-9347-8853901ad7e6",
   "metadata": {},
   "source": [
    "**Question 5:** On calcule à l'aide des formules:\n",
    "$$R_{\\bm e_3}(\\psi) \\bm e_1 = \\bm u$$\n",
    "et\n",
    "$$R_{\\bm u}(\\psi) \\bm e_3 = \\bm n$$\n",
    "les axes $\\bm u$ (ne pas confondre avec le u précédent) et $\\bm n$ de la rotation d'Euler"
   ]
  },
  {
   "cell_type": "code",
   "execution_count": 37,
   "id": "c7383ce5-794d-4d06-a01c-defeb6523e61",
   "metadata": {},
   "outputs": [
    {
     "data": {
      "image/png": "[encoded data removed]",
      "text/latex": [
       "$\\displaystyle \\left[\\begin{matrix}\\frac{1}{2}\\\\\\frac{\\sqrt{3}}{2}\\\\0\\end{matrix}\\right]$"
      ],
      "text/plain": [
       "⎡1/2⎤\n",
       "⎢   ⎥\n",
       "⎢√3 ⎥\n",
       "⎢── ⎥\n",
       "⎢2  ⎥\n",
       "⎢   ⎥\n",
       "⎣ 0 ⎦"
      ]
     },
     "execution_count": 37,
     "metadata": {},
     "output_type": "execute_result"
    }
   ],
   "source": [
    "# axe N\n",
    "u_euler = ER(psi0, e_z)*e_x\n",
    "u_euler"
   ]
  },
  {
   "cell_type": "code",
   "execution_count": 38,
   "id": "1ed3551a-5969-4a80-8e1d-f18aa5b17c46",
   "metadata": {
    "tags": []
   },
   "outputs": [
    {
     "data": {
      "image/png": "[encoded data removed]",
      "text/latex": [
       "$\\displaystyle \\left[\\begin{matrix}\\frac{\\sqrt{6}}{4}\\\\- \\frac{\\sqrt{2}}{4}\\\\\\frac{\\sqrt{2}}{2}\\end{matrix}\\right]$"
      ],
      "text/plain": [
       "⎡ √6 ⎤\n",
       "⎢ ── ⎥\n",
       "⎢ 4  ⎥\n",
       "⎢    ⎥\n",
       "⎢-√2 ⎥\n",
       "⎢────⎥\n",
       "⎢ 4  ⎥\n",
       "⎢    ⎥\n",
       "⎢ √2 ⎥\n",
       "⎢ ── ⎥\n",
       "⎣ 2  ⎦"
      ]
     },
     "execution_count": 38,
     "metadata": {},
     "output_type": "execute_result"
    }
   ],
   "source": [
    "n_euler = ER(theta0, u_euler)*e_z\n",
    "n_euler"
   ]
  },
  {
   "cell_type": "markdown",
   "id": "a79bb8ff-1372-4846-8e6d-9bafa9801274",
   "metadata": {},
   "source": [
    "On vérifie le cas général: trois rotations de Euler-Rodrigues selon les axes $\\bm e_z, \\bm u$ et $\\bm n$, donnent la matrice de rotationd'Euler:"
   ]
  },
  {
   "cell_type": "code",
   "execution_count": 47,
   "id": "ec2d7ffe-a5c9-4593-999d-afd2b1c305a3",
   "metadata": {
    "tags": []
   },
   "outputs": [
    {
     "data": {
      "image/png": "[encoded data removed]",
      "text/latex": [
       "$\\displaystyle \\left( \\left[\\begin{matrix}\\cos{\\left(\\phi \\right)}\\\\\\sin{\\left(\\phi \\right)}\\\\0\\end{matrix}\\right], \\  \\left[\\begin{matrix}\\sin{\\left(\\phi \\right)} \\sin{\\left(\\theta \\right)}\\\\- \\sin{\\left(\\theta \\right)} \\cos{\\left(\\phi \\right)}\\\\\\cos{\\left(\\theta \\right)}\\end{matrix}\\right]\\right)$"
      ],
      "text/plain": [
       "⎛⎡cos(φ)⎤  ⎡sin(φ)⋅sin(θ) ⎤⎞\n",
       "⎜⎢      ⎥  ⎢              ⎥⎟\n",
       "⎜⎢sin(φ)⎥, ⎢-sin(θ)⋅cos(φ)⎥⎟\n",
       "⎜⎢      ⎥  ⎢              ⎥⎟\n",
       "⎝⎣  0   ⎦  ⎣    cos(θ)    ⎦⎠"
      ]
     },
     "execution_count": 47,
     "metadata": {},
     "output_type": "execute_result"
    }
   ],
   "source": [
    "u_euler = ER(phi, e_z)*e_x\n",
    "n_euler = ER(theta, u_euler)*e_z\n",
    "u_euler, n_euler"
   ]
  },
  {
   "cell_type": "code",
   "execution_count": 48,
   "id": "5c65a5a0-edd2-4af5-acad-7b9ac7fe6988",
   "metadata": {},
   "outputs": [
    {
     "data": {
      "image/png": "[encoded data removed]",
      "text/latex": [
       "$\\displaystyle \\left[\\begin{matrix}- \\sin{\\left(\\phi \\right)} \\sin{\\left(\\psi \\right)} \\cos{\\left(\\theta \\right)} + \\cos{\\left(\\phi \\right)} \\cos{\\left(\\psi \\right)} & - \\sin{\\left(\\phi \\right)} \\cos{\\left(\\psi \\right)} \\cos{\\left(\\theta \\right)} - \\sin{\\left(\\psi \\right)} \\cos{\\left(\\phi \\right)} & \\sin{\\left(\\phi \\right)} \\sin{\\left(\\theta \\right)}\\\\\\sin{\\left(\\phi \\right)} \\cos{\\left(\\psi \\right)} + \\sin{\\left(\\psi \\right)} \\cos{\\left(\\phi \\right)} \\cos{\\left(\\theta \\right)} & - \\sin{\\left(\\phi \\right)} \\sin{\\left(\\psi \\right)} + \\cos{\\left(\\phi \\right)} \\cos{\\left(\\psi \\right)} \\cos{\\left(\\theta \\right)} & - \\sin{\\left(\\theta \\right)} \\cos{\\left(\\phi \\right)}\\\\\\sin{\\left(\\psi \\right)} \\sin{\\left(\\theta \\right)} & \\sin{\\left(\\theta \\right)} \\cos{\\left(\\psi \\right)} & \\cos{\\left(\\theta \\right)}\\end{matrix}\\right]$"
      ],
      "text/plain": [
       "⎡-sin(φ)⋅sin(ψ)⋅cos(θ) + cos(φ)⋅cos(ψ)  -sin(φ)⋅cos(ψ)⋅cos(θ) - sin(ψ)⋅cos(φ) \n",
       "⎢                                                                             \n",
       "⎢sin(φ)⋅cos(ψ) + sin(ψ)⋅cos(φ)⋅cos(θ)   -sin(φ)⋅sin(ψ) + cos(φ)⋅cos(ψ)⋅cos(θ) \n",
       "⎢                                                                             \n",
       "⎣            sin(ψ)⋅sin(θ)                          sin(θ)⋅cos(ψ)             \n",
       "\n",
       " sin(φ)⋅sin(θ) ⎤\n",
       "               ⎥\n",
       " -sin(θ)⋅cos(φ)⎥\n",
       "               ⎥\n",
       "     cos(θ)    ⎦"
      ]
     },
     "execution_count": 48,
     "metadata": {},
     "output_type": "execute_result"
    }
   ],
   "source": [
    "sy.simplify( ER(phi, n_euler)*ER(theta, u_euler)*ER(psi, e_z) )"
   ]
  },
  {
   "cell_type": "code",
   "execution_count": 44,
   "id": "dbec0b08-e314-4347-8fd4-c5f258cb16c1",
   "metadata": {},
   "outputs": [
    {
     "data": {
      "image/png": "[encoded data removed]",
      "text/latex": [
       "$\\displaystyle \\left[\\begin{matrix}- \\sin{\\left(\\phi \\right)} \\sin{\\left(\\psi \\right)} \\cos{\\left(\\theta \\right)} + \\cos{\\left(\\phi \\right)} \\cos{\\left(\\psi \\right)} & - \\sin{\\left(\\phi \\right)} \\cos{\\left(\\psi \\right)} \\cos{\\left(\\theta \\right)} - \\sin{\\left(\\psi \\right)} \\cos{\\left(\\phi \\right)} & \\sin{\\left(\\phi \\right)} \\sin{\\left(\\theta \\right)}\\\\\\sin{\\left(\\phi \\right)} \\cos{\\left(\\psi \\right)} + \\sin{\\left(\\psi \\right)} \\cos{\\left(\\phi \\right)} \\cos{\\left(\\theta \\right)} & - \\sin{\\left(\\phi \\right)} \\sin{\\left(\\psi \\right)} + \\cos{\\left(\\phi \\right)} \\cos{\\left(\\psi \\right)} \\cos{\\left(\\theta \\right)} & - \\sin{\\left(\\theta \\right)} \\cos{\\left(\\phi \\right)}\\\\\\sin{\\left(\\psi \\right)} \\sin{\\left(\\theta \\right)} & \\sin{\\left(\\theta \\right)} \\cos{\\left(\\psi \\right)} & \\cos{\\left(\\theta \\right)}\\end{matrix}\\right]$"
      ],
      "text/plain": [
       "⎡-sin(φ)⋅sin(ψ)⋅cos(θ) + cos(φ)⋅cos(ψ)  -sin(φ)⋅cos(ψ)⋅cos(θ) - sin(ψ)⋅cos(φ) \n",
       "⎢                                                                             \n",
       "⎢sin(φ)⋅cos(ψ) + sin(ψ)⋅cos(φ)⋅cos(θ)   -sin(φ)⋅sin(ψ) + cos(φ)⋅cos(ψ)⋅cos(θ) \n",
       "⎢                                                                             \n",
       "⎣            sin(ψ)⋅sin(θ)                          sin(θ)⋅cos(ψ)             \n",
       "\n",
       " sin(φ)⋅sin(θ) ⎤\n",
       "               ⎥\n",
       " -sin(θ)⋅cos(φ)⎥\n",
       "               ⎥\n",
       "     cos(θ)    ⎦"
      ]
     },
     "execution_count": 44,
     "metadata": {},
     "output_type": "execute_result"
    }
   ],
   "source": [
    "euler"
   ]
  },
  {
   "cell_type": "markdown",
   "id": "ed974ab2-a7cc-4363-9e4c-8eba943b98a8",
   "metadata": {},
   "source": [
    "# Matrice de passage"
   ]
  },
  {
   "cell_type": "markdown",
   "id": "e0307786-e8af-4483-b605-62b039f171c7",
   "metadata": {},
   "source": [
    "### Questions\n",
    "\n",
    "On considère\n",
    "* Base canonique: $(\\bm e_x, \\bm e_y, \\bm e_z)$\n",
    "* Angles \"sphériques\": $\\phi \\in (0,2\\pi]$, et $\\theta \\in [0,\\pi]$"
   ]
  },
  {
   "cell_type": "markdown",
   "id": "4692ee83-2108-4c53-9db4-f9b351e1d5a9",
   "metadata": {},
   "source": [
    "**Question 1:** représenter les vecteurs,\n",
    "$$\\bm u = R_{\\bm e_z}(\\phi) \\bm e_x, \\; \\bm v = R_{\\bm e_z}(\\phi) \\bm e_y, \\bm w = R_{\\bm e_z}(\\phi) \\bm e_z$$\n",
    "\n",
    "**Question 2:** et les vecteurs,\n",
    "$$\\bm e_r = R_{\\bm v}(\\theta) \\bm e_z, \\; \\bm e_\\theta = R_{\\bm v}(\\theta) \\bm u, \\bm e_\\phi = R_{\\bm v}(\\theta) \\bm v$$"
   ]
  },
  {
   "cell_type": "code",
   "execution_count": 251,
   "id": "b11f9bb1-a0e1-4230-8ac9-b23806f5385c",
   "metadata": {},
   "outputs": [],
   "source": [
    "# calcul des vecteurs de la base (u v w) et (r theta phi)\n",
    "e_u = ER(phi, e_z) * e_x\n",
    "e_v = ER(phi, e_z) * e_y\n",
    "e_w = ER(phi, e_z) * e_z\n",
    "\n",
    "e_r = ER(theta, v) * e_z\n",
    "e_theta = sy.simplify( ER(theta, e_v) * e_u )\n",
    "e_phi = sy.simplify( ER(theta, e_v) * e_v )"
   ]
  },
  {
   "cell_type": "code",
   "execution_count": 252,
   "id": "189dd66a-41dd-4575-8260-9e7918f68725",
   "metadata": {},
   "outputs": [
    {
     "data": {
      "image/png": "[encoded data removed]",
      "text/latex": [
       "$\\displaystyle \\left( \\left[\\begin{matrix}\\cos{\\left(\\phi \\right)}\\\\\\sin{\\left(\\phi \\right)}\\\\0\\end{matrix}\\right], \\  \\left[\\begin{matrix}- \\sin{\\left(\\phi \\right)}\\\\\\cos{\\left(\\phi \\right)}\\\\0\\end{matrix}\\right], \\  \\left[\\begin{matrix}0\\\\0\\\\1\\end{matrix}\\right]\\right)$"
      ],
      "text/plain": [
       "⎛⎡cos(φ)⎤  ⎡-sin(φ)⎤  ⎡0⎤⎞\n",
       "⎜⎢      ⎥  ⎢       ⎥  ⎢ ⎥⎟\n",
       "⎜⎢sin(φ)⎥, ⎢cos(φ) ⎥, ⎢0⎥⎟\n",
       "⎜⎢      ⎥  ⎢       ⎥  ⎢ ⎥⎟\n",
       "⎝⎣  0   ⎦  ⎣   0   ⎦  ⎣1⎦⎠"
      ]
     },
     "execution_count": 252,
     "metadata": {},
     "output_type": "execute_result"
    }
   ],
   "source": [
    "e_u, e_v, e_w"
   ]
  },
  {
   "cell_type": "code",
   "execution_count": 253,
   "id": "fd822d14-bf43-4dcb-b65b-82ef89f79b1c",
   "metadata": {},
   "outputs": [
    {
     "data": {
      "image/png": "[encoded data removed]",
      "text/latex": [
       "$\\displaystyle \\left( \\left[\\begin{matrix}\\sin{\\left(\\theta \\right)} \\cos{\\left(\\phi \\right)}\\\\\\sin{\\left(\\phi \\right)} \\sin{\\left(\\theta \\right)}\\\\\\cos{\\left(\\theta \\right)}\\end{matrix}\\right], \\  \\left[\\begin{matrix}\\cos{\\left(\\phi \\right)} \\cos{\\left(\\theta \\right)}\\\\\\sin{\\left(\\phi \\right)} \\cos{\\left(\\theta \\right)}\\\\- \\sin{\\left(\\theta \\right)}\\end{matrix}\\right], \\  \\left[\\begin{matrix}- \\sin{\\left(\\phi \\right)}\\\\\\cos{\\left(\\phi \\right)}\\\\0\\end{matrix}\\right]\\right)$"
      ],
      "text/plain": [
       "⎛⎡sin(θ)⋅cos(φ)⎤  ⎡cos(φ)⋅cos(θ)⎤  ⎡-sin(φ)⎤⎞\n",
       "⎜⎢             ⎥  ⎢             ⎥  ⎢       ⎥⎟\n",
       "⎜⎢sin(φ)⋅sin(θ)⎥, ⎢sin(φ)⋅cos(θ)⎥, ⎢cos(φ) ⎥⎟\n",
       "⎜⎢             ⎥  ⎢             ⎥  ⎢       ⎥⎟\n",
       "⎝⎣   cos(θ)    ⎦  ⎣   -sin(θ)   ⎦  ⎣   0   ⎦⎠"
      ]
     },
     "execution_count": 253,
     "metadata": {},
     "output_type": "execute_result"
    }
   ],
   "source": [
    "e_r, e_theta, e_phi # base sphérique"
   ]
  },
  {
   "cell_type": "markdown",
   "id": "f328c73b-1689-4983-8813-68e6aae2073e",
   "metadata": {},
   "source": [
    "**Question 3** donner $R_z = R_{\\bm e_z}(\\phi)$"
   ]
  },
  {
   "cell_type": "code",
   "execution_count": 68,
   "id": "742bc5e7-338a-4546-8376-fcac7eea4303",
   "metadata": {},
   "outputs": [
    {
     "data": {
      "image/png": "[encoded data removed]",
      "text/latex": [
       "$\\displaystyle \\left[\\begin{matrix}\\cos{\\left(\\phi \\right)} & - \\sin{\\left(\\phi \\right)} & 0\\\\\\sin{\\left(\\phi \\right)} & \\cos{\\left(\\phi \\right)} & 0\\\\0 & 0 & 1\\end{matrix}\\right]$"
      ],
      "text/plain": [
       "⎡cos(φ)  -sin(φ)  0⎤\n",
       "⎢                  ⎥\n",
       "⎢sin(φ)  cos(φ)   0⎥\n",
       "⎢                  ⎥\n",
       "⎣  0        0     1⎦"
      ]
     },
     "execution_count": 68,
     "metadata": {},
     "output_type": "execute_result"
    }
   ],
   "source": [
    "ER(phi, e_z)"
   ]
  },
  {
   "cell_type": "markdown",
   "id": "87e5f9d2-de30-4fe4-ae20-c4cea8073b37",
   "metadata": {},
   "source": [
    "**Question 4:** donner $R_{\\bm v}(\\theta)$, exprimée dans la base canonique"
   ]
  },
  {
   "cell_type": "code",
   "execution_count": 69,
   "id": "6a0b612f-5790-476f-855b-d0bb67a44cdd",
   "metadata": {},
   "outputs": [
    {
     "data": {
      "image/png": "[encoded data removed]",
      "text/latex": [
       "$\\displaystyle \\left[\\begin{matrix}\\cos^{2}{\\left(\\phi \\right)} \\cos{\\left(\\theta \\right)} - \\cos^{2}{\\left(\\phi \\right)} + 1 & \\left(\\cos{\\left(\\theta \\right)} - 1\\right) \\sin{\\left(\\phi \\right)} \\cos{\\left(\\phi \\right)} & \\sin{\\left(\\theta \\right)} \\cos{\\left(\\phi \\right)}\\\\\\left(\\cos{\\left(\\theta \\right)} - 1\\right) \\sin{\\left(\\phi \\right)} \\cos{\\left(\\phi \\right)} & \\sin^{2}{\\left(\\phi \\right)} \\cos{\\left(\\theta \\right)} - \\sin^{2}{\\left(\\phi \\right)} + 1 & \\sin{\\left(\\phi \\right)} \\sin{\\left(\\theta \\right)}\\\\- \\sin{\\left(\\theta \\right)} \\cos{\\left(\\phi \\right)} & - \\sin{\\left(\\phi \\right)} \\sin{\\left(\\theta \\right)} & \\cos{\\left(\\theta \\right)}\\end{matrix}\\right]$"
      ],
      "text/plain": [
       "⎡   2                2                                                    ⎤\n",
       "⎢cos (φ)⋅cos(θ) - cos (φ) + 1   (cos(θ) - 1)⋅sin(φ)⋅cos(φ)   sin(θ)⋅cos(φ)⎥\n",
       "⎢                                                                         ⎥\n",
       "⎢                                 2                2                      ⎥\n",
       "⎢ (cos(θ) - 1)⋅sin(φ)⋅cos(φ)   sin (φ)⋅cos(θ) - sin (φ) + 1  sin(φ)⋅sin(θ)⎥\n",
       "⎢                                                                         ⎥\n",
       "⎣       -sin(θ)⋅cos(φ)                -sin(φ)⋅sin(θ)            cos(θ)    ⎦"
      ]
     },
     "execution_count": 69,
     "metadata": {},
     "output_type": "execute_result"
    }
   ],
   "source": [
    "sy.simplify(sy.expand(ER(theta, v)))"
   ]
  },
  {
   "cell_type": "markdown",
   "id": "7125d066-afcd-41e7-a961-ec994ec1c2c2",
   "metadata": {},
   "source": [
    "**Question 5:** donner la matrice de passage de la base canonique à la base sphérique"
   ]
  },
  {
   "cell_type": "code",
   "execution_count": 70,
   "id": "a50b574f-3089-4483-b0be-ecf8e4860c0e",
   "metadata": {},
   "outputs": [
    {
     "data": {
      "image/png": "[encoded data removed]",
      "text/latex": [
       "$\\displaystyle \\left[\\begin{matrix}\\sin{\\left(\\theta \\right)} \\cos{\\left(\\phi \\right)} & \\cos{\\left(\\phi \\right)} \\cos{\\left(\\theta \\right)} & - \\sin{\\left(\\phi \\right)}\\\\\\sin{\\left(\\phi \\right)} \\sin{\\left(\\theta \\right)} & \\sin{\\left(\\phi \\right)} \\cos{\\left(\\theta \\right)} & \\cos{\\left(\\phi \\right)}\\\\\\cos{\\left(\\theta \\right)} & - \\sin{\\left(\\theta \\right)} & 0\\end{matrix}\\right]$"
      ],
      "text/plain": [
       "⎡sin(θ)⋅cos(φ)  cos(φ)⋅cos(θ)  -sin(φ)⎤\n",
       "⎢                                     ⎥\n",
       "⎢sin(φ)⋅sin(θ)  sin(φ)⋅cos(θ)  cos(φ) ⎥\n",
       "⎢                                     ⎥\n",
       "⎣   cos(θ)         -sin(θ)        0   ⎦"
      ]
     },
     "execution_count": 70,
     "metadata": {},
     "output_type": "execute_result"
    }
   ],
   "source": [
    "s = e_r.row_join(e_theta).row_join(e_phi)\n",
    "s"
   ]
  },
  {
   "cell_type": "markdown",
   "id": "0816dfe2-952b-48f7-83f9-994bc6709704",
   "metadata": {},
   "source": [
    "La matrice de passage satisfait:\n",
    "$$\\begin{pmatrix}\\bm e_x \\\\ \\bm e_y\\\\ \\bm e_z \\end{pmatrix} =\n",
    "\\begin{pmatrix} \\sin\\theta \\cos\\phi & \\cos\\theta \\cos\\phi & -\\sin\\phi \\\\\n",
    "                \\sin\\theta \\sin\\phi & \\cos\\theta \\sin\\phi &  \\cos\\phi \\\\\n",
    "                \\cos\\theta          & -\\sin\\theta         &  0 \\end{pmatrix}\n",
    "\\begin{pmatrix}\\bm e_r \\\\ \\bm e_\\theta \\\\ \\bm e_\\phi \\end{pmatrix}$$\n",
    "elle permet d'écrire les vecteurs de la base cartesienne en termes de la base sphérique.\n",
    "\n",
    "La matrice de rotation \"sphérique\" est la transposée de la matrice de passage:\n",
    "$$R = \\begin{pmatrix} \\sin\\theta \\cos\\phi & \\sin\\theta \\sin\\phi & \\cos\\theta \\\\\n",
    "                \\cos\\theta \\cos\\phi & \\cos\\theta \\sin\\phi & -\\sin\\theta \\\\\n",
    "                -\\sin\\phi          & \\cos\\phi         &  0 \\end{pmatrix}$$\n",
    "ou\n",
    "$$\\begin{pmatrix}\\bm e_r \\\\ \\bm e_\\theta \\\\ \\bm e_\\phi \\end{pmatrix} = R \\begin{pmatrix}\\bm e_x \\\\ \\bm e_y\\\\ \\bm e_z \\end{pmatrix}$$"
   ]
  },
  {
   "cell_type": "code",
   "execution_count": null,
   "id": "c252b20d-97f2-4570-835d-94c2198487f5",
   "metadata": {},
   "outputs": [],
   "source": []
  }
 ],
 "metadata": {
  "kernelspec": {
   "display_name": "Python 3 (ipykernel)",
   "language": "python",
   "name": "python3"
  },
  "language_info": {
   "codemirror_mode": {
    "name": "ipython",
    "version": 3
   },
   "file_extension": ".py",
   "mimetype": "text/x-python",
   "name": "python",
   "nbconvert_exporter": "python",
   "pygments_lexer": "ipython3",
   "version": "3.11.7"
  }
 },
 "nbformat": 4,
 "nbformat_minor": 5
}
