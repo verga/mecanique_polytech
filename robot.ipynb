{
 "cells": [
  {
   "cell_type": "markdown",
   "id": "f728ee2a-a299-44f2-ae9e-e56703a7dd44",
   "metadata": {},
   "source": [
    "Markdown macros\n",
    "\n",
    "$\\newcommand{\\I}{\\mathrm{i}} \n",
    "\\newcommand{\\E}{\\mathrm{e}} \n",
    "\\newcommand{\\D}{\\mathop{}\\!\\mathrm{d}}\n",
    "\\newcommand{\\bra}[1]{\\langle{#1}|}\n",
    "\\newcommand{\\ket}[1]{|{#1}\\rangle}\n",
    "\\newcommand{\\braket}[1]{\\langle{#1}\\rangle}\n",
    "\\newcommand{\\bm}[1]{\\boldsymbol{#1}}$"
   ]
  },
  {
   "cell_type": "markdown",
   "id": "7cebc25b-ed8c-42d4-b802-47ad2f289b5c",
   "metadata": {},
   "source": [
    "# Imports"
   ]
  },
  {
   "cell_type": "code",
   "execution_count": 1,
   "id": "6127cad6-932e-4be1-8ab8-58b1918ed7a3",
   "metadata": {},
   "outputs": [],
   "source": [
    "# numpy https://numpy.org/\n",
    "import numpy as np\n",
    "# scipy https://scipy.org/\n",
    "from scipy.linalg import eigvals, svd, svdvals\n",
    "# scipy fortran io\n",
    "from scipy.io import FortranFile\n",
    "# iterators\n",
    "from functools import reduce "
   ]
  },
  {
   "cell_type": "code",
   "execution_count": 2,
   "id": "1c0f7d9c-9101-41e4-b66f-386099f202bd",
   "metadata": {},
   "outputs": [],
   "source": [
    "# https://networkx.org/documentation/stable/index.html\n",
    "import networkx as nx"
   ]
  },
  {
   "cell_type": "code",
   "execution_count": 3,
   "id": "df7c0423-52fd-4079-807c-afcd5f1dd0f2",
   "metadata": {},
   "outputs": [],
   "source": [
    "# matplotlib https://matplotlib.org/\n",
    "import matplotlib\n",
    "import matplotlib.pylab as plt"
   ]
  },
  {
   "cell_type": "code",
   "execution_count": 4,
   "id": "5171d613-8ed0-4517-bcac-a4c9d887793f",
   "metadata": {
    "tags": []
   },
   "outputs": [],
   "source": [
    "%matplotlib inline\n",
    "from IPython.display import Image"
   ]
  },
  {
   "cell_type": "code",
   "execution_count": 5,
   "id": "03e8299d-e327-46d6-add6-7916227b0e15",
   "metadata": {},
   "outputs": [],
   "source": [
    "# figure style\n",
    "matplotlib.rcParams['text.usetex'] = True\n",
    "matplotlib.rcParams['font.family'] = 'serif'\n",
    "matplotlib.rcParams['font.weight'] = 'normal'\n",
    "matplotlib.rcParams['font.size'] = 14\n",
    "matplotlib.rcParams['axes.labelsize'] = 18\n",
    "matplotlib.rcParams['figure.figsize'] = (6.0,4.5)\n",
    "matplotlib.rcParams['lines.linewidth'] = 0.5\n",
    "matplotlib.rcParams['xtick.top'] = True\n",
    "matplotlib.rcParams['ytick.right'] = True\n",
    "# font\n",
    "matplotlib.rcParams['font.serif'] = \"STIX Two Text\"\n",
    "matplotlib.rcParams['mathtext.fontset'] = 'stix'"
   ]
  },
  {
   "cell_type": "code",
   "execution_count": 4,
   "id": "54642830-7e02-404b-b941-bb918cf25cea",
   "metadata": {
    "tags": []
   },
   "outputs": [],
   "source": [
    "# sympy https://www.sympy.org\n",
    "import sympy as sy\n",
    "from sympy.physics.quantum import TensorProduct as TP\n",
    "sy.init_printing(use_unicode = True)"
   ]
  },
  {
   "cell_type": "markdown",
   "id": "8fc2ca37-0d7e-4c34-a547-ba5f0df4b6e8",
   "metadata": {},
   "source": [
    "## Euler-Newton\n",
    "\n",
    "Le calcul de l'accélération se fait en utilisant la formule générale\n",
    "$$ \\bm a = \\dot{\\bm \\omega} \\wedge \\bm G + \\dot{\\bm \\omega} \\wedge (\\dot{\\bm \\omega} \\wedge \\bm G) + \\dot{\\bm V}$$\n",
    "\n",
    "Moment cinétique total est $\\bm L = \\bm L_1 + \\bm L_2$:\n",
    "$$\\bm L_1 = I^{(1)} \\bm \\omega_1$$\n",
    "et\n",
    "$$\\bm L_2 = I^{(2)} (\\bm \\omega_1 + R_y(\\phi_1) \\bm \\omega_2)$$\n",
    "où $I^{(1)}$ et $I^{(2)}$ sont le moments de bras 1 et 2 dans le repère fixe:\n",
    "$$I^{(1)} = R_z(\\phi_1) I R_z(\\phi_1)^T$$\n",
    "et\n",
    "$$I^{(2)} = R_z(\\phi) I R_z(\\phi)^T$$"
   ]
  },
  {
   "cell_type": "code",
   "execution_count": 22,
   "id": "f3c00bcd-4395-492a-b13e-0f0e20294a85",
   "metadata": {
    "tags": []
   },
   "outputs": [],
   "source": [
    "def R_z(phi):\n",
    "    s = sy.sin(phi)\n",
    "    c = sy.cos(phi)\n",
    "    return sy.Matrix([[c, -s, 0], [s, c, 0], [0, 0, 1]])"
   ]
  },
  {
   "cell_type": "code",
   "execution_count": 16,
   "id": "e405ce67-07ba-497e-89e2-8f49dbe9bea0",
   "metadata": {
    "tags": []
   },
   "outputs": [],
   "source": [
    "e1 = sy.Matrix([1, 0, 0])\n",
    "e2 = sy.Matrix([0, 1, 0])\n",
    "e3 = sy.Matrix([0, 0, 1])"
   ]
  },
  {
   "cell_type": "code",
   "execution_count": 35,
   "id": "aa36df87-b094-4d9f-9117-b225293be089",
   "metadata": {
    "tags": []
   },
   "outputs": [
    {
     "data": {
      "image/png": "[encoded data removed]",
      "text/latex": [
       "$\\displaystyle \\left[\\begin{matrix}\\frac{\\ell^{2} m \\sin^{2}{\\left(\\phi_{1}{\\left(t \\right)} + \\phi_{2}{\\left(t \\right)} \\right)}}{12} & - \\frac{\\ell^{2} m \\sin{\\left(2 \\phi_{1}{\\left(t \\right)} + 2 \\phi_{2}{\\left(t \\right)} \\right)}}{24} & 0\\\\- \\frac{\\ell^{2} m \\sin{\\left(2 \\phi_{1}{\\left(t \\right)} + 2 \\phi_{2}{\\left(t \\right)} \\right)}}{24} & \\frac{\\ell^{2} m \\cos^{2}{\\left(\\phi_{1}{\\left(t \\right)} + \\phi_{2}{\\left(t \\right)} \\right)}}{12} & 0\\\\0 & 0 & \\frac{\\ell^{2} m}{12}\\end{matrix}\\right]$"
      ],
      "text/plain": [
       "⎡     2      2                        2                                  ⎤\n",
       "⎢  ell ⋅m⋅sin (φ₁(t) + φ₂(t))     -ell ⋅m⋅sin(2⋅φ₁(t) + 2⋅φ₂(t))         ⎥\n",
       "⎢  ──────────────────────────     ───────────────────────────────    0   ⎥\n",
       "⎢              12                                24                      ⎥\n",
       "⎢                                                                        ⎥\n",
       "⎢    2                                 2      2                          ⎥\n",
       "⎢-ell ⋅m⋅sin(2⋅φ₁(t) + 2⋅φ₂(t))     ell ⋅m⋅cos (φ₁(t) + φ₂(t))           ⎥\n",
       "⎢───────────────────────────────    ──────────────────────────       0   ⎥\n",
       "⎢               24                              12                       ⎥\n",
       "⎢                                                                        ⎥\n",
       "⎢                                                                     2  ⎥\n",
       "⎢                                                                  ell ⋅m⎥\n",
       "⎢               0                                0                 ──────⎥\n",
       "⎣                                                                    12  ⎦"
      ]
     },
     "execution_count": 35,
     "metadata": {},
     "output_type": "execute_result"
    }
   ],
   "source": [
    "I_1 = sy.Matrix([[0, 0, 0],[0, m*l**2/12, 0], [0, 0, m*l**2/12]])\n",
    "I_2 = I_1\n",
    "I_10 = sy.simplify( R_z(f1(t))*I_1*R_z(f1(t)).T )\n",
    "I_20 = sy.simplify( R_z(f1(t) + f2(t))*I_2*R_z(f1(t) + f2(t)).T )\n",
    "I_20"
   ]
  },
  {
   "cell_type": "code",
   "execution_count": 59,
   "id": "33f0ef27-e933-4804-b36a-21a400b2cdcc",
   "metadata": {
    "tags": []
   },
   "outputs": [],
   "source": [
    "# vitesse angulaire (vecteur)\n",
    "w_1 = sy.diff(f1(t), t)*e3\n",
    "w_2 = sy.diff(f1(t) + f2(t), t)*e3"
   ]
  },
  {
   "cell_type": "code",
   "execution_count": 57,
   "id": "2836062a-429e-40ed-89cd-9d48df618996",
   "metadata": {
    "tags": []
   },
   "outputs": [
    {
     "data": {
      "image/png": "[encoded data removed]",
      "text/latex": [
       "$\\displaystyle \\left[\\begin{matrix}- \\ell \\left(\\frac{d}{d t} \\phi_{1}{\\left(t \\right)} + \\frac{d}{d t} \\phi_{2}{\\left(t \\right)}\\right)^{2} \\cos{\\left(\\phi_{1}{\\left(t \\right)} \\right)}\\\\- \\ell \\left(\\frac{d}{d t} \\phi_{1}{\\left(t \\right)} + \\frac{d}{d t} \\phi_{2}{\\left(t \\right)}\\right)^{2} \\sin{\\left(\\phi_{1}{\\left(t \\right)} \\right)}\\\\0\\end{matrix}\\right]$"
      ],
      "text/plain": [
       "⎡                            2           ⎤\n",
       "⎢     ⎛d           d        ⎞            ⎥\n",
       "⎢-ell⋅⎜──(φ₁(t)) + ──(φ₂(t))⎟ ⋅cos(φ₁(t))⎥\n",
       "⎢     ⎝dt          dt       ⎠            ⎥\n",
       "⎢                                        ⎥\n",
       "⎢                            2           ⎥\n",
       "⎢     ⎛d           d        ⎞            ⎥\n",
       "⎢-ell⋅⎜──(φ₁(t)) + ──(φ₂(t))⎟ ⋅sin(φ₁(t))⎥\n",
       "⎢     ⎝dt          dt       ⎠            ⎥\n",
       "⎢                                        ⎥\n",
       "⎣                   0                    ⎦"
      ]
     },
     "execution_count": 57,
     "metadata": {},
     "output_type": "execute_result"
    }
   ],
   "source": [
    "# accélérations\n",
    "# centre de masse\n",
    "A1 = sy.simplify( sy.diff(V_1, t) )\n",
    "A2 = sy.simplify( sy.diff(V_2, t) )\n",
    "# angulaire\n",
    "dw1 = sy.diff(w_1, t)\n",
    "dw2 = sy.diff(w_1, t)"
   ]
  },
  {
   "cell_type": "code",
   "execution_count": null,
   "id": "09fb8608-8728-400f-ad4e-a78d354c9a4d",
   "metadata": {},
   "outputs": [],
   "source": []
  },
  {
   "cell_type": "code",
   "execution_count": null,
   "id": "42625474-b4f0-42dd-89b2-ece1caa30361",
   "metadata": {},
   "outputs": [],
   "source": []
  },
  {
   "cell_type": "code",
   "execution_count": 61,
   "id": "43c61584-3186-4a72-83bb-4cd67dbcd158",
   "metadata": {
    "tags": []
   },
   "outputs": [
    {
     "data": {
      "image/png": "[encoded data removed]",
      "text/latex": [
       "$\\displaystyle \\left[\\begin{matrix}0\\\\0\\\\\\frac{\\ell^{2} m \\left(2 \\frac{d}{d t} \\phi_{1}{\\left(t \\right)} + \\frac{d}{d t} \\phi_{2}{\\left(t \\right)}\\right)}{12} + \\frac{\\ell^{2} m \\frac{d}{d t} \\phi_{1}{\\left(t \\right)}}{12}\\end{matrix}\\right]$"
      ],
      "text/plain": [
       "⎡                         0                         ⎤\n",
       "⎢                                                   ⎥\n",
       "⎢                         0                         ⎥\n",
       "⎢                                                   ⎥\n",
       "⎢   2   ⎛  d           d        ⎞      2   d        ⎥\n",
       "⎢ell ⋅m⋅⎜2⋅──(φ₁(t)) + ──(φ₂(t))⎟   ell ⋅m⋅──(φ₁(t))⎥\n",
       "⎢       ⎝  dt          dt       ⎠          dt       ⎥\n",
       "⎢──────────────────────────────── + ────────────────⎥\n",
       "⎣               12                         12       ⎦"
      ]
     },
     "execution_count": 61,
     "metadata": {},
     "output_type": "execute_result"
    }
   ],
   "source": [
    "# moment cinétique\n",
    "L_1 = I_10*w_1\n",
    "L_2 = I_20*(w_1 + R_z(f1(t))*w_2)\n",
    "L_1 + L_2"
   ]
  },
  {
   "cell_type": "code",
   "execution_count": 58,
   "id": "51e5dfe1-4d6a-4c14-b22c-d4344e9cca7a",
   "metadata": {
    "tags": []
   },
   "outputs": [
    {
     "data": {
      "image/png": "[encoded data removed]",
      "text/latex": [
       "$\\displaystyle \\left[\\begin{matrix}0\\\\0\\\\\\frac{\\ell^{2} m \\left(\\frac{d}{d t} \\phi_{1}{\\left(t \\right)} + \\frac{d}{d t} \\phi_{2}{\\left(t \\right)}\\right)^{2} \\sin{\\left(\\phi_{2}{\\left(t \\right)} \\right)}}{2}\\end{matrix}\\right]$"
      ],
      "text/plain": [
       "⎡                    0                     ⎤\n",
       "⎢                                          ⎥\n",
       "⎢                    0                     ⎥\n",
       "⎢                                          ⎥\n",
       "⎢                              2           ⎥\n",
       "⎢   2   ⎛d           d        ⎞            ⎥\n",
       "⎢ell ⋅m⋅⎜──(φ₁(t)) + ──(φ₂(t))⎟ ⋅sin(φ₂(t))⎥\n",
       "⎢       ⎝dt          dt       ⎠            ⎥\n",
       "⎢──────────────────────────────────────────⎥\n",
       "⎣                    2                     ⎦"
      ]
     },
     "execution_count": 58,
     "metadata": {},
     "output_type": "execute_result"
    }
   ],
   "source": [
    "sy.simplify( m*G_2.cross(a2))"
   ]
  },
  {
   "cell_type": "code",
   "execution_count": 54,
   "id": "fc22e344-3470-4b7f-a2f5-90ac09040382",
   "metadata": {
    "tags": []
   },
   "outputs": [
    {
     "data": {
      "image/png": "[encoded data removed]",
      "text/latex": [
       "$\\displaystyle \\left[\\begin{matrix}0\\\\0\\\\0\\end{matrix}\\right]$"
      ],
      "text/plain": [
       "⎡0⎤\n",
       "⎢ ⎥\n",
       "⎢0⎥\n",
       "⎢ ⎥\n",
       "⎣0⎦"
      ]
     },
     "execution_count": 54,
     "metadata": {},
     "output_type": "execute_result"
    }
   ],
   "source": [
    "w_2.cross(I_20*w_2)"
   ]
  },
  {
   "cell_type": "code",
   "execution_count": null,
   "id": "dee5cec2-fdbc-4a8d-8776-a59e6f7d3e14",
   "metadata": {},
   "outputs": [],
   "source": []
  }
 ],
 "metadata": {
  "kernelspec": {
   "display_name": "Python 3 (ipykernel)",
   "language": "python",
   "name": "python3"
  },
  "language_info": {
   "codemirror_mode": {
    "name": "ipython",
    "version": 3
   },
   "file_extension": ".py",
   "mimetype": "text/x-python",
   "name": "python",
   "nbconvert_exporter": "python",
   "pygments_lexer": "ipython3",
   "version": "3.10.10"
  }
 },
 "nbformat": 4,
 "nbformat_minor": 5
}
