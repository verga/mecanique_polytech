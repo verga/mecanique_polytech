{
 "cells": [
  {
   "cell_type": "markdown",
   "id": "af148411-7b98-42bf-9627-8e9bcdebbf20",
   "metadata": {},
   "source": [
    "Markdown macros\n",
    "\n",
    "$\\newcommand{\\I}{\\mathrm{i}} \n",
    "\\newcommand{\\E}{\\mathrm{e}} \n",
    "\\newcommand{\\D}{\\mathop{}\\!\\mathrm{d}}\n",
    "\\newcommand{\\bra}[1]{\\langle{#1}|}\n",
    "\\newcommand{\\ket}[1]{|{#1}\\rangle}\n",
    "\\newcommand{\\braket}[1]{\\langle{#1}\\rangle}\n",
    "\\newcommand{\\bm}[1]{\\boldsymbol{#1}}$"
   ]
  },
  {
   "cell_type": "markdown",
   "id": "eb4dab0a-7c92-4963-b4ae-16a5724a6b85",
   "metadata": {},
   "source": [
    "# Imports"
   ]
  },
  {
   "cell_type": "code",
   "execution_count": 1,
   "id": "cade36d9-6b7c-4ed7-9958-717603a9586b",
   "metadata": {},
   "outputs": [],
   "source": [
    "# numpy\n",
    "import numpy as np"
   ]
  },
  {
   "cell_type": "code",
   "execution_count": 2,
   "id": "42071785-e972-4e07-a9c8-ca33d97cd419",
   "metadata": {},
   "outputs": [],
   "source": [
    "# matplotlib\n",
    "import matplotlib\n",
    "import matplotlib.pylab as plt"
   ]
  },
  {
   "cell_type": "code",
   "execution_count": 3,
   "id": "2ecb0b97-db10-44e5-9156-e9cb3b844819",
   "metadata": {
    "tags": []
   },
   "outputs": [],
   "source": [
    "%matplotlib inline"
   ]
  },
  {
   "cell_type": "code",
   "execution_count": 4,
   "id": "1c820acf-27f4-42e1-93b4-d03b9cbd9e94",
   "metadata": {
    "tags": []
   },
   "outputs": [],
   "source": [
    "# sympy\n",
    "import sympy as sy\n",
    "sy.init_printing(use_unicode = True)"
   ]
  },
  {
   "cell_type": "markdown",
   "id": "2fef5b2d-2573-447b-b4cb-39be0748e0bf",
   "metadata": {},
   "source": [
    "Bibliographie:\n",
    "\n",
    "Voir Landau & Lifshitz \"Mécanique\""
   ]
  },
  {
   "cell_type": "markdown",
   "id": "a638651f-4c1b-4586-b0c2-f7b0a468fd30",
   "metadata": {},
   "source": [
    "# Cône: rotation"
   ]
  },
  {
   "cell_type": "markdown",
   "id": "3800681c-d916-4b15-8a88-67e1eb36d212",
   "metadata": {},
   "source": [
    "### Calcul des moments\n",
    "\n",
    "On considère un cône de hauteur $h$ et de rayon de base $a$. Il convient de placer l'origine de coordonnées au sommet du cône, avec $z$ l'axe de symétrie, et donc d'utiliser les coordonnées cylindriques $(r, \\phi, z)$:\n",
    "$$x = r \\cos \\phi,\\; y = r \\sin \\phi,\\; z = z$$\n",
    "Ici, $\\phi \\in (0, 2\\pi)$, $z \\in (0,h)$ et le rayon est $r=0$ pour $z=0$ et $r=a$ pour $z=h$:\n",
    "$$r = \\frac{a}{h} z$$\n",
    "($z>0$).\n",
    "\n",
    "On calcule d'abord le volume du cône:\n",
    "$$\\int_0^h \\D z \\int_0^{az/h} \\D r \\int_0^{2\\pi} \\D \\phi = \\frac{\\pi a^2 h}{3}$$\n",
    "et sa densité $\\rho$ en fonction de sa masse $M$:\n",
    "$$\\rho = \\frac{3M}{\\pi a^2 h}$$\n",
    "\n",
    "On calcule ensuite la position (sur l'axe $z$) du centre de masse:\n",
    "$$R = \\int_0^h \\D z \\int_0^{az/h} \\D r \\int_0^{2\\pi} \\D \\phi \\, z = \\frac{3 h}{4}$$\n",
    "\n",
    "Le tenseur d'inertie est diagonal $I_1, I_2, I_3$; on le calcule d'abord par rapport au centre $O$,\n",
    "\\begin{align*}\n",
    "I_1 &= \\int_0^h \\D z \\int_0^{az/h} \\D r \\int_0^{2\\pi} \\D \\phi \\, (r^2 \\cos^2\\phi + z^2) \\\\\n",
    "I_2 &= \\int_0^h \\D z \\int_0^{az/h} \\D r \\int_0^{2\\pi} \\D \\phi \\, (r^2 \\sin^2\\phi + z^2) \\\\\n",
    "I_3 &= \\int_0^h \\D z \\int_0^{az/h} \\D r \\int_0^{2\\pi} \\D \\phi \\, r^2\n",
    "\\end{align*}\n",
    "et ensuite on tient compte de la translation au centre de masse $R$, $I_x, I_y, I_z$\n",
    "$$I_x = I_1 - M R^2 ,\\;\n",
    "I_y = I_2 - M R^2 ,\\;\n",
    "I_z = I_3$$"
   ]
  },
  {
   "cell_type": "markdown",
   "id": "1fd7c45b-f9d4-4688-990d-1ac203d99c84",
   "metadata": {},
   "source": [
    "## Moments d'inertie\n",
    "\n",
    "On choisit le repère associé au cône est $(x,y,z)$ tel que $z$ est l'axe de symétrie, et la base est parallèle au plan $xy$:\n",
    "$$I_x = I_y = \\frac{3M}{20} \\bigg(a^2 + \\frac{h^2}{4} \\bigg), \\; I_z = \\frac{3M}{10} a^2$$\n",
    "Le centre de masse est à une distance $R$ du sommet $O$:\n",
    "$$R = \\frac{3h}{4}$$"
   ]
  },
  {
   "cell_type": "code",
   "execution_count": 5,
   "id": "245cd46f-bed3-4678-8f20-6b9ddd0c6830",
   "metadata": {},
   "outputs": [],
   "source": [
    "a, h, M = sy.symbols(\"a, h, M\", real=True)\n",
    "r, phi, z = sy.symbols(\"r, phi, z\", real=True)\n",
    "pi = sy.pi"
   ]
  },
  {
   "cell_type": "code",
   "execution_count": 6,
   "id": "46b5bc8a-7312-4a88-8801-2b0f189a39e9",
   "metadata": {},
   "outputs": [
    {
     "data": {
      "image/png": "[encoded data removed]",
      "text/latex": [
       "$\\displaystyle \\frac{3 M}{\\pi a^{2} h}$"
      ],
      "text/plain": [
       " 3⋅M  \n",
       "──────\n",
       "   2  \n",
       "π⋅a ⋅h"
      ]
     },
     "execution_count": 6,
     "metadata": {},
     "output_type": "execute_result"
    }
   ],
   "source": [
    "# volume\n",
    "vol = sy.integrate(sy.integrate(sy.integrate(r, (phi, 0, 2*pi)), (r, 0, a*z/h)), (z,0,h))\n",
    "rho = M/vol\n",
    "rho"
   ]
  },
  {
   "cell_type": "code",
   "execution_count": 7,
   "id": "bbfe9374-3e24-4ffc-b5b2-6826d210a001",
   "metadata": {},
   "outputs": [],
   "source": [
    "# fonction intégrale triple:\n",
    "def integral(f):\n",
    "    return sy.integrate(sy.integrate(sy.integrate(r * f, (phi, 0, 2*pi)), (r, 0, a*z/h)), (z,0,h))"
   ]
  },
  {
   "cell_type": "code",
   "execution_count": 8,
   "id": "1c04418d-9208-4eac-8637-d581e7d18dcf",
   "metadata": {},
   "outputs": [
    {
     "data": {
      "image/png": "[encoded data removed]",
      "text/latex": [
       "$\\displaystyle \\frac{3 h}{4}$"
      ],
      "text/plain": [
       "3⋅h\n",
       "───\n",
       " 4 "
      ]
     },
     "execution_count": 8,
     "metadata": {},
     "output_type": "execute_result"
    }
   ],
   "source": [
    "# centre de masse\n",
    "R = (rho/M)*integral(z)\n",
    "R"
   ]
  },
  {
   "cell_type": "code",
   "execution_count": 9,
   "id": "696c9249-c0d5-4e53-b066-8af9baf3fdc2",
   "metadata": {},
   "outputs": [
    {
     "data": {
      "image/png": "[encoded data removed]",
      "text/latex": [
       "$\\displaystyle \\left( \\frac{3 M \\left(4 a^{2} + h^{2}\\right)}{80}, \\  \\frac{3 M \\left(4 a^{2} + h^{2}\\right)}{80}, \\  \\frac{3 M a^{2}}{10}\\right)$"
      ],
      "text/plain": [
       "⎛    ⎛   2    2⎞      ⎛   2    2⎞       2⎞\n",
       "⎜3⋅M⋅⎝4⋅a  + h ⎠  3⋅M⋅⎝4⋅a  + h ⎠  3⋅M⋅a ⎟\n",
       "⎜───────────────, ───────────────, ──────⎟\n",
       "⎝       80               80          10  ⎠"
      ]
     },
     "execution_count": 9,
     "metadata": {},
     "output_type": "execute_result"
    }
   ],
   "source": [
    "# moments d'inertie (notez que I_x = I_y)\n",
    "# dans le repère du centre de masse\n",
    "I_1 = rho * integral(r**2*sy.cos(phi)**2 + z**2)\n",
    "I_2 = rho * integral(r**2*sy.cos(phi)**2 + z**2)\n",
    "I_3 = rho * integral(r**2)\n",
    "\n",
    "I_x = sy.simplify(I_1 - M*R**2)\n",
    "I_y = sy.simplify(I_2 - M*R**2)\n",
    "I_z = I_3\n",
    "(I_x, I_y, I_z)"
   ]
  },
  {
   "cell_type": "markdown",
   "id": "d7f48efe-d94c-477b-bb2a-16e8601c0101",
   "metadata": {
    "tags": []
   },
   "source": [
    "# Roulement"
   ]
  },
  {
   "cell_type": "markdown",
   "id": "6ae9632e-693b-4960-a7af-8b13b046e4d0",
   "metadata": {},
   "source": [
    "On considère un cône d'angle $2\\alpha$; le centre d'inertie se trouve à une distance $R$ du sommet $O$, origine de coordonnées des repères fixe et mobile.\n",
    "\n",
    "On appelle $(X,Y,Z)$ le repère fixe et $(x,y,z)$ le repère attaché au cône, avec $z$ son axe de symétrie, $y$ tel qu'il est perpendiculaire à $z$ et à l'axe de rotation $OA$ ($OA$ c'est le segment d'appui du cône sur le plan $XY$); l'axe $x$ se trouve donc dans le plan $OAz$, et il est perpendiculaire à $z$.\n",
    "\n",
    "On note $\\psi$ l'angle entre l'axe $X$ et le segment $OA$.\n",
    "\n",
    "Vitesse du centre de masse:\n",
    "$$ V = \\dot\\psi R \\cos \\alpha $$\n",
    "\n",
    "Vitesse angulaire autour de l'axe instantané $OA$:\n",
    "$$ R \\omega \\sin \\alpha = V, \\quad \\omega = \\dot\\psi \\cot \\alpha$$\n",
    "\n",
    "Vitesse angulaire $\\bm \\Omega = \\omega \\bm n$, avec $\\bm n$ la direction de l'axe $OA$:\n",
    "$$\\bm \\Omega = (\\omega \\sin \\alpha, 0, \\omega \\cos \\alpha)$$\n",
    "ou,\n",
    "$$\\bm \\Omega = \\bigg(\\dot\\psi \\cos \\alpha, 0, \\dot\\psi \\frac{\\cos^2 \\alpha}{\\sin \\alpha}\\bigg)$$"
   ]
  },
  {
   "cell_type": "markdown",
   "id": "88bd7559-a8ce-476c-b1dc-cf0e0552d391",
   "metadata": {},
   "source": [
    "## Moment cinétique\n",
    "\n",
    "On utilise la formule $\\bm L = I_x \\Omega_x, I_y \\Omega_y, I_z \\Omega_z$:\n",
    "$$\\bm L = \\begin{pmatrix} \\dot\\psi\\frac{3M}{20} \\bigg(R^2 + \\frac{h^2}{4} \\bigg) \\cos \\alpha \\\\ 0 \\\\ \\dot \\psi \\frac{3M}{10} R^2 \\cot \\alpha \\cos \\alpha \\end{pmatrix}$$"
   ]
  },
  {
   "cell_type": "markdown",
   "id": "f27dbc0a-cd03-4d11-ad52-aff6c6e738a7",
   "metadata": {},
   "source": [
    "# Brouillon"
   ]
  },
  {
   "cell_type": "code",
   "execution_count": 5,
   "id": "575a2dc9-7a66-49af-a1ae-b098ce35a7f7",
   "metadata": {},
   "outputs": [],
   "source": [
    "phi = sy.symbols(\"phi\", real=True)"
   ]
  },
  {
   "cell_type": "code",
   "execution_count": 11,
   "id": "914ba0fe-b8df-45c9-ae7d-76ad8c05e9dd",
   "metadata": {},
   "outputs": [
    {
     "data": {
      "image/png": "[encoded data removed]",
      "text/latex": [
       "$\\displaystyle \\pi$"
      ],
      "text/plain": [
       "π"
      ]
     },
     "execution_count": 11,
     "metadata": {},
     "output_type": "execute_result"
    }
   ],
   "source": [
    "sy.integrate(sy.sin(phi)**2, (phi, 0, 2*sy.pi))"
   ]
  },
  {
   "cell_type": "code",
   "execution_count": null,
   "id": "eb0b3358-3330-4e94-b658-256a1ed74aca",
   "metadata": {},
   "outputs": [],
   "source": []
  }
 ],
 "metadata": {
  "kernelspec": {
   "display_name": "Python 3 (ipykernel)",
   "language": "python",
   "name": "python3"
  },
  "language_info": {
   "codemirror_mode": {
    "name": "ipython",
    "version": 3
   },
   "file_extension": ".py",
   "mimetype": "text/x-python",
   "name": "python",
   "nbconvert_exporter": "python",
   "pygments_lexer": "ipython3",
   "version": "3.11.8"
  }
 },
 "nbformat": 4,
 "nbformat_minor": 5
}
