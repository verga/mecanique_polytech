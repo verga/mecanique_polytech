{
 "cells": [
  {
   "cell_type": "markdown",
   "id": "a604994d-276e-44a6-a985-fc55d497a548",
   "metadata": {},
   "source": [
    "Markdown macros\n",
    "\n",
    "$\\newcommand{\\I}{\\mathrm{i}} \n",
    "\\newcommand{\\E}{\\mathrm{e}} \n",
    "\\newcommand{\\D}{\\mathop{}\\!\\mathrm{d}}\n",
    "\\newcommand{\\bra}[1]{\\langle{#1}|}\n",
    "\\newcommand{\\ket}[1]{|{#1}\\rangle}\n",
    "\\newcommand{\\braket}[1]{\\langle{#1}\\rangle}\n",
    "\\newcommand{\\bm}[1]{\\boldsymbol{#1}}$"
   ]
  },
  {
   "cell_type": "markdown",
   "id": "e0bf8906-9792-4504-8a34-f9570aa94c2e",
   "metadata": {},
   "source": [
    "# Imports"
   ]
  },
  {
   "cell_type": "code",
   "execution_count": 1,
   "id": "a75ef05f-4641-4162-88b8-a7ee449637ff",
   "metadata": {
    "tags": []
   },
   "outputs": [],
   "source": [
    "# numpy\n",
    "import numpy as np"
   ]
  },
  {
   "cell_type": "code",
   "execution_count": 2,
   "id": "db99dca6-2063-4cc7-9a83-be19ad2cbaf6",
   "metadata": {},
   "outputs": [],
   "source": [
    "# matplotlib\n",
    "import matplotlib\n",
    "import matplotlib.pylab as plt\n",
    "from IPython.display import Image"
   ]
  },
  {
   "cell_type": "code",
   "execution_count": 3,
   "id": "955b979d-5993-413f-bd70-ccc24524f9af",
   "metadata": {
    "tags": []
   },
   "outputs": [],
   "source": [
    "%matplotlib inline"
   ]
  },
  {
   "cell_type": "code",
   "execution_count": 4,
   "id": "1e9affcd-c708-4edf-9397-2edc5a2fda78",
   "metadata": {
    "tags": []
   },
   "outputs": [],
   "source": [
    "# sympy\n",
    "import sympy as sy\n",
    "sy.init_printing(use_unicode = True)"
   ]
  },
  {
   "cell_type": "code",
   "execution_count": 5,
   "id": "046a996c-7590-4e31-8e9a-9f86b5ede6db",
   "metadata": {},
   "outputs": [],
   "source": [
    "phi, theta, psi = sy.symbols(\"phi, theta, psi\", real=True)\n",
    "\n",
    "# Matrices de passage (rotation)\n",
    "def R_x(phi):\n",
    "    c = sy.cos(phi)\n",
    "    s = sy.sin(phi)\n",
    "    return sy.Matrix([[1,  0, 0],\n",
    "                  [0, c, -s],\n",
    "                  [0, s,  c]])\n",
    "def R_y(phi):\n",
    "    c = sy.cos(phi)\n",
    "    s = sy.sin(phi)\n",
    "    return sy.Matrix([[ c, 0, s],\n",
    "                  [ 0, 1, 0],\n",
    "                  [ -s, 0, c]])\n",
    "\n",
    "def R_z(phi):\n",
    "    c = sy.cos(phi)\n",
    "    s = sy.sin(phi)\n",
    "    return sy.Matrix([[c, -s, 0],\n",
    "                  [s,  c, 0],\n",
    "                  [0,  0, 1]])\n",
    "\n",
    "# Matrices de changement de coordonnées (inverses de R)\n",
    "def C_x(phi):\n",
    "    c = sy.cos(phi)\n",
    "    s = sy.sin(phi)\n",
    "    return sy.Matrix([[1,  0, 0],\n",
    "                  [0, c, s],\n",
    "                  [0, -s,  c]])\n",
    "def C_y(phi):\n",
    "    c = sy.cos(phi)\n",
    "    s = sy.sin(phi)\n",
    "    return sy.Matrix([[ c, 0, -s],\n",
    "                  [ 0, 1, 0],\n",
    "                  [ s, 0, c]])\n",
    "\n",
    "def C_z(phi):\n",
    "    c = sy.cos(phi)\n",
    "    s = sy.sin(phi)\n",
    "    return sy.Matrix([[c, s, 0],\n",
    "                  [-s,  c, 0],\n",
    "                  [0,  0, 1]])\n",
    "\n",
    "def XYZ():\n",
    "    return sy.Matrix([1,0,0]), sy.Matrix([0,1,0]), sy.Matrix([0,0,1])"
   ]
  },
  {
   "cell_type": "markdown",
   "id": "e1db7516-3788-4eac-9864-540d92be8fc6",
   "metadata": {},
   "source": [
    "# Rotation d'un triangle"
   ]
  },
  {
   "cell_type": "code",
   "execution_count": 6,
   "id": "d41e0526-1ffc-4d60-b9a5-44d1e1b73a00",
   "metadata": {},
   "outputs": [
    {
     "data": {
      "text/plain": [
       "[Text(0, 0.0, '$0$'), Text(0, 1.5, '$h$')]"
      ]
     },
     "execution_count": 6,
     "metadata": {},
     "output_type": "execute_result"
    },
    {
     "data": {
      "image/png": "[encoded data removed]",
      "text/plain": [
       "<Figure size 400x400 with 1 Axes>"
      ]
     },
     "metadata": {},
     "output_type": "display_data"
    }
   ],
   "source": [
    "N = 65\n",
    "x = np.linspace(-1,1,N)\n",
    "y = -1.5*np.abs(x) + 1.5\n",
    "fig, ax = plt.subplots(figsize = (4,4))\n",
    "ax.plot(x, y, color = '0.35')\n",
    "ax.plot([-1,1], [0,0], color = '0.35')\n",
    "ax.plot([0,0], [0,1.5], \":\", color = '0.35')\n",
    "ax.plot([0,0], [0,0], \".\", color = '#800', ms = 18)\n",
    "ax.set_xticks([-1, 0, 1])\n",
    "ax.set_xticklabels([\"$-a$\", \"$0$\", \"$a$\"], fontsize = 18)\n",
    "ax.set_yticks([0, 1.5])\n",
    "ax.set_yticklabels([\"$0$\", \"$h$\"], fontsize = 18)"
   ]
  },
  {
   "cell_type": "markdown",
   "id": "a02980f2-71ab-4c43-b9c4-8534dfee0526",
   "metadata": {},
   "source": [
    "On a un triangle $y=-(h/a) |x| + h$, et on veut calculer son moment d'inertie (en prennant $(0,0)$ comme centre de coordonnées associées au corps)."
   ]
  },
  {
   "cell_type": "code",
   "execution_count": 7,
   "id": "0a681348-441c-40dd-a77f-ebfc29450442",
   "metadata": {},
   "outputs": [],
   "source": [
    "x, y = sy.symbols(\"x, y\", real=True)\n",
    "a, h = sy.symbols(\"a, h\", real=True)\n",
    "rho, M = sy.symbols(\"rho, M\", real=True)"
   ]
  },
  {
   "cell_type": "code",
   "execution_count": 8,
   "id": "d36bd50f-ddd6-4c42-bd7b-712e7515c5fc",
   "metadata": {},
   "outputs": [],
   "source": [
    "# intégrale double sur le triangle\n",
    "def I_triangle(f):\n",
    "    return sy.integrate(sy.integrate(f, (y, 0,  (h/a)*x + h)), (x, -a, 0)) +\\\n",
    "           sy.integrate(sy.integrate(f, (y, 0, -(h/a)*x + h)), (x, 0, a))"
   ]
  },
  {
   "cell_type": "code",
   "execution_count": 9,
   "id": "dbeb1b57-a095-4cea-a635-83b56807e027",
   "metadata": {},
   "outputs": [
    {
     "data": {
      "image/png": "[encoded data removed]",
      "text/latex": [
       "$\\displaystyle a h$"
      ],
      "text/plain": [
       "a⋅h"
      ]
     },
     "execution_count": 9,
     "metadata": {},
     "output_type": "execute_result"
    }
   ],
   "source": [
    "# aire du triangle A, on a M = rho A\n",
    "A = I_triangle(1)\n",
    "A"
   ]
  },
  {
   "cell_type": "code",
   "execution_count": 10,
   "id": "e1df39b7-0d73-4669-b94c-9043c9ab2c33",
   "metadata": {},
   "outputs": [
    {
     "data": {
      "image/png": "[encoded data removed]",
      "text/latex": [
       "$\\displaystyle \\left( 0, \\  \\frac{h}{3}\\right)$"
      ],
      "text/plain": [
       "⎛   h⎞\n",
       "⎜0, ─⎟\n",
       "⎝   3⎠"
      ]
     },
     "execution_count": 10,
     "metadata": {},
     "output_type": "execute_result"
    }
   ],
   "source": [
    "# centre de masse\n",
    "Rx = I_triangle(x)/A\n",
    "Ry = I_triangle(y)/A\n",
    "Rx, Ry"
   ]
  },
  {
   "cell_type": "code",
   "execution_count": 11,
   "id": "f0219e7f-3c1a-41e2-94b1-5579393364f2",
   "metadata": {},
   "outputs": [
    {
     "data": {
      "image/png": "[encoded data removed]",
      "text/latex": [
       "$\\displaystyle \\left[\\begin{matrix}\\frac{M h^{2}}{6} & 0 & 0\\\\0 & \\frac{M a^{2}}{6} & 0\\\\0 & 0 & \\frac{M \\left(a^{2} + h^{2}\\right)}{6}\\end{matrix}\\right]$"
      ],
      "text/plain": [
       "⎡   2                   ⎤\n",
       "⎢M⋅h                    ⎥\n",
       "⎢────   0         0     ⎥\n",
       "⎢ 6                     ⎥\n",
       "⎢                       ⎥\n",
       "⎢         2             ⎥\n",
       "⎢      M⋅a              ⎥\n",
       "⎢ 0    ────       0     ⎥\n",
       "⎢       6               ⎥\n",
       "⎢                       ⎥\n",
       "⎢              ⎛ 2    2⎞⎥\n",
       "⎢            M⋅⎝a  + h ⎠⎥\n",
       "⎢ 0     0    ───────────⎥\n",
       "⎣                 6     ⎦"
      ]
     },
     "execution_count": 11,
     "metadata": {},
     "output_type": "execute_result"
    }
   ],
   "source": [
    "# moment d'inertie\n",
    "# I_xx, I_yy, I_zz = I_xx + I_yy, I_xy = I_yx = 0\n",
    "I_xx = (M/A) * I_triangle(y**2)\n",
    "I_yy = (M/A) * I_triangle(x**2)\n",
    "I_xy = (M/A) * I_triangle(x*y)\n",
    "I_zz = sy.simplify(I_xx + I_yy)\n",
    "\n",
    "I = sy.Matrix([[I_xx, I_xy, 0], [I_xy, I_yy, 0], [0, 0, I_zz]])\n",
    "I"
   ]
  },
  {
   "cell_type": "markdown",
   "id": "62628399-3c3d-440a-a5a4-20e298c393f4",
   "metadata": {},
   "source": [
    "On calcule $\\bm R$ et $I$ par rapport au point $O=(0,0,0)$, située sur l'axe de symétrie du triangle isoscèle, et dans le repère $(x,y,z)$ fixé au corps (mobile).\n",
    "\n",
    "* Centre de masse: \n",
    "    $$\\bm R = \\frac{h}{3} \\hat{\\bm y}$$\n",
    "* Moment d'inertie:\n",
    "    $$I = \\frac{M}{6}\\mathrm{diag}(h^2, a^2, a^2 + h^2)$$"
   ]
  },
  {
   "cell_type": "code",
   "execution_count": 12,
   "id": "b9590edb-4ae7-4eed-8d92-668a5c6f5979",
   "metadata": {},
   "outputs": [
    {
     "data": {
      "image/png": "[encoded data removed]",
      "text/plain": [
       "<IPython.core.display.Image object>"
      ]
     },
     "execution_count": 12,
     "metadata": {
      "image/png": {
       "width": 400
      }
     },
     "output_type": "execute_result"
    }
   ],
   "source": [
    "Image(filename='triangle.png', width=400)"
   ]
  },
  {
   "cell_type": "markdown",
   "id": "a8aa20fc-425c-4a02-93c5-096b5161c701",
   "metadata": {},
   "source": [
    "## Cinématique\n",
    "\n",
    "Le repère fixe est noté $(\\hat{\\bm X},\\hat{\\bm Y},\\hat{\\bm Z})$, le repère mobile est $(\\hat{\\bm x}, \\hat{\\bm y},\\hat{\\bm z})$.\n",
    "\n",
    "L'orientation du triangle par rapport au repère fixe s'obtient par \n",
    "* une rotation d'angle $\\phi$ autour de $Z$, ce qui produit la transformation de repère $(X,Y,Z) \\rightarrow (x_1=N, y_1=n, z_1=Z)$,\n",
    "* suivie d'une rotation d'angle $\\theta$ autrour de $N$, ce qui resulte dans le repère mobile $(N,n,Z) \\rightarrow (x,y,z)$. Notez que $N=x$.\n",
    "\n",
    "On a donc un cas particulier des angles d'euler avec $\\psi=0$. Les angles $\\theta = \\theta(t)$ et $\\phi=\\phi(t)$, sont fonction du temps et décrivent la rotation du triangle autour de $Z$ et de $x$.\n",
    "\n",
    "Le triangle est contraint de tourner dans le plan $XY$ autour de point $O= (0,0,0)$ (origine des repères mobile et fixe). On étudie la rotation du triangle\n",
    "\n",
    "* dans le repère mobile $(x,y,z)$, et dans\n",
    "* le repère \n",
    "$$(\\hat{\\bm x}, \\hat{\\bm n},\\hat{\\bm Z})$$\n",
    "\n",
    "ce qui va nous permettre de comparer les deux approches."
   ]
  },
  {
   "cell_type": "code",
   "execution_count": 13,
   "id": "709647d9-19cd-4ed0-97a1-770102788a42",
   "metadata": {},
   "outputs": [
    {
     "data": {
      "image/png": "[encoded data removed]",
      "text/latex": [
       "$\\displaystyle \\left( \\left[\\begin{matrix}\\cos{\\left(\\phi \\right)}\\\\\\sin{\\left(\\phi \\right)}\\\\0\\end{matrix}\\right], \\  \\left[\\begin{matrix}- \\sin{\\left(\\phi \\right)}\\\\\\cos{\\left(\\phi \\right)} \\cos{\\left(\\theta \\right)}\\\\\\sin{\\left(\\theta \\right)} \\cos{\\left(\\phi \\right)}\\end{matrix}\\right], \\  \\left[\\begin{matrix}0\\\\- \\sin{\\left(\\theta \\right)}\\\\\\cos{\\left(\\theta \\right)}\\end{matrix}\\right], \\  \\left[\\begin{matrix}- \\sin{\\left(\\phi \\right)}\\\\\\cos{\\left(\\phi \\right)}\\\\0\\end{matrix}\\right]\\right)$"
      ],
      "text/plain": [
       "⎛⎡cos(φ)⎤  ⎡   -sin(φ)   ⎤  ⎡   0   ⎤  ⎡-sin(φ)⎤⎞\n",
       "⎜⎢      ⎥  ⎢             ⎥  ⎢       ⎥  ⎢       ⎥⎟\n",
       "⎜⎢sin(φ)⎥, ⎢cos(φ)⋅cos(θ)⎥, ⎢-sin(θ)⎥, ⎢cos(φ) ⎥⎟\n",
       "⎜⎢      ⎥  ⎢             ⎥  ⎢       ⎥  ⎢       ⎥⎟\n",
       "⎝⎣  0   ⎦  ⎣sin(θ)⋅cos(φ)⎦  ⎣cos(θ) ⎦  ⎣   0   ⎦⎠"
      ]
     },
     "execution_count": 13,
     "metadata": {},
     "output_type": "execute_result"
    }
   ],
   "source": [
    "# Rotation des axes \n",
    "# e_0 repère mobile (xyz) dans la base fixe e (XYZ)\n",
    "e_X, e_Y, e_Z = XYZ()\n",
    "\n",
    "ex_0 = R_z(phi)*e_X\n",
    "ey_0 = R_x(theta)*R_z(phi)*e_Y\n",
    "ez_0 = R_x(theta)*e_Z\n",
    "\n",
    "# repère intermédiaire (ex_0, en_0, e_Z)\n",
    "en_0 = R_z(phi)*e_Y\n",
    "\n",
    "ex_0, ey_0, ez_0, en_0"
   ]
  },
  {
   "cell_type": "markdown",
   "id": "e8d04da4-2ef9-4906-a6c3-6b5c316096ac",
   "metadata": {},
   "source": [
    "### Repères"
   ]
  },
  {
   "cell_type": "code",
   "execution_count": 14,
   "id": "8087e2c1-4ed7-4240-b40d-7e279b630b1b",
   "metadata": {
    "tags": []
   },
   "outputs": [
    {
     "data": {
      "image/png": "[encoded data removed]",
      "text/latex": [
       "$\\displaystyle \\left( \\left[\\begin{matrix}\\cos{\\left(\\phi \\right)}\\\\- \\sin{\\left(\\phi \\right)}\\\\0\\end{matrix}\\right], \\  \\left[\\begin{matrix}\\sin{\\left(\\phi \\right)} \\cos{\\left(\\theta \\right)}\\\\\\cos{\\left(\\phi \\right)} \\cos{\\left(\\theta \\right)}\\\\- \\sin{\\left(\\theta \\right)}\\end{matrix}\\right], \\  \\left[\\begin{matrix}0\\\\\\sin{\\left(\\theta \\right)}\\\\\\cos{\\left(\\theta \\right)}\\end{matrix}\\right], \\  \\left[\\begin{matrix}0\\\\\\cos{\\left(\\theta \\right)}\\\\- \\sin{\\left(\\theta \\right)}\\end{matrix}\\right]\\right)$"
      ],
      "text/plain": [
       "⎛⎡cos(φ) ⎤  ⎡sin(φ)⋅cos(θ)⎤  ⎡  0   ⎤  ⎡   0   ⎤⎞\n",
       "⎜⎢       ⎥  ⎢             ⎥  ⎢      ⎥  ⎢       ⎥⎟\n",
       "⎜⎢-sin(φ)⎥, ⎢cos(φ)⋅cos(θ)⎥, ⎢sin(θ)⎥, ⎢cos(θ) ⎥⎟\n",
       "⎜⎢       ⎥  ⎢             ⎥  ⎢      ⎥  ⎢       ⎥⎟\n",
       "⎝⎣   0   ⎦  ⎣   -sin(θ)   ⎦  ⎣cos(θ)⎦  ⎣-sin(θ)⎦⎠"
      ]
     },
     "execution_count": 14,
     "metadata": {},
     "output_type": "execute_result"
    }
   ],
   "source": [
    "# repères (X,Y,Z) et (x,n,Z) en coordonnées (x,y,z)\n",
    "ex, ey, ez = XYZ()\n",
    "en = C_x(theta)*ey\n",
    "\n",
    "eX = C_z(phi)*ex\n",
    "eY = C_z(phi)*C_x(theta)*ey\n",
    "eZ = C_x(theta)*ez\n",
    "\n",
    "eX, eY, eZ, en"
   ]
  },
  {
   "cell_type": "code",
   "execution_count": 15,
   "id": "130001c8-fb1d-4405-a5c6-9cdce7315661",
   "metadata": {},
   "outputs": [],
   "source": [
    "# dérivés des angles\n",
    "phi_t, theta_t, psi_t = sy.symbols(\"phi_t, theta_t, psi_t\", real=True)"
   ]
  },
  {
   "cell_type": "code",
   "execution_count": 16,
   "id": "e6024677-2203-481d-8631-90329d74edf8",
   "metadata": {},
   "outputs": [
    {
     "data": {
      "image/png": "[encoded data removed]",
      "text/latex": [
       "$\\displaystyle \\left[\\begin{matrix}\\theta_{t}\\\\\\phi_{t} \\sin{\\left(\\theta \\right)}\\\\\\phi_{t} \\cos{\\left(\\theta \\right)}\\end{matrix}\\right]$"
      ],
      "text/plain": [
       "⎡   θₜ    ⎤\n",
       "⎢         ⎥\n",
       "⎢φₜ⋅sin(θ)⎥\n",
       "⎢         ⎥\n",
       "⎣φₜ⋅cos(θ)⎦"
      ]
     },
     "execution_count": 16,
     "metadata": {},
     "output_type": "execute_result"
    }
   ],
   "source": [
    "# vitesse angulaire (dans xyz)\n",
    "w = phi_t*eZ + theta_t*ex\n",
    "w_x, w_y, w_z = w[0], w[1], w[2]\n",
    "w"
   ]
  },
  {
   "cell_type": "markdown",
   "id": "7ef53a92-a187-493f-b23e-3d4dfc2abedc",
   "metadata": {},
   "source": [
    "### Équation d'Euler\n",
    "\n",
    "On calcule:\n",
    "$$\\left. \\frac{\\D \\bm L}{\\D t} \\right|_{XYZ} = \\left. \\frac{\\D \\bm L}{\\D t} \\right|_{xyz} + \\left. \\bm \\Omega \\times \\bm L\\right|_{xyz}$$"
   ]
  },
  {
   "cell_type": "markdown",
   "id": "2f53e560-71a7-4d83-8ee3-e10569f9836a",
   "metadata": {},
   "source": [
    "La variation du moment cinétique, due à la rotation $\\Omega$ (du coprs, dans ses coordonnées xyz) est donnée par le produit vectoriel\n",
    "$$\\left.\\bm \\Omega \\times \\bm L\\right|_{xyz}$$\n",
    "Le premier terme exprime la variation propre du vecteur $\\bm L$ dans le repère mobile."
   ]
  },
  {
   "cell_type": "code",
   "execution_count": 17,
   "id": "00abe391-d974-43ae-a86e-1f70b120453b",
   "metadata": {},
   "outputs": [],
   "source": [
    "# dérivées deuxièmmes\n",
    "phi_tt, theta_tt, psi_tt = sy.symbols(\"phi_tt, theta_tt, psi_tt\", real=True)"
   ]
  },
  {
   "cell_type": "code",
   "execution_count": 18,
   "id": "44189d0c-bc1e-48ed-860c-433b3ebcc8ae",
   "metadata": {},
   "outputs": [
    {
     "data": {
      "image/png": "[encoded data removed]",
      "text/latex": [
       "$\\displaystyle \\left[\\begin{matrix}\\frac{M h^{2} \\theta_{t}}{6}\\\\\\frac{M a^{2} \\phi_{t} \\sin{\\left(\\theta \\right)}}{6}\\\\\\frac{M \\phi_{t} \\left(a^{2} + h^{2}\\right) \\cos{\\left(\\theta \\right)}}{6}\\end{matrix}\\right]$"
      ],
      "text/plain": [
       "⎡          2          ⎤\n",
       "⎢       M⋅h ⋅θₜ       ⎥\n",
       "⎢       ───────       ⎥\n",
       "⎢          6          ⎥\n",
       "⎢                     ⎥\n",
       "⎢      2              ⎥\n",
       "⎢   M⋅a ⋅φₜ⋅sin(θ)    ⎥\n",
       "⎢   ──────────────    ⎥\n",
       "⎢         6           ⎥\n",
       "⎢                     ⎥\n",
       "⎢     ⎛ 2    2⎞       ⎥\n",
       "⎢M⋅φₜ⋅⎝a  + h ⎠⋅cos(θ)⎥\n",
       "⎢─────────────────────⎥\n",
       "⎣          6          ⎦"
      ]
     },
     "execution_count": 18,
     "metadata": {},
     "output_type": "execute_result"
    }
   ],
   "source": [
    "# moment cinétique (dans xyz)\n",
    "L = sy.simplify(I_xx * w_x*ex + I_yy * w_y*ey + I_zz * w_z*ez)\n",
    "L"
   ]
  },
  {
   "cell_type": "code",
   "execution_count": 19,
   "id": "725bbbe9-24cb-4f8a-99ef-91bcb8d2f15a",
   "metadata": {},
   "outputs": [
    {
     "data": {
      "image/png": "[encoded data removed]",
      "text/latex": [
       "$\\displaystyle \\left[\\begin{matrix}\\frac{M h^{2} \\theta_{tt}}{6}\\\\\\frac{M a^{2} \\left(\\phi_{t} \\theta_{t} \\cos{\\left(\\theta \\right)} + \\phi_{tt} \\sin{\\left(\\theta \\right)}\\right)}{6}\\\\\\frac{M \\left(a^{2} + h^{2}\\right) \\left(- \\phi_{t} \\theta_{t} \\sin{\\left(\\theta \\right)} + \\phi_{tt} \\cos{\\left(\\theta \\right)}\\right)}{6}\\end{matrix}\\right]$"
      ],
      "text/plain": [
       "⎡                   2                    ⎤\n",
       "⎢                M⋅h ⋅θₜₜ                ⎥\n",
       "⎢                ────────                ⎥\n",
       "⎢                   6                    ⎥\n",
       "⎢                                        ⎥\n",
       "⎢       2                                ⎥\n",
       "⎢    M⋅a ⋅(φₜ⋅θₜ⋅cos(θ) + φₜₜ⋅sin(θ))    ⎥\n",
       "⎢    ────────────────────────────────    ⎥\n",
       "⎢                   6                    ⎥\n",
       "⎢                                        ⎥\n",
       "⎢  ⎛ 2    2⎞                             ⎥\n",
       "⎢M⋅⎝a  + h ⎠⋅(-φₜ⋅θₜ⋅sin(θ) + φₜₜ⋅cos(θ))⎥\n",
       "⎢────────────────────────────────────────⎥\n",
       "⎣                   6                    ⎦"
      ]
     },
     "execution_count": 19,
     "metadata": {},
     "output_type": "execute_result"
    }
   ],
   "source": [
    "# dérivée du moment cinétique\n",
    "dL = sy.simplify(theta_t*sy.diff(L,theta) + theta_tt*sy.diff(L,theta_t) + \\\n",
    "                 phi_t*sy.diff(L,phi) + phi_tt*sy.diff(L,phi_t))\n",
    "dL"
   ]
  },
  {
   "cell_type": "code",
   "execution_count": 20,
   "id": "cbae3f77-cba5-4614-bf5f-e7e41a530003",
   "metadata": {},
   "outputs": [
    {
     "data": {
      "image/png": "[encoded data removed]",
      "text/latex": [
       "$\\displaystyle \\left[\\begin{matrix}\\frac{M h^{2} \\phi_{t}^{2} \\sin{\\left(2 \\theta \\right)}}{12}\\\\- \\frac{M a^{2} \\phi_{t} \\theta_{t} \\cos{\\left(\\theta \\right)}}{6}\\\\\\frac{M \\phi_{t} \\theta_{t} \\left(a^{2} - h^{2}\\right) \\sin{\\left(\\theta \\right)}}{6}\\end{matrix}\\right]$"
      ],
      "text/plain": [
       "⎡      2   2             ⎤\n",
       "⎢   M⋅h ⋅φₜ ⋅sin(2⋅θ)    ⎥\n",
       "⎢   ─────────────────    ⎥\n",
       "⎢           12           ⎥\n",
       "⎢                        ⎥\n",
       "⎢      2                 ⎥\n",
       "⎢  -M⋅a ⋅φₜ⋅θₜ⋅cos(θ)    ⎥\n",
       "⎢  ───────────────────   ⎥\n",
       "⎢           6            ⎥\n",
       "⎢                        ⎥\n",
       "⎢        ⎛ 2    2⎞       ⎥\n",
       "⎢M⋅φₜ⋅θₜ⋅⎝a  - h ⎠⋅sin(θ)⎥\n",
       "⎢────────────────────────⎥\n",
       "⎣           6            ⎦"
      ]
     },
     "execution_count": 20,
     "metadata": {},
     "output_type": "execute_result"
    }
   ],
   "source": [
    "# terme de rotation Omega x L\n",
    "oL = sy.simplify(w.cross(L))\n",
    "oL"
   ]
  },
  {
   "cell_type": "code",
   "execution_count": 21,
   "id": "0c2c5192-9789-4175-b7d7-85135218a98a",
   "metadata": {},
   "outputs": [
    {
     "data": {
      "image/png": "[encoded data removed]",
      "text/latex": [
       "$\\displaystyle \\left[\\begin{matrix}\\frac{M h^{2} \\left(\\phi_{t}^{2} \\sin{\\left(2 \\theta \\right)} + 2 \\theta_{tt}\\right)}{12}\\\\\\frac{M a^{2} \\phi_{tt} \\sin{\\left(\\theta \\right)}}{6}\\\\\\frac{M \\left(a^{2} \\phi_{tt} \\cos{\\left(\\theta \\right)} - 2 h^{2} \\phi_{t} \\theta_{t} \\sin{\\left(\\theta \\right)} + h^{2} \\phi_{tt} \\cos{\\left(\\theta \\right)}\\right)}{6}\\end{matrix}\\right]$"
      ],
      "text/plain": [
       "⎡                2 ⎛  2                 ⎞             ⎤\n",
       "⎢             M⋅h ⋅⎝φₜ ⋅sin(2⋅θ) + 2⋅θₜₜ⎠             ⎥\n",
       "⎢             ───────────────────────────             ⎥\n",
       "⎢                          12                         ⎥\n",
       "⎢                                                     ⎥\n",
       "⎢                      2                              ⎥\n",
       "⎢                   M⋅a ⋅φₜₜ⋅sin(θ)                   ⎥\n",
       "⎢                   ───────────────                   ⎥\n",
       "⎢                          6                          ⎥\n",
       "⎢                                                     ⎥\n",
       "⎢  ⎛ 2                 2                 2           ⎞⎥\n",
       "⎢M⋅⎝a ⋅φₜₜ⋅cos(θ) - 2⋅h ⋅φₜ⋅θₜ⋅sin(θ) + h ⋅φₜₜ⋅cos(θ)⎠⎥\n",
       "⎢─────────────────────────────────────────────────────⎥\n",
       "⎣                          6                          ⎦"
      ]
     },
     "execution_count": 21,
     "metadata": {},
     "output_type": "execute_result"
    }
   ],
   "source": [
    "sy.simplify( dL + oL )"
   ]
  },
  {
   "cell_type": "markdown",
   "id": "411492a4-ad58-4bce-ada7-0dfb2785a833",
   "metadata": {},
   "source": [
    "On obtient enfin le résultat final dans le repère mobile:\n",
    "$$\\left. \\frac{\\D \\bm L}{\\D t} \\right|_{XYZ} = \\frac{Mh^2}{6}\\begin{pmatrix}\n",
    "\\ddot{\\theta} + \\frac{\\dot{\\phi}^2}{2} \\sin2\\theta \\\\\n",
    "\\frac{a^2}{h^2}\\ddot{\\phi} \\sin\\theta \\\\\n",
    "\\ddot{\\phi}(1-a^2/h^2) \\cos\\theta - 2\\dot{\\theta}\\dot{\\phi}\\sin\\theta \n",
    "\\end{pmatrix}$$"
   ]
  },
  {
   "cell_type": "markdown",
   "id": "f5d98f56-64f2-47b8-ba2d-f68dcd77c42a",
   "metadata": {},
   "source": [
    "## Repère $(x, n, Z)$\n",
    "Centre de masse:\n",
    "$$\\bm R = \\frac{h}{3} \\hat{\\bm y} =  \\frac{h}{3} R_x(\\theta) \\hat{\\bm n}$$\n",
    "et vitesse $\\bm V = \\dot{\\bm R}$\n",
    "\n",
    "Vitesse angulaire:\n",
    "$$\\bm \\Omega = \\dot{\\theta} \\hat{\\bm x}  + \\dot{\\phi} \\hat{\\bm Z}$$\n",
    "Moment cinétique:\n",
    "$$\\bm L= \\frac{Mh^2}{6}\\dot{\\theta} \\hat{\\bm x} - \n",
    "\\frac{Mh^2}{12}\\dot{\\phi} \\sin(2\\theta) \\hat{\\bm n} +\n",
    "\\frac{Ma^2}{6}\\dot{\\phi}\\left(1 + \\frac{h^2}{a^2} \\cos^2\\theta\\right) \\hat{\\bm Z}$$\n",
    "\n",
    "*Remarque*: le moment cinétique dans le repère $xnZ$ n'est pas $I\\bm \\Omega$, avec la vitesse angulaire dans $xnZ$: il faut aussi transformer le tenseur d'inertie! On calcule donc $\\bm L$ dans le repère mobile, et on transforme les coordonnées du vecteur dans le repère souhaité, ici $xnZ$:\n",
    "$$\\bm L_n = R_x(\\theta) \\bm L = R_x(\\theta) I R_x(\\theta)^T R_x(\\theta) \\bm \\Omega = I_n \\bm \\Omega_n$$\n",
    "où l'indice $n$ est pour les grandeurs correspondantes calculées dans le repère $xnZ$."
   ]
  },
  {
   "cell_type": "code",
   "execution_count": 23,
   "id": "819d9976-709d-4737-bd0b-0f2fdaf3bd63",
   "metadata": {},
   "outputs": [
    {
     "data": {
      "image/png": "[encoded data removed]",
      "text/latex": [
       "$\\displaystyle \\left( \\left[\\begin{matrix}0\\\\\\frac{h \\cos{\\left(\\theta \\right)}}{3}\\\\\\frac{h \\sin{\\left(\\theta \\right)}}{3}\\end{matrix}\\right], \\  \\left[\\begin{matrix}0\\\\- \\frac{h \\theta_{t} \\sin{\\left(\\theta \\right)}}{3}\\\\\\frac{h \\theta_{t} \\cos{\\left(\\theta \\right)}}{3}\\end{matrix}\\right]\\right)$"
      ],
      "text/plain": [
       "⎛⎡   0    ⎤  ⎡      0      ⎤⎞\n",
       "⎜⎢        ⎥  ⎢             ⎥⎟\n",
       "⎜⎢h⋅cos(θ)⎥  ⎢-h⋅θₜ⋅sin(θ) ⎥⎟\n",
       "⎜⎢────────⎥  ⎢─────────────⎥⎟\n",
       "⎜⎢   3    ⎥, ⎢      3      ⎥⎟\n",
       "⎜⎢        ⎥  ⎢             ⎥⎟\n",
       "⎜⎢h⋅sin(θ)⎥  ⎢ h⋅θₜ⋅cos(θ) ⎥⎟\n",
       "⎜⎢────────⎥  ⎢ ─────────── ⎥⎟\n",
       "⎝⎣   3    ⎦  ⎣      3      ⎦⎠"
      ]
     },
     "execution_count": 23,
     "metadata": {},
     "output_type": "execute_result"
    }
   ],
   "source": [
    "# vitesse du centre de masse\n",
    "Rn = sy.simplify( (h/3)*R_x(theta)*sy.Matrix([0,1,0]) )\n",
    "V = theta_t*sy.diff(Rn,theta) + phi_t*sy.diff(Rn,phi)\n",
    "Rn, V"
   ]
  },
  {
   "cell_type": "code",
   "execution_count": 84,
   "id": "ffd50a3f-b350-4bd4-9b57-3d4034f38d37",
   "metadata": {},
   "outputs": [
    {
     "data": {
      "image/png": "[encoded data removed]",
      "text/latex": [
       "$\\displaystyle \\left[\\begin{matrix}\\frac{M h^{2}}{6} & 0 & 0\\\\0 & \\frac{M \\left(a^{2} + h^{2} \\sin^{2}{\\left(\\theta \\right)}\\right)}{6} & - \\frac{M h^{2} \\sin{\\left(2 \\theta \\right)}}{12}\\\\0 & - \\frac{M h^{2} \\sin{\\left(2 \\theta \\right)}}{12} & \\frac{M \\left(a^{2} + h^{2} \\cos^{2}{\\left(\\theta \\right)}\\right)}{6}\\end{matrix}\\right]$"
      ],
      "text/plain": [
       "⎡   2                                          ⎤\n",
       "⎢M⋅h                                           ⎥\n",
       "⎢────           0                    0         ⎥\n",
       "⎢ 6                                            ⎥\n",
       "⎢                                              ⎥\n",
       "⎢        ⎛ 2    2    2   ⎞        2            ⎥\n",
       "⎢      M⋅⎝a  + h ⋅sin (θ)⎠    -M⋅h ⋅sin(2⋅θ)   ⎥\n",
       "⎢ 0    ───────────────────    ───────────────  ⎥\n",
       "⎢               6                    12        ⎥\n",
       "⎢                                              ⎥\n",
       "⎢            2                ⎛ 2    2    2   ⎞⎥\n",
       "⎢        -M⋅h ⋅sin(2⋅θ)     M⋅⎝a  + h ⋅cos (θ)⎠⎥\n",
       "⎢ 0      ───────────────    ───────────────────⎥\n",
       "⎣               12                   6         ⎦"
      ]
     },
     "execution_count": 84,
     "metadata": {},
     "output_type": "execute_result"
    }
   ],
   "source": [
    "# Moment d'inertie\n",
    "RR = R_x(theta)\n",
    "In = sy.simplify( RR*I*RR.T )\n",
    "In"
   ]
  },
  {
   "cell_type": "code",
   "execution_count": 85,
   "id": "dc4df31e-3e5a-4f5c-8e22-714dbc5a8790",
   "metadata": {},
   "outputs": [
    {
     "data": {
      "image/png": "[encoded data removed]",
      "text/latex": [
       "$\\displaystyle \\left[\\begin{matrix}\\theta_{t}\\\\0\\\\\\phi_{t}\\end{matrix}\\right]$"
      ],
      "text/plain": [
       "⎡θₜ⎤\n",
       "⎢  ⎥\n",
       "⎢0 ⎥\n",
       "⎢  ⎥\n",
       "⎣φₜ⎦"
      ]
     },
     "execution_count": 85,
     "metadata": {},
     "output_type": "execute_result"
    }
   ],
   "source": [
    "# vitesse angulaire (dans xnZ)\n",
    "wn = sy.simplify(R_x(theta)*w)\n",
    "wn"
   ]
  },
  {
   "cell_type": "code",
   "execution_count": 86,
   "id": "80b47d92-ef71-4e71-99e3-68023e1c28c7",
   "metadata": {},
   "outputs": [
    {
     "data": {
      "image/png": "[encoded data removed]",
      "text/latex": [
       "$\\displaystyle \\left[\\begin{matrix}\\frac{M h^{2} \\theta_{t}}{6}\\\\- \\frac{M h^{2} \\phi_{t} \\sin{\\left(2 \\theta \\right)}}{12}\\\\\\frac{M \\phi_{t} \\left(a^{2} + h^{2} \\cos^{2}{\\left(\\theta \\right)}\\right)}{6}\\end{matrix}\\right]$"
      ],
      "text/plain": [
       "⎡          2           ⎤\n",
       "⎢       M⋅h ⋅θₜ        ⎥\n",
       "⎢       ───────        ⎥\n",
       "⎢          6           ⎥\n",
       "⎢                      ⎥\n",
       "⎢      2               ⎥\n",
       "⎢  -M⋅h ⋅φₜ⋅sin(2⋅θ)   ⎥\n",
       "⎢  ──────────────────  ⎥\n",
       "⎢          12          ⎥\n",
       "⎢                      ⎥\n",
       "⎢     ⎛ 2    2    2   ⎞⎥\n",
       "⎢M⋅φₜ⋅⎝a  + h ⋅cos (θ)⎠⎥\n",
       "⎢──────────────────────⎥\n",
       "⎣          6           ⎦"
      ]
     },
     "execution_count": 86,
     "metadata": {},
     "output_type": "execute_result"
    }
   ],
   "source": [
    "# moment cinétique (dans xnZ)\n",
    "Ln = sy.simplify(In*wn)\n",
    "Ln"
   ]
  },
  {
   "cell_type": "markdown",
   "id": "a74de770-568e-4660-8e1d-8480b5c30a6b",
   "metadata": {},
   "source": [
    "ou, d'une façon équivalente"
   ]
  },
  {
   "cell_type": "code",
   "execution_count": 87,
   "id": "9b468c92-8dce-4462-ae35-c4451a788540",
   "metadata": {},
   "outputs": [
    {
     "data": {
      "image/png": "[encoded data removed]",
      "text/latex": [
       "$\\displaystyle \\left[\\begin{matrix}\\frac{M h^{2} \\theta_{t}}{6}\\\\- \\frac{M h^{2} \\phi_{t} \\sin{\\left(2 \\theta \\right)}}{12}\\\\\\frac{M \\phi_{t} \\left(a^{2} + h^{2} \\cos^{2}{\\left(\\theta \\right)}\\right)}{6}\\end{matrix}\\right]$"
      ],
      "text/plain": [
       "⎡          2           ⎤\n",
       "⎢       M⋅h ⋅θₜ        ⎥\n",
       "⎢       ───────        ⎥\n",
       "⎢          6           ⎥\n",
       "⎢                      ⎥\n",
       "⎢      2               ⎥\n",
       "⎢  -M⋅h ⋅φₜ⋅sin(2⋅θ)   ⎥\n",
       "⎢  ──────────────────  ⎥\n",
       "⎢          12          ⎥\n",
       "⎢                      ⎥\n",
       "⎢     ⎛ 2    2    2   ⎞⎥\n",
       "⎢M⋅φₜ⋅⎝a  + h ⋅cos (θ)⎠⎥\n",
       "⎢──────────────────────⎥\n",
       "⎣          6           ⎦"
      ]
     },
     "execution_count": 87,
     "metadata": {},
     "output_type": "execute_result"
    }
   ],
   "source": [
    "sy.simplify( R_x(theta)*L )"
   ]
  },
  {
   "cell_type": "code",
   "execution_count": null,
   "id": "aa7f01c2-e6bb-41d8-9321-4d7170c841f5",
   "metadata": {},
   "outputs": [],
   "source": []
  },
  {
   "cell_type": "markdown",
   "id": "1c9b5f75-ba63-47bc-8598-57c6bfd8e0e2",
   "metadata": {},
   "source": [
    "### Équation d'euler\n",
    "\n",
    "On calcule:\n",
    "$$\\left. \\frac{\\D \\bm L}{\\D t} \\right|_{XYZ}^{(n)} = \\left. \\frac{\\D \\bm L}{\\D t} \\right|_{xnZ} + \\left. \\bm \\omega \\times \\bm L\\right|_{xnZ}$$\n",
    "où on indique par $(n)$ qu'on exprime les grandeurs physiques dans le repère intermédiare $xnZ$, vu depuis le repère fixe."
   ]
  },
  {
   "cell_type": "markdown",
   "id": "6a28c5cc-e5b1-4cfa-be7e-8d0448a7268f",
   "metadata": {},
   "source": [
    "### Terme de variation temporelle\n",
    "On calcule d'abord la variation de $\\bm L$ due au changement temporelle du repère $xnZ$ par rapport au fixe:"
   ]
  },
  {
   "cell_type": "code",
   "execution_count": 109,
   "id": "67e5ab13-90ff-482c-8df6-365f45435c78",
   "metadata": {},
   "outputs": [
    {
     "data": {
      "image/png": "[encoded data removed]",
      "text/latex": [
       "$\\displaystyle \\left[\\begin{matrix}\\frac{M h^{2} \\theta_{tt}}{6}\\\\- \\frac{M h^{2} \\cdot \\left(2 \\phi_{t} \\theta_{t} \\cos{\\left(2 \\theta \\right)} + \\phi_{tt} \\sin{\\left(2 \\theta \\right)}\\right)}{12}\\\\\\frac{M \\left(- h^{2} \\phi_{t} \\theta_{t} \\sin{\\left(2 \\theta \\right)} + \\phi_{tt} \\left(a^{2} + h^{2} \\cos^{2}{\\left(\\theta \\right)}\\right)\\right)}{6}\\end{matrix}\\right]$"
      ],
      "text/plain": [
       "⎡                      2                        ⎤\n",
       "⎢                   M⋅h ⋅θₜₜ                    ⎥\n",
       "⎢                   ────────                    ⎥\n",
       "⎢                      6                        ⎥\n",
       "⎢                                               ⎥\n",
       "⎢       2                                       ⎥\n",
       "⎢   -M⋅h ⋅(2⋅φₜ⋅θₜ⋅cos(2⋅θ) + φₜₜ⋅sin(2⋅θ))     ⎥\n",
       "⎢   ────────────────────────────────────────    ⎥\n",
       "⎢                      12                       ⎥\n",
       "⎢                                               ⎥\n",
       "⎢  ⎛   2                      ⎛ 2    2    2   ⎞⎞⎥\n",
       "⎢M⋅⎝- h ⋅φₜ⋅θₜ⋅sin(2⋅θ) + φₜₜ⋅⎝a  + h ⋅cos (θ)⎠⎠⎥\n",
       "⎢───────────────────────────────────────────────⎥\n",
       "⎣                       6                       ⎦"
      ]
     },
     "execution_count": 109,
     "metadata": {},
     "output_type": "execute_result"
    }
   ],
   "source": [
    "# dérivée du moment cinétique\n",
    "dLn = sy.simplify(theta_t*sy.diff(Ln,theta) + theta_tt*sy.diff(Ln,theta_t) + \\\n",
    "                 phi_t*sy.diff(Ln,phi) + phi_tt*sy.diff(Ln,phi_t))\n",
    "dLn"
   ]
  },
  {
   "cell_type": "markdown",
   "id": "99f280a6-ed15-4d03-ba9f-acd56a330bfe",
   "metadata": {},
   "source": [
    "### Terme de variation angulaire\n",
    "\n",
    "On calcule ensuite la variation associée au changement d'orientation (rotation) entre les repères. On a $\\bm L_n$ dans le repère $xnZ$, la rotation instantanée de ce repère par rapport au repère fixe $XYZ$ est:\n",
    "$$\\bm \\omega = \\dot{\\phi} \\hat{\\bm Z}$$"
   ]
  },
  {
   "cell_type": "code",
   "execution_count": 107,
   "id": "775a190a-229d-4d04-b69f-e92a1f6a8c31",
   "metadata": {},
   "outputs": [
    {
     "data": {
      "image/png": "[encoded data removed]",
      "text/latex": [
       "$\\displaystyle \\left( \\left[\\begin{matrix}0\\\\0\\\\\\phi_{t}\\end{matrix}\\right], \\  \\left[\\begin{matrix}\\frac{M h^{2} \\phi_{t}^{2} \\sin{\\left(2 \\theta \\right)}}{12}\\\\\\frac{M h^{2} \\phi_{t} \\theta_{t}}{6}\\\\0\\end{matrix}\\right]\\right)$"
      ],
      "text/plain": [
       "⎛      ⎡   2   2         ⎤⎞\n",
       "⎜      ⎢M⋅h ⋅φₜ ⋅sin(2⋅θ)⎥⎟\n",
       "⎜      ⎢─────────────────⎥⎟\n",
       "⎜⎡0 ⎤  ⎢        12       ⎥⎟\n",
       "⎜⎢  ⎥  ⎢                 ⎥⎟\n",
       "⎜⎢0 ⎥, ⎢      2          ⎥⎟\n",
       "⎜⎢  ⎥  ⎢   M⋅h ⋅φₜ⋅θₜ    ⎥⎟\n",
       "⎜⎣φₜ⎦  ⎢   ──────────    ⎥⎟\n",
       "⎜      ⎢       6         ⎥⎟\n",
       "⎜      ⎢                 ⎥⎟\n",
       "⎝      ⎣        0        ⎦⎠"
      ]
     },
     "execution_count": 107,
     "metadata": {},
     "output_type": "execute_result"
    }
   ],
   "source": [
    "w0 = wn[2]*ez\n",
    "oLn = sy.simplify(w0.cross(Ln))\n",
    "w0, oLn"
   ]
  },
  {
   "cell_type": "code",
   "execution_count": 91,
   "id": "78e626ac-c3c0-498f-833c-def3d46d2485",
   "metadata": {},
   "outputs": [
    {
     "data": {
      "image/png": "[encoded data removed]",
      "text/latex": [
       "$\\displaystyle \\left[\\begin{matrix}\\frac{M h^{2} \\left(\\phi_{t}^{2} \\sin{\\left(2 \\theta \\right)} + 2 \\theta_{tt}\\right)}{12}\\\\\\frac{M h^{2} \\left(- 2 \\phi_{t} \\theta_{t} \\cos{\\left(2 \\theta \\right)} + 2 \\phi_{t} \\theta_{t} - \\phi_{tt} \\sin{\\left(2 \\theta \\right)}\\right)}{12}\\\\- \\frac{M \\left(h^{2} \\phi_{t} \\theta_{t} \\sin{\\left(2 \\theta \\right)} - \\phi_{tt} \\left(a^{2} + h^{2} \\cos^{2}{\\left(\\theta \\right)}\\right)\\right)}{6}\\end{matrix}\\right]$"
      ],
      "text/plain": [
       "⎡              2 ⎛  2                 ⎞           ⎤\n",
       "⎢           M⋅h ⋅⎝φₜ ⋅sin(2⋅θ) + 2⋅θₜₜ⎠           ⎥\n",
       "⎢           ───────────────────────────           ⎥\n",
       "⎢                        12                       ⎥\n",
       "⎢                                                 ⎥\n",
       "⎢   2                                             ⎥\n",
       "⎢M⋅h ⋅(-2⋅φₜ⋅θₜ⋅cos(2⋅θ) + 2⋅φₜ⋅θₜ - φₜₜ⋅sin(2⋅θ))⎥\n",
       "⎢─────────────────────────────────────────────────⎥\n",
       "⎢                        12                       ⎥\n",
       "⎢                                                 ⎥\n",
       "⎢    ⎛ 2                      ⎛ 2    2    2   ⎞⎞  ⎥\n",
       "⎢ -M⋅⎝h ⋅φₜ⋅θₜ⋅sin(2⋅θ) - φₜₜ⋅⎝a  + h ⋅cos (θ)⎠⎠  ⎥\n",
       "⎢ ─────────────────────────────────────────────── ⎥\n",
       "⎣                        6                        ⎦"
      ]
     },
     "execution_count": 91,
     "metadata": {},
     "output_type": "execute_result"
    }
   ],
   "source": [
    "sy.simplify(dLn + oLn)"
   ]
  },
  {
   "cell_type": "markdown",
   "id": "0b320c82-66af-49fe-8c21-5af3796802bd",
   "metadata": {
    "tags": []
   },
   "source": [
    "On obtient enfin le résultat final dans le repère intermédiaire:\n",
    "$$\\left. \\frac{\\D \\bm L}{\\D t} \\right|_{XYZ} = \\frac{Mh^2}{6}\\begin{pmatrix}\n",
    "\\ddot{\\theta} + \\frac{\\dot{\\phi}^2}{2} \\sin2\\theta \\\\\n",
    "-\\frac{\\ddot{\\phi}}{2} \\sin2\\theta + \\dot{\\theta}\\dot{\\phi}(1 - \\cos2\\theta) \\\\\n",
    "\\ddot{\\phi}(a^2/h^2 + \\cos^2\\theta) - \\dot{\\theta}\\dot{\\phi}\\sin2\\theta \n",
    "\\end{pmatrix}$$"
   ]
  },
  {
   "cell_type": "markdown",
   "id": "bf29f7d5-d21a-488c-a8b8-6121f649971f",
   "metadata": {},
   "source": [
    "## Comparaison des résultats\n",
    "\n",
    "Pour passer du repère mobile au repère intermédiare il suffit de faire une rotation de $-\\theta$ autour de l'axe mobile $x$:\n",
    "$$R_x(-\\theta) = C_x(\\theta)$$\n",
    "En effet, on obtient l'identité\n",
    "$$\\left. \\frac{\\D \\bm L}{\\D t} \\right|_{XYZ} = R_X(-\\theta) \\left. \\frac{\\D \\bm L}{\\D t} \\right|_{XYZ}^{(n)}$$"
   ]
  },
  {
   "cell_type": "code",
   "execution_count": 110,
   "id": "e3a65734-e5b2-4324-8018-a2bdb6ec03ff",
   "metadata": {},
   "outputs": [
    {
     "data": {
      "image/png": "[encoded data removed]",
      "text/latex": [
       "$\\displaystyle \\left[\\begin{matrix}\\frac{M h^{2} \\left(\\phi_{t}^{2} \\sin{\\left(2 \\theta \\right)} + 2 \\theta_{tt}\\right)}{12}\\\\\\frac{M a^{2} \\phi_{tt} \\sin{\\left(\\theta \\right)}}{6}\\\\\\frac{M \\left(a^{2} \\phi_{tt} \\cos{\\left(\\theta \\right)} - 2 h^{2} \\phi_{t} \\theta_{t} \\sin{\\left(\\theta \\right)} + h^{2} \\phi_{tt} \\cos{\\left(\\theta \\right)}\\right)}{6}\\end{matrix}\\right]$"
      ],
      "text/plain": [
       "⎡                2 ⎛  2                 ⎞             ⎤\n",
       "⎢             M⋅h ⋅⎝φₜ ⋅sin(2⋅θ) + 2⋅θₜₜ⎠             ⎥\n",
       "⎢             ───────────────────────────             ⎥\n",
       "⎢                          12                         ⎥\n",
       "⎢                                                     ⎥\n",
       "⎢                      2                              ⎥\n",
       "⎢                   M⋅a ⋅φₜₜ⋅sin(θ)                   ⎥\n",
       "⎢                   ───────────────                   ⎥\n",
       "⎢                          6                          ⎥\n",
       "⎢                                                     ⎥\n",
       "⎢  ⎛ 2                 2                 2           ⎞⎥\n",
       "⎢M⋅⎝a ⋅φₜₜ⋅cos(θ) - 2⋅h ⋅φₜ⋅θₜ⋅sin(θ) + h ⋅φₜₜ⋅cos(θ)⎠⎥\n",
       "⎢─────────────────────────────────────────────────────⎥\n",
       "⎣                          6                          ⎦"
      ]
     },
     "execution_count": 110,
     "metadata": {},
     "output_type": "execute_result"
    }
   ],
   "source": [
    "sy.simplify( R_x(-theta)*(dLn + oLn) )"
   ]
  },
  {
   "cell_type": "code",
   "execution_count": 111,
   "id": "9d9ff710-7982-4705-a5f9-592775e363dd",
   "metadata": {},
   "outputs": [
    {
     "data": {
      "image/png": "[encoded data removed]",
      "text/latex": [
       "$\\displaystyle \\left[\\begin{matrix}\\frac{M h^{2} \\left(\\phi_{t}^{2} \\sin{\\left(2 \\theta \\right)} + 2 \\theta_{tt}\\right)}{12}\\\\\\frac{M a^{2} \\phi_{tt} \\sin{\\left(\\theta \\right)}}{6}\\\\\\frac{M \\left(a^{2} \\phi_{tt} \\cos{\\left(\\theta \\right)} - 2 h^{2} \\phi_{t} \\theta_{t} \\sin{\\left(\\theta \\right)} + h^{2} \\phi_{tt} \\cos{\\left(\\theta \\right)}\\right)}{6}\\end{matrix}\\right]$"
      ],
      "text/plain": [
       "⎡                2 ⎛  2                 ⎞             ⎤\n",
       "⎢             M⋅h ⋅⎝φₜ ⋅sin(2⋅θ) + 2⋅θₜₜ⎠             ⎥\n",
       "⎢             ───────────────────────────             ⎥\n",
       "⎢                          12                         ⎥\n",
       "⎢                                                     ⎥\n",
       "⎢                      2                              ⎥\n",
       "⎢                   M⋅a ⋅φₜₜ⋅sin(θ)                   ⎥\n",
       "⎢                   ───────────────                   ⎥\n",
       "⎢                          6                          ⎥\n",
       "⎢                                                     ⎥\n",
       "⎢  ⎛ 2                 2                 2           ⎞⎥\n",
       "⎢M⋅⎝a ⋅φₜₜ⋅cos(θ) - 2⋅h ⋅φₜ⋅θₜ⋅sin(θ) + h ⋅φₜₜ⋅cos(θ)⎠⎥\n",
       "⎢─────────────────────────────────────────────────────⎥\n",
       "⎣                          6                          ⎦"
      ]
     },
     "execution_count": 111,
     "metadata": {},
     "output_type": "execute_result"
    }
   ],
   "source": [
    "sy.simplify( dL + oL )"
   ]
  },
  {
   "cell_type": "markdown",
   "id": "5e51a318-2cc1-4eb3-8d67-a7e4f3fa77df",
   "metadata": {},
   "source": [
    "Le choix du reprère dépend donc des conditions du problème, en particulier, en dynamique, de la géométrie de forces appliquées: on choisira le repère dans lequel les équations de Newton et d'Euler se simplifient davantage."
   ]
  },
  {
   "cell_type": "markdown",
   "id": "294c7939-5c42-4b24-ac50-e1dd35ff2f84",
   "metadata": {},
   "source": [
    "# Brouillon"
   ]
  },
  {
   "cell_type": "code",
   "execution_count": null,
   "id": "9b7e1875-b898-4b1a-8d23-d0a809d62e68",
   "metadata": {},
   "outputs": [],
   "source": []
  },
  {
   "cell_type": "markdown",
   "id": "f5060c14-714b-4ac9-b614-0a3fed10500d",
   "metadata": {},
   "source": [
    "# Code dessin\n",
    "\n",
    "On utilise le langage graphique `asymptote`.\n",
    "Vous pouvez copier le code suivant dans un fichier `triangle.asy` et le compiler avec\n",
    "\n",
    "```cpp\n",
    "asy -f pdf triangle.asy\n",
    "```\n",
    "\n",
    "pour créer la figure en `pdf`; changez pour `png` si vous voulez une image."
   ]
  },
  {
   "cell_type": "markdown",
   "id": "29475967-9bf4-4974-b822-5b2eeacb08f8",
   "metadata": {},
   "source": [
    "```cpp\n",
    "import settings;\n",
    "render = 4;\n",
    "prc = false;\n",
    "\n",
    "import three;\n",
    "import solids;\n",
    "texpreamble(\"\\usepackage{bm}\");\n",
    "\n",
    "size(250, 0);\n",
    "\n",
    "currentprojection  =  orthographic(8, 3, 4);\n",
    "\n",
    "real s = 1.2;\n",
    "pen pk = rgb(0, 0, 0);\n",
    "pen pr = rgb(0.5, 0.3, 0.3);\n",
    "pen pg = rgb(0.3, 0.3, 0.3);\n",
    "\n",
    "// fixed axes\n",
    "triple O = (0,0,0);\n",
    "real u = 2;\n",
    "triple X = (u,0,0);\n",
    "triple Y = (0,u,0);\n",
    "triple Z = (0,0,u);\n",
    "draw(Label(\"$X$\", 1), O--X, pk, Arrow3);\n",
    "draw(Label(\"$Y$\", 1), O--Y, pk, Arrow3);\n",
    "draw(Label(\"$Z$\", 1), O--Z, pk, Arrow3);\n",
    "label(\"$O$\", O, (0.5,-1.7,-1.0));\n",
    "\n",
    "draw(O--(-X), dashed+pg);\n",
    "draw(O--(-0.7*Y), dashed+pg);\n",
    "draw(O--(-0.3*Z), dashed+pg);\n",
    "\n",
    "// triangle\n",
    "real a = 1.2;\n",
    "real h = 1.7;\n",
    "real theta = 40;\n",
    "real t = theta*pi/180;\n",
    "real phi = 60;\n",
    "real q = phi*pi/180;\n",
    "triple x = (cos(q),sin(q),0);\n",
    "triple n = (-sin(q),cos(q),0);\n",
    "triple y = (-sin(q),cos(t)*cos(q),sin(t)*cos(q));\n",
    "triple z = (0,-sin(t),cos(t));\n",
    "draw(Label(\"$x$\", 1), O--h*x, pk, Arrow3);\n",
    "draw(O--(-h*x), dashed+pk);\n",
    "draw(Label(\"$y$\", 1), O--s*h*y, pk, Arrow3);\n",
    "draw(Label(\"$n$\", 1), O--s*h*n, gray(0.6), Arrow3);\n",
    "draw(Label(\"$z$\", 1), O--s*z, pk, Arrow3);\n",
    "\n",
    "draw((-1.6*a*sin(q),0,0)--(-1.6*a*sin(q),1.6*a*cos(q),0)--(0,1.6*a*cos(q),0), dashed+gray(0.75));\n",
    "\n",
    "path3 triangle = a*x--h*y--(-a*x)--cycle;\n",
    "draw(surface(triangle), pr+opacity(0.3));\n",
    "draw(triangle, pr);\n",
    "\n",
    "label(\"$-a$\", -a*x+(0,0,-0.1));\n",
    "label(\"$a$\", a*x+(0,0,-0.1));\n",
    "label(\"$h$\", h*y+(0,-0.1,0));\n",
    "\n",
    "// angles\n",
    "draw(\"$\\phi$\", arc(O, 0.6*a, 90, 0, 90, phi),  pr, Arrow3);\n",
    "draw(Label(\"$\\theta$\"), arc(O, (0,0,0.6*a), 0.6*a*z),  pr, Arrow3);\n",
    "draw(Label(\"$\\theta$\"), arc(O, 0.6*a*n, 0.6*a*y),  pr, Arrow3);\n",
    "```"
   ]
  },
  {
   "cell_type": "code",
   "execution_count": null,
   "id": "f6c3c010-c8a3-4a78-9a98-8446dd62ddcb",
   "metadata": {},
   "outputs": [],
   "source": []
  },
  {
   "cell_type": "code",
   "execution_count": null,
   "id": "3f51ba26-73bc-496e-81ae-8c713cefe1c0",
   "metadata": {},
   "outputs": [],
   "source": []
  }
 ],
 "metadata": {
  "kernelspec": {
   "display_name": "Python 3 (ipykernel)",
   "language": "python",
   "name": "python3"
  },
  "language_info": {
   "codemirror_mode": {
    "name": "ipython",
    "version": 3
   },
   "file_extension": ".py",
   "mimetype": "text/x-python",
   "name": "python",
   "nbconvert_exporter": "python",
   "pygments_lexer": "ipython3",
   "version": "3.10.10"
  }
 },
 "nbformat": 4,
 "nbformat_minor": 5
}
