{
 "cells": [
  {
   "cell_type": "markdown",
   "id": "a604994d-276e-44a6-a985-fc55d497a548",
   "metadata": {},
   "source": [
    "Markdown macros\n",
    "\n",
    "$\\newcommand{\\I}{\\mathrm{i}} \n",
    "\\newcommand{\\E}{\\mathrm{e}} \n",
    "\\newcommand{\\D}{\\mathop{}\\!\\mathrm{d}}\n",
    "\\newcommand{\\bra}[1]{\\langle{#1}|}\n",
    "\\newcommand{\\ket}[1]{|{#1}\\rangle}\n",
    "\\newcommand{\\braket}[1]{\\langle{#1}\\rangle}\n",
    "\\newcommand{\\bm}[1]{\\boldsymbol{#1}}$"
   ]
  },
  {
   "cell_type": "markdown",
   "id": "e0bf8906-9792-4504-8a34-f9570aa94c2e",
   "metadata": {},
   "source": [
    "# Imports"
   ]
  },
  {
   "cell_type": "code",
   "execution_count": 1,
   "id": "a75ef05f-4641-4162-88b8-a7ee449637ff",
   "metadata": {},
   "outputs": [],
   "source": [
    "# numpy\n",
    "import numpy as np"
   ]
  },
  {
   "cell_type": "code",
   "execution_count": 2,
   "id": "db99dca6-2063-4cc7-9a83-be19ad2cbaf6",
   "metadata": {},
   "outputs": [],
   "source": [
    "# matplotlib\n",
    "import matplotlib\n",
    "import matplotlib.pylab as plt\n",
    "from IPython.display import Image"
   ]
  },
  {
   "cell_type": "code",
   "execution_count": 3,
   "id": "955b979d-5993-413f-bd70-ccc24524f9af",
   "metadata": {
    "tags": []
   },
   "outputs": [],
   "source": [
    "%matplotlib inline"
   ]
  },
  {
   "cell_type": "code",
   "execution_count": 4,
   "id": "1e9affcd-c708-4edf-9397-2edc5a2fda78",
   "metadata": {
    "tags": []
   },
   "outputs": [],
   "source": [
    "# sympy\n",
    "import sympy as sy\n",
    "from sympy import symbols\n",
    "from sympy import simplify, expand, collect, cancel, apart, trigsimp\n",
    "from sympy import integrate, diff, series\n",
    "sy.init_printing(use_unicode = True)"
   ]
  },
  {
   "cell_type": "markdown",
   "id": "b72a8ea2-b200-4d7e-9ae7-3844de8b9a81",
   "metadata": {},
   "source": [
    "# Angles d'Euler"
   ]
  },
  {
   "cell_type": "markdown",
   "id": "336aefd4-5800-4d91-8061-7bfa77515fd3",
   "metadata": {},
   "source": [
    "Les angles d'Euler sont définis pas la matrice de rotation entre le repère fixe $(\\bm e_X, \\bm e_Y, \\bm e_Z)$ et le repère du corps (mobile)  $(\\bm e_x, \\bm e_y, \\bm e_z)$:\n",
    "$$ \\begin{pmatrix} \\bm e_x & \\bm e_y & \\bm e_z \\end{pmatrix} = \\begin{pmatrix} \\bm e_X & \\bm e_Y & \\bm e_Z \\end{pmatrix} R(\\phi,\\theta,\\psi) ,$$\n",
    "avec,\n",
    "$$R(\\phi,\\theta,\\psi) = R_Z(\\phi) R_X(\\theta) R_Z(\\psi),$$\n",
    "soit\n",
    "$$R(\\phi, \\theta, \\psi) = \\begin{pmatrix}\n",
    "- \\cos\\theta  \\sin\\psi \\sin\\phi + \\cos\\psi \\cos\\phi & -\\cos\\theta \\sin\\psi \\cos\\phi - \\cos\\psi \\sin\\phi & \\sin\\theta \\sin\\psi \\\\ \\cos\\theta \\cos\\psi \\sin\\phi + \\sin\\psi \\cos\\phi & \\cos\\theta \\cos\\psi \\cos\\phi - \\sin\\psi \\sin\\phi & - \\sin\\theta \\cos\\psi \\\\ \\sin\\theta \\sin\\phi & \\sin\\theta \\cos\\phi & \\cos\\theta \\end{pmatrix}$$\n",
    "\n",
    "Si les coordonnées d'un vecteur dans le repère mobile sont $(x,y,z)$, dans le repère fixe elles sont données par:\n",
    "$$\\begin{pmatrix} x \\\\ y \\\\ z \\end{pmatrix} = C(\\phi,\\theta, \\psi) \\begin{pmatrix} X \\\\ Y \\\\ Z \\end{pmatrix},$$\n",
    "où $C= R^T$ est la matrice de changement de coordonnées (transposée de la rotation d'Euler)."
   ]
  },
  {
   "cell_type": "code",
   "execution_count": 5,
   "id": "046a996c-7590-4e31-8e9a-9f86b5ede6db",
   "metadata": {},
   "outputs": [],
   "source": [
    "psi, theta, phi = symbols(\"psi, theta, phi\", real=True)\n",
    "\n",
    "def C_x(phi):\n",
    "    c = sy.cos(phi)\n",
    "    s = sy.sin(phi)\n",
    "    return sy.Matrix([[1,  0, 0],\n",
    "                  [0, c, s],\n",
    "                  [0, -s,  c]])\n",
    "def C_y(phi):\n",
    "    c = sy.cos(phi)\n",
    "    s = sy.sin(phi)\n",
    "    return sy.Matrix([[ c, 0, -s],\n",
    "                  [ 0, 1, 0],\n",
    "                  [ s, 0, c]])\n",
    "\n",
    "def C_z(phi):\n",
    "    c = sy.cos(phi)\n",
    "    s = sy.sin(phi)\n",
    "    return sy.Matrix([[c, s, 0],\n",
    "                  [-s,  c, 0],\n",
    "                  [0,  0, 1]])\n",
    "\n",
    "def XYZ():\n",
    "    return sy.Matrix([1,0,0]), sy.Matrix([0,1,0]), sy.Matrix([0,0,1])"
   ]
  },
  {
   "cell_type": "markdown",
   "id": "e1db7516-3788-4eac-9864-540d92be8fc6",
   "metadata": {},
   "source": [
    "# Rotation d'un triangle"
   ]
  },
  {
   "cell_type": "code",
   "execution_count": 6,
   "id": "d41e0526-1ffc-4d60-b9a5-44d1e1b73a00",
   "metadata": {},
   "outputs": [
    {
     "data": {
      "text/plain": [
       "[Text(0, 0.0, '$0$'), Text(0, 1.5, '$h$')]"
      ]
     },
     "execution_count": 6,
     "metadata": {},
     "output_type": "execute_result"
    },
    {
     "data": {
      "image/png": "[encoded data removed]",
      "text/plain": [
       "<Figure size 288x288 with 1 Axes>"
      ]
     },
     "metadata": {
      "needs_background": "light"
     },
     "output_type": "display_data"
    }
   ],
   "source": [
    "N = 65\n",
    "x = np.linspace(-1,1,N)\n",
    "y = -1.5*np.abs(x) + 1.5\n",
    "fig, ax = plt.subplots(figsize = (4,4))\n",
    "ax.plot(x, y, color = '0.35')\n",
    "ax.plot([-1,1], [0,0], color = '0.35')\n",
    "ax.plot([0,0], [0,1.5], \":\", color = '0.35')\n",
    "ax.plot([0,0], [0,0], \".\", color = '#800', ms = 18)\n",
    "ax.set_xticks([-1, 0, 1])\n",
    "ax.set_xticklabels([\"$-a$\", \"$0$\", \"$a$\"], fontsize = 18)\n",
    "ax.set_yticks([0, 1.5])\n",
    "ax.set_yticklabels([\"$0$\", \"$h$\"], fontsize = 18)"
   ]
  },
  {
   "cell_type": "markdown",
   "id": "a02980f2-71ab-4c43-b9c4-8534dfee0526",
   "metadata": {},
   "source": [
    "On a un triangle $y=-(b/a) |x| + h$, et on veut calculer son moment d'inertie (en prennant $(0,0)$ comme centre de coordonnées associées au corps)."
   ]
  },
  {
   "cell_type": "code",
   "execution_count": 8,
   "id": "0a681348-441c-40dd-a77f-ebfc29450442",
   "metadata": {},
   "outputs": [],
   "source": [
    "x, y = sy.symbols(\"x, y\", real=True)\n",
    "a, h = sy.symbols(\"a h\", real=True)\n",
    "rho, M = sy.symbols(\"rho M\", real=True)"
   ]
  },
  {
   "cell_type": "code",
   "execution_count": 9,
   "id": "d36bd50f-ddd6-4c42-bd7b-712e7515c5fc",
   "metadata": {},
   "outputs": [],
   "source": [
    "# intégrale double sur le triangle\n",
    "def I_triangle(f):\n",
    "    return sy.integrate(sy.integrate(f, (y, 0,  (h/a)*x + h)), (x, -a, 0)) +\\\n",
    "           sy.integrate(sy.integrate(f, (y, 0, -(h/a)*x + h)), (x, 0, a))"
   ]
  },
  {
   "cell_type": "code",
   "execution_count": 10,
   "id": "dbeb1b57-a095-4cea-a635-83b56807e027",
   "metadata": {},
   "outputs": [
    {
     "data": {
      "image/png": "[encoded data removed]",
      "text/latex": [
       "$\\displaystyle a h$"
      ],
      "text/plain": [
       "a⋅h"
      ]
     },
     "execution_count": 10,
     "metadata": {},
     "output_type": "execute_result"
    }
   ],
   "source": [
    "# aire du triangle A, on a M = rho A\n",
    "A = I_triangle(1)\n",
    "A"
   ]
  },
  {
   "cell_type": "code",
   "execution_count": 11,
   "id": "e1df39b7-0d73-4669-b94c-9043c9ab2c33",
   "metadata": {},
   "outputs": [
    {
     "data": {
      "image/png": "[encoded data removed]",
      "text/latex": [
       "$\\displaystyle \\left( 0, \\  \\frac{a h^{2}}{3}\\right)$"
      ],
      "text/plain": [
       "⎛      2⎞\n",
       "⎜   a⋅h ⎟\n",
       "⎜0, ────⎟\n",
       "⎝    3  ⎠"
      ]
     },
     "execution_count": 11,
     "metadata": {},
     "output_type": "execute_result"
    }
   ],
   "source": [
    "# centre de masse\n",
    "Rx = I_triangle(x)\n",
    "Ry = I_triangle(y)\n",
    "Rx, Ry"
   ]
  },
  {
   "cell_type": "code",
   "execution_count": 12,
   "id": "f0219e7f-3c1a-41e2-94b1-5579393364f2",
   "metadata": {},
   "outputs": [
    {
     "data": {
      "image/png": "[encoded data removed]",
      "text/latex": [
       "$\\displaystyle \\left[\\begin{matrix}\\frac{M h^{2}}{6} & 0 & 0\\\\0 & \\frac{M a^{2}}{6} & 0\\\\0 & 0 & \\frac{M \\left(a^{2} + h^{2}\\right)}{6}\\end{matrix}\\right]$"
      ],
      "text/plain": [
       "⎡   2                   ⎤\n",
       "⎢M⋅h                    ⎥\n",
       "⎢────   0         0     ⎥\n",
       "⎢ 6                     ⎥\n",
       "⎢                       ⎥\n",
       "⎢         2             ⎥\n",
       "⎢      M⋅a              ⎥\n",
       "⎢ 0    ────       0     ⎥\n",
       "⎢       6               ⎥\n",
       "⎢                       ⎥\n",
       "⎢              ⎛ 2    2⎞⎥\n",
       "⎢            M⋅⎝a  + h ⎠⎥\n",
       "⎢ 0     0    ───────────⎥\n",
       "⎣                 6     ⎦"
      ]
     },
     "execution_count": 12,
     "metadata": {},
     "output_type": "execute_result"
    }
   ],
   "source": [
    "# inertie\n",
    "# I_xx, I_yy, I_zz = I_xx + I_yy, I_xy = I_yx = 0\n",
    "I_xx = (M/A) * I_triangle(y**2)\n",
    "I_yy = (M/A) * I_triangle(x**2)\n",
    "I_xy = (M/A) * I_triangle(x*y)\n",
    "I_zz = sy.simplify(I_xx + I_yy)\n",
    "\n",
    "I = sy.Matrix([[I_xx, I_xy, 0], [I_xy, I_yy, 0], [0, 0, I_zz]])\n",
    "I"
   ]
  },
  {
   "cell_type": "markdown",
   "id": "62628399-3c3d-440a-a5a4-20e298c393f4",
   "metadata": {},
   "source": [
    "On calcule $\\bm R$ et $I$ par rapport au point $O=(0,0,0)$, située sur l'axe de symétrie du triangle isoscèle, et dans le repère $(x,y,z)$ fixé au corps (mobile).\n",
    "\n",
    "* Centre de masse: \n",
    "    $$\\bm R = \\frac{ah^2}{3} \\hat{\\bm y}$$\n",
    "* Moment d'inertie:\n",
    "    $$I = \\frac{M}{6}\\mathrm{diag}(h^2, a^2, a^2 + h^2)$$"
   ]
  },
  {
   "cell_type": "code",
   "execution_count": 18,
   "id": "b9590edb-4ae7-4eed-8d92-668a5c6f5979",
   "metadata": {},
   "outputs": [
    {
     "data": {
      "image/png": "[encoded data removed]",
      "text/plain": [
       "<IPython.core.display.Image object>"
      ]
     },
     "execution_count": 18,
     "metadata": {
      "image/png": {
       "width": 300
      }
     },
     "output_type": "execute_result"
    }
   ],
   "source": [
    "Image(filename='triangle.png', width=300)"
   ]
  },
  {
   "cell_type": "markdown",
   "id": "a8aa20fc-425c-4a02-93c5-096b5161c701",
   "metadata": {},
   "source": [
    "## Cinématique\n",
    "\n",
    "Le repère fixe est noté $(\\hat{\\bm X},\\hat{\\bm Y},\\hat{\\bm Z})$, le repère mobile est $(\\hat{\\bm x}, \\hat{\\bm y},\\hat{\\bm z})$.\n",
    "\n",
    "L'orientation du triangle par rapport au repère fixe s'obtient par \n",
    "* une rotation d'angle $\\psi$ autour de $Z$, ce qui produit la transformation de repère $(X,Y,Z) \\rightarrow (X'=N,Y'=n,Z)$,\n",
    "* suivie d'une rotation d'angle $\\theta$ autrour de $N$, ce qui resulte dans le repère mobile $(N,Y',Z) \\rightarrow (x,y,z)$.Notez que $N=x$.\n",
    "\n",
    "On a donc un cas particulier des angles d'euler avec $\\phi=0$. Les angles $\\theta = \\theta(t)$ et $\\psi=\\psi(t)$, sont fonction du temps et décrivent la rotation du triangle autour de $Z$ et de $x$.\n",
    "\n",
    "Le triangle est contraint de tourner dans le plan $XY$ autour de point $O= (0,0,0)$ (origine de des repères mobile et fixe). Il convient par conséquent d'utiliser le repère\n",
    "$$(\\hat{\\bm x}(t), \\hat{\\bm n}(t),\\hat{\\bm Z})$$\n",
    "pour décrire la cinématique du triangle."
   ]
  },
  {
   "cell_type": "code",
   "execution_count": 63,
   "id": "8087e2c1-4ed7-4240-b40d-7e279b630b1b",
   "metadata": {},
   "outputs": [
    {
     "data": {
      "image/png": "[encoded data removed]",
      "text/latex": [
       "$\\displaystyle \\left( \\left[\\begin{matrix}\\cos{\\left(\\psi \\right)}\\\\- \\sin{\\left(\\psi \\right)}\\\\0\\end{matrix}\\right], \\  \\left[\\begin{matrix}\\sin{\\left(\\psi \\right)}\\\\\\cos{\\left(\\psi \\right)}\\\\0\\end{matrix}\\right], \\  \\left[\\begin{matrix}\\sin{\\left(\\psi \\right)}\\\\\\cos{\\left(\\psi \\right)} \\cos{\\left(\\theta \\right)}\\\\- \\sin{\\left(\\theta \\right)} \\cos{\\left(\\psi \\right)}\\end{matrix}\\right], \\  \\left[\\begin{matrix}0\\\\\\sin{\\left(\\theta \\right)}\\\\\\cos{\\left(\\theta \\right)}\\end{matrix}\\right]\\right)$"
      ],
      "text/plain": [
       "⎛⎡cos(ψ) ⎤  ⎡sin(ψ)⎤  ⎡    sin(ψ)    ⎤  ⎡  0   ⎤⎞\n",
       "⎜⎢       ⎥  ⎢      ⎥  ⎢              ⎥  ⎢      ⎥⎟\n",
       "⎜⎢-sin(ψ)⎥, ⎢cos(ψ)⎥, ⎢cos(ψ)⋅cos(θ) ⎥, ⎢sin(θ)⎥⎟\n",
       "⎜⎢       ⎥  ⎢      ⎥  ⎢              ⎥  ⎢      ⎥⎟\n",
       "⎝⎣   0   ⎦  ⎣  0   ⎦  ⎣-sin(θ)⋅cos(ψ)⎦  ⎣cos(θ)⎦⎠"
      ]
     },
     "execution_count": 63,
     "metadata": {},
     "output_type": "execute_result"
    }
   ],
   "source": [
    "# repères (X,Y,Z) et (x,n,Z) en coordonnées (x,y,z)\n",
    "ex, ey, ez = XYZ()\n",
    "eX = C_z(psi)*ex\n",
    "en = C_z(psi)*ey\n",
    "eY = C_x(theta)*C_z(psi)*ey\n",
    "eZ = C_x(theta)*C_z(psi)*ez\n",
    "\n",
    "eX, en, eY, eZ"
   ]
  },
  {
   "cell_type": "code",
   "execution_count": 39,
   "id": "130001c8-fb1d-4405-a5c6-9cdce7315661",
   "metadata": {},
   "outputs": [],
   "source": [
    "# dérivés des angles\n",
    "psi_t, theta_t, phi_t = sy.symbols(\"psi_t, theta_t, phi_t\", real=True)"
   ]
  },
  {
   "cell_type": "code",
   "execution_count": 40,
   "id": "819d9976-709d-4737-bd0b-0f2fdaf3bd63",
   "metadata": {},
   "outputs": [
    {
     "data": {
      "image/png": "[encoded data removed]",
      "text/latex": [
       "$\\displaystyle \\left( \\left[\\begin{matrix}0\\\\\\frac{a h^{2}}{3}\\\\0\\end{matrix}\\right], \\  \\left[\\begin{matrix}0\\\\0\\\\0\\end{matrix}\\right]\\right)$"
      ],
      "text/plain": [
       "⎛⎡ 0  ⎤     ⎞\n",
       "⎜⎢    ⎥     ⎟\n",
       "⎜⎢   2⎥  ⎡0⎤⎟\n",
       "⎜⎢a⋅h ⎥  ⎢ ⎥⎟\n",
       "⎜⎢────⎥, ⎢0⎥⎟\n",
       "⎜⎢ 3  ⎥  ⎢ ⎥⎟\n",
       "⎜⎢    ⎥  ⎣0⎦⎟\n",
       "⎝⎣ 0  ⎦     ⎠"
      ]
     },
     "execution_count": 40,
     "metadata": {},
     "output_type": "execute_result"
    }
   ],
   "source": [
    "# vitesse du centre de masse\n",
    "R = (a*h**2/3)*ey\n",
    "V = sy.simplify(theta_t*diff(R,theta) + psi_t*diff(R,psi))\n",
    "R, V"
   ]
  },
  {
   "cell_type": "code",
   "execution_count": 43,
   "id": "e6024677-2203-481d-8631-90329d74edf8",
   "metadata": {},
   "outputs": [
    {
     "data": {
      "image/png": "[encoded data removed]",
      "text/latex": [
       "$\\displaystyle \\left[\\begin{matrix}\\theta_{t}\\\\\\psi_{t} \\sin{\\left(\\theta \\right)}\\\\\\psi_{t} \\cos{\\left(\\theta \\right)}\\end{matrix}\\right]$"
      ],
      "text/plain": [
       "⎡   θₜ    ⎤\n",
       "⎢         ⎥\n",
       "⎢ψₜ⋅sin(θ)⎥\n",
       "⎢         ⎥\n",
       "⎣ψₜ⋅cos(θ)⎦"
      ]
     },
     "execution_count": 43,
     "metadata": {},
     "output_type": "execute_result"
    }
   ],
   "source": [
    "# vitesse angulaire (dans xyz)\n",
    "w = psi_t*eZ + theta_t*ex\n",
    "w_x, w_y, w_z = w[0], w[1], w[2]\n",
    "w"
   ]
  },
  {
   "cell_type": "code",
   "execution_count": 73,
   "id": "dc4df31e-3e5a-4f5c-8e22-714dbc5a8790",
   "metadata": {},
   "outputs": [
    {
     "data": {
      "image/png": "[encoded data removed]",
      "text/latex": [
       "$\\displaystyle \\left[\\begin{matrix}\\theta_{t}\\\\0\\\\\\psi_{t}\\end{matrix}\\right]$"
      ],
      "text/plain": [
       "⎡θₜ⎤\n",
       "⎢  ⎥\n",
       "⎢0 ⎥\n",
       "⎢  ⎥\n",
       "⎣ψₜ⎦"
      ]
     },
     "execution_count": 73,
     "metadata": {},
     "output_type": "execute_result"
    }
   ],
   "source": [
    "# vitesse angulaire (dans xnZ)\n",
    "wn = sy.simplify(C_x(theta).T*w)\n",
    "wn"
   ]
  },
  {
   "cell_type": "code",
   "execution_count": 75,
   "id": "44189d0c-bc1e-48ed-860c-433b3ebcc8ae",
   "metadata": {},
   "outputs": [
    {
     "data": {
      "image/png": "[encoded data removed]",
      "text/latex": [
       "$\\displaystyle \\left[\\begin{matrix}\\frac{M h^{2} \\theta_{t}}{6}\\\\\\frac{M a^{2} \\psi_{t} \\sin{\\left(\\theta \\right)}}{6}\\\\\\frac{M \\psi_{t} \\left(a^{2} + h^{2}\\right) \\cos{\\left(\\theta \\right)}}{6}\\end{matrix}\\right]$"
      ],
      "text/plain": [
       "⎡          2          ⎤\n",
       "⎢       M⋅h ⋅θₜ       ⎥\n",
       "⎢       ───────       ⎥\n",
       "⎢          6          ⎥\n",
       "⎢                     ⎥\n",
       "⎢      2              ⎥\n",
       "⎢   M⋅a ⋅ψₜ⋅sin(θ)    ⎥\n",
       "⎢   ──────────────    ⎥\n",
       "⎢         6           ⎥\n",
       "⎢                     ⎥\n",
       "⎢     ⎛ 2    2⎞       ⎥\n",
       "⎢M⋅ψₜ⋅⎝a  + h ⎠⋅cos(θ)⎥\n",
       "⎢─────────────────────⎥\n",
       "⎣          6          ⎦"
      ]
     },
     "execution_count": 75,
     "metadata": {},
     "output_type": "execute_result"
    }
   ],
   "source": [
    "# moment cinétique (dans xyz)\n",
    "Lx = sy.simplify(I_xx * w_x*ex + I_yy * w_y*ey + I_zz * w_z*ez)\n",
    "Lx"
   ]
  },
  {
   "cell_type": "code",
   "execution_count": 76,
   "id": "80b47d92-ef71-4e71-99e3-68023e1c28c7",
   "metadata": {},
   "outputs": [
    {
     "data": {
      "image/png": "[encoded data removed]",
      "text/latex": [
       "$\\displaystyle \\left[\\begin{matrix}\\frac{M h^{2} \\theta_{t}}{6}\\\\- \\frac{M h^{2} \\psi_{t} \\sin{\\left(2 \\theta \\right)}}{12}\\\\\\frac{M \\psi_{t} \\left(a^{2} + h^{2} \\cos^{2}{\\left(\\theta \\right)}\\right)}{6}\\end{matrix}\\right]$"
      ],
      "text/plain": [
       "⎡          2           ⎤\n",
       "⎢       M⋅h ⋅θₜ        ⎥\n",
       "⎢       ───────        ⎥\n",
       "⎢          6           ⎥\n",
       "⎢                      ⎥\n",
       "⎢      2               ⎥\n",
       "⎢  -M⋅h ⋅ψₜ⋅sin(2⋅θ)   ⎥\n",
       "⎢  ──────────────────  ⎥\n",
       "⎢          12          ⎥\n",
       "⎢                      ⎥\n",
       "⎢     ⎛ 2    2    2   ⎞⎥\n",
       "⎢M⋅ψₜ⋅⎝a  + h ⋅cos (θ)⎠⎥\n",
       "⎢──────────────────────⎥\n",
       "⎣          6           ⎦"
      ]
     },
     "execution_count": 76,
     "metadata": {},
     "output_type": "execute_result"
    }
   ],
   "source": [
    "# moment cinétique (dans xnZ)\n",
    "L = sy.simplify(C_x(theta).T*Lx)\n",
    "L"
   ]
  },
  {
   "cell_type": "markdown",
   "id": "063fb37b-dff7-4f99-875b-170cb056fd19",
   "metadata": {},
   "source": [
    "### Repère $(x, n, Z)$\n",
    "Vitesse angulaire:\n",
    "$$\\bm \\Omega = \\dot{\\theta} \\hat{\\bm x}  + \\dot{\\psi} \\hat{\\bm z} $$\n",
    "Moment cinétique:\n",
    "$$\\bm L= \\frac{Mh^2}{6}\\dot{\\theta} \\hat{\\bm x} - \n",
    "\\frac{Mh^2}{12}\\dot{\\psi} \\sin(2\\theta) \\hat{\\bm n} +\n",
    "\\frac{Ma^2}{6}\\dot{\\psi}\\left(1 + \\frac{h^2}{a^2} \\cos^2\\theta\\right) \\hat{\\bm Z}$$\n",
    "\n",
    "*Remarque*: le moment cinétique dans le repère $xnZ$ n'est pas $I\\bm \\Omega$, avec la vitesse angulaire dans $xnZ$: il faut aussi transformer le tenseur d'inertie! On calcule donc $\\bm L$ dans le repère mobile, et on transforme les coordonnées du vecteur dans le repère souhaité, ici $xnZ$."
   ]
  },
  {
   "cell_type": "markdown",
   "id": "a63f39f5-aa2d-45fe-a240-5639caa74c02",
   "metadata": {},
   "source": [
    "La variation du moment cinétique, due à la rotation $\\Omega$ (du coprs, dans ses coordonnées xyz) est donnée par le produit vectoriel\n",
    "$$\\left.\\bm \\Omega \\times \\bm L\\right|_{xyz}$$"
   ]
  },
  {
   "cell_type": "markdown",
   "id": "1c9b5f75-ba63-47bc-8598-57c6bfd8e0e2",
   "metadata": {},
   "source": [
    "## Équation d'euler\n",
    "\n",
    "On calcule:\n",
    "$$\\left. \\frac{\\D \\bm L}{\\D t} \\right|_{XYZ} = \\left. \\frac{\\D \\bm L}{\\D t} \\right|_{xnZ} + \\left. \\bm \\omega \\times \\bm L\\right|_{xnZ}$$"
   ]
  },
  {
   "cell_type": "code",
   "execution_count": 77,
   "id": "00abe391-d974-43ae-a86e-1f70b120453b",
   "metadata": {},
   "outputs": [],
   "source": [
    "# dérivées deuxièmmes\n",
    "psi_tt, theta_tt, phi_tt = sy.symbols(\"psi_tt, theta_tt, phi_tt\", real=True)"
   ]
  },
  {
   "cell_type": "markdown",
   "id": "6a28c5cc-e5b1-4cfa-be7e-8d0448a7268f",
   "metadata": {},
   "source": [
    "### Terme de variation temporelle\n",
    "On calcule d'abord la variation de $\\bm L$ due au changement temporelle du repère $xnZ$ par rapport au fixe:"
   ]
  },
  {
   "cell_type": "code",
   "execution_count": 78,
   "id": "67e5ab13-90ff-482c-8df6-365f45435c78",
   "metadata": {},
   "outputs": [
    {
     "data": {
      "image/png": "[encoded data removed]",
      "text/latex": [
       "$\\displaystyle \\left[\\begin{matrix}\\frac{M h^{2} \\theta_{tt}}{6}\\\\- \\frac{M h^{2} \\left(2 \\psi_{t} \\theta_{t} \\cos{\\left(2 \\theta \\right)} + \\psi_{tt} \\sin{\\left(2 \\theta \\right)}\\right)}{12}\\\\\\frac{M \\left(- h^{2} \\psi_{t} \\theta_{t} \\sin{\\left(2 \\theta \\right)} + \\psi_{tt} \\left(a^{2} + h^{2} \\cos^{2}{\\left(\\theta \\right)}\\right)\\right)}{6}\\end{matrix}\\right]$"
      ],
      "text/plain": [
       "⎡                      2                        ⎤\n",
       "⎢                   M⋅h ⋅θₜₜ                    ⎥\n",
       "⎢                   ────────                    ⎥\n",
       "⎢                      6                        ⎥\n",
       "⎢                                               ⎥\n",
       "⎢       2                                       ⎥\n",
       "⎢   -M⋅h ⋅(2⋅ψₜ⋅θₜ⋅cos(2⋅θ) + ψₜₜ⋅sin(2⋅θ))     ⎥\n",
       "⎢   ────────────────────────────────────────    ⎥\n",
       "⎢                      12                       ⎥\n",
       "⎢                                               ⎥\n",
       "⎢  ⎛   2                      ⎛ 2    2    2   ⎞⎞⎥\n",
       "⎢M⋅⎝- h ⋅ψₜ⋅θₜ⋅sin(2⋅θ) + ψₜₜ⋅⎝a  + h ⋅cos (θ)⎠⎠⎥\n",
       "⎢───────────────────────────────────────────────⎥\n",
       "⎣                       6                       ⎦"
      ]
     },
     "execution_count": 78,
     "metadata": {},
     "output_type": "execute_result"
    }
   ],
   "source": [
    "# dérivée du moment cinétique\n",
    "dL = sy.simplify(theta_t*diff(L,theta) + theta_tt*diff(L,theta_t) + \\\n",
    "                 psi_t*diff(L,psi) + psi_tt*diff(L,psi_t))\n",
    "dL"
   ]
  },
  {
   "cell_type": "markdown",
   "id": "99f280a6-ed15-4d03-ba9f-acd56a330bfe",
   "metadata": {},
   "source": [
    "### Terme de variation angulaire\n",
    "On calcule ensuite la variation associée au changement d'orientation (rotation) entre les repères. On a $\\bm L$ dans le repère $xnZ$, la rotation instantanée de ce repère par rapport au repère fixe $XYZ$ est:\n",
    "$$\\bm \\omega = \\dot{\\psi} \\hat{\\bm Z}$$\n",
    "Le produit vectoriel $\\bm \\omega \\times \\bm L$ est:"
   ]
  },
  {
   "cell_type": "code",
   "execution_count": 79,
   "id": "775a190a-229d-4d04-b69f-e92a1f6a8c31",
   "metadata": {},
   "outputs": [
    {
     "data": {
      "image/png": "[encoded data removed]",
      "text/latex": [
       "$\\displaystyle \\left[\\begin{matrix}\\frac{M h^{2} \\psi_{t}^{2} \\sin{\\left(2 \\theta \\right)}}{12}\\\\\\frac{M h^{2} \\psi_{t} \\theta_{t}}{6}\\\\0\\end{matrix}\\right]$"
      ],
      "text/plain": [
       "⎡   2   2         ⎤\n",
       "⎢M⋅h ⋅ψₜ ⋅sin(2⋅θ)⎥\n",
       "⎢─────────────────⎥\n",
       "⎢        12       ⎥\n",
       "⎢                 ⎥\n",
       "⎢      2          ⎥\n",
       "⎢   M⋅h ⋅ψₜ⋅θₜ    ⎥\n",
       "⎢   ──────────    ⎥\n",
       "⎢       6         ⎥\n",
       "⎢                 ⎥\n",
       "⎣        0        ⎦"
      ]
     },
     "execution_count": 79,
     "metadata": {},
     "output_type": "execute_result"
    }
   ],
   "source": [
    "w0 = wn[2]*ez\n",
    "dLw = sy.simplify(w0.cross(L))\n",
    "dLw"
   ]
  },
  {
   "cell_type": "code",
   "execution_count": 80,
   "id": "78e626ac-c3c0-498f-833c-def3d46d2485",
   "metadata": {},
   "outputs": [
    {
     "data": {
      "image/png": "[encoded data removed]",
      "text/latex": [
       "$\\displaystyle \\left[\\begin{matrix}\\frac{M h^{2} \\left(\\psi_{t}^{2} \\sin{\\left(2 \\theta \\right)} + 2 \\theta_{tt}\\right)}{12}\\\\\\frac{M h^{2} \\left(- 2 \\psi_{t} \\theta_{t} \\cos{\\left(2 \\theta \\right)} + 2 \\psi_{t} \\theta_{t} - \\psi_{tt} \\sin{\\left(2 \\theta \\right)}\\right)}{12}\\\\- \\frac{M \\left(h^{2} \\psi_{t} \\theta_{t} \\sin{\\left(2 \\theta \\right)} - \\psi_{tt} \\left(a^{2} + h^{2} \\cos^{2}{\\left(\\theta \\right)}\\right)\\right)}{6}\\end{matrix}\\right]$"
      ],
      "text/plain": [
       "⎡              2 ⎛  2                 ⎞           ⎤\n",
       "⎢           M⋅h ⋅⎝ψₜ ⋅sin(2⋅θ) + 2⋅θₜₜ⎠           ⎥\n",
       "⎢           ───────────────────────────           ⎥\n",
       "⎢                        12                       ⎥\n",
       "⎢                                                 ⎥\n",
       "⎢   2                                             ⎥\n",
       "⎢M⋅h ⋅(-2⋅ψₜ⋅θₜ⋅cos(2⋅θ) + 2⋅ψₜ⋅θₜ - ψₜₜ⋅sin(2⋅θ))⎥\n",
       "⎢─────────────────────────────────────────────────⎥\n",
       "⎢                        12                       ⎥\n",
       "⎢                                                 ⎥\n",
       "⎢    ⎛ 2                      ⎛ 2    2    2   ⎞⎞  ⎥\n",
       "⎢ -M⋅⎝h ⋅ψₜ⋅θₜ⋅sin(2⋅θ) - ψₜₜ⋅⎝a  + h ⋅cos (θ)⎠⎠  ⎥\n",
       "⎢ ─────────────────────────────────────────────── ⎥\n",
       "⎣                        6                        ⎦"
      ]
     },
     "execution_count": 80,
     "metadata": {},
     "output_type": "execute_result"
    }
   ],
   "source": [
    "sy.simplify(dL + dLw)"
   ]
  },
  {
   "cell_type": "markdown",
   "id": "0b320c82-66af-49fe-8c21-5af3796802bd",
   "metadata": {},
   "source": [
    "On obtient enfin le résultat final:\n",
    "$$\\left. \\frac{\\D \\bm L}{\\D t} \\right|_{XYZ} = \\frac{Mh^2}{6}\\begin{pmatrix}\n",
    "\\ddot{\\theta} + \\frac{\\dot{\\psi}^2}{2} \\sin2\\theta \\\\\n",
    "-\\frac{\\ddot{\\psi}}{2} \\sin2\\theta + \\dot{\\theta}\\dot{\\psi}(1 - \\cos2\\theta) \\\\\n",
    "\\ddot{\\psi}(a^2/h^2 + \\cos^2\\theta) - \\dot{\\theta}\\dot{\\psi}\\sin2\\theta \n",
    "\\end{pmatrix}$$"
   ]
  },
  {
   "cell_type": "markdown",
   "id": "cfb19f49-394e-41ad-b1cc-bd566aa07494",
   "metadata": {},
   "source": [
    "# Figure\n",
    "\n",
    "```cpp\n",
    "import settings;\n",
    "render = 4;\n",
    "prc = false;\n",
    "\n",
    "import three;\n",
    "import solids;\n",
    "texpreamble(\"\\usepackage{bm}\");\n",
    "\n",
    "size(250, 0);\n",
    "\n",
    "currentprojection  =  orthographic(8, 3, 4);\n",
    "\n",
    "real s = 1.2;\n",
    "pen pk = rgb(0, 0, 0);\n",
    "pen pr = rgb(0.5, 0.3, 0.3);\n",
    "pen pg = rgb(0.3, 0.3, 0.3);\n",
    "\n",
    "// fixed axes\n",
    "triple O = (0,0,0);\n",
    "real u = 2;\n",
    "triple X = (u,0,0);\n",
    "triple Y = (0,u,0);\n",
    "triple Z = (0,0,u);\n",
    "draw(Label(\"$X$\", 1), O--X, pk, Arrow3);\n",
    "draw(Label(\"$Y$\", 1), O--Y, pk, Arrow3);\n",
    "draw(Label(\"$Z$\", 1), O--Z, pk, Arrow3);\n",
    "label(\"$O$\", O, (0.5,-1.7,-1.0));\n",
    "\n",
    "draw(O--(-X), dashed+pg);\n",
    "draw(O--(-0.7*Y), dashed+pg);\n",
    "draw(O--(-0.3*Z), dashed+pg);\n",
    "\n",
    "// triangle\n",
    "real a = 1.2;\n",
    "real h = 1.7;\n",
    "real theta = 40;\n",
    "real t = theta*pi/180;\n",
    "real phi = 60;\n",
    "real q = phi*pi/180;\n",
    "triple x = (cos(q),sin(q),0);\n",
    "triple n = (-sin(q),cos(q),0);\n",
    "triple y = (-sin(q),cos(t)*cos(q),sin(t)*cos(q));\n",
    "triple z = (0,-sin(t),cos(t));\n",
    "draw(Label(\"$x$\", 1), O--h*x, pk, Arrow3);\n",
    "draw(O--(-h*x), dashed+pk);\n",
    "draw(Label(\"$y$\", 1), O--s*h*y, pk, Arrow3);\n",
    "draw(Label(\"$n$\", 1), O--s*h*n, gray(0.6), Arrow3);\n",
    "draw(Label(\"$z$\", 1), O--s*z, pk, Arrow3);\n",
    "\n",
    "draw((-1.6*a*sin(q),0,0)--(-1.6*a*sin(q),1.6*a*cos(q),0)--(0,1.6*a*cos(q),0), dashed+gray(0.75));\n",
    "\n",
    "path3 triangle = a*x--h*y--(-a*x)--cycle;\n",
    "draw(surface(triangle), pr+opacity(0.3));\n",
    "draw(triangle, pr);\n",
    "\n",
    "label(\"$-a$\", -a*x+(0,0,-0.1));\n",
    "label(\"$a$\", a*x+(0,0,-0.1));\n",
    "label(\"$h$\", h*y+(0,-0.1,0));\n",
    "\n",
    "// angles\n",
    "draw(\"$\\phi$\", arc(O, 0.6*a, 90, 0, 90, phi),  pr, Arrow3);\n",
    "draw(Label(\"$\\theta$\"), arc(O, (0,0,0.6*a), 0.6*a*z),  pr, Arrow3);\n",
    "draw(Label(\"$\\theta$\"), arc(O, 0.6*a*n, 0.6*a*y),  pr, Arrow3);\n",
    "\n",
    "```"
   ]
  },
  {
   "cell_type": "markdown",
   "id": "294c7939-5c42-4b24-ac50-e1dd35ff2f84",
   "metadata": {},
   "source": [
    "# Brouillon"
   ]
  },
  {
   "cell_type": "code",
   "execution_count": 15,
   "id": "8982a4fd-15bb-4cbd-917f-18ff54483579",
   "metadata": {},
   "outputs": [
    {
     "data": {
      "image/png": "[encoded data removed]",
      "text/latex": [
       "$\\displaystyle \\left( \\left[\\begin{matrix}- \\sin{\\left(\\phi \\right)}\\\\\\cos{\\left(\\phi \\right)} \\cos{\\left(\\theta \\right)}\\\\\\sin{\\left(\\theta \\right)} \\cos{\\left(\\phi \\right)}\\end{matrix}\\right], \\  \\left[\\begin{matrix}0\\\\- \\sin{\\left(\\theta \\right)}\\\\\\cos{\\left(\\theta \\right)}\\end{matrix}\\right]\\right)$"
      ],
      "text/plain": [
       "⎛⎡   -sin(φ)   ⎤  ⎡   0   ⎤⎞\n",
       "⎜⎢             ⎥  ⎢       ⎥⎟\n",
       "⎜⎢cos(φ)⋅cos(θ)⎥, ⎢-sin(θ)⎥⎟\n",
       "⎜⎢             ⎥  ⎢       ⎥⎟\n",
       "⎝⎣sin(θ)⋅cos(φ)⎦  ⎣cos(θ) ⎦⎠"
      ]
     },
     "execution_count": 15,
     "metadata": {},
     "output_type": "execute_result"
    }
   ],
   "source": [
    "C_x(-theta)*C_z(-phi)*ey, C_x(-theta)*C_z(-phi)*ez"
   ]
  },
  {
   "cell_type": "code",
   "execution_count": null,
   "id": "7b841185-7c8e-4c9b-ad29-1b40feae21b8",
   "metadata": {},
   "outputs": [],
   "source": []
  },
  {
   "cell_type": "code",
   "execution_count": 15,
   "id": "cb4f5e0a-65c6-4c17-8493-c39bfcbd4cde",
   "metadata": {},
   "outputs": [
    {
     "data": {
      "image/png": "[encoded data removed]",
      "text/latex": [
       "$\\displaystyle \\left[\\begin{matrix}\\theta_{t}\\\\\\psi_{t} \\sin{\\left(\\theta \\right)}\\\\\\psi_{t} \\cos{\\left(\\theta \\right)}\\end{matrix}\\right]$"
      ],
      "text/plain": [
       "⎡   θₜ    ⎤\n",
       "⎢         ⎥\n",
       "⎢ψₜ⋅sin(θ)⎥\n",
       "⎢         ⎥\n",
       "⎣ψₜ⋅cos(θ)⎦"
      ]
     },
     "execution_count": 15,
     "metadata": {},
     "output_type": "execute_result"
    }
   ],
   "source": [
    "# vitesse angulaire: d'après la formule générale\n",
    "eZ = C_z(phi)*C_x(theta)*ez\n",
    "eN = C_z(phi)*C_x(theta)*ex\n",
    "Omega = phi_t*ez + theta_t*eN + psi_t*eZ\n",
    "Omega\n",
    "w = Omega.subs([(phi,0), (phi_t,0)])\n",
    "w_x, w_y, w_z = w[0], w[1], w[2]\n",
    "w"
   ]
  }
 ],
 "metadata": {
  "kernelspec": {
   "display_name": "Python 3 (ipykernel)",
   "language": "python",
   "name": "python3"
  },
  "language_info": {
   "codemirror_mode": {
    "name": "ipython",
    "version": 3
   },
   "file_extension": ".py",
   "mimetype": "text/x-python",
   "name": "python",
   "nbconvert_exporter": "python",
   "pygments_lexer": "ipython3",
   "version": "3.10.9"
  }
 },
 "nbformat": 4,
 "nbformat_minor": 5
}
