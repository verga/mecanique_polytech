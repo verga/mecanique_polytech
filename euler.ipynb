{
 "cells": [
  {
   "cell_type": "markdown",
   "id": "14a3a3b7-c941-4975-8f87-261d192c5e4f",
   "metadata": {},
   "source": [
    "Markdown macros\n",
    "\n",
    "$\\newcommand{\\I}{\\mathrm{i}} \n",
    "\\newcommand{\\E}{\\mathrm{e}} \n",
    "\\newcommand{\\D}{\\mathop{}\\!\\mathrm{d}}\n",
    "\\newcommand{\\bra}[1]{\\langle{#1}|}\n",
    "\\newcommand{\\ket}[1]{|{#1}\\rangle}\n",
    "\\newcommand{\\braket}[1]{\\langle{#1}\\rangle}\n",
    "\\newcommand{\\bm}[1]{\\boldsymbol{#1}}$"
   ]
  },
  {
   "cell_type": "markdown",
   "id": "41f20393-614a-4bdb-9c0a-3216e4b8dcbd",
   "metadata": {},
   "source": [
    "# Imports"
   ]
  },
  {
   "cell_type": "code",
   "execution_count": 1,
   "id": "1c1155a5-9789-4e4e-85db-e34903282ecc",
   "metadata": {},
   "outputs": [],
   "source": [
    "# numpy\n",
    "import numpy as np"
   ]
  },
  {
   "cell_type": "code",
   "execution_count": 2,
   "id": "c9d2143f-fcb1-4d7b-9c44-56295e6c078d",
   "metadata": {},
   "outputs": [],
   "source": [
    "# matplotlib\n",
    "import matplotlib\n",
    "import matplotlib.pylab as plt"
   ]
  },
  {
   "cell_type": "code",
   "execution_count": 3,
   "id": "26ced5a3-4aad-4d53-948b-28257c573227",
   "metadata": {
    "tags": []
   },
   "outputs": [],
   "source": [
    "%matplotlib inline"
   ]
  },
  {
   "cell_type": "code",
   "execution_count": 4,
   "id": "cca4e02b-8a52-41f9-aedd-ab457225d580",
   "metadata": {
    "tags": []
   },
   "outputs": [],
   "source": [
    "# sympy\n",
    "import sympy as sy\n",
    "sy.init_printing(use_unicode = True)"
   ]
  },
  {
   "cell_type": "markdown",
   "id": "1ba53b84-a54f-4a15-a7ed-770f7f5b9059",
   "metadata": {},
   "source": [
    "Bibliographie:\n",
    "\n",
    "Voir,\n",
    "\n",
    "* Landau & Lifshitz \"Mécanique\"\n",
    "* Goldstein \"Classical Mechanics\"\n",
    "* https://mathworld.wolfram.com/EulerAngles.html"
   ]
  },
  {
   "cell_type": "markdown",
   "id": "531ac5cf-3922-4517-9c4e-4b67a15c71ce",
   "metadata": {},
   "source": [
    "# Matrices de changement de coordonnées\n",
    "\n",
    "On définie un repère *fixe* de base $(\\bm e_X,\\bm e_Y,\\bm e_Z)$ et un repère *mobile* de base $(\\bm e_x,\\bm e_y,\\bm e_z)$.\n",
    "\n",
    "Un vecteur est représenté par la matrice colonne de ses coordonnés:\n",
    "$$\\bm r = \\begin{pmatrix} \\bm e_X & \\bm e_Y & \\bm e_Z \\end{pmatrix} \\begin{pmatrix} X \\\\ Y \\\\ Z \\end{pmatrix} = \\begin{pmatrix} X \\\\ Y \\\\ Z \\end{pmatrix}$$\n",
    "la seconde égalité est valable si $(\\bm e_X,\\bm e_Y,\\bm e_Z)$ est la base *canonique*, puisque la matrice dont les colonnes sont les vecteurs de la base canonique est la matrice identité $I_3$. Ici $(X,Y,Z)$ sont les coordonnées du vecteur $\\bm r$. Notez que les vecteurs de la base agissent à *gauche* des vecteurs colonne.\n",
    "\n",
    "Généralement on choisit la base canonique pour chaque diférent repère: le *changement de base* consiste donc à représenter la matrice identité dans un autre repère, formellement:\n",
    "$$ I_3 \\rightarrow \\left. \\begin{pmatrix} \\bm e_X & \\bm e_Y & \\bm e_Z \\end{pmatrix} \\right|_{(\\bm e_x,\\bm e_y,\\bm e_z)}$$\n",
    "\n",
    "On change maintenant la base fixe par la base mobile par une rotation d'axe $\\bm n$ et d'angle $a$:\n",
    "$$(\\bm e_X,\\bm e_Y,\\bm e_Z) \\xrightarrow{R_{\\bm n}(a)} (\\bm e_x,\\bm e_y,\\bm e_z)$$\n",
    "Cette transformation peut simplement s'écrire en forme matricielle:\n",
    "$$\\begin{pmatrix} \\bm e_x & \\bm e_y & \\bm e_z \\end{pmatrix}= \\begin{pmatrix} \\bm e_X & \\bm e_Y & \\bm e_Z \\end{pmatrix} R_{\\bm n}(a).$$\n",
    "Dans la nouvelle base le vecteur s'écrit:\n",
    "$$\\bm r = \\begin{pmatrix} \\bm e_x & \\bm e_y & \\bm e_z \\end{pmatrix} \\begin{pmatrix} x \\\\ y \\\\ z \\end{pmatrix}.$$\n",
    "Le point important à noter c'est que le vecteur $\\bm r$ est toujours le *même*, quelque soit le système de coordonnées qu'on utilise pour le représenter. \n",
    "La matrice $R$ qui transforme par rotation, un repère (vieux, fixe, etc.) dans un autre (nouveau, mobile, etc.) s'appelle la *matrice de passage*; elles sont la transposée l'une de l'autre.\n",
    "\n",
    "En remplaçant dans\n",
    "$$\\bm r = \\begin{pmatrix} \\bm e_x & \\bm e_y & \\bm e_z \\end{pmatrix}\\begin{pmatrix} x \\\\ y \\\\ z\\end{pmatrix}$$\n",
    "les vecteurs de la base mobile par leur expression comme rotation de la base fixe \n",
    "$$\\bm r = \\begin{pmatrix} \\bm e_X & \\bm e_Y & \\bm e_Z \\end{pmatrix} R_{\\bm n}(a) \\begin{pmatrix} x \\\\ y \\\\ z \\end{pmatrix}.$$\n",
    "on arrive à la formule de changement de coordonnées d'un vecteur,\n",
    "$$\\begin{pmatrix} x \\\\ y \\\\ z \\end{pmatrix} = C_{\\bm n}(a) \\begin{pmatrix} X \\\\ Y \\\\ Z \\end{pmatrix}, \\quad C_{\\bm n}(a) = R_{\\bm n}(a)^T,$$\n",
    "où on a introduit la notation $C=R^T$ pour la transposée de la matrice de rotation, qu'on peut appeller matrice de changement de coordonnées.\n",
    "\n",
    "Les matrices de changement de coordonnées associées aux rotations autour des axes $X$, $Y$ et $Z$ (canoniques) sont:\n",
    "\\begin{align*} C_X(\\phi) &= \\begin{pmatrix} 1 & 0 & 0 \\\\ 0 & \\cos \\phi & \\sin \\phi \\\\ 0 & -\\sin \\phi & \\cos \\phi \\end{pmatrix}\\\\\n",
    "C_Y(\\phi) &= \\begin{pmatrix} \\cos \\phi & 0 & -\\sin \\phi \\\\ 0 & 1 & 0 \\\\ \\sin \\phi & 1 & \\cos \\phi\\end{pmatrix}\\\\\n",
    "C_Z(\\phi) &= \\begin{pmatrix} \\cos \\phi & \\sin \\phi & 0 \\\\ -\\sin \\phi & \\cos \\phi & 0 \\\\ 0 & 0 & 1 \\end{pmatrix}\n",
    "\\end{align*}\n",
    "respectivement."
   ]
  },
  {
   "cell_type": "markdown",
   "id": "6fae80c5-6834-4045-a800-eb0c0b343bab",
   "metadata": {},
   "source": [
    "## Changement de coordonnées d'une matrice\n",
    "\n",
    "On a vu qu'un vecteur dont les coordonnées de départ sont $(X,Y,Z)$ (fixe), s'expirme, en coordonnées $(x,y,z)$ du repère d'arrivé (mobile), par la formule de changement de coordonnées:\n",
    "$$\\begin{pmatrix} x \\\\ y \\\\ z \\end{pmatrix} = C_{\\bm n}(a) \\begin{pmatrix} X \\\\ Y \\\\ Z \\end{pmatrix},$$\n",
    "où $R=C^T$ est la matrice de passage: elle fait une rotation du repere fixe d'un angle $a$ autour de l'axe $\\bm n$. \n",
    "\n",
    "De même on peut faire un changement de coordonnées d'une matrice $A$ définie dans le repère fixe, en matrice du repère mobile $\\bar{A}$ par la transformation de similitude, à l'aide de la matrice $R$ de passage de la base fixe à la base mobile:\n",
    "$$\\bar{A} = R^T_{\\bm n}(a) A R_{\\bm n}(a),$$\n",
    "qu'on peut aussi écrire,\n",
    "$$\\bar{A} = C_{\\bm n}(a) A R_{\\bm n}(a).$$\n",
    "La transformation inverse est:\n",
    "$$A = R_{\\bm n}(a) \\bar{A} R^T_{\\bm n}(a).$$\n",
    "\n",
    "L'expression $CAR$, s'otient directement en notant la matrice $A$ dans la base fixe $\\bm e = (\\bm e_X\\, \\bm e_y\\, \\bm e_Z)$, par $\\bm e A \\bm e^T$ (notez l'analogie avec un vecteur):\n",
    "$$\\bm e A \\bm e^T = (\\bm e R) (C A R ) (C \\bm e^T) = \\bar{\\bm e} \\bar{A} \\bar{\\bm e}^T,$$\n",
    "se qui exprime le fait que l'application $A$ (comme objet géométrique) est la même dans les deux bases, seulement son expression matricielle change."
   ]
  },
  {
   "cell_type": "markdown",
   "id": "4432ad45-b6a7-4e6c-bc38-0a923fabc479",
   "metadata": {},
   "source": [
    "### Transformation des produits scalaire et vectoriel\n",
    "\n",
    "Le produit scalaire is invariant par rotation $R$ (c'est justement la définition de rotation: elle preserve les longueurs):\n",
    "$$\\bm X \\cdot \\bm X = \\bm X^T \\bm X = (\\bm X^T R^T) \\cdot (R \\bm X) = \\bm x \\cdot \\bm x$$\n",
    "avec $\\bm X = (X,Y,Z)$, $\\bm x = (x,x,z)$, et $\\bm x = R \\bm X$. (Remarquez que pour deux vecteurs différents on aurait la même démonstration.)\n",
    "\n",
    "Le produit vectoriel $\\bm w = \\bm u \\wedge \\bm v$, de deux vecteurs $\\bm u$ et $\\bm v$, satisfait la transformation\n",
    "$$R \\bm w = R \\bm u \\wedge R \\bm v.$$\n",
    "Comme c'est facile a voir si on écrit le produit vectoriel comme une application antisymétrique $\\bm L \\cdot \\bm u \\ldots = \\bm u \\wedge \\ldots$:\n",
    "$$R \\bm w = R(\\bm L\\cdot u)R^T R \\bm v.$$"
   ]
  },
  {
   "cell_type": "markdown",
   "id": "41dc67b8-4db3-428f-ad83-c4393168a669",
   "metadata": {},
   "source": [
    "# Angles d'Euler $(\\phi,\\theta,\\psi)$\n",
    "\n",
    "Les angles d'Euler\n",
    "\n",
    "* $\\phi$, l'angle de précession\n",
    "* $\\theta$, l'angle de nutation\n",
    "* et $\\psi$, l'angle de rotation (propre)\n",
    "\n",
    "décrivent le passage du repère fixe $(\\bm e_X,\\bm e_Y,\\bm e_Z)$ au repère mobile $(\\bm e_x,\\bm e_y,\\bm e_z)$: $\\phi$ est une rotation autour de l'axe $\\bm e_Z$ du repère fixe; $\\theta$ est un rotation autour de la ligne nodale $\\bm N$; enfin, $\\psi$ est une rotation autour de l'axe $e_z$ mobile (ou fixé au solide). Dans la littérature de mécanique vous allez parfois trouver l'échange de $\\psi$ et $\\phi$, dans la notation des angles.\n",
    "\n",
    "La transformation du repère fixe au repère mobile, décrites par ces trois angles, s'obtient par une série de trois rotations:\n",
    "\n",
    "1. On part $(\\bm e_X,\\bm e_Y,\\bm e_Z)$, et on fait une rotation d'angle $\\phi$ autour de $Z$ pour obtenir le repère $(\\bm N,\\bm e_{y'},\\bm e_Z)$ ($N$ et $y'$ sont les images de $X$ et $Y$)\n",
    "\n",
    "2. On fait une rotation de $\\theta$ autour de $\\bm e_N$ (la ligne nodale), on obtient un nouveau repère $(\\bm e_N,\\bm e_{y''},\\bm e_z)$\n",
    "\n",
    "3. Enfin, on obtient le repère mobile $(\\bm e_x,\\bm e_y,\\bm e_z)$, après une rotation d'angle $\\psi$ autour de $\\bm e_z$\n",
    "\n",
    "En utilisant les matrices de rotation successivement, on a simplement:\n",
    "$$ \\begin{pmatrix} \\bm e_x & \\bm e_y & \\bm e_z \\end{pmatrix} = \\begin{pmatrix} \\bm e_X & \\bm e_Y & \\bm e_Z \\end{pmatrix} R(\\phi,\\theta,\\psi) ,$$\n",
    "avec,\n",
    "$$R(\\phi,\\theta,\\psi) = R_Z(\\phi) R_X(\\theta) R_Z(\\psi),$$\n",
    "soit\n",
    "$$R(\\phi, \\theta, \\psi) = \\begin{pmatrix}\n",
    "- \\cos\\theta  \\sin\\psi \\sin\\phi + \\cos\\psi \\cos\\phi & -\\cos\\theta \\sin\\psi \\cos\\phi - \\cos\\psi \\sin\\phi & \\sin\\theta \\sin\\psi \\\\ \\cos\\theta \\cos\\psi \\sin\\phi + \\sin\\psi \\cos\\phi & \\cos\\theta \\cos\\psi \\cos\\phi - \\sin\\psi \\sin\\phi & - \\sin\\theta \\cos\\psi \\\\ \\sin\\theta \\sin\\phi & \\sin\\theta \\cos\\phi & \\cos\\theta \\end{pmatrix}$$"
   ]
  },
  {
   "cell_type": "markdown",
   "id": "8fe6f059-5344-4b9b-81f5-200da3ee836a",
   "metadata": {},
   "source": [
    "La matrice de changement de coordonées, pour expimer les grandeurs associées au corsps (au repère mobile) sur le repère fixe, $R^T=C$, s'écrit en forme explicite:\n",
    "$$C(\\phi, \\theta, \\psi) = \\begin{pmatrix}- \\cos\\theta  \\sin\\psi \\sin\\phi + \\cos\\psi \\cos\\phi &  \\cos\\theta \\cos\\psi \\sin\\phi + \\sin\\psi \\cos\\phi & \\sin\\theta \\sin\\phi \\\\ -\\cos\\theta \\sin\\psi \\cos\\phi - \\cos\\psi \\sin\\phi & \\cos\\theta \\cos\\psi \\cos\\phi - \\sin\\psi \\sin\\phi & \\sin\\theta \\cos\\phi \\\\  \\sin\\theta \\sin\\psi  & - \\sin\\theta \\cos\\psi & \\cos\\theta \\end{pmatrix}$$\n",
    "Généralement le grandeurs comme la vitesse angulaire, le moment cinétique, les moments d'inertie, etc. sont plus simples dans le repère mobile: $C$ permet donc de les écrire explicitement (en fonction des angles d'Euler)."
   ]
  },
  {
   "cell_type": "markdown",
   "id": "2c3bef36-6a94-4ba6-8f7d-6582eb792247",
   "metadata": {},
   "source": [
    "Notez que $C$ est la transformation inverse de $R$, elle est donnée par:\n",
    "$$C(\\psi, \\theta, \\phi) = \\big[ R_Z(\\phi) R_X(\\theta) R_Z(\\psi) \\big]^T=C_Z(\\psi) C_X(\\theta) C_Z(\\phi).$$"
   ]
  },
  {
   "cell_type": "code",
   "execution_count": 5,
   "id": "773e372f-1efd-4bc5-acfe-77288339c88c",
   "metadata": {},
   "outputs": [],
   "source": [
    "# matrices de changement de coordonnées\n",
    "\n",
    "phi, theta, psi = sy.symbols(\"phi, theta, psi\", real=True)\n",
    "\n",
    "def C_x(phi):\n",
    "    c = sy.cos(phi)\n",
    "    s = sy.sin(phi)\n",
    "    return sy.Matrix([[1,  0, 0],\n",
    "                  [0, c, s],\n",
    "                  [0, -s,  c]])\n",
    "def C_y(phi):\n",
    "    c = sy.cos(phi)\n",
    "    s = sy.sin(phi)\n",
    "    return sy.Matrix([[ c, 0, -s],\n",
    "                  [ 0, 1, 0],\n",
    "                  [s, 0, c]])\n",
    "\n",
    "def C_z(phi):\n",
    "    c = sy.cos(phi)\n",
    "    s = sy.sin(phi)\n",
    "    return sy.Matrix([[c, s, 0],\n",
    "                  [-s,  c, 0],\n",
    "                  [0,  0, 1]])"
   ]
  },
  {
   "cell_type": "code",
   "execution_count": 6,
   "id": "f4e4736a-19a4-4f88-b708-27400048575b",
   "metadata": {},
   "outputs": [],
   "source": [
    "# Matrixe identité\n",
    "Id = sy.Matrix([[1,  0, 0],\n",
    "                [0, 1, 0],\n",
    "                [0, 0, 1]])\n",
    "\n",
    "# Matrices de rotaion autour des axes X, Y, Z\n",
    "def R_x(phi):\n",
    "    c = sy.cos(phi)\n",
    "    s = sy.sin(phi)\n",
    "    return sy.Matrix([[1,  0, 0],\n",
    "                  [0, c, -s],\n",
    "                  [0, s,  c]])\n",
    "def R_y(phi):\n",
    "    c = sy.cos(phi)\n",
    "    s = sy.sin(phi)\n",
    "    return sy.Matrix([[ c, 0, s],\n",
    "                  [ 0, 1, 0],\n",
    "                  [-s, 0, c]])\n",
    "\n",
    "def R_z(phi):\n",
    "    c = sy.cos(phi)\n",
    "    s = sy.sin(phi)\n",
    "    return sy.Matrix([[c, -s, 0],\n",
    "                  [s,  c, 0],\n",
    "                  [0,  0, 1]])"
   ]
  },
  {
   "cell_type": "code",
   "execution_count": 7,
   "id": "da1a5ae8-d78f-4296-b80d-92a9516a1993",
   "metadata": {},
   "outputs": [
    {
     "data": {
      "image/png": "[encoded data removed]",
      "text/latex": [
       "$\\displaystyle \\left[\\begin{matrix}- \\sin{\\left(\\phi \\right)} \\sin{\\left(\\psi \\right)} \\cos{\\left(\\theta \\right)} + \\cos{\\left(\\phi \\right)} \\cos{\\left(\\psi \\right)} & \\sin{\\left(\\phi \\right)} \\cos{\\left(\\psi \\right)} + \\sin{\\left(\\psi \\right)} \\cos{\\left(\\phi \\right)} \\cos{\\left(\\theta \\right)} & \\sin{\\left(\\psi \\right)} \\sin{\\left(\\theta \\right)}\\\\- \\sin{\\left(\\phi \\right)} \\cos{\\left(\\psi \\right)} \\cos{\\left(\\theta \\right)} - \\sin{\\left(\\psi \\right)} \\cos{\\left(\\phi \\right)} & - \\sin{\\left(\\phi \\right)} \\sin{\\left(\\psi \\right)} + \\cos{\\left(\\phi \\right)} \\cos{\\left(\\psi \\right)} \\cos{\\left(\\theta \\right)} & \\sin{\\left(\\theta \\right)} \\cos{\\left(\\psi \\right)}\\\\\\sin{\\left(\\phi \\right)} \\sin{\\left(\\theta \\right)} & - \\sin{\\left(\\theta \\right)} \\cos{\\left(\\phi \\right)} & \\cos{\\left(\\theta \\right)}\\end{matrix}\\right]$"
      ],
      "text/plain": [
       "⎡-sin(φ)⋅sin(ψ)⋅cos(θ) + cos(φ)⋅cos(ψ)  sin(φ)⋅cos(ψ) + sin(ψ)⋅cos(φ)⋅cos(θ)  \n",
       "⎢                                                                             \n",
       "⎢-sin(φ)⋅cos(ψ)⋅cos(θ) - sin(ψ)⋅cos(φ)  -sin(φ)⋅sin(ψ) + cos(φ)⋅cos(ψ)⋅cos(θ) \n",
       "⎢                                                                             \n",
       "⎣            sin(φ)⋅sin(θ)                         -sin(θ)⋅cos(φ)             \n",
       "\n",
       " sin(ψ)⋅sin(θ)⎤\n",
       "              ⎥\n",
       " sin(θ)⋅cos(ψ)⎥\n",
       "              ⎥\n",
       "    cos(θ)    ⎦"
      ]
     },
     "execution_count": 7,
     "metadata": {},
     "output_type": "execute_result"
    }
   ],
   "source": [
    "# Changement de base (repère)\n",
    "C = C_z(psi)*C_x(theta)*C_z(phi)\n",
    "C"
   ]
  },
  {
   "cell_type": "code",
   "execution_count": 8,
   "id": "2ac12e26-2c6f-4e5a-91e9-0f92be183665",
   "metadata": {},
   "outputs": [
    {
     "data": {
      "image/png": "[encoded data removed]",
      "text/latex": [
       "$\\displaystyle \\left[\\begin{matrix}- \\sin{\\left(\\phi \\right)} \\sin{\\left(\\psi \\right)} \\cos{\\left(\\theta \\right)} + \\cos{\\left(\\phi \\right)} \\cos{\\left(\\psi \\right)} & - \\sin{\\left(\\phi \\right)} \\cos{\\left(\\psi \\right)} \\cos{\\left(\\theta \\right)} - \\sin{\\left(\\psi \\right)} \\cos{\\left(\\phi \\right)} & \\sin{\\left(\\phi \\right)} \\sin{\\left(\\theta \\right)}\\\\\\sin{\\left(\\phi \\right)} \\cos{\\left(\\psi \\right)} + \\sin{\\left(\\psi \\right)} \\cos{\\left(\\phi \\right)} \\cos{\\left(\\theta \\right)} & - \\sin{\\left(\\phi \\right)} \\sin{\\left(\\psi \\right)} + \\cos{\\left(\\phi \\right)} \\cos{\\left(\\psi \\right)} \\cos{\\left(\\theta \\right)} & - \\sin{\\left(\\theta \\right)} \\cos{\\left(\\phi \\right)}\\\\\\sin{\\left(\\psi \\right)} \\sin{\\left(\\theta \\right)} & \\sin{\\left(\\theta \\right)} \\cos{\\left(\\psi \\right)} & \\cos{\\left(\\theta \\right)}\\end{matrix}\\right]$"
      ],
      "text/plain": [
       "⎡-sin(φ)⋅sin(ψ)⋅cos(θ) + cos(φ)⋅cos(ψ)  -sin(φ)⋅cos(ψ)⋅cos(θ) - sin(ψ)⋅cos(φ) \n",
       "⎢                                                                             \n",
       "⎢sin(φ)⋅cos(ψ) + sin(ψ)⋅cos(φ)⋅cos(θ)   -sin(φ)⋅sin(ψ) + cos(φ)⋅cos(ψ)⋅cos(θ) \n",
       "⎢                                                                             \n",
       "⎣            sin(ψ)⋅sin(θ)                          sin(θ)⋅cos(ψ)             \n",
       "\n",
       " sin(φ)⋅sin(θ) ⎤\n",
       "               ⎥\n",
       " -sin(θ)⋅cos(φ)⎥\n",
       "               ⎥\n",
       "     cos(θ)    ⎦"
      ]
     },
     "execution_count": 8,
     "metadata": {},
     "output_type": "execute_result"
    }
   ],
   "source": [
    "# Rotation: matrice inverse (transposée de C)\n",
    "R = R_z(phi)*R_x(theta)*R_z(psi)\n",
    "R"
   ]
  },
  {
   "cell_type": "markdown",
   "id": "8fb49e99-176d-4185-af6b-2671993273df",
   "metadata": {},
   "source": [
    "# Vitesse de rotation\n",
    "\n",
    "La vitesse angulaire $\\bm \\Omega$ s'écrit facilement en utilisant les axes de rotation respectifs:\n",
    "$$\\bm \\Omega\\big|_{(Z,N,z)} = \\dot{\\phi} \\bm e_Z + \\dot{\\theta} \\bm e_N + \\dot{\\psi} \\bm e_z$$\n",
    "où nous notons les noms de coordonnées (remarquez que ces axes ne forment pas un repère orthogonal).\n",
    "\n",
    "Pour avoir son expression explicite dans le repère mobile il suffit de faire les rotations nécessaires pour passer d'un repère à un autre. Le vecteur $\\bm e_Z = (0,0,1)$ devient dans la base mobile:\n",
    "$$\\bm e_Z = C(\\phi, \\theta, \\psi) \\bm e_z =\\bm e_z = C_Z(\\psi)C_X(\\theta)\\bm e_z = \\begin{pmatrix}   \\sin\\theta \\sin\\psi \\\\ \\sin\\theta \\cos\\phi \\\\ \\cos\\theta \\end{pmatrix}$$\n",
    "($Z$ est tranformé par les psi rotations des axes, notez cependant que $C_Z(\\psi)$ agit comme l'identité sur l'axe $Z$) et le vecteur $\\bm e_N =(1,0,0)$ devient,\n",
    "$$\\bm e_N = C_Z(\\psi)C_X(\\theta) \\bm e_x = C_Z(\\psi) \\bm e_x = \\begin{pmatrix} \\cos\\psi \\\\ - \\sin\\psi \\\\ 0 \\end{pmatrix}$$\n",
    "(il est transformé lors de l'étape 3 dans la définition des angles d'Euler, la rotation d'axe $X$ agit comme l'identité sur $N$).\n",
    "\n",
    "En remplaçant dans $\\bm \\Omega$, on transforme ses \"coordonnées\" $(Z,N,z)$, en coordonnées du repère mobile:\n",
    "$$\\bm \\Omega\\big|_{(x,y,z)} = \\dot{\\phi} C_Z(\\psi)C_X(\\theta) \\bm e_z + \\dot{\\theta} C_Z(\\psi)\\bm e_x + \\dot{\\psi} \\bm e_z$$\n",
    "on obtient finalement l'expression de la vitesse angulaire dans le repère du solide (mobile):\n",
    "$$\\bm \\Omega =  \\begin{pmatrix} \\dot{\\phi} \\sin \\theta \\sin \\psi + \\dot{\\theta} \\cos\\psi \\\\ \\dot{\\phi} \\sin\\theta \\cos\\psi - \\dot{\\theta} \\sin\\psi \\\\ \\dot{\\phi}\\cos\\theta + \\dot{\\psi} \\end{pmatrix}$$"
   ]
  },
  {
   "cell_type": "code",
   "execution_count": 9,
   "id": "fbf4828b-8e99-4263-9ecf-df50c2a97aeb",
   "metadata": {},
   "outputs": [],
   "source": [
    "psi_t, theta_t, phi_t = sy.symbols(\"psi_t, theta_t, phi_t\", real=True)\n",
    "e_1 = sy.Matrix([1,0,0])\n",
    "e_2 = sy.Matrix([0,1,0])\n",
    "e_3 = sy.Matrix([0,0,1])"
   ]
  },
  {
   "cell_type": "code",
   "execution_count": 10,
   "id": "228079b9-5ffd-416a-8166-b6f97abdac14",
   "metadata": {},
   "outputs": [],
   "source": [
    "e_N = C_z(psi)*e_1\n",
    "e_Z = C_z(psi)*C_x(theta)*e_3"
   ]
  },
  {
   "cell_type": "code",
   "execution_count": 11,
   "id": "bb2e756f-489c-4810-828d-077653ee24bc",
   "metadata": {},
   "outputs": [
    {
     "data": {
      "image/png": "[encoded data removed]",
      "text/latex": [
       "$\\displaystyle \\left[\\begin{matrix}\\phi_{t} \\sin{\\left(\\psi \\right)} \\sin{\\left(\\theta \\right)} + \\theta_{t} \\cos{\\left(\\psi \\right)}\\\\\\phi_{t} \\sin{\\left(\\theta \\right)} \\cos{\\left(\\psi \\right)} - \\theta_{t} \\sin{\\left(\\psi \\right)}\\\\\\phi_{t} \\cos{\\left(\\theta \\right)} + \\psi_{t}\\end{matrix}\\right]$"
      ],
      "text/plain": [
       "⎡φₜ⋅sin(ψ)⋅sin(θ) + θₜ⋅cos(ψ)⎤\n",
       "⎢                            ⎥\n",
       "⎢φₜ⋅sin(θ)⋅cos(ψ) - θₜ⋅sin(ψ)⎥\n",
       "⎢                            ⎥\n",
       "⎣       φₜ⋅cos(θ) + ψₜ       ⎦"
      ]
     },
     "execution_count": 11,
     "metadata": {},
     "output_type": "execute_result"
    }
   ],
   "source": [
    "phi_t*e_Z + theta_t*e_N + psi_t*e_3"
   ]
  },
  {
   "cell_type": "markdown",
   "id": "8dc5c204-cc32-48d7-a180-4ca58ed53e2a",
   "metadata": {},
   "source": [
    "# Brouillon"
   ]
  },
  {
   "cell_type": "code",
   "execution_count": 11,
   "id": "5732817c-0cf7-4863-b899-53b005ab1909",
   "metadata": {},
   "outputs": [
    {
     "name": "stdout",
     "output_type": "stream",
     "text": [
      "\\left[\\begin{matrix}- \\sin{\\left(\\phi \\right)} \\sin{\\left(\\psi \\right)} \\cos{\\left(\\theta \\right)} + \\cos{\\left(\\phi \\right)} \\cos{\\left(\\psi \\right)} & \\sin{\\left(\\phi \\right)} \\cos{\\left(\\psi \\right)} \\cos{\\left(\\theta \\right)} + \\sin{\\left(\\psi \\right)} \\cos{\\left(\\phi \\right)} & \\sin{\\left(\\phi \\right)} \\sin{\\left(\\theta \\right)}\\\\- \\sin{\\left(\\phi \\right)} \\cos{\\left(\\psi \\right)} - \\sin{\\left(\\psi \\right)} \\cos{\\left(\\phi \\right)} \\cos{\\left(\\theta \\right)} & - \\sin{\\left(\\phi \\right)} \\sin{\\left(\\psi \\right)} + \\cos{\\left(\\phi \\right)} \\cos{\\left(\\psi \\right)} \\cos{\\left(\\theta \\right)} & \\sin{\\left(\\theta \\right)} \\cos{\\left(\\phi \\right)}\\\\\\sin{\\left(\\psi \\right)} \\sin{\\left(\\theta \\right)} & - \\sin{\\left(\\theta \\right)} \\cos{\\left(\\psi \\right)} & \\cos{\\left(\\theta \\right)}\\end{matrix}\\right]\n"
     ]
    }
   ],
   "source": [
    "print(sy.latex(C))"
   ]
  },
  {
   "cell_type": "code",
   "execution_count": null,
   "id": "a80df1c6-f3c3-4e8b-9fa7-55a705168a4f",
   "metadata": {},
   "outputs": [],
   "source": []
  }
 ],
 "metadata": {
  "kernelspec": {
   "display_name": "Python 3 (ipykernel)",
   "language": "python",
   "name": "python3"
  },
  "language_info": {
   "codemirror_mode": {
    "name": "ipython",
    "version": 3
   },
   "file_extension": ".py",
   "mimetype": "text/x-python",
   "name": "python",
   "nbconvert_exporter": "python",
   "pygments_lexer": "ipython3",
   "version": "3.10.9"
  }
 },
 "nbformat": 4,
 "nbformat_minor": 5
}
