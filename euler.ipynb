{
 "cells": [
  {
   "cell_type": "markdown",
   "id": "14a3a3b7-c941-4975-8f87-261d192c5e4f",
   "metadata": {},
   "source": [
    "Markdown macros\n",
    "\n",
    "$\\newcommand{\\I}{\\mathrm{i}} \n",
    "\\newcommand{\\E}{\\mathrm{e}} \n",
    "\\newcommand{\\D}{\\mathop{}\\!\\mathrm{d}}\n",
    "\\newcommand{\\bra}[1]{\\langle{#1}|}\n",
    "\\newcommand{\\ket}[1]{|{#1}\\rangle}\n",
    "\\newcommand{\\braket}[1]{\\langle{#1}\\rangle}\n",
    "\\newcommand{\\bm}[1]{\\boldsymbol{#1}}$"
   ]
  },
  {
   "cell_type": "markdown",
   "id": "41f20393-614a-4bdb-9c0a-3216e4b8dcbd",
   "metadata": {},
   "source": [
    "# Imports"
   ]
  },
  {
   "cell_type": "code",
   "execution_count": 1,
   "id": "1c1155a5-9789-4e4e-85db-e34903282ecc",
   "metadata": {},
   "outputs": [],
   "source": [
    "# numpy\n",
    "import numpy as np"
   ]
  },
  {
   "cell_type": "code",
   "execution_count": 2,
   "id": "c9d2143f-fcb1-4d7b-9c44-56295e6c078d",
   "metadata": {},
   "outputs": [],
   "source": [
    "# matplotlib\n",
    "import matplotlib\n",
    "import matplotlib.pylab as plt"
   ]
  },
  {
   "cell_type": "code",
   "execution_count": 3,
   "id": "26ced5a3-4aad-4d53-948b-28257c573227",
   "metadata": {
    "tags": []
   },
   "outputs": [],
   "source": [
    "%matplotlib inline"
   ]
  },
  {
   "cell_type": "code",
   "execution_count": 4,
   "id": "cca4e02b-8a52-41f9-aedd-ab457225d580",
   "metadata": {
    "tags": []
   },
   "outputs": [],
   "source": [
    "# sympy\n",
    "import sympy as sy\n",
    "sy.init_printing(use_unicode = True)"
   ]
  },
  {
   "cell_type": "markdown",
   "id": "1ba53b84-a54f-4a15-a7ed-770f7f5b9059",
   "metadata": {},
   "source": [
    "Bibliographie:\n",
    "\n",
    "Voir,\n",
    "\n",
    "* Landau & Lifshitz \"Mécanique\"\n",
    "* Goldstein \"Classical Mechanics\""
   ]
  },
  {
   "cell_type": "markdown",
   "id": "73a0b412-249a-4c44-a29f-03d6ce51d88e",
   "metadata": {},
   "source": [
    "# Angles d'Euler\n",
    "\n",
    "## Matrices de changement de coordonnées\n",
    "\n",
    "### Rotation d'un repère\n",
    "\n",
    "La rotation des *axes de coordonnées* $(\\bm e_X,\\bm e_Y,\\bm e_Z)$ d'un angle $\\phi$ autour de $\\bm n$ est donnée par la matrice de changement de coordonnées:\n",
    "$$ C_{\\bm n}(\\phi) = R_{\\bm n}(\\phi)^{\\mathrm{T}} = R_{\\bm n}(-\\phi)$$\n",
    "qui est en fait la transposée de la matrice de rotation $R_{\\bm n}(\\phi)$. \n",
    "\n",
    "Les matrices $C$ pertmettent de passer du repère fixe au mobile, par exemple\n",
    "$$\\begin{pmatrix} \\bm e_x \\\\ \\bm e_y \\\\ \\bm e_z \\end{pmatrix} = C_{\\bm n}(\\phi) \\begin{pmatrix} \\bm e_X \\\\ \\bm e_Y \\\\ \\bm e_Z \\end{pmatrix}.$$\n",
    "\n",
    "Les rotations autour des axes $X$, $Y$ et $Z$ sont:\n",
    "\\begin{align*} C_X(\\phi) &= \\begin{pmatrix} 1 & 0 & 0 \\\\ 0 & \\cos \\phi & \\sin \\phi \\\\ 0 & -\\sin \\phi & \\cos \\phi \\end{pmatrix}\\\\\n",
    "C_Y(\\phi) &= \\begin{pmatrix} \\cos \\phi & 0 & -\\sin \\phi \\\\ 0 & 1 & 0 \\\\ \\sin \\phi & 1 & \\cos \\phi\\end{pmatrix}\\\\\n",
    "C_Z(\\phi) &= \\begin{pmatrix} \\cos \\phi & \\sin \\phi & 0 \\\\ -\\sin \\phi & \\cos \\phi & 0 \\\\ 0 & 0 & 1 \\end{pmatrix}\n",
    "\\end{align*}"
   ]
  },
  {
   "cell_type": "markdown",
   "id": "2288eb34-c1cb-449f-9326-54f893120d67",
   "metadata": {},
   "source": [
    "### Remarque: rotation d'un vecteur\n",
    "\n",
    "Notez la différence entre $R$ et $C$: la matrice de rotation s'applique à un vecteur pour en obtenir un autre, tandis que la matrice de changement de coordonnées s'applique aux axes d'un repère pour obtenir un nouveau repère.\n",
    "\n",
    "En effet, pare exemple la rotation d'un *vecteur* $\\bm r = (x,y,z)$ d'un angle $\\phi$ autour de l'axe $Z$ (disons) est donnée par la matrice:\n",
    "$$R_{Z}(\\phi) = \\begin{pmatrix} \\cos \\phi & -\\sin \\phi & 0 \\\\ \\sin \\phi & \\cos \\phi & 0 \\\\ 0 & 0 & 1 \\end{pmatrix}$$\n",
    "On a donc\n",
    "$$ \\bm r' = R_Z(\\phi) \\bm r$$\n",
    "\n",
    "Par contre, le vecteur $\\bm r = (X,Y,Z)$ dans le repère $(\\bm e_X,\\bm e_Y,\\bm e_Z)$, s'écrit dans les coordonnées d'un autre repère $\\bm r' = (\\bm e_x,\\bm e_y,\\bm e_z)$, après une rotation d'axe $\\bm e_Z$ et d'angle $\\phi$, comme:\n",
    "$$ \\bm r' = C_Z(\\phi) \\bm r$$\n",
    "avec\n",
    "$$C_{Z}(\\phi) = \\begin{pmatrix} \\cos \\phi & \\sin \\phi & 0 \\\\ -\\sin \\phi & \\cos \\phi & 0 \\\\ 0 & 0 & 1 \\end{pmatrix}$$\n",
    "La différence par rapport à l'équation précédente, c'est qu'ici $\\bm r$ et $\\bm r'$ sont le *même* vecteur, mais exprimé par des coordonnées différentes, tandis qu'auparavant $\\bm r$ et $\\bm r'$ étaient différents, mais dont le repère était le même. Notez toutefois que les deux transformations sont données par des matrices transposées l'une de l'autre, $C_Z(\\phi) = R_Z(-\\phi)$."
   ]
  },
  {
   "cell_type": "markdown",
   "id": "41dc67b8-4db3-428f-ad83-c4393168a669",
   "metadata": {},
   "source": [
    "## Angles $(\\psi,\\theta,\\phi)$\n",
    "\n",
    "Ils décrivent le passage du repère fixe $(\\bm e_X,\\bm e_Y,\\bm e_Z)$ au repère mobile $(\\bm e_x,\\bm e_y,\\bm e_z)$\n",
    "Les angles d'Euler sont\n",
    "\n",
    "* $\\psi$, l'angle de précesion\n",
    "* $\\theta$, l'angle de nutation\n",
    "* et $\\phi$, l'angle de rotation (propre)\n",
    "\n",
    "$\\psi$ est une rotation autour de l'axe $\\bm e_Z$ du repère fixe; $\\theta$ est un rotation autour de la ligne nodale $\\bm N$; enfin, $\\phi$ est une rotation autour de l'axe $e_z$ mobile (ou fixé au solide). Dans la littérature physique vous allez souvent trouver l'échange de $\\psi$ et $\\phi$, dans la notation des angles.\n",
    "\n",
    "La transformation du reprère fixe au repère mobile, décrites par ces trois angles, s'obtient par une serie de trois rotations:\n",
    "\n",
    "1. On part $(\\bm e_X,\\bm e_Y,\\bm e_Z)$, et on fait une rotation d'angle $\\psi$ autour de $Z$ pour obtenir le repère $(\\bm N,\\bm e_{y'},\\bm e_Z)$ ($N$ et $y'$ sont les images de $X$ et $Y$)\n",
    "\n",
    "2. On fait une rotation de $\\theta$ autour de $\\bm e_N$ (la ligne nodale), on obtient un noveau reprère $(\\bm e_N,\\bm e_{y''},\\bm e_z)$\n",
    "\n",
    "3. Enfin, on obtient le repère mobile $(\\bm e_x,\\bm e_y,\\bm e_z)$, après une rotation d'angle $\\phi$ autour de $\\bm e_z$\n",
    "\n",
    "En utilisant les matrices de rotation successivement, on a simplement:\n",
    "$$ \\begin{pmatrix} \\bm e_x \\\\ \\bm e_y \\\\ \\bm e_z \\end{pmatrix} = C_Z(\\phi) C_X(\\theta) C_Z(\\psi) \\begin{pmatrix} \\bm e_X \\\\ \\bm e_Y \\\\ \\bm e_Z \\end{pmatrix}$$"
   ]
  },
  {
   "cell_type": "markdown",
   "id": "8fe6f059-5344-4b9b-81f5-200da3ee836a",
   "metadata": {},
   "source": [
    "Ou en forme explicite\n",
    "$$C(\\psi, \\theta, \\phi) = \\begin{pmatrix}- \\cos\\theta  \\sin\\psi \\sin\\phi + \\cos\\psi \\cos\\phi &  \\cos\\theta \\cos\\psi \\sin\\phi + \\sin\\psi \\cos\\phi & \\sin\\theta \\sin\\phi \\\\ -\\cos\\theta \\sin\\psi \\cos\\phi - \\cos\\psi \\sin\\phi & \\cos\\theta \\cos\\psi \\cos\\phi - \\sin\\psi \\sin\\phi & \\sin\\theta \\cos\\phi \\\\  \\sin\\theta \\sin\\psi  & - \\sin\\theta \\cos\\psi & \\cos\\theta \\end{pmatrix}$$"
   ]
  },
  {
   "cell_type": "markdown",
   "id": "2c3bef36-6a94-4ba6-8f7d-6582eb792247",
   "metadata": {},
   "source": [
    "Notez que la transformation inverse est donnée par:\n",
    "$$C(\\psi, \\theta, \\phi)^\\mathrm{T} = R_Z(\\psi) R_X(\\theta) R_Z(\\phi)$$\n",
    "(on a utilisé $R_n(-\\alpha)^\\mathrm{T} = R_n(\\alpha)$ pour $n$ et $\\alpha$ arbitraires), elle permet de passer du repère mobile au repère fixe."
   ]
  },
  {
   "cell_type": "code",
   "execution_count": 5,
   "id": "773e372f-1efd-4bc5-acfe-77288339c88c",
   "metadata": {},
   "outputs": [],
   "source": [
    "# matrices de changement de repère\n",
    "\n",
    "phi, theta, psi = sy.symbols(\"phi, theta, psi\", real=True)\n",
    "\n",
    "def C_x(phi):\n",
    "    c = sy.cos(phi)\n",
    "    s = sy.sin(phi)\n",
    "    return sy.Matrix([[1,  0, 0],\n",
    "                  [0, c, s],\n",
    "                  [0, -s,  c]])\n",
    "def C_y(phi):\n",
    "    c = sy.cos(phi)\n",
    "    s = sy.sin(phi)\n",
    "    return sy.Matrix([[ c, 0, -s],\n",
    "                  [ 0, 1, 0],\n",
    "                  [s, 0, c]])\n",
    "\n",
    "def C_z(phi):\n",
    "    c = sy.cos(phi)\n",
    "    s = sy.sin(phi)\n",
    "    return sy.Matrix([[c, s, 0],\n",
    "                  [-s,  c, 0],\n",
    "                  [0,  0, 1]])"
   ]
  },
  {
   "cell_type": "code",
   "execution_count": 6,
   "id": "da1a5ae8-d78f-4296-b80d-92a9516a1993",
   "metadata": {},
   "outputs": [
    {
     "data": {
      "image/png": "[encoded data removed]",
      "text/latex": [
       "$\\displaystyle \\left[\\begin{matrix}- \\sin{\\left(\\phi \\right)} \\sin{\\left(\\psi \\right)} \\cos{\\left(\\theta \\right)} + \\cos{\\left(\\phi \\right)} \\cos{\\left(\\psi \\right)} & \\sin{\\left(\\phi \\right)} \\cos{\\left(\\psi \\right)} \\cos{\\left(\\theta \\right)} + \\sin{\\left(\\psi \\right)} \\cos{\\left(\\phi \\right)} & \\sin{\\left(\\phi \\right)} \\sin{\\left(\\theta \\right)}\\\\- \\sin{\\left(\\phi \\right)} \\cos{\\left(\\psi \\right)} - \\sin{\\left(\\psi \\right)} \\cos{\\left(\\phi \\right)} \\cos{\\left(\\theta \\right)} & - \\sin{\\left(\\phi \\right)} \\sin{\\left(\\psi \\right)} + \\cos{\\left(\\phi \\right)} \\cos{\\left(\\psi \\right)} \\cos{\\left(\\theta \\right)} & \\sin{\\left(\\theta \\right)} \\cos{\\left(\\phi \\right)}\\\\\\sin{\\left(\\psi \\right)} \\sin{\\left(\\theta \\right)} & - \\sin{\\left(\\theta \\right)} \\cos{\\left(\\psi \\right)} & \\cos{\\left(\\theta \\right)}\\end{matrix}\\right]$"
      ],
      "text/plain": [
       "⎡-sin(φ)⋅sin(ψ)⋅cos(θ) + cos(φ)⋅cos(ψ)  sin(φ)⋅cos(ψ)⋅cos(θ) + sin(ψ)⋅cos(φ)  \n",
       "⎢                                                                             \n",
       "⎢-sin(φ)⋅cos(ψ) - sin(ψ)⋅cos(φ)⋅cos(θ)  -sin(φ)⋅sin(ψ) + cos(φ)⋅cos(ψ)⋅cos(θ) \n",
       "⎢                                                                             \n",
       "⎣            sin(ψ)⋅sin(θ)                         -sin(θ)⋅cos(ψ)             \n",
       "\n",
       " sin(φ)⋅sin(θ)⎤\n",
       "              ⎥\n",
       " sin(θ)⋅cos(φ)⎥\n",
       "              ⎥\n",
       "    cos(θ)    ⎦"
      ]
     },
     "execution_count": 6,
     "metadata": {},
     "output_type": "execute_result"
    }
   ],
   "source": [
    "# Changement de base (repère)\n",
    "C = C_z(phi)*C_x(theta)*C_z(psi)\n",
    "C"
   ]
  },
  {
   "cell_type": "code",
   "execution_count": 7,
   "id": "2ac12e26-2c6f-4e5a-91e9-0f92be183665",
   "metadata": {},
   "outputs": [
    {
     "data": {
      "image/png": "[encoded data removed]",
      "text/latex": [
       "$\\displaystyle \\left[\\begin{matrix}- \\sin{\\left(\\phi \\right)} \\sin{\\left(\\psi \\right)} \\cos{\\left(\\theta \\right)} + \\cos{\\left(\\phi \\right)} \\cos{\\left(\\psi \\right)} & - \\sin{\\left(\\phi \\right)} \\cos{\\left(\\psi \\right)} - \\sin{\\left(\\psi \\right)} \\cos{\\left(\\phi \\right)} \\cos{\\left(\\theta \\right)} & \\sin{\\left(\\psi \\right)} \\sin{\\left(\\theta \\right)}\\\\\\sin{\\left(\\phi \\right)} \\cos{\\left(\\psi \\right)} \\cos{\\left(\\theta \\right)} + \\sin{\\left(\\psi \\right)} \\cos{\\left(\\phi \\right)} & - \\sin{\\left(\\phi \\right)} \\sin{\\left(\\psi \\right)} + \\cos{\\left(\\phi \\right)} \\cos{\\left(\\psi \\right)} \\cos{\\left(\\theta \\right)} & - \\sin{\\left(\\theta \\right)} \\cos{\\left(\\psi \\right)}\\\\\\sin{\\left(\\phi \\right)} \\sin{\\left(\\theta \\right)} & \\sin{\\left(\\theta \\right)} \\cos{\\left(\\phi \\right)} & \\cos{\\left(\\theta \\right)}\\end{matrix}\\right]$"
      ],
      "text/plain": [
       "⎡-sin(φ)⋅sin(ψ)⋅cos(θ) + cos(φ)⋅cos(ψ)  -sin(φ)⋅cos(ψ) - sin(ψ)⋅cos(φ)⋅cos(θ) \n",
       "⎢                                                                             \n",
       "⎢sin(φ)⋅cos(ψ)⋅cos(θ) + sin(ψ)⋅cos(φ)   -sin(φ)⋅sin(ψ) + cos(φ)⋅cos(ψ)⋅cos(θ) \n",
       "⎢                                                                             \n",
       "⎣            sin(φ)⋅sin(θ)                          sin(θ)⋅cos(φ)             \n",
       "\n",
       " sin(ψ)⋅sin(θ) ⎤\n",
       "               ⎥\n",
       " -sin(θ)⋅cos(ψ)⎥\n",
       "               ⎥\n",
       "     cos(θ)    ⎦"
      ]
     },
     "execution_count": 7,
     "metadata": {},
     "output_type": "execute_result"
    }
   ],
   "source": [
    "# Rotation: matrice inverse (transposée de C)\n",
    "CT = C_z(-psi)*C_x(-theta)*C_z(-phi)\n",
    "CT"
   ]
  },
  {
   "cell_type": "markdown",
   "id": "8fb49e99-176d-4185-af6b-2671993273df",
   "metadata": {},
   "source": [
    "# Vitesse de rotation\n",
    "\n",
    "La vitesse angulaire $\\bm \\Omega$ s'écrit facilement en utilisant les axes de rotation respectifs:\n",
    "$$\\bm \\Omega\\big|_{(Z,N,z)} = \\dot{\\psi} \\bm e_Z + \\dot{\\theta} \\bm e_N + \\dot{\\phi} \\bm e_z$$\n",
    "où nous notons les noms de coordonnées (remarquez que ces axes ne forment pas un repère orthogonal).\n",
    "\n",
    "Pour avoir son expression explicite dans le repère mobile il suffit de faire les rotations nécessaires pour passer d'un repère à un autre. Le vecteur $\\bm e_Z = (0,0,1)$ devient dans la base mobile:\n",
    "$$ C(\\psi, \\theta, \\phi) \\bm e_Z = C_Z(\\phi)C_X(\\theta) \\begin{pmatrix}   \\sin\\theta \\sin\\phi \\\\ \\sin\\theta \\cos\\phi \\\\ \\cos\\theta \\end{pmatrix}$$\n",
    "($Z$ est tranformé par les trois rotations des axes, notez cependant que $C_Z(\\psi)$ agit comme l'identité sur l'axe $Z$) et le vecteur $\\bm e_N =(1,0,0)$ devient,\n",
    "$$C_Z(\\phi)C_X(\\theta) \\bm e_N = C_Z(\\phi) \\bm e_N = \\begin{pmatrix} \\cos\\phi \\\\ - \\sin\\phi \\\\ 0 \\end{pmatrix}$$\n",
    "(il est transformé lors de l'étape 3 dans la définition des angles d'Euler, la rotation d'axe $X$ actue comme l'identité sur $N$).\n",
    "\n",
    "En remplaçant dans $\\bm \\Omega$, on transforme ses \"coordonnées\" $(Z,N,z)$, en coordonnées du repère mobile:\n",
    "$$\\bm \\Omega\\big|_{(x,y,z)} = \\dot{\\psi} C_Z(\\phi)C_X(\\theta) \\bm e_Z + \\dot{\\theta} C_Z(\\phi)\\bm e_N + \\dot{\\phi} \\bm e_z$$\n",
    "on obtient finalement l'expression de la vitesse angulaire dans le repère du solide:\n",
    "$$\\bm \\Omega =  \\begin{pmatrix} \\dot{\\psi} \\sin \\theta \\sin \\phi + \\dot{\\theta} \\cos\\phi \\\\ \\dot{\\psi} \\sin\\theta \\cos\\phi - \\dot{\\theta} \\sin\\phi \\\\ \\dot{\\psi}\\cos\\theta + \\dot{\\phi} \\end{pmatrix}$$"
   ]
  },
  {
   "cell_type": "code",
   "execution_count": 8,
   "id": "d6e03551-64ff-48f9-915b-925b7b8efe77",
   "metadata": {
    "tags": []
   },
   "outputs": [
    {
     "data": {
      "image/png": "[encoded data removed]",
      "text/latex": [
       "$\\displaystyle \\left[\\begin{matrix}\\sin{\\left(\\phi \\right)} \\sin{\\left(\\theta \\right)}\\\\\\sin{\\left(\\theta \\right)} \\cos{\\left(\\phi \\right)}\\\\\\cos{\\left(\\theta \\right)}\\end{matrix}\\right]$"
      ],
      "text/plain": [
       "⎡sin(φ)⋅sin(θ)⎤\n",
       "⎢             ⎥\n",
       "⎢sin(θ)⋅cos(φ)⎥\n",
       "⎢             ⎥\n",
       "⎣   cos(θ)    ⎦"
      ]
     },
     "execution_count": 8,
     "metadata": {},
     "output_type": "execute_result"
    }
   ],
   "source": [
    " C_z(phi)*C_x(theta)*sy.Matrix([0,0,1])"
   ]
  },
  {
   "cell_type": "code",
   "execution_count": 9,
   "id": "d8485605-3c1a-4dff-a28a-88447c31df26",
   "metadata": {},
   "outputs": [
    {
     "data": {
      "image/png": "[encoded data removed]",
      "text/latex": [
       "$\\displaystyle \\left[\\begin{matrix}\\cos{\\left(\\phi \\right)}\\\\- \\sin{\\left(\\phi \\right)}\\\\0\\end{matrix}\\right]$"
      ],
      "text/plain": [
       "⎡cos(φ) ⎤\n",
       "⎢       ⎥\n",
       "⎢-sin(φ)⎥\n",
       "⎢       ⎥\n",
       "⎣   0   ⎦"
      ]
     },
     "execution_count": 9,
     "metadata": {},
     "output_type": "execute_result"
    }
   ],
   "source": [
    "C_z(phi)*sy.Matrix([1,0,0])"
   ]
  },
  {
   "cell_type": "markdown",
   "id": "8dc5c204-cc32-48d7-a180-4ca58ed53e2a",
   "metadata": {},
   "source": [
    "# Brouillon"
   ]
  },
  {
   "cell_type": "code",
   "execution_count": 11,
   "id": "5732817c-0cf7-4863-b899-53b005ab1909",
   "metadata": {},
   "outputs": [
    {
     "name": "stdout",
     "output_type": "stream",
     "text": [
      "\\left[\\begin{matrix}- \\sin{\\left(\\phi \\right)} \\sin{\\left(\\psi \\right)} \\cos{\\left(\\theta \\right)} + \\cos{\\left(\\phi \\right)} \\cos{\\left(\\psi \\right)} & \\sin{\\left(\\phi \\right)} \\cos{\\left(\\psi \\right)} \\cos{\\left(\\theta \\right)} + \\sin{\\left(\\psi \\right)} \\cos{\\left(\\phi \\right)} & \\sin{\\left(\\phi \\right)} \\sin{\\left(\\theta \\right)}\\\\- \\sin{\\left(\\phi \\right)} \\cos{\\left(\\psi \\right)} - \\sin{\\left(\\psi \\right)} \\cos{\\left(\\phi \\right)} \\cos{\\left(\\theta \\right)} & - \\sin{\\left(\\phi \\right)} \\sin{\\left(\\psi \\right)} + \\cos{\\left(\\phi \\right)} \\cos{\\left(\\psi \\right)} \\cos{\\left(\\theta \\right)} & \\sin{\\left(\\theta \\right)} \\cos{\\left(\\phi \\right)}\\\\\\sin{\\left(\\psi \\right)} \\sin{\\left(\\theta \\right)} & - \\sin{\\left(\\theta \\right)} \\cos{\\left(\\psi \\right)} & \\cos{\\left(\\theta \\right)}\\end{matrix}\\right]\n"
     ]
    }
   ],
   "source": [
    "print(sy.latex(C))"
   ]
  },
  {
   "cell_type": "code",
   "execution_count": null,
   "id": "c973af99-f52b-4109-8eef-9a96627117f8",
   "metadata": {},
   "outputs": [],
   "source": []
  }
 ],
 "metadata": {
  "kernelspec": {
   "display_name": "Python 3 (ipykernel)",
   "language": "python",
   "name": "python3"
  },
  "language_info": {
   "codemirror_mode": {
    "name": "ipython",
    "version": 3
   },
   "file_extension": ".py",
   "mimetype": "text/x-python",
   "name": "python",
   "nbconvert_exporter": "python",
   "pygments_lexer": "ipython3",
   "version": "3.8.12"
  }
 },
 "nbformat": 4,
 "nbformat_minor": 5
}
