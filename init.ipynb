{
 "cells": [
  {
   "cell_type": "raw",
   "id": "5b8a00ce-3f02-4002-8ccd-3d0221b16a35",
   "metadata": {},
   "source": [
    "# file: ~/.config/matplotlib/stylelib/vsty.mplstyle\n",
    "text.usetex : True\n",
    "font.family : serif\n",
    "font.weight : normal\n",
    "font.size : 18.0\n",
    "font.serif : STIX Two Text # DejaVu Serif\n",
    "mathtext.fontset : stix # dejavuserif\n",
    "lines.linewidth : 0.5\n",
    "axes.titlesize : 24\n",
    "axes.labelsize : 20\n",
    "xtick.top : True\n",
    "ytick.right: True\n",
    "figure.figsize : 6.0,4.5\n",
    "savefig.bbox : tight\n",
    "image.cmap : cubehelix"
   ]
  },
  {
   "cell_type": "markdown",
   "id": "35c8567d-7982-4be7-8c53-ddf30c5ce4b9",
   "metadata": {},
   "source": [
    "Markdown macros\n",
    "\n",
    "$\\newcommand{\\I}{\\mathrm{i}} \n",
    "\\newcommand{\\E}{\\mathrm{e}} \n",
    "\\newcommand{\\D}{\\mathop{}\\!\\mathrm{d}}\n",
    "\\newcommand{\\bra}[1]{\\langle{#1}|}\n",
    "\\newcommand{\\ket}[1]{|{#1}\\rangle}\n",
    "\\newcommand{\\braket}[1]{\\langle{#1}\\rangle}\n",
    "\\newcommand{\\bm}[1]{\\boldsymbol{#1}}$"
   ]
  },
  {
   "cell_type": "markdown",
   "id": "e72f9e9b-85a0-4d52-94ac-87027a3a5393",
   "metadata": {},
   "source": [
    "# Imports"
   ]
  },
  {
   "cell_type": "code",
   "execution_count": 1,
   "id": "653ca258-1dec-44c9-b347-4e2243d7fd9a",
   "metadata": {},
   "outputs": [],
   "source": [
    "# numpy\n",
    "import numpy as np"
   ]
  },
  {
   "cell_type": "code",
   "execution_count": 2,
   "id": "f0a6d491-badc-4269-9511-af2b2f429c12",
   "metadata": {},
   "outputs": [],
   "source": [
    "# matplotlib\n",
    "import matplotlib\n",
    "import matplotlib.pylab as plt"
   ]
  },
  {
   "cell_type": "code",
   "execution_count": 3,
   "id": "beda1165-853e-424a-906e-0419e6782bd7",
   "metadata": {
    "tags": []
   },
   "outputs": [],
   "source": [
    "%matplotlib inline\n",
    "from IPython.display import Image"
   ]
  },
  {
   "cell_type": "code",
   "execution_count": 4,
   "id": "8af95e31-7c62-4b01-ad9f-f792b7fc8281",
   "metadata": {
    "tags": []
   },
   "outputs": [],
   "source": [
    "# sympy\n",
    "import sympy as sy\n",
    "sy.init_printing(use_unicode = True)"
   ]
  },
  {
   "cell_type": "code",
   "execution_count": 5,
   "id": "2a12d0f6-814a-40de-9e85-687c91134bd9",
   "metadata": {},
   "outputs": [],
   "source": [
    "# figure style\n",
    "matplotlib.rcParams['text.usetex'] = True\n",
    "matplotlib.rcParams['font.family'] = 'serif'\n",
    "matplotlib.rcParams['font.weight'] = 'normal'\n",
    "matplotlib.rcParams['font.size'] = 14\n",
    "matplotlib.rcParams['axes.labelsize'] = 18\n",
    "matplotlib.rcParams['figure.figsize'] = (6.0,4.5)\n",
    "matplotlib.rcParams['lines.linewidth'] = 0.5\n",
    "matplotlib.rcParams['xtick.top'] = True\n",
    "matplotlib.rcParams['ytick.right'] = True\n",
    "# font\n",
    "matplotlib.rcParams['font.serif'] = \"STIX Two Text\"\n",
    "matplotlib.rcParams['mathtext.fontset'] = 'stix'"
   ]
  },
  {
   "cell_type": "markdown",
   "id": "eb6a2000-5268-4fac-85a8-85368cb1e408",
   "metadata": {},
   "source": [
    "# Brouillon"
   ]
  },
  {
   "cell_type": "code",
   "execution_count": 6,
   "id": "aca109d2-fbf4-4192-be26-df37270a2b32",
   "metadata": {},
   "outputs": [
    {
     "data": {
      "image/png": "[encoded data removed]",
      "text/plain": [
       "<Figure size 432x324 with 1 Axes>"
      ]
     },
     "metadata": {
      "needs_background": "light"
     },
     "output_type": "display_data"
    }
   ],
   "source": [
    "x = np.linspace(-3,3,129)\n",
    "y = np.exp(-np.abs(x/3))*np.cos(x**2)\n",
    "\n",
    "fig, ax = plt.subplots()\n",
    "ax.plot(x, y, '-', color = '#800')\n",
    "ax.set_xlabel(r\"$x$\")\n",
    "ax.set_ylabel(r\"$f(x)$\");"
   ]
  },
  {
   "cell_type": "code",
   "execution_count": 8,
   "id": "9d23e628-754a-48d1-920d-c1e82c781bc3",
   "metadata": {},
   "outputs": [
    {
     "data": {
      "image/png": "[encoded data removed]",
      "text/latex": [
       "$\\displaystyle \\frac{1}{2}$"
      ],
      "text/plain": [
       "1/2"
      ]
     },
     "execution_count": 8,
     "metadata": {},
     "output_type": "execute_result"
    }
   ],
   "source": [
    "x = sy.symbols(\"x\", real=True)\n",
    "m = sy.symbols(\"m\", integer=True)\n",
    "sy.integrate(sy.sin(sy.pi*x)**2, (x,0,1))"
   ]
  },
  {
   "cell_type": "code",
   "execution_count": 10,
   "id": "2cf6a522-2d85-4f16-8717-ea884c589301",
   "metadata": {},
   "outputs": [
    {
     "data": {
      "image/png": "[encoded data removed]",
      "text/latex": [
       "$\\displaystyle \\begin{cases} - \\frac{1}{2} & \\text{for}\\: m = -1 \\\\\\frac{1}{2} & \\text{for}\\: m = 1 \\\\0 & \\text{otherwise} \\end{cases}$"
      ],
      "text/plain": [
       "⎧-1/2  for m = -1\n",
       "⎪                \n",
       "⎨1/2   for m = 1 \n",
       "⎪                \n",
       "⎩ 0    otherwise "
      ]
     },
     "execution_count": 10,
     "metadata": {},
     "output_type": "execute_result"
    }
   ],
   "source": [
    "sy.integrate(sy.sin(sy.pi*x)*sy.sin(m*sy.pi*x), (x,0,1))"
   ]
  },
  {
   "cell_type": "code",
   "execution_count": null,
   "id": "8231b8cb-c1c4-4d7e-8eff-d606f707111f",
   "metadata": {},
   "outputs": [],
   "source": []
  }
 ],
 "metadata": {
  "kernelspec": {
   "display_name": "Python 3 (ipykernel)",
   "language": "python",
   "name": "python3"
  },
  "language_info": {
   "codemirror_mode": {
    "name": "ipython",
    "version": 3
   },
   "file_extension": ".py",
   "mimetype": "text/x-python",
   "name": "python",
   "nbconvert_exporter": "python",
   "pygments_lexer": "ipython3",
   "version": "3.10.9"
  }
 },
 "nbformat": 4,
 "nbformat_minor": 5
}
