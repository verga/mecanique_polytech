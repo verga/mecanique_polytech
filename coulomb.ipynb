{
 "cells": [
  {
   "cell_type": "markdown",
   "id": "25868e3c-faf2-4a4d-9fbe-aeb370ce0511",
   "metadata": {},
   "source": [
    "Markdown macros\n",
    "\n",
    "$\\newcommand{\\I}{\\mathrm{i}} \n",
    "\\newcommand{\\E}{\\mathrm{e}} \n",
    "\\newcommand{\\D}{\\mathop{}\\!\\mathrm{d}}\n",
    "\\newcommand{\\bra}[1]{\\langle{#1}|}\n",
    "\\newcommand{\\ket}[1]{|{#1}\\rangle}\n",
    "\\newcommand{\\braket}[1]{\\langle{#1}\\rangle}\n",
    "\\newcommand{\\bm}[1]{\\boldsymbol{#1}}$"
   ]
  },
  {
   "cell_type": "code",
   "execution_count": 1,
   "id": "f5f845e0-abb7-4ead-897c-d5147297a2ec",
   "metadata": {},
   "outputs": [
    {
     "data": {
      "application/javascript": [
       "MathJax.Hub.Config({\n",
       "    TeX: { equationNumbers: { autoNumber: \"AMS\" } }\n",
       "});\n"
      ],
      "text/plain": [
       "<IPython.core.display.Javascript object>"
      ]
     },
     "metadata": {},
     "output_type": "display_data"
    }
   ],
   "source": [
    "%%javascript\n",
    "MathJax.Hub.Config({\n",
    "    TeX: { equationNumbers: { autoNumber: \"AMS\" } }\n",
    "});"
   ]
  },
  {
   "cell_type": "markdown",
   "id": "1b20d3a9-6cc9-424d-ab63-7f048198271c",
   "metadata": {},
   "source": [
    "# Imports"
   ]
  },
  {
   "cell_type": "code",
   "execution_count": 2,
   "id": "94db4cee-2305-4432-8ba1-28c423d92b03",
   "metadata": {},
   "outputs": [],
   "source": [
    "# numpy\n",
    "import numpy as np"
   ]
  },
  {
   "cell_type": "code",
   "execution_count": 3,
   "id": "1a421e1b-7ebe-4711-a322-3bd4bb4f094d",
   "metadata": {},
   "outputs": [],
   "source": [
    "# matplotlib\n",
    "import matplotlib\n",
    "import matplotlib.pylab as plt"
   ]
  },
  {
   "cell_type": "code",
   "execution_count": 4,
   "id": "bbd12f7d-2e6e-4bf1-8d92-ddf2731b668a",
   "metadata": {
    "tags": []
   },
   "outputs": [],
   "source": [
    "%matplotlib inline\n",
    "from IPython.display import Image"
   ]
  },
  {
   "cell_type": "code",
   "execution_count": 5,
   "id": "6b096a1c-4608-452e-a7e2-5b89856a0887",
   "metadata": {
    "tags": []
   },
   "outputs": [],
   "source": [
    "# sympy\n",
    "import sympy as sy\n",
    "sy.init_printing(use_unicode = True)"
   ]
  },
  {
   "cell_type": "markdown",
   "id": "22402ad2-4aaf-4c31-adde-6e5c254ca220",
   "metadata": {},
   "source": [
    "# Forces de friction"
   ]
  },
  {
   "cell_type": "markdown",
   "id": "45502541-8fb7-4f80-80e4-ccb07c108ba3",
   "metadata": {},
   "source": [
    "### Géométrie:\n",
    "* charriot, longueur $2l$, hauteur $2h$, moment d'inertie $I_z= M(l^2+h^2)/3$ ($M$ est la masse du charriot)\n",
    "* disque, (coupe 2D du cylindre de masse $m$) rayon $a$, moment d'inertie $I_z=ma^2/2$, $I_x=I_y=ma^2/4$; les disques sont séparés d'une distance $2d$\n",
    "\n",
    "* référenciel fixe: $(O,X,Y,Z)$\n",
    "* référenciel fixe cylindre 1: $(O_1,X,Y,Z)$\n",
    "* référenciel fixe cylindre 2: $(O_2,X,Y,Z)$\n",
    "\n",
    "### Centre de masse $G$: \n",
    "\n",
    "* position $\\bm G = (X(t), a + h, 0)$\n",
    "* vitesse $\\bm V = \\dot{X} \\hat{\\bm X}$\n",
    "* accellération $\\dot{V} = \\ddot{X} \\hat{\\bm X}$\n",
    "\n",
    "### Vitesses\n",
    "\n",
    "Vitesse angulaire des disques: $\\bm \\omega_1 = \\omega_1 \\hat{\\bm Z}$, et $\\bm \\omega_2 = \\omega_2 \\hat{\\bm Z}$\n",
    "\n",
    "Vitesse des disques aux points de contact  $C_1$ et $C_2$:\n",
    "\n",
    "* $\\bm v_1 = a \\bm \\omega_1 \\times \\hat{\\bm Y} = -a\\omega_1 \\hat{\\bm X}$ ($a$ est dans la verticale, au point $C_1$)\n",
    "* $\\bm v_2 = -a\\omega_2 \\hat{\\bm X}$ \n",
    "\n",
    "Notez que $v_1>0$ initialement, puisque $\\omega_1(0) < 0 $, et $v_2$ est toujours négative ($\\omega_2>0$)\n",
    "\n",
    "Vitesse de glissement aux points de contact:\n",
    "\n",
    "* le disque 1 roule sans glisser, $0 = \\dot{X} \\hat{\\bm X} - (-a\\omega_1 \\hat{\\bm X})$, la vitesse de glissement est nulle:\n",
    "    $$\\dot{X}(t) = - a \\omega_1(t) > 0$$\n",
    "* le disque 2 peut glisser, la vitesse en $C_2$ est la différence de la vitesse du charriot et de la vitesse du disque: \n",
    "    $$\\bm v^{g}_2 = \\dot{X} \\hat{\\bm X} - (-a\\omega_2) \\hat{\\bm X}=(\\dot{X} + a\\omega_2) \\hat{\\bm X}$$\n",
    "\n",
    "### Moment cinétique:\n",
    "\n",
    "Seuls les diques on un moment cinétique. Pour 1 en $O_1$:\n",
    "$$\\bm L_1 = I \\bm \\omega_1 = \\frac{ma^2}{2}\\omega_1 \\hat{\\bm Z} = \\bm L$$\n",
    "De même pour 2 en $O_2$:\n",
    "$$\\bm L_2 = \\frac{ma^2}{2}\\omega_2 \\hat{\\bm Z}$$\n",
    "suele la composante $I_z$ du moment d'inertie du rouleau compte. Notez que $\\bm L_2$ n'intervient pas dans la dynamique, a cause du glissement.\n",
    "\n",
    "### Forces: \n",
    "\n",
    "* réaction en $C_1$, $\\bm R_1 = T_1 \\hat{\\bm X} + N_1 \\hat{\\bm Y}$\n",
    "* réaction en $C_2$, $\\bm R_2 = T_2 \\hat{\\bm X} + N_2 \\hat{\\bm Y}$. Loi de frottement $T_2=-\\mu N_2$, le signe moins indique la direction opposée au mouvement (selon $\\hat{\\bm X}$)\n",
    "* poids, applqué en $G$: $-mg \\hat{\\bm Y}$\n",
    "\n",
    "Le point important ici c'est que la Loi de Coulomb ($T_2=-\\mu N_2$) établit que la force de frottement ne dépend pas de la vitesse de glissement. Par conséquent le mouvement du charriot est indépendant de la vittesse de rotation du deuxième cylindre: on aurait pu le remplacer par un simple contact!\n",
    "\n",
    "### Roulement\n",
    "\n",
    "La condition de non glissement en $C_1$ determine la contrainte $T_1$. En effet, le moment de $\\bm T_1$ satisfait l'équation d'Euler:\n",
    "$$\\frac{\\D \\bm L}{\\D t} = a \\hat{\\bm Y} \\times T_1 \\hat{\\bm X}$$\n",
    "ce qui donne:\n",
    "\\begin{equation}\n",
    "\\frac{ma^2}{2} \\dot\\omega_1 = -aT_1\n",
    "\\end{equation}\n",
    "ou\n",
    "$$T_1 = \\frac{m}{2} \\ddot X$$\n",
    "\n",
    "### Moments de forces au centre de masse $G$:\n",
    "\n",
    "Les réactions $\\bm R_{1,2}$ contribuent au moment des forces; le poids non.\n",
    "\n",
    "Au point $C_1$ on a:\n",
    "\\begin{align*}\n",
    "\\bm M_1 &= -(2d - l + X(t))\\hat{\\bm X} \\times N_1 \\hat{\\bm Y}  + h \\hat{\\bm Y} \\times T_1 \\hat{\\bm X} \\\\\n",
    "&= [(l - 2d - X(t)) N_1 + h T_1] \\hat{\\bm Z}\n",
    "\\end{align*}\n",
    "et en $C_2$,\n",
    "$$\\bm M_2 = [(l- X(t)) N_2 + h T_2]\\hat{\\bm Z}$$\n",
    "Le moment total en $G$ s'annule:\n",
    "\\begin{equation}\n",
    "h(T_1 + T_2) + (l - 2d - X(t)) N_1 + (l- X(t)) N_2 = 0\n",
    "\\end{equation}\n",
    "\n",
    "### Newton:\n",
    "\n",
    "\\begin{equation}\n",
    "M\\ddot{X} = T_1 + T_2\n",
    "\\end{equation}\n",
    "et \n",
    "\\begin{equation}\n",
    "0 = -Mg + N_1 + N_2\n",
    "\\end{equation}\n",
    "\n",
    "### Euler:\n",
    "\n",
    "On a quatre équations pour $T_1,N_1$ et $T_2,N_2$.\n",
    "\n",
    "En utilisant l'équation de Newton on exprime dans un premier temps toutes les grandeurs en fonction de $N_2$:\n",
    "\n",
    "\\begin{align*}\n",
    "N_1 &= Mg - N_2 \\\\\n",
    "T_1 &= M \\ddot{X} + \\mu N_2 = \\frac{m}{2} \\ddot{X}\\\\\n",
    "T_2 &= -\\mu N_2 = \\frac{2M - m}{2} \\ddot{X}\n",
    "\\end{align*}\n",
    "\n",
    "on remplace $T_1 = \\frac{m}{2} \\ddot X$ pour obtenir la normale en $C_2$\n",
    "$$N_2 = -\\frac{2M -m}{2\\mu} \\ddot{X}$$\n",
    "ce qui conduit à\n",
    "$$N_1 = Mg + \\frac{2M -m}{2\\mu} \\ddot{X}$$\n",
    "\n",
    "La substituion $T_1 + T_2 = M \\ddot X$, et $N_1 + N_2 = Mg$ dans l'équilibre de moments\n",
    "$$h(T_1+T_2) - 2dN_1 + (l-X) MG = 0$$\n",
    "nous donne:\n",
    "$$hM \\ddot{X} - 2dMg - \\frac{d}{\\mu} (2M-m) \\ddot{X} + (l -X) Mg = 0 $$\n",
    "\n",
    "Après regroupement on obtient finalement:\n",
    "$$\\ddot X(t) + \\Omega^2 X(t) = K$$\n",
    "avec\n",
    "$$\\Omega^2 = \\frac{\\mu Mg}{d(2M -m) - \\mu h M}$$\n",
    "et la constante\n",
    "$$K = (l - 2d)\\Omega^2$$\n",
    "\n",
    "Observez que $\\Omega \\sim\\mu$: sans frottement on n'aurait pas de freinage (on obtiendrai un simple mouvement uniforme)."
   ]
  },
  {
   "cell_type": "markdown",
   "id": "ccb00315-5669-4253-9deb-0985a5eb0d02",
   "metadata": {},
   "source": [
    "## Graphe du mouvement\n",
    "\n",
    "On crée d'abord un style pour les figures en utilisan $\\LaTeX$.\n",
    "\n",
    "ATTENTION il vous faut latex"
   ]
  },
  {
   "cell_type": "code",
   "execution_count": 6,
   "id": "5c709de0-d30f-4909-ab9e-4e9031258c9d",
   "metadata": {},
   "outputs": [],
   "source": [
    "# figure style\n",
    "matplotlib.rcParams['text.usetex'] = True\n",
    "matplotlib.rcParams['font.family'] = 'serif'\n",
    "matplotlib.rcParams['font.weight'] = 'normal'\n",
    "matplotlib.rcParams['font.size'] = 14\n",
    "matplotlib.rcParams['axes.labelsize'] = 18\n",
    "matplotlib.rcParams['figure.figsize'] = (6.0,4.5)\n",
    "matplotlib.rcParams['lines.linewidth'] = 0.5\n",
    "matplotlib.rcParams['xtick.top'] = True\n",
    "matplotlib.rcParams['ytick.right'] = True"
   ]
  },
  {
   "cell_type": "markdown",
   "id": "eb42b002-4cc4-46c0-99c8-b442cf1d9e11",
   "metadata": {},
   "source": [
    "## Solution $X = X(t)$\n",
    "\n",
    "On pose $\\Omega = 1$, ce qui fixe l'unité de temps. On pose $d = 1$, ce qui fixe l'unité de longueur. Dans ces unités l'équation devient simplement\n",
    "$$\\ddot X + X = -|K|.$$\n",
    "Rappelons nous que $\\dot{x} >0$, donc le mouvement s'arrête quand la vitesse devient nulle.\n",
    "\n",
    "La trajectoire est donc de la forme $X(t)/|K| = -1 + A\\cos t + B \\sin(t)$. Si on suppose $\\dot X(0) = |K|$, en plus de la condition initiale $X(0) = 0$, on a la solution\n",
    "$$X = X(t) = |K| \\big( -1 + \\cos t + \\sin t \\big),$$\n",
    "La vitesse du centre de masse est\n",
    "$$\\dot X(t) = |K| \\big( -\\sin t + \\cos t \\big), \\quad t < \\pi/4$$\n",
    "pusiqu'à $t = \\pi/4$ la vitesse s'annule. La position finale du charriot dépend de la vitesse initiale (ici $|K|$).\n",
    "\n",
    "On fait le graphe de la trajectoire."
   ]
  },
  {
   "cell_type": "code",
   "execution_count": 31,
   "id": "3b57ad8e-bac0-4aca-b886-b5868a59498a",
   "metadata": {},
   "outputs": [
    {
     "data": {
      "image/png": "[encoded data removed]",
      "text/plain": [
       "<Figure size 600x450 with 1 Axes>"
      ]
     },
     "metadata": {},
     "output_type": "display_data"
    }
   ],
   "source": [
    "# Example de figure:\n",
    "t = np.linspace(0,np.pi/4,129)\n",
    "x = -1 + np.cos(t) + np.sin(t)\n",
    "v = -np.sin(t) + np.cos(t)\n",
    "\n",
    "fig, ax = plt.subplots()\n",
    "ax.plot(t, x, '-', color = '#800', label = r\"$X/|K|$\")\n",
    "ax.plot(t, v, '-', color = '#008', label = r\"$\\dot X/|K|$\")\n",
    "ax.plot([t[0]-0.05,t[-1]+0.05],[0,0], 'k:')\n",
    "ax.set_xlabel(r\"$\\Omega t$\")\n",
    "ax.legend(loc=1, fontsize = 16);"
   ]
  },
  {
   "cell_type": "code",
   "execution_count": null,
   "id": "fc17ef92-7c91-40c0-b360-9464b59676ba",
   "metadata": {},
   "outputs": [],
   "source": []
  }
 ],
 "metadata": {
  "kernelspec": {
   "display_name": "Python 3 (ipykernel)",
   "language": "python",
   "name": "python3"
  },
  "language_info": {
   "codemirror_mode": {
    "name": "ipython",
    "version": 3
   },
   "file_extension": ".py",
   "mimetype": "text/x-python",
   "name": "python",
   "nbconvert_exporter": "python",
   "pygments_lexer": "ipython3",
   "version": "3.10.10"
  }
 },
 "nbformat": 4,
 "nbformat_minor": 5
}
