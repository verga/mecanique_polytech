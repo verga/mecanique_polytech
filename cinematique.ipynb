{
 "cells": [
  {
   "cell_type": "markdown",
   "id": "94318a68-b5db-48dd-aec9-ccfb70fe1846",
   "metadata": {},
   "source": [
    "Markdown macros\n",
    "\n",
    "$\\newcommand{\\I}{\\mathrm{i}} \n",
    "\\newcommand{\\E}{\\mathrm{e}} \n",
    "\\newcommand{\\D}{\\mathop{}\\!\\mathrm{d}}\n",
    "\\newcommand{\\bra}[1]{\\langle{#1}|}\n",
    "\\newcommand{\\ket}[1]{|{#1}\\rangle}\n",
    "\\newcommand{\\braket}[1]{\\langle{#1}\\rangle}\n",
    "\\newcommand{\\bm}[1]{\\boldsymbol{#1}}$"
   ]
  },
  {
   "cell_type": "markdown",
   "id": "6490809d-f329-4f61-b56e-17219ece27e9",
   "metadata": {},
   "source": [
    "# Rotation d'un corps solide\n",
    "\n",
    "Pour décrire le mouvement de rotation d'un solide autour d'un point \"origine\" $O$, on défini un système de coordonnées *fixe* (celui du laboratoire, $XYZ$), et un repère attaché au solide, qu'on désigne comme le repère *mobile* $(xyz$).\n",
    "\n",
    "Pour passer du repère fixe au mobile (ou vice versa) on n'a besoin que de trois rotations, par exemple paramétrées par les angles $(\\phi,\\theta,\\psi)$ d'Euler.\n",
    "\n",
    "Quant à son mouvement, le solide, de masse $M$, est caractérise par son centre de masse $\\bm R_M$ et son moment d'inertie $I^G$ (rapporté à son centre de masse). Sa rotation est décrite par le vecteur de vitesse angulaire $\\bm \\Omega$. L'énergie cinétique du solide ne dépend que de ces paramètres. \n",
    "\n",
    "Le moment cinétique $\\bm L$ est la somme du moment cinétique du mouvement du centre de masse et de la rotation:\n",
    "$$\\bm L = M \\bm R_M \\wedge \\dot{\\bm R}_M + \\bm \\Omega \\wedge \\bm L$$\n",
    "(Dans le repère mobile, le premier terme s'annule.) Le moment cinétiques est proportionnel a la vitesse angulaire:\n",
    "$$L = I\\bm \\Omega$$\n",
    "où le coefficient de proportionnalité est le moment d'inertie (qui est une matrice  $3\\times3$).\n",
    "\n",
    "La *dynamique* est régie par l'équation de Newton, qui tient compte de forces appliquées $\\bm F$, \n",
    "$$M\\frac{\\D^2 \\bm R_M}{\\D t^2} = F,$$\n",
    "et par l'équation d'Euler, qui relie la variation du moment cinétique aux couples $\\bm K$ appliqués:\n",
    "$$\\frac{\\D \\bm L}{\\D t}\\Big|_{XYZ} = \\frac{\\D \\bm L}{\\D t}\\Big|_{xyz} + \\bm \\Omega \\wedge \\bm L\\Big|_{xyz} = \\bm K$$\n",
    "où on calcule la partie droite de l'équation dans le repère mobile.\n",
    "\n",
    "### Méthode de résolution des problèmes\n",
    "\n",
    "Cinématique:\n",
    "* Définir les repères et la géométrie du système solide \n",
    "* Calculer la matrice de passage $R$ (ou de changement de coordonnées $R^T=C$)\n",
    "* Calculer le centre de masse et ses dérivées, sa vitesse et son accélération\n",
    "* Calculer, dans le repère mobile, la matrice d'inertie\n",
    "* Calculer la vitesse angulaire dans le repère mobile\n",
    "* Calculer le moment cinétique dans le repère mobile\n",
    "\n",
    "Dynamique:\n",
    "* Écrire l'équation de Newton\n",
    "* Écrire l'équation d'Euler\n",
    "\n",
    "Pour un système compliqué (plusieurs axes de rotation d'un système articulé) il est nécessaire de faire plusieurs transformations de coordonnées, dans ce cas il est possible d'utiliser la formule transformation du moment d'inertie\n",
    "$$I = RI^G R^T$$\n",
    "ou $R$ est la matrice de passage.\n"
   ]
  },
  {
   "cell_type": "markdown",
   "id": "f422f45e-0183-458c-aa09-b02b255abeac",
   "metadata": {},
   "source": [
    "# Imports"
   ]
  },
  {
   "cell_type": "code",
   "execution_count": 2,
   "id": "67990397-9f07-4111-b707-e696edca7ceb",
   "metadata": {},
   "outputs": [],
   "source": [
    "# numpy\n",
    "import numpy as np"
   ]
  },
  {
   "cell_type": "code",
   "execution_count": 3,
   "id": "2db7197f-78d1-4bb5-b730-164071243bd6",
   "metadata": {},
   "outputs": [],
   "source": [
    "# matplotlib\n",
    "import matplotlib\n",
    "import matplotlib.pylab as plt"
   ]
  },
  {
   "cell_type": "code",
   "execution_count": 4,
   "id": "12ca916e-8991-447a-a701-f20c673f0101",
   "metadata": {
    "tags": []
   },
   "outputs": [],
   "source": [
    "%matplotlib inline"
   ]
  },
  {
   "cell_type": "code",
   "execution_count": 5,
   "id": "c5cc2285-a369-49ce-a2e7-6f67e3eb8947",
   "metadata": {
    "tags": []
   },
   "outputs": [],
   "source": [
    "# sympy\n",
    "import sympy as sy\n",
    "from sympy import symbols\n",
    "from sympy import simplify, expand, collect, cancel, apart, trigsimp\n",
    "from sympy import integrate, diff, series\n",
    "sy.init_printing(use_unicode = True)"
   ]
  },
  {
   "cell_type": "markdown",
   "id": "0ec68268-cdb2-4579-8d9e-13954bc4e590",
   "metadata": {
    "tags": []
   },
   "source": [
    "# Centre de masse\n",
    "\n",
    "Pour un ensemble de $N$ particules de masse $m_n$ la défintion de $\\bm R$ est:\n",
    "$$\\sum_{n = 1}^N m_n (\\bm r_n - \\bm R) = 0$$\n",
    "où $\\bm r_n$ sont les positions:\n",
    "$$\\bm R = \\frac{1}{M}\\sum_{n = 1}^N m_n \\bm r_n, \\quad M = \\sum_{n = 1}^N m_n$$\n",
    "\n",
    "Pour une distribution de masse continue de densité $\\rho(\\bm r)$, la formule équivalente est\n",
    "$$ \\bm R = \\frac{1}{M}\\int_V \\D \\bm r\\, \\bm r \\rho(\\bm r), \\quad  M = \\int_V \\D \\bm r\\, \\rho(\\bm r)$$\n",
    "avec $V$ le volume du corps."
   ]
  },
  {
   "cell_type": "markdown",
   "id": "55ecea42-43c7-433a-9a59-bf8d429f5bdb",
   "metadata": {},
   "source": [
    "# Aire et volume\n",
    "\n",
    "L'élément $\\D V$ d'un volume $V$ défini par les formules paramétriques\n",
    "$$x = x(u, v, w), \\; y = y(u, v, w), \\; z = z(u, v, w)$$\n",
    "est,\n",
    "$$\\D V = \\D x \\D y \\D z= J \\D u \\D v \\D w$$\n",
    "avec le jacobien,\n",
    "$$J = \\begin{vmatrix} \n",
    "\\frac{\\partial x}{\\partial u} & \\frac{\\partial x}{\\partial v} & \\frac{\\partial x}{\\partial w} \\\\ \n",
    "\\frac{\\partial y}{\\partial u} & \\frac{\\partial y}{\\partial v} & \\frac{\\partial y}{\\partial w} \\\\\n",
    "\\frac{\\partial z}{\\partial u} & \\frac{\\partial z}{\\partial v} & \\frac{\\partial z}{\\partial w} \n",
    "\\end{vmatrix}$$\n",
    "\n",
    "On obtient l'élément d'aire $\\D A$ d'une façon équivalente:\n",
    "$$dA = \\D x \\D y = J \\D u \\D v, \\quad J = \\left| \\frac{\\partial \\bm r}{\\partial u} \\times \\frac{\\partial \\bm r}{\\partial v} \\right|$$\n",
    "où $\\bm r = (x(u,v), y(u,v), z(u,v))$.\n",
    "\n",
    "### Surface, forme explicite\n",
    "\n",
    "Soit $\\bm r = (x, y, f(x,y)$ (les deux paramètres sont les coordonnées $(x,y)$):\n",
    "$$A = \\int_S \\D x \\D y\\, \\left| (1,0,f_x) \\times (0,1,f_y) \\right|  = \\int_S \\D x \\D y\\, \\sqrt{1 + f_x^2 + f_y^2}$$ \n"
   ]
  },
  {
   "cell_type": "markdown",
   "id": "8dca82f9-f3bb-4da0-8ef0-68d812aa9331",
   "metadata": {},
   "source": [
    "# Moment d'inertie\n",
    "\n",
    "On consirère un corps de densité $\\rho = \\rho(\\bm r$, en général non homogène, de volume $V$. Le moment d'inertie est construit sur les moments d'ordre deux de la densité:\n",
    "$$I_{ij} = \\int_V \\D \\bm r \\, (r^2 \\delta_{i,j} - x_i x_j) \\rho(\\bm r)$$\n",
    "avec $i,j = 1, 2, 3$ correspondant aux coordonnées $\\bm r = (x, y, z)$.\n",
    "\n",
    "On peut représenter le moment d'inertie par une matrice:\n",
    "$$I = \\int_V \\D \\bm r \\, \\rho \\begin{pmatrix} y^2 + z^2 & -xy & -xz \\\\  -yx & x^2 + z^2 & -yz \\\\  -zx & -zy & x^2 + y^2 \\end{pmatrix}$$\n",
    "\n",
    "Un transformation de coordonnées permet de rendre la matrice diagonale. Les éléments de la diagonale:\n",
    "$$I = \\mathrm{diag}(I_x, I_y, I_z)$$\n",
    "sont les moments \"principaux\" d'inertie."
   ]
  },
  {
   "cell_type": "markdown",
   "id": "6ab6f6bc-b66b-4628-bea0-8e48fa9fa3ff",
   "metadata": {},
   "source": [
    "## Choix des coordonnées\n",
    "\n",
    "L'avantage d'écrire $I$ comme un tenseur c'est qu'on peut calculer ses élément dans n'importe quelle base. Cependant le calcul de $I_{ij}$ est grandement simplifié si on choisi un système de coordonnées qui respecte les symétries de l'objet.\n",
    "\n",
    "Si on note $I^G$ le tenseur d'inertie calculé sur le centre de masse, le tenseur $I$ calculé sur un point $\\bm d = (d_x, d_y, d_z)$, avec $d$ la distance du nouvel origine au centre de masse, on a la formule de changement de coordonnées:\n",
    "$$I_{ij} = I^G_{ij} + M(d^2 \\delta_{ij} - d_id_j)$$\n",
    "\n",
    "Dans le cas d'une rotation $R_{\\bm n}(\\varphi)$ du solide autour de centre de masse, la matrice $I^G$ change selon la formule:\n",
    "$$I = R_{\\bm n}(\\varphi) I^G R_{\\bm n}(\\varphi)^T$$\n",
    "\n",
    "Considérons un exemple. Un carré de côté $a$, avec l'origine en $(0,0)$ et en $(a/2,0)$:"
   ]
  },
  {
   "cell_type": "markdown",
   "id": "bd952c09-e5d1-41c4-80a6-56093ec304e7",
   "metadata": {},
   "source": [
    "## Axes principaux\n",
    "\n",
    "Comme le tenseur d'inertie est symétrique, on peut toujours diagonaliser sa matrice, et donc l'ecrire comme\n",
    "$$I = \\mathrm{diag}(I_x, I_y, I_z)$$\n",
    "Les trois valeurs de la diagonale sont les racines du polynôme caractéristique:\n",
    "$$P(\\lambda) = \\det\\left(I - \\lambda 1_3\\right) = 0$$\n",
    "($1_3$ est la matrice identité de dimension 3); les vecteurs propres de la transformation sont les axes principaux du corps. Ils coincident avec les axes de symétrie du corps, si la densité est uniforme."
   ]
  },
  {
   "cell_type": "markdown",
   "id": "2191e0c5-8c68-457d-a6d4-b523d60b668e",
   "metadata": {},
   "source": [
    "# Cinématique du solide\n",
    "\n",
    "## Vitesse angulaire\n",
    "\n",
    "Dans un repère fixe $(X,Y,Z)$ un point $\\bm X$ du solide $\\mathcal{V}$ varie selon le mouvement du centre de masse $\\bm R$ et de sa propre rotation d'angle $\\varphi$ et d'axe $\\bm n$, $\\D \\bm \\varphi = \\bm n \\D \\varphi$:\n",
    "$$\\D \\bm X = \\D \\bm R + \\D \\bm \\varphi \\times \\bm r$$\n",
    "où $\\bm r$ est un point appartenant à $\\mathcal{V}$, mesuré dans le repère $(x,y,z)$ d'origine $O$ (le centre de masse) fixé au solide: $\\bm X = \\bm R + \\bm r$ à chaque instant $t$.\n",
    "\n",
    "Les coordonnées $(X,Y,Z)$ sont fixes, tandis que les coordonnées $(x,y,z)$ évoluent dans le temps:\n",
    "$$\\frac{\\D \\bm X}{\\D t} = \\bm v, \\; \\frac{\\D \\bm R}{\\D t} = \\bm V, \\; \\frac{\\D \\bm a}{\\D t} = \\bm \\Omega$$\n",
    "On a donc la transformation de la vitesse entre le repère fixe $\\bm v$ et le mouvement du corps:\n",
    "$$\\bm v = \\bm V + \\bm \\Omega \\times \\bm r$$\n",
    "Le vecteur $\\bm r$ ne dépend pas du temps puisqu'il est un point d'un corps solide (indéformable).\n",
    "\n",
    "Si l'origine de coordonnées du corps n'est pas sur son centre de masse, mais il est déplacé de $\\bm d$, on a la transformation suivante:\n",
    "$$\\bm v = \\bm V + \\bm \\Omega \\times \\bm d + \\bm \\Omega \\times \\bm r'$$\n",
    "avec $\\bm r = \\bm r' + \\bm d$,\n",
    "$$\\bm V' = \\bm V + \\bm \\Omega \\times \\bm d, \\; \\bm \\Omega' = \\bm \\Omega$$\n",
    "le centre de masse tourne, mais la vitesse angulaire du corps est invariante."
   ]
  },
  {
   "cell_type": "markdown",
   "id": "753cd878-80d7-483a-90dd-80ffbb1079cd",
   "metadata": {},
   "source": [
    "## Énergie cinétique\n",
    "\n",
    "Elle est donnée par la formule habituelle\n",
    "$$T = \\frac{1}{2} \\sum_n m_n \\bm v_n^2$$\n",
    "En y substituant l'expression de $\\bm v$ on obtient:\n",
    "$$T = \\frac{1}{2} \\sum_n m_n \\bm V^2 + \\sum_n m_n \\bm \\Omega \\times \\bm r_n + \\frac{1}{2} \\sum_n m_n \\left( \\Omega \\times \\bm r_n \\right)^2$$\n",
    "On note que le terme du milieu est nul, par définition du centre de masse, on a donc:\n",
    "$$T = \\frac{M V^2}{2} + \\frac{1}{2} \\sum_n m_n \\left( \\Omega \\times \\bm r_n \\right)^2=  \\frac{M V^2}{2} +  \\frac{1}{2} \\sum_n m_n (\\Omega_l^2 x_{nl}^2 - \\Omega_i x_{ni} \\Omega_j x_{nj})$$\n",
    "où nous avons introduit la notation en coordonnées (avec la convention que l'on fait la somme sur les indices répétés). En notant que $\\Omega_l^2 x_l^2 = \\Omega_i \\Omega_j \\delta_{ij} x_l^2$, on peut écrire:\n",
    "$$T = \\frac{M V^2}{2} + \\frac{1}{2} \\sum_n m_n (x_{nl}^2 \\delta_{ij} - x_{ni} x_{nj}) \\Omega_i \\Omega_j$$\n",
    "On trouve donc\n",
    "$$T = \\frac{M V^2}{2} + \\frac{1}{2} I_{ij} \\Omega_i \\Omega_j$$\n",
    "avec \n",
    "$$I_{ij} =  \\sum_n m_n (x_{nl}^2 \\delta_{ij} - x_{ni} x_{nj})$$\n",
    "le tenseur d'inertie."
   ]
  },
  {
   "cell_type": "markdown",
   "id": "ef2f79be-0576-412a-9017-82e17fce3412",
   "metadata": {},
   "source": [
    "### Angles d'Euler"
   ]
  },
  {
   "cell_type": "markdown",
   "id": "19c93fbb-cc1a-4c2e-be19-b595a6e09a84",
   "metadata": {},
   "source": [
    "Les angles d'Euler sont définis par la matrice de rotation entre le repère fixe $(\\bm e_X, \\bm e_Y, \\bm e_Z)$ et le repère du corps (mobile)  $(\\bm e_x, \\bm e_y, \\bm e_z)$:\n",
    "* Rotation d'angle $\\phi$ et d'axe $Z$: $(XYZ) \\rightarrow (Ny_1Z)$\n",
    "\\begin{align}\n",
    "\\bm e_N &= R_Z(\\phi) \\bm e_X \\\\\n",
    "\\bm e_{y_1} &= R_Z(\\phi) \\bm e_Y\n",
    "\\end{align}\n",
    "\n",
    "* Rotation d'angle $\\theta$ et d'axe $N$: $(Ny_1Z) \\rightarrow (Ny_2z)$\n",
    "\\begin{align}\n",
    "\\bm e_{y_2} &= R_N(\\theta) \\bm e_{y_1} \\\\\n",
    "\\bm e_z &= R_N(\\theta) \\bm e_Z\n",
    "\\end{align}\n",
    "\n",
    "* Rotation d'angle $\\psi$ et d'axe $z$: $(Ny_2z) \\rightarrow (xyz)$\n",
    "\\begin{align}\n",
    "\\bm e_x &= R_z(\\psi) \\bm e_N \\\\\n",
    "\\bm e_y &= R_z(\\psi) \\bm e_{y_2}\n",
    "\\end{align}\n",
    "\n",
    "La composition de trois rotations s'écrit\n",
    "\\begin{align}\n",
    "\\bm e_x &= R_z(\\psi)R_x(\\theta)R_z(\\phi) \\bm e_X \\\\\n",
    "\\bm e_y &= R_z(\\psi)R_x(\\theta)R_z(\\phi) \\bm e_Y \\\\\n",
    "\\bm e_z &= R_z(\\psi)R_x(\\theta) \\bm e_Z\n",
    "\\end{align}\n",
    "ou aussi comme:\n",
    "$$ \\begin{pmatrix} \\bm e_x & \\bm e_y & \\bm e_z \\end{pmatrix} = \\begin{pmatrix} \\bm e_X & \\bm e_Y & \\bm e_Z \\end{pmatrix} R(\\phi,\\theta,\\psi) ,$$\n",
    "avec,\n",
    "$$R(\\phi,\\theta,\\psi) = R_Z(\\phi) R_X(\\theta) R_Z(\\psi),$$\n",
    "soit\n",
    "$$R(\\phi, \\theta, \\psi)=\\begin{pmatrix}- \\cos\\theta  \\sin\\psi \\sin\\phi + \\cos\\psi \\cos\\phi & -\\cos\\theta \\sin\\psi \\cos\\phi - \\cos\\psi \\sin\\phi & \\sin\\theta \\sin\\psi \\\\ \\cos\\theta \\cos\\psi \\sin\\phi + \\sin\\psi \\cos\\phi & \\cos\\theta \\cos\\psi \\cos\\phi - \\sin\\psi \\sin\\phi & - \\sin\\theta \\cos\\psi \\\\ \\sin\\theta \\sin\\phi & \\sin\\theta \\cos\\phi & \\cos\\theta \\end{pmatrix}$$\n",
    "Les **colonnes** de cette matrice sont les vecteurs du repère mobile.\n",
    "\n",
    "Si les coordonnées d'un vecteur dans le repère mobile sont $(x,y,z)$, dans le repère fixe elles sont données par:\n",
    "$$\\begin{pmatrix} x \\\\ y \\\\ z \\end{pmatrix} = C(\\phi,\\theta, \\psi) \\begin{pmatrix} X \\\\ Y \\\\ Z \\end{pmatrix},$$\n",
    "où \n",
    "$$C = R^T = C_z(\\psi) C_x(\\theta) C_z(\\phi)$$\n",
    "est la matrice de changement de coordonnées (transposée de la rotation d'Euler)."
   ]
  },
  {
   "cell_type": "markdown",
   "id": "09fc87a3-b489-468c-ac73-9bcdb51b96be",
   "metadata": {},
   "source": [
    "## Vitesse angulaire en fonction des angles d'Euler\n",
    "\n",
    "Dans le repère du centre de masse $(x,y,z)$:\n",
    "\\begin{align*}\n",
    "\\Omega_x &= \\dot{\\psi} \\sin \\theta \\sin \\varphi + \\dot{\\theta} \\cos \\varphi \\\\\n",
    "\\Omega_y &= \\dot{\\psi} \\sin \\theta \\cos \\varphi - \\dot{\\theta} \\sin \\varphi \\\\\n",
    "\\Omega_z &= \\dot{\\psi} \\cos \\theta + \\dot{\\varphi}\n",
    "\\end{align*}"
   ]
  },
  {
   "cell_type": "code",
   "execution_count": 6,
   "id": "c892e137-ac36-4443-b57f-819b06a1a629",
   "metadata": {},
   "outputs": [],
   "source": [
    "phi, theta, psi = symbols(\"phi, theta, psi\", real=True)\n",
    "\n",
    "def R_x(phi):\n",
    "    c = sy.cos(phi)\n",
    "    s = sy.sin(phi)\n",
    "    return sy.Matrix([[1,  0, 0],\n",
    "                  [0, c, -s],\n",
    "                  [0, s,  c]])\n",
    "def R_y(phi):\n",
    "    c = sy.cos(phi)\n",
    "    s = sy.sin(phi)\n",
    "    return sy.Matrix([[ c, 0, s],\n",
    "                  [ 0, 1, 0],\n",
    "                  [-s, 0, c]])\n",
    "\n",
    "def R_z(phi):\n",
    "    c = sy.cos(phi)\n",
    "    s = sy.sin(phi)\n",
    "    return sy.Matrix([[c, -s, 0],\n",
    "                  [s,  c, 0],\n",
    "                  [0,  0, 1]])"
   ]
  },
  {
   "cell_type": "code",
   "execution_count": 36,
   "id": "2b662d8e-512e-4a0e-8446-09e1f8abdac9",
   "metadata": {},
   "outputs": [
    {
     "data": {
      "image/png": "[encoded data removed]",
      "text/latex": [
       "$\\displaystyle \\left[\\begin{matrix}\\phi_{t} \\sin{\\left(\\psi \\right)} \\sin{\\left(\\theta \\right)} + \\theta_{t} \\cos{\\left(\\psi \\right)}\\\\\\phi_{t} \\sin{\\left(\\theta \\right)} \\cos{\\left(\\psi \\right)} - \\theta_{t} \\sin{\\left(\\psi \\right)}\\\\\\phi_{t} \\cos{\\left(\\theta \\right)} + \\psi_{t}\\end{matrix}\\right]$"
      ],
      "text/plain": [
       "⎡φₜ⋅sin(ψ)⋅sin(θ) + θₜ⋅cos(ψ)⎤\n",
       "⎢                            ⎥\n",
       "⎢φₜ⋅sin(θ)⋅cos(ψ) - θₜ⋅sin(ψ)⎥\n",
       "⎢                            ⎥\n",
       "⎣       φₜ⋅cos(θ) + ψₜ       ⎦"
      ]
     },
     "execution_count": 36,
     "metadata": {},
     "output_type": "execute_result"
    }
   ],
   "source": [
    "# d phi/d t est dirigé selon ez(mobile)\n",
    "# d theta/d t est dirigé selon la ligne nodale eN\n",
    "# d psi/d t est dirigé selon eZ (fixe)\n",
    "psi_t, theta_t, phi_t = sy.symbols(\"psi_t, theta_t, phi_t\", real=True)\n",
    "#\n",
    "ex = sy.Matrix([1,0,0])\n",
    "ey = sy.Matrix([0,1,0])\n",
    "ez = sy.Matrix([0,0,1])\n",
    "\n",
    "eZ = R_z(-psi)*R_x(-theta)*ez\n",
    "eN = R_z(-psi)*ex\n",
    "Omega = psi_t*ez + theta_t*eN + phi_t*eZ\n",
    "Omega"
   ]
  },
  {
   "cell_type": "markdown",
   "id": "bc2517e3-05ca-471e-a77f-bc76489d1937",
   "metadata": {},
   "source": [
    "### Équation d'Euler de changement de repère\n",
    "\n",
    "La variation d'un vector quelconque $\\bm A$ se décompose dans une partie de variation intrinsèque (dans le repère mobile) qu'on note avec une prime, et une autre partie due à la rotation de vitesse angulaire $\\bm \\Omega$:\n",
    "$$\\frac{\\D \\bm A}{\\D t} = \\frac{\\D' \\bm A}{\\D t} + \\Omega \\times \\bm A$$\n",
    "On peut aussi noter explicitement les repères:\n",
    "$$\\left. \\frac{\\D \\bm A}{\\D t} \\right|_{(X,Y,Z)} = \\left. \\frac{\\D \\bm A}{\\D t} \\right|_{(x,y,x)} + \\left. \\Omega \\times \\bm A \\right|_{(x,y,z)}$$"
   ]
  },
  {
   "cell_type": "markdown",
   "id": "2883f78f-cb62-4e6d-a15c-addc68650fd1",
   "metadata": {},
   "source": [
    "## Moment cinétique\n",
    "\n",
    "Pour un ensemble de points matériels le moment cinétique (ou moment angulaire) $\\bm L$:\n",
    "$$\\bm L = \\sum_n m_n \\bm r_n \\times \\bm v_n$$\n",
    "Un changement du centre de coordonnées par une translation $\\bm d$, $\\bm r = \\bm r' + \\bm d$ transforme le moment \n",
    "$$\\bm L = \\sum_n (\\bm r'_n \\times \\bm p_n + \\bm d \\times \\bm p_n) = \\bm L' + \\bm d \\times \\bm P$$\n",
    "Si deux systèmes ont une vitesse relative $\\bm V$: $\\bm v_n = \\bm v'_n + \\bm V$, le moment cinétique change selon la loi:\n",
    "$$\\bm L = \\bm L' + M \\bm R \\times V$$\n",
    "\n",
    "### Solide\n",
    "\n",
    "La généralisation à un corps solide consiste à remplacer la vitesse des particules par la vitesse angulaire du solide $\\bm \\Omega \\times \\bm r$:\n",
    "$$L_i = I_{ij} \\Omega_j$$\n",
    "(toujours on somme sur les indices répétés).\n",
    "Notez:\n",
    "$$\\bm r \\times (\\bm \\Omega \\times \\bm r) = \\bm \\Omega r^2 - \\bm r (\\Omega \\cdot \\bm r)$$\n",
    "ce qui s'écrit comme le produit du tenseur d'inertie par le vecteur de vitesse angulaire. \n",
    "\n",
    "Il convient de faire un changement de coordonnées pour exprimer le tenseur d'inertie selon ses axes principales:\n",
    "$$ L_x = I_x \\Omega_x,\\; L_y = I_y \\Omega_y, \\; L_z = I_z \\Omega_z$$\n",
    "\n",
    "### Variation de $\\bm L$: Équations d'Euler\n",
    "\n",
    "La variation \"instantanée\" du moment $\\bm L$ est donnée par la formule générale, applicable à tout vecteur:\n",
    "$$\\left. \\frac{\\D \\bm L}{\\D t} \\right|_{(X,Y,Z)} = \\left. \\frac{\\D \\bm L}{\\D t} \\right|_{(x,y,x)} + \\left. \\Omega \\times \\bm L \\right|_{(x,y,z)}$$\n",
    "où $(X,Y,Z)$ est le repère fixe, et $(x,y,z)$ le repére fixé au solide, mobile par rapport à $(X,Y,Z)$.\n",
    "\n",
    "Dans le cas où le tenseur $I$ est diagonal, on a\n",
    "\\begin{align*}\n",
    "\\dot{L}_x &= I_x \\frac{\\D \\Omega_x}{\\D t} + (I_z-I_y)\\Omega_y \\Omega_z \\\\\n",
    "\\dot{L}_y &= I_y \\frac{\\D \\Omega_y}{\\D t} + (I_x-I_z)\\Omega_x \\Omega_z \\\\\n",
    "\\dot{L}_z &= I_z \\frac{\\D \\Omega_z}{\\D t} + (I_y-I_x)\\Omega_x \\Omega_y \\\\\n",
    "\\end{align*}"
   ]
  },
  {
   "cell_type": "code",
   "execution_count": 27,
   "id": "3668c8a0-7242-4b2d-8cce-48952ee92154",
   "metadata": {},
   "outputs": [],
   "source": [
    "ox, oy, oz = sy.symbols(\"Omega_x, Omega_y, Omega_z\")\n",
    "oxt, oyt, ozt = sy.symbols(\"\\dot\\Omega_x, \\dot\\Omega_y, \\dot\\Omega_z\")\n",
    "Ix, Iy, Iz, Ig = sy.symbols(\"I_x, I_y, I_z, I^G\")"
   ]
  },
  {
   "cell_type": "code",
   "execution_count": 32,
   "id": "446cf781-0bdc-4d1a-bce9-1f709df95eb5",
   "metadata": {},
   "outputs": [
    {
     "data": {
      "image/png": "[encoded data removed]",
      "text/latex": [
       "$\\displaystyle \\left[\\begin{matrix}\\Omega_{y} \\Omega_{z} \\left(- I_{y} + I_{z}\\right)\\\\\\Omega_{x} \\Omega_{z} \\left(I_{x} - I_{z}\\right)\\\\\\Omega_{x} \\Omega_{y} \\left(- I_{x} + I_{y}\\right)\\end{matrix}\\right]$"
      ],
      "text/plain": [
       "⎡Ω_y⋅Ω_z⋅(-I_y + I_z)⎤\n",
       "⎢                    ⎥\n",
       "⎢ Ωₓ⋅Ω_z⋅(Iₓ - I_z)  ⎥\n",
       "⎢                    ⎥\n",
       "⎣ Ωₓ⋅Ω_y⋅(-Iₓ + I_y) ⎦"
      ]
     },
     "execution_count": 32,
     "metadata": {},
     "output_type": "execute_result"
    }
   ],
   "source": [
    "O = sy.Matrix([[ox],[oy],[oz]])\n",
    "Ig = sy.Matrix([[Ix,0,0],[0,Iy,0],[0,0,Iz]])\n",
    "L = Ig*O\n",
    "oL = sy.simplify( O.cross(L) )\n",
    "oL"
   ]
  },
  {
   "cell_type": "code",
   "execution_count": 33,
   "id": "b7b8c983-d7bb-4419-9af7-e2318df3b832",
   "metadata": {},
   "outputs": [
    {
     "data": {
      "image/png": "[encoded data removed]",
      "text/latex": [
       "$\\displaystyle \\left( I_{x} \\dot\\Omega_{x} + \\Omega_{y} \\Omega_{z} \\left(- I_{y} + I_{z}\\right), \\  I_{y} \\dot\\Omega_{y} + \\Omega_{x} \\Omega_{z} \\left(I_{x} - I_{z}\\right), \\  I_{z} \\dot\\Omega_{z} + \\Omega_{x} \\Omega_{y} \\left(- I_{x} + I_{y}\\right)\\right)$"
      ],
      "text/plain": [
       "(Iₓ⋅\\dot\\Omegaₓ + Ω_y⋅Ω_z⋅(-I_y + I_z), I_y⋅\\dot\\Omega_y + Ωₓ⋅Ω_z⋅(Iₓ - I_z), \n",
       "I_z⋅\\dot\\Omega_z + Ωₓ⋅Ω_y⋅(-Iₓ + I_y))"
      ]
     },
     "execution_count": 33,
     "metadata": {},
     "output_type": "execute_result"
    }
   ],
   "source": [
    "Ix*oxt + oL[0], Iy*oyt + oL[1], Iz*ozt + oL[2]"
   ]
  },
  {
   "cell_type": "code",
   "execution_count": 39,
   "id": "900d0f60-cdad-4006-b352-272e6482c5cd",
   "metadata": {},
   "outputs": [
    {
     "data": {
      "image/png": "[encoded data removed]",
      "text/latex": [
       "$\\displaystyle \\left[\\begin{matrix}\\left(- I_{y} + I_{z}\\right) \\left(\\phi_{t} \\cos{\\left(\\theta \\right)} + \\psi_{t}\\right) \\left(\\phi_{t} \\sin{\\left(\\theta \\right)} \\cos{\\left(\\psi \\right)} - \\theta_{t} \\sin{\\left(\\psi \\right)}\\right)\\\\\\left(I_{x} - I_{z}\\right) \\left(\\phi_{t} \\cos{\\left(\\theta \\right)} + \\psi_{t}\\right) \\left(\\phi_{t} \\sin{\\left(\\psi \\right)} \\sin{\\left(\\theta \\right)} + \\theta_{t} \\cos{\\left(\\psi \\right)}\\right)\\\\\\left(- I_{x} + I_{y}\\right) \\left(\\phi_{t} \\sin{\\left(\\psi \\right)} \\sin{\\left(\\theta \\right)} + \\theta_{t} \\cos{\\left(\\psi \\right)}\\right) \\left(\\phi_{t} \\sin{\\left(\\theta \\right)} \\cos{\\left(\\psi \\right)} - \\theta_{t} \\sin{\\left(\\psi \\right)}\\right)\\end{matrix}\\right]$"
      ],
      "text/plain": [
       "⎡      (-I_y + I_z)⋅(φₜ⋅cos(θ) + ψₜ)⋅(φₜ⋅sin(θ)⋅cos(ψ) - θₜ⋅sin(ψ))       ⎤\n",
       "⎢                                                                         ⎥\n",
       "⎢       (Iₓ - I_z)⋅(φₜ⋅cos(θ) + ψₜ)⋅(φₜ⋅sin(ψ)⋅sin(θ) + θₜ⋅cos(ψ))        ⎥\n",
       "⎢                                                                         ⎥\n",
       "⎣(-Iₓ + I_y)⋅(φₜ⋅sin(ψ)⋅sin(θ) + θₜ⋅cos(ψ))⋅(φₜ⋅sin(θ)⋅cos(ψ) - θₜ⋅sin(ψ))⎦"
      ]
     },
     "execution_count": 39,
     "metadata": {},
     "output_type": "execute_result"
    }
   ],
   "source": [
    "LO = Ig*Omega\n",
    "oLO = sy.simplify( Omega.cross(LO) )\n",
    "oLO"
   ]
  },
  {
   "cell_type": "markdown",
   "id": "82bb3611-b59f-4c8c-930c-7dd999c2702b",
   "metadata": {},
   "source": [
    "# Brouillon"
   ]
  },
  {
   "cell_type": "code",
   "execution_count": 43,
   "id": "36a44608-5e32-4a61-9d07-b0d3c1533883",
   "metadata": {},
   "outputs": [
    {
     "data": {
      "image/png": "[encoded data removed]",
      "text/latex": [
       "$\\displaystyle \\left[\\begin{matrix}- \\sin{\\left(\\phi \\right)} \\sin{\\left(\\psi \\right)} \\cos{\\left(\\theta \\right)} + \\cos{\\left(\\phi \\right)} \\cos{\\left(\\psi \\right)}\\\\\\sin{\\left(\\phi \\right)} \\cos{\\left(\\psi \\right)} \\cos{\\left(\\theta \\right)} + \\sin{\\left(\\psi \\right)} \\cos{\\left(\\phi \\right)}\\\\\\sin{\\left(\\phi \\right)} \\sin{\\left(\\theta \\right)}\\end{matrix}\\right]$"
      ],
      "text/plain": [
       "⎡-sin(φ)⋅sin(ψ)⋅cos(θ) + cos(φ)⋅cos(ψ)⎤\n",
       "⎢                                     ⎥\n",
       "⎢sin(φ)⋅cos(ψ)⋅cos(θ) + sin(ψ)⋅cos(φ) ⎥\n",
       "⎢                                     ⎥\n",
       "⎣            sin(φ)⋅sin(θ)            ⎦"
      ]
     },
     "execution_count": 43,
     "metadata": {},
     "output_type": "execute_result"
    }
   ],
   "source": [
    "R_z(psi)*R_x(theta)*R_z(phi)*ex"
   ]
  },
  {
   "cell_type": "code",
   "execution_count": 44,
   "id": "e2c93c84-0d06-4c73-88af-7a72d5305be9",
   "metadata": {},
   "outputs": [
    {
     "data": {
      "image/png": "[encoded data removed]",
      "text/latex": [
       "$\\displaystyle \\left[\\begin{matrix}- \\sin{\\left(\\phi \\right)} \\cos{\\left(\\psi \\right)} - \\sin{\\left(\\psi \\right)} \\cos{\\left(\\phi \\right)} \\cos{\\left(\\theta \\right)}\\\\- \\sin{\\left(\\phi \\right)} \\sin{\\left(\\psi \\right)} + \\cos{\\left(\\phi \\right)} \\cos{\\left(\\psi \\right)} \\cos{\\left(\\theta \\right)}\\\\\\sin{\\left(\\theta \\right)} \\cos{\\left(\\phi \\right)}\\end{matrix}\\right]$"
      ],
      "text/plain": [
       "⎡-sin(φ)⋅cos(ψ) - sin(ψ)⋅cos(φ)⋅cos(θ)⎤\n",
       "⎢                                     ⎥\n",
       "⎢-sin(φ)⋅sin(ψ) + cos(φ)⋅cos(ψ)⋅cos(θ)⎥\n",
       "⎢                                     ⎥\n",
       "⎣            sin(θ)⋅cos(φ)            ⎦"
      ]
     },
     "execution_count": 44,
     "metadata": {},
     "output_type": "execute_result"
    }
   ],
   "source": [
    "R_z(psi)*R_x(theta)*R_z(phi)*ey"
   ]
  },
  {
   "cell_type": "code",
   "execution_count": 45,
   "id": "ffb20132-b7e4-4e18-8e40-3b3c651abe08",
   "metadata": {},
   "outputs": [
    {
     "data": {
      "image/png": "[encoded data removed]",
      "text/latex": [
       "$\\displaystyle \\left[\\begin{matrix}\\sin{\\left(\\psi \\right)} \\sin{\\left(\\theta \\right)}\\\\- \\sin{\\left(\\theta \\right)} \\cos{\\left(\\psi \\right)}\\\\\\cos{\\left(\\theta \\right)}\\end{matrix}\\right]$"
      ],
      "text/plain": [
       "⎡sin(ψ)⋅sin(θ) ⎤\n",
       "⎢              ⎥\n",
       "⎢-sin(θ)⋅cos(ψ)⎥\n",
       "⎢              ⎥\n",
       "⎣    cos(θ)    ⎦"
      ]
     },
     "execution_count": 45,
     "metadata": {},
     "output_type": "execute_result"
    }
   ],
   "source": [
    "R_z(psi)*R_x(theta)*ez"
   ]
  },
  {
   "cell_type": "code",
   "execution_count": 40,
   "id": "e49d9a82-4ff9-4a6b-b7ba-259093fbcc35",
   "metadata": {},
   "outputs": [
    {
     "data": {
      "image/png": "[encoded data removed]",
      "text/latex": [
       "$\\displaystyle \\left[\\begin{matrix}\\frac{\\phi_{t}^{2} \\left(- I_{y} + I_{z}\\right) \\sin{\\left(2 \\theta \\right)}}{2}\\\\\\phi_{t} \\theta_{t} \\left(I_{x} - I_{z}\\right) \\cos{\\left(\\theta \\right)}\\\\\\phi_{t} \\theta_{t} \\left(- I_{x} + I_{y}\\right) \\sin{\\left(\\theta \\right)}\\end{matrix}\\right]$"
      ],
      "text/plain": [
       "⎡  2                      ⎤\n",
       "⎢φₜ ⋅(-I_y + I_z)⋅sin(2⋅θ)⎥\n",
       "⎢─────────────────────────⎥\n",
       "⎢            2            ⎥\n",
       "⎢                         ⎥\n",
       "⎢ φₜ⋅θₜ⋅(Iₓ - I_z)⋅cos(θ) ⎥\n",
       "⎢                         ⎥\n",
       "⎣φₜ⋅θₜ⋅(-Iₓ + I_y)⋅sin(θ) ⎦"
      ]
     },
     "execution_count": 40,
     "metadata": {},
     "output_type": "execute_result"
    }
   ],
   "source": [
    "sy.simplify( oLO.subs([(psi_t,0),(psi,0)]) )"
   ]
  },
  {
   "cell_type": "code",
   "execution_count": null,
   "id": "50ffd1e7-4a26-47f6-89c9-9cb9a5e727e2",
   "metadata": {},
   "outputs": [],
   "source": []
  }
 ],
 "metadata": {
  "kernelspec": {
   "display_name": "Python 3 (ipykernel)",
   "language": "python",
   "name": "python3"
  },
  "language_info": {
   "codemirror_mode": {
    "name": "ipython",
    "version": 3
   },
   "file_extension": ".py",
   "mimetype": "text/x-python",
   "name": "python",
   "nbconvert_exporter": "python",
   "pygments_lexer": "ipython3",
   "version": "3.10.10"
  }
 },
 "nbformat": 4,
 "nbformat_minor": 5
}
