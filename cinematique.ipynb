{
 "cells": [
  {
   "cell_type": "markdown",
   "id": "94318a68-b5db-48dd-aec9-ccfb70fe1846",
   "metadata": {},
   "source": [
    "Markdown macros\n",
    "\n",
    "$\\newcommand{\\I}{\\mathrm{i}} \n",
    "\\newcommand{\\E}{\\mathrm{e}} \n",
    "\\newcommand{\\D}{\\mathop{}\\!\\mathrm{d}}\n",
    "\\newcommand{\\bra}[1]{\\langle{#1}|}\n",
    "\\newcommand{\\ket}[1]{|{#1}\\rangle}\n",
    "\\newcommand{\\braket}[1]{\\langle{#1}\\rangle}\n",
    "\\newcommand{\\bm}[1]{\\boldsymbol{#1}}$"
   ]
  },
  {
   "cell_type": "markdown",
   "id": "c70b3dbd-95a2-481c-8b49-6471b788a36b",
   "metadata": {},
   "source": [
    "# Imports"
   ]
  },
  {
   "cell_type": "code",
   "execution_count": 1,
   "id": "67990397-9f07-4111-b707-e696edca7ceb",
   "metadata": {},
   "outputs": [],
   "source": [
    "# numpy\n",
    "import numpy as np"
   ]
  },
  {
   "cell_type": "code",
   "execution_count": 2,
   "id": "2db7197f-78d1-4bb5-b730-164071243bd6",
   "metadata": {},
   "outputs": [],
   "source": [
    "# matplotlib\n",
    "import matplotlib\n",
    "import matplotlib.pylab as plt"
   ]
  },
  {
   "cell_type": "code",
   "execution_count": 3,
   "id": "12ca916e-8991-447a-a701-f20c673f0101",
   "metadata": {
    "tags": []
   },
   "outputs": [],
   "source": [
    "%matplotlib inline"
   ]
  },
  {
   "cell_type": "code",
   "execution_count": 4,
   "id": "c5cc2285-a369-49ce-a2e7-6f67e3eb8947",
   "metadata": {
    "tags": []
   },
   "outputs": [],
   "source": [
    "# sympy\n",
    "import sympy as sy\n",
    "from sympy import symbols\n",
    "from sympy import simplify, expand, collect, cancel, apart, trigsimp\n",
    "from sympy import integrate, diff, series\n",
    "sy.init_printing(use_unicode = True)"
   ]
  },
  {
   "cell_type": "markdown",
   "id": "0ec68268-cdb2-4579-8d9e-13954bc4e590",
   "metadata": {
    "tags": []
   },
   "source": [
    "# Centre de masse\n",
    "\n",
    "Pour un ensemble de $N$ particules de masse $m_n$ la défintion de $\\bm R$ est:\n",
    "$$\\sum_{n = 1}^N m_n (\\bm r_n - \\bm R) = 0$$\n",
    "où $\\bm r_n$ sont les positions:\n",
    "$$\\bm R = \\frac{1}{M}\\sum_{n = 1}^N m_n \\bm r_n, \\quad M = \\sum_{n = 1}^N m_n$$\n",
    "\n",
    "Pour une distribution de masse continue de densité $\\rho(\\bm r)$, la formule équivalente est\n",
    "$$ \\bm R = \\frac{1}{M}\\int_V \\D \\bm r\\, \\bm r \\rho(\\bm r), \\quad  M = \\int_V \\D \\bm r\\, \\rho(\\bm r)$$\n",
    "avec $V$ le volume du corps."
   ]
  },
  {
   "cell_type": "markdown",
   "id": "55ecea42-43c7-433a-9a59-bf8d429f5bdb",
   "metadata": {},
   "source": [
    "# Aire et volume\n",
    "\n",
    "L'élément $\\D V$ d'un volume $V$ défini par les formules paramétriques\n",
    "$$x = x(u, v, w), \\; y = y(u, v, w), \\; z = z(u, v, w)$$\n",
    "est,\n",
    "$$\\D V = \\D x \\D y \\D z= J \\D u \\D v \\D w$$\n",
    "avec le jacobien,\n",
    "$$J = \\begin{vmatrix} \n",
    "\\frac{\\partial x}{\\partial u} & \\frac{\\partial x}{\\partial v} & \\frac{\\partial x}{\\partial w} \\\\ \n",
    "\\frac{\\partial y}{\\partial u} & \\frac{\\partial y}{\\partial v} & \\frac{\\partial y}{\\partial w} \\\\\n",
    "\\frac{\\partial z}{\\partial u} & \\frac{\\partial z}{\\partial v} & \\frac{\\partial z}{\\partial w} \n",
    "\\end{vmatrix}$$\n",
    "\n",
    "On obtient l'élément d'aire $\\D A$ d'une façon équivalente:\n",
    "$$dA = \\D x \\D y = J \\D u \\D v, \\quad J = \\left| \\frac{\\partial \\bm r}{\\partial u} \\times \\frac{\\partial \\bm r}{\\partial v} \\right|$$\n",
    "où $\\bm r = (x(u,v), y(u,v), z(u,v))$.\n",
    "\n",
    "### Surface, forme explicite\n",
    "\n",
    "Soit $\\bm r = (x, y, f(x,y)$ (les deux paramètres sont les coordonnées $(x,y)$):\n",
    "$$A = \\int_S \\D x \\D y\\, \\left| (1,0,f_x) \\times (0,1,f_y) \\right|  = \\int_S \\D x \\D y\\, \\sqrt{1 + f_x^2 + f_y^2}$$ \n"
   ]
  },
  {
   "cell_type": "markdown",
   "id": "9cebec39-76a4-4f97-9a06-4c0db20b2ada",
   "metadata": {},
   "source": [
    "## Exemples: sphère, triangle, ..."
   ]
  },
  {
   "cell_type": "code",
   "execution_count": 9,
   "id": "fb24bf05-6315-43b8-a24e-9517a65f891f",
   "metadata": {},
   "outputs": [
    {
     "data": {
      "image/png": "[encoded data removed]",
      "text/latex": [
       "$\\displaystyle \\frac{2 \\pi a^{3} \\rho}{3}$"
      ],
      "text/plain": [
       "     3  \n",
       "2⋅π⋅a ⋅ρ\n",
       "────────\n",
       "   3    "
      ]
     },
     "execution_count": 9,
     "metadata": {},
     "output_type": "execute_result"
    }
   ],
   "source": [
    "# Demi-sphère:\n",
    "a = symbols(\"a\", positive=True)\n",
    "rho = symbols(\"rho\", positive=True)\n",
    "r, theta, phi = symbols(\"r, theta, phi\", real=True)\n",
    "M = rho*integrate(1, (phi,0,2*sy.pi*))*\\\n",
    "        integrate(sy.sin(theta), (theta, 0, sy.pi/2))*\\\n",
    "        integrate(r**2, (r,0,a))\n",
    "M"
   ]
  },
  {
   "cell_type": "code",
   "execution_count": 18,
   "id": "f3de98c7-5c24-462d-8fd2-4fea6c5888e1",
   "metadata": {},
   "outputs": [],
   "source": [
    "R_x = (rho/M)*integrate(sy.sin(phi), (phi,0,2*sy.pi))*\\\n",
    "        integrate(sy.sin(theta)*sy.sin(theta), (theta, 0, sy.pi/2))*\\\n",
    "        integrate(r**3, (r,0,a))\n",
    "\n",
    "R_y = (rho/M)*integrate(sy.cos(phi), (phi,0,2*sy.pi))*\\\n",
    "        integrate(sy.sin(theta)*sy.sin(theta), (theta, 0, sy.pi/2))*\\\n",
    "        integrate(r**3, (r,0,a))\n",
    "\n",
    "R_z = (rho/M)*integrate(1, (phi,0,2*sy.pi))*\\\n",
    "        integrate(sy.cos(theta)*sy.sin(theta), (theta, 0, sy.pi/2))*\\\n",
    "        integrate(r**3, (r,0,a))"
   ]
  },
  {
   "cell_type": "code",
   "execution_count": 19,
   "id": "2314bb9a-e03d-483d-b641-74b4b23df867",
   "metadata": {},
   "outputs": [
    {
     "data": {
      "image/png": "[encoded data removed]",
      "text/latex": [
       "$\\displaystyle \\left( 0, \\  0, \\  \\frac{3 a}{8}\\right)$"
      ],
      "text/plain": [
       "⎛      3⋅a⎞\n",
       "⎜0, 0, ───⎟\n",
       "⎝       8 ⎠"
      ]
     },
     "execution_count": 19,
     "metadata": {},
     "output_type": "execute_result"
    }
   ],
   "source": [
    "(R_x, R_y, R_z)"
   ]
  },
  {
   "cell_type": "code",
   "execution_count": 15,
   "id": "c5aef280-a784-4caa-8dcf-960e1bf780dd",
   "metadata": {},
   "outputs": [
    {
     "data": {
      "image/png": "[encoded data removed]",
      "text/latex": [
       "$\\displaystyle 2 \\pi R^{2} \\sigma$"
      ],
      "text/plain": [
       "     2  \n",
       "2⋅π⋅R ⋅σ"
      ]
     },
     "execution_count": 15,
     "metadata": {},
     "output_type": "execute_result"
    }
   ],
   "source": [
    "# Demi-sphère:\n",
    "a = symbols(\"a\", positive=True)\n",
    "sigma = symbols(\"sigma\", positive=True)\n",
    "R, theta, phi = symbols(\"R, theta, phi\", real=True)\n",
    "M = sigma * R**2 * integrate(1, (phi,0,2*sy.pi))*\\\n",
    "        integrate(sy.sin(theta), (theta, 0, sy.pi/2))\n",
    "M"
   ]
  },
  {
   "cell_type": "code",
   "execution_count": 16,
   "id": "3e2a5d37-6783-4b44-91e3-4adadf0fb02d",
   "metadata": {},
   "outputs": [],
   "source": [
    "R_z = (sigma * R**2/M) * integrate(1, (phi,0,2*sy.pi))*\\\n",
    "        integrate(R * sy.cos(theta)*sy.sin(theta), (theta, 0, sy.pi/2))"
   ]
  },
  {
   "cell_type": "code",
   "execution_count": 17,
   "id": "d7aabb42-24c9-42ba-8e06-7ec4c56ef71e",
   "metadata": {},
   "outputs": [
    {
     "data": {
      "image/png": "[encoded data removed]",
      "text/latex": [
       "$\\displaystyle \\frac{R}{2}$"
      ],
      "text/plain": [
       "R\n",
       "─\n",
       "2"
      ]
     },
     "execution_count": 17,
     "metadata": {},
     "output_type": "execute_result"
    }
   ],
   "source": [
    "R_z"
   ]
  },
  {
   "cell_type": "code",
   "execution_count": 10,
   "id": "c1485448-dad7-4a48-a6f5-2272455428d9",
   "metadata": {},
   "outputs": [
    {
     "data": {
      "image/png": "[encoded data removed]",
      "text/latex": [
       "$\\displaystyle \\frac{a b \\rho}{2}$"
      ],
      "text/plain": [
       "a⋅b⋅ρ\n",
       "─────\n",
       "  2  "
      ]
     },
     "execution_count": 10,
     "metadata": {},
     "output_type": "execute_result"
    }
   ],
   "source": [
    "# Triangle\n",
    "a, b = symbols(\"a, b\", positive=True)\n",
    "x, y = symbols(\"x, y\", positive=True)\n",
    "rho = symbols(\"rho\", positive=True)\n",
    "M = rho * integrate(integrate(1, (y, 0, (b/a)*x)), (x, 0, a))\n",
    "M"
   ]
  },
  {
   "cell_type": "code",
   "execution_count": 11,
   "id": "c312f28d-769e-455e-9204-d13a29c69ff3",
   "metadata": {},
   "outputs": [],
   "source": [
    "R_x = (rho/M) * integrate(integrate(x, (y, 0, (b/a)*x)), (x, 0, a))\n",
    "R_y = (rho/M) * integrate(integrate(y, (y, 0, (b/a)*x)), (x, 0, a))"
   ]
  },
  {
   "cell_type": "code",
   "execution_count": 12,
   "id": "df58a474-d63e-4a92-a951-d348196fb243",
   "metadata": {},
   "outputs": [
    {
     "data": {
      "image/png": "[encoded data removed]",
      "text/latex": [
       "$\\displaystyle \\left( \\frac{2 a}{3}, \\  \\frac{b}{3}\\right)$"
      ],
      "text/plain": [
       "⎛2⋅a  b⎞\n",
       "⎜───, ─⎟\n",
       "⎝ 3   3⎠"
      ]
     },
     "execution_count": 12,
     "metadata": {},
     "output_type": "execute_result"
    }
   ],
   "source": [
    "R_x, R_y"
   ]
  },
  {
   "cell_type": "markdown",
   "id": "8dca82f9-f3bb-4da0-8ef0-68d812aa9331",
   "metadata": {},
   "source": [
    "# Moment d'inertie\n",
    "\n",
    "On consirère un corps de densité $\\rho = \\rho(\\bm r$, en général non homogène, de volume $V$. Le moment d'inertie est construit sur les moments d'ordre deux de la densité:\n",
    "$$I_{ij} = \\int_V \\D \\bm r \\, (r^2 \\delta_{i,j} - x_i x_j) \\rho(\\bm r)$$\n",
    "avec $i,j = 1, 2, 3$ correspondant aux coordonnées $\\bm r = (x, y, z)$.\n",
    "\n",
    "On peut représenter le moment d'inertie par une matrice:\n",
    "$$I = \\int_V \\D \\bm r \\, \\rho \\begin{pmatrix} y^2 + z^2 & -xy & -xz \\\\  -yx & x^2 + z^2 & -yz \\\\  -zx & -zy & x^2 + y^2 \\end{pmatrix}$$\n",
    "\n",
    "Un transformation de coordonnées permet de rendre la matrice diagonale. Les éléments de la diagonale:\n",
    "$$I = \\mathrm{diag}(I_x, I_y, I_z)$$\n",
    "sont les moments \"principaux\" d'inertie."
   ]
  },
  {
   "cell_type": "markdown",
   "id": "6ab6f6bc-b66b-4628-bea0-8e48fa9fa3ff",
   "metadata": {},
   "source": [
    "## Choix des coordonnées\n",
    "\n",
    "L'avantage d'écrire $I$ comme un tenseur c'est qu'on peut calculer ses élément dans n'importe quelle base. Cependant le calcul de $I_{ij}$ est grandement simplifié si on choisi un système de coordonnées qui respecte les symétries de l'objet.\n",
    "\n",
    "Si on note $I^G$ le tenseur d'inertie calculé sur le centre de masse, le tenseur $I$ calculé sur un point $\\bm d = (d_x, d_y, d_z)$, avec $d$ la distance du nouvel origine au centre de masse, on a la formule de changement de coordonnées:\n",
    "$$I_{ij} = I^G_{ij} + M(d^2 \\delta_{ij} - d_id_j)$$\n",
    "\n",
    "Dans le cas d'une rotation $R_{\\bm n}(\\varphi)$ du solide autour de centre de masse, la matrice $I^G$ change selon la formule:\n",
    "$$I = R_{\\bm n}(\\varphi) I^G R_{\\bm n}(\\varphi)^T$$\n",
    "\n",
    "Considérons un exemple. Un carré de côté $a$, avec l'origine en $(0,0)$ et en $(a/2,0)$:"
   ]
  },
  {
   "cell_type": "code",
   "execution_count": 6,
   "id": "622e5fdd-bcbe-4234-a039-ba46123050d7",
   "metadata": {},
   "outputs": [
    {
     "data": {
      "image/png": "[encoded data removed]",
      "text/latex": [
       "$\\displaystyle a^{2}$"
      ],
      "text/plain": [
       " 2\n",
       "a "
      ]
     },
     "execution_count": 6,
     "metadata": {},
     "output_type": "execute_result"
    }
   ],
   "source": [
    "a, x, y = sy.symbols(\"a, x, y\", real=True)\n",
    "M = sy.symbols(\"M\", real=True)\n",
    "def I_carre_0(f):\n",
    "    return sy.integrate(sy.integrate(f, (y, 0, a)), (x, 0, a))\n",
    "\n",
    "A = I_carre_0(1)\n",
    "rho = M/A      \n",
    "A"
   ]
  },
  {
   "cell_type": "code",
   "execution_count": 7,
   "id": "6e75dc10-8d2e-4e2f-9625-738c59328098",
   "metadata": {},
   "outputs": [
    {
     "data": {
      "image/png": "[encoded data removed]",
      "text/latex": [
       "$\\displaystyle \\left[\\begin{matrix}\\frac{M a^{2}}{3} & - \\frac{M a^{2}}{4} & 0\\\\- \\frac{M a^{2}}{4} & \\frac{M a^{2}}{3} & 0\\\\0 & 0 & \\frac{2 M a^{2}}{3}\\end{matrix}\\right]$"
      ],
      "text/plain": [
       "⎡    2       2         ⎤\n",
       "⎢ M⋅a    -M⋅a          ⎥\n",
       "⎢ ────   ──────    0   ⎥\n",
       "⎢  3       4           ⎥\n",
       "⎢                      ⎥\n",
       "⎢    2       2         ⎥\n",
       "⎢-M⋅a     M⋅a          ⎥\n",
       "⎢──────   ────     0   ⎥\n",
       "⎢  4       3           ⎥\n",
       "⎢                      ⎥\n",
       "⎢                     2⎥\n",
       "⎢                2⋅M⋅a ⎥\n",
       "⎢  0       0     ──────⎥\n",
       "⎣                  3   ⎦"
      ]
     },
     "execution_count": 7,
     "metadata": {},
     "output_type": "execute_result"
    }
   ],
   "source": [
    "# ORIGINE(0,0)\n",
    "I_xx = rho * I_carre_0(y**2)                \n",
    "I_yy = rho * I_carre_0(x**2)           \n",
    "I_xy = rho * I_carre_0(-x*y)\n",
    "I_zz = I_xx + I_yy\n",
    "I_0 = sy.Matrix([[I_xx, I_xy, 0], [I_xy, I_yy, 0], [0, 0, I_zz]])\n",
    "I_0"
   ]
  },
  {
   "cell_type": "code",
   "execution_count": 9,
   "id": "6601b681-8e59-4eb7-acab-ffe5d923a4f0",
   "metadata": {},
   "outputs": [
    {
     "data": {
      "image/png": "[encoded data removed]",
      "text/latex": [
       "$\\displaystyle \\left[\\begin{matrix}\\frac{M a^{2}}{3} & 0 & 0\\\\0 & \\frac{M a^{2}}{12} & 0\\\\0 & 0 & \\frac{5 M a^{2}}{12}\\end{matrix}\\right]$"
      ],
      "text/plain": [
       "⎡   2              ⎤\n",
       "⎢M⋅a               ⎥\n",
       "⎢────   0      0   ⎥\n",
       "⎢ 3                ⎥\n",
       "⎢                  ⎥\n",
       "⎢         2        ⎥\n",
       "⎢      M⋅a         ⎥\n",
       "⎢ 0    ────    0   ⎥\n",
       "⎢       12         ⎥\n",
       "⎢                  ⎥\n",
       "⎢                 2⎥\n",
       "⎢            5⋅M⋅a ⎥\n",
       "⎢ 0     0    ──────⎥\n",
       "⎣              12  ⎦"
      ]
     },
     "execution_count": 9,
     "metadata": {},
     "output_type": "execute_result"
    }
   ],
   "source": [
    "# ORIGINE (a/2,0)\n",
    "def I_carre_1(f):\n",
    "    return sy.integrate(sy.integrate(f, (y, 0, a)), (x, -a/2, a/2)) \n",
    "\n",
    "I_xx = rho * I_carre_1(y**2)                \n",
    "I_yy = rho * I_carre_1(x**2)           \n",
    "I_xy = rho * I_carre_1(-x*y)\n",
    "I_zz = I_xx + I_yy\n",
    "I_1 = sy.Matrix([[I_xx, I_xy, 0], [I_xy, I_yy, 0], [0, 0, I_zz]])\n",
    "I_1"
   ]
  },
  {
   "cell_type": "code",
   "execution_count": 10,
   "id": "40de6865-0818-48cf-937d-1850d4d0a6a3",
   "metadata": {},
   "outputs": [
    {
     "data": {
      "image/png": "[encoded data removed]",
      "text/latex": [
       "$\\displaystyle \\left[\\begin{matrix}\\frac{M a^{2}}{12} & 0 & 0\\\\0 & \\frac{M a^{2}}{12} & 0\\\\0 & 0 & \\frac{M a^{2}}{6}\\end{matrix}\\right]$"
      ],
      "text/plain": [
       "⎡   2            ⎤\n",
       "⎢M⋅a             ⎥\n",
       "⎢────   0     0  ⎥\n",
       "⎢ 12             ⎥\n",
       "⎢                ⎥\n",
       "⎢         2      ⎥\n",
       "⎢      M⋅a       ⎥\n",
       "⎢ 0    ────   0  ⎥\n",
       "⎢       12       ⎥\n",
       "⎢                ⎥\n",
       "⎢               2⎥\n",
       "⎢            M⋅a ⎥\n",
       "⎢ 0     0    ────⎥\n",
       "⎣             6  ⎦"
      ]
     },
     "execution_count": 10,
     "metadata": {},
     "output_type": "execute_result"
    }
   ],
   "source": [
    "# Centre de masse (a/2,a/2)\n",
    "def I_carre_G(f):\n",
    "    return sy.integrate(sy.integrate(f, (y, -a/2, a/2)), (x, -a/2, a/2))\n",
    "\n",
    "I_xx = rho * I_carre_G(y**2)                \n",
    "I_yy = rho * I_carre_G(x**2)           \n",
    "I_xy = rho * I_carre_G(-x*y)\n",
    "I_zz = I_xx + I_yy\n",
    "I_G = sy.Matrix([[I_xx, I_xy, 0], [I_xy, I_yy, 0], [0, 0, I_zz]])\n",
    "I_G"
   ]
  },
  {
   "cell_type": "code",
   "execution_count": 11,
   "id": "6b959117-4404-4d98-a4a3-6fbe50c42afe",
   "metadata": {},
   "outputs": [
    {
     "data": {
      "image/png": "[encoded data removed]",
      "text/latex": [
       "$\\displaystyle \\left[\\begin{matrix}\\frac{M a^{2}}{3} & - \\frac{M a^{2}}{4} & 0\\\\- \\frac{M a^{2}}{4} & \\frac{M a^{2}}{3} & 0\\\\0 & 0 & \\frac{2 M a^{2}}{3}\\end{matrix}\\right]$"
      ],
      "text/plain": [
       "⎡    2       2         ⎤\n",
       "⎢ M⋅a    -M⋅a          ⎥\n",
       "⎢ ────   ──────    0   ⎥\n",
       "⎢  3       4           ⎥\n",
       "⎢                      ⎥\n",
       "⎢    2       2         ⎥\n",
       "⎢-M⋅a     M⋅a          ⎥\n",
       "⎢──────   ────     0   ⎥\n",
       "⎢  4       3           ⎥\n",
       "⎢                      ⎥\n",
       "⎢                     2⎥\n",
       "⎢                2⋅M⋅a ⎥\n",
       "⎢  0       0     ──────⎥\n",
       "⎣                  3   ⎦"
      ]
     },
     "execution_count": 11,
     "metadata": {},
     "output_type": "execute_result"
    }
   ],
   "source": [
    "# I_0: on a d = (-a/2,-a/2)\n",
    "I_d0 = sy.Matrix([[M*a**2/4, -M*a**2/4 , 0], [-M*a**2/4, M*a**2/4, 0], [0, 0,  M*a**2/2]])\n",
    "I_G + I_d0"
   ]
  },
  {
   "cell_type": "code",
   "execution_count": 12,
   "id": "bbb9b584-139a-48f9-afed-a6f951350858",
   "metadata": {},
   "outputs": [
    {
     "data": {
      "image/png": "[encoded data removed]",
      "text/latex": [
       "$\\displaystyle \\left[\\begin{matrix}\\frac{M a^{2}}{3} & 0 & 0\\\\0 & \\frac{M a^{2}}{12} & 0\\\\0 & 0 & \\frac{5 M a^{2}}{12}\\end{matrix}\\right]$"
      ],
      "text/plain": [
       "⎡   2              ⎤\n",
       "⎢M⋅a               ⎥\n",
       "⎢────   0      0   ⎥\n",
       "⎢ 3                ⎥\n",
       "⎢                  ⎥\n",
       "⎢         2        ⎥\n",
       "⎢      M⋅a         ⎥\n",
       "⎢ 0    ────    0   ⎥\n",
       "⎢       12         ⎥\n",
       "⎢                  ⎥\n",
       "⎢                 2⎥\n",
       "⎢            5⋅M⋅a ⎥\n",
       "⎢ 0     0    ──────⎥\n",
       "⎣              12  ⎦"
      ]
     },
     "execution_count": 12,
     "metadata": {},
     "output_type": "execute_result"
    }
   ],
   "source": [
    "# I_1: on a d = (0,-a/2)\n",
    "I_d1 = sy.Matrix([[M*a**2/4, 0 , 0], [0, 0, 0], [0, 0,  M*a**2/4]])\n",
    "I_G + I_d1"
   ]
  },
  {
   "cell_type": "markdown",
   "id": "bd952c09-e5d1-41c4-80a6-56093ec304e7",
   "metadata": {},
   "source": [
    "## Axes principaux\n",
    "\n",
    "Comme le tenseur d'inertie est symétrique, on peut toujours diagonaliser sa matrice, et donc l'ecrire comme\n",
    "$$I = \\mathrm{diag}(I_x, I_y, I_z)$$\n",
    "Les trois valeurs de la diagonale sont les racines du polynôme caractéristique:\n",
    "$$P(\\lambda) = \\det\\left(I - \\lambda 1_3\\right) = 0$$\n",
    "($1_3$ est la matrice identité de dimension 3); les vecteurs propres de la transformation sont les axes principaux du corps. Ils coincident avec les axes de symétrie du corps, si la densité est uniforme."
   ]
  },
  {
   "cell_type": "code",
   "execution_count": 98,
   "id": "6b6a1723-334e-40bb-90d7-f9d8e34e1e35",
   "metadata": {},
   "outputs": [
    {
     "data": {
      "image/png": "[encoded data removed]",
      "text/latex": [
       "$\\displaystyle \\left[ \\frac{M a^{2}}{12}, \\  \\frac{7 M a^{2}}{12}, \\  \\frac{2 M a^{2}}{3}\\right]$"
      ],
      "text/plain": [
       "⎡   2       2       2⎤\n",
       "⎢M⋅a   7⋅M⋅a   2⋅M⋅a ⎥\n",
       "⎢────, ──────, ──────⎥\n",
       "⎣ 12     12      3   ⎦"
      ]
     },
     "execution_count": 98,
     "metadata": {},
     "output_type": "execute_result"
    }
   ],
   "source": [
    "# Carre O=(0,0)\n",
    "l = sy.symbols(\"lambda\", real=True)\n",
    "p = sy.det(I_0 - l*sy.eye(3))\n",
    "sy.solve(sy.Eq(p,0),l)"
   ]
  },
  {
   "cell_type": "code",
   "execution_count": 101,
   "id": "791a9894-9301-4d80-b0b8-22f029d25385",
   "metadata": {},
   "outputs": [
    {
     "data": {
      "image/png": "[encoded data removed]",
      "text/latex": [
       "$\\displaystyle \\left[ \\left( \\frac{M a^{2}}{12}, \\  1, \\  \\left[ \\left[\\begin{matrix}1\\\\1\\\\0\\end{matrix}\\right]\\right]\\right), \\  \\left( \\frac{7 M a^{2}}{12}, \\  1, \\  \\left[ \\left[\\begin{matrix}-1\\\\1\\\\0\\end{matrix}\\right]\\right]\\right), \\  \\left( \\frac{2 M a^{2}}{3}, \\  1, \\  \\left[ \\left[\\begin{matrix}0\\\\0\\\\1\\end{matrix}\\right]\\right]\\right)\\right]$"
      ],
      "text/plain": [
       "⎡⎛   2     ⎡⎡1⎤⎤⎞  ⎛     2     ⎡⎡-1⎤⎤⎞  ⎛     2     ⎡⎡0⎤⎤⎞⎤\n",
       "⎢⎜M⋅a      ⎢⎢ ⎥⎥⎟  ⎜7⋅M⋅a      ⎢⎢  ⎥⎥⎟  ⎜2⋅M⋅a      ⎢⎢ ⎥⎥⎟⎥\n",
       "⎢⎜────, 1, ⎢⎢1⎥⎥⎟, ⎜──────, 1, ⎢⎢1 ⎥⎥⎟, ⎜──────, 1, ⎢⎢0⎥⎥⎟⎥\n",
       "⎢⎜ 12      ⎢⎢ ⎥⎥⎟  ⎜  12       ⎢⎢  ⎥⎥⎟  ⎜  3        ⎢⎢ ⎥⎥⎟⎥\n",
       "⎣⎝         ⎣⎣0⎦⎦⎠  ⎝           ⎣⎣0 ⎦⎦⎠  ⎝           ⎣⎣1⎦⎦⎠⎦"
      ]
     },
     "execution_count": 101,
     "metadata": {},
     "output_type": "execute_result"
    }
   ],
   "source": [
    "I_0.eigenvects()"
   ]
  },
  {
   "cell_type": "markdown",
   "id": "bb509216-88dd-4b02-b682-35d795a31e2b",
   "metadata": {},
   "source": [
    "on voit qu'une rotation de 45 degrés permet de diagonaliser la matrice (un axe passant par le centre du carrée)."
   ]
  },
  {
   "cell_type": "markdown",
   "id": "2191e0c5-8c68-457d-a6d4-b523d60b668e",
   "metadata": {},
   "source": [
    "# Cinématique du solide\n",
    "\n",
    "## Vitesse angulaire\n",
    "\n",
    "Dans un repère fixe $(X,Y,Z)$ un point $\\bm X$ du solide $\\mathcal{V}$ varie selon le mouvement du centre de masse $\\bm R$ et de sa propre rotation d'angle $\\varphi$ et d'axe $\\bm n$, $\\D \\bm \\varphi = \\bm n \\D \\varphi$:\n",
    "$$\\D \\bm X = \\D \\bm R + \\D \\bm \\varphi \\times \\bm r$$\n",
    "où $\\bm r$ est un point appartenant à $\\mathcal{V}$, mesuré dans le repère $(x,y,z)$ d'origine $O$ (le centre de masse) fixé au solide: $\\bm X = \\bm R + \\bm r$ à chaque instant $t$.\n",
    "\n",
    "Les coordonnées $(X,Y,Z)$ sont fixes, tandis que les coordonnées $(x,y,z)$ évoluent dans le temps:\n",
    "$$\\frac{\\D \\bm X}{\\D t} = \\bm v, \\; \\frac{\\D \\bm R}{\\D t} = \\bm V, \\; \\frac{\\D \\bm a}{\\D t} = \\bm \\Omega$$\n",
    "On a donc la transformation de la vitesse entre le repère fixe $\\bm v$ et le mouvement du corps:\n",
    "$$\\bm v = \\bm V + \\bm \\Omega \\times \\bm r$$\n",
    "Le vecteur $\\bm r$ ne dépend pas du temps puisqu'il est un point d'un corps solide (indéformable).\n",
    "\n",
    "Si l'origine de coordonnées du corps n'est pas sur son centre de masse, mais il est déplacé de $\\bm d$, on a la transformation suivante:\n",
    "$$\\bm v = \\bm V + \\bm \\Omega \\times \\bm d + \\bm \\Omega \\times \\bm r'$$\n",
    "avec $\\bm r = \\bm r' + \\bm d$,\n",
    "$$\\bm V' = \\bm V + \\bm \\Omega \\times \\bm d, \\; \\bm \\Omega' = \\bm \\Omega$$\n",
    "le centre de masse tourne, mais la vitesse angulaire du corps est invariante."
   ]
  },
  {
   "cell_type": "markdown",
   "id": "753cd878-80d7-483a-90dd-80ffbb1079cd",
   "metadata": {},
   "source": [
    "## Énergie cinétique\n",
    "\n",
    "Elle est donnée par la formule habituelle\n",
    "$$T = \\frac{1}{2} \\sum_n m_n \\bm v_n^2$$\n",
    "En y substituant l'expression de $\\bm v$ on obtient:\n",
    "$$T = \\frac{1}{2} \\sum_n m_n \\bm V^2 + \\sum_n m_n \\bm \\Omega \\times \\bm r_n + \\frac{1}{2} \\sum_n m_n \\left( \\Omega \\times \\bm r_n \\right)^2$$\n",
    "On note que le terme du milieu est nul, par définition du centre de masse, on a donc:\n",
    "$$T = \\frac{M V^2}{2} + \\frac{1}{2} \\sum_n m_n \\left( \\Omega \\times \\bm r_n \\right)^2=  \\frac{M V^2}{2} +  \\frac{1}{2} \\sum_n m_n (\\Omega_l^2 x_{nl}^2 - \\Omega_i x_{ni} \\Omega_j x_{nj})$$\n",
    "où nous avons introduit la notation en coordonnées (avec la convention que l'on fait la somme sur les indices répétés). En notant que $\\Omega_l^2 x_l^2 = \\Omega_i \\Omega_j \\delta_{ij} x_l^2$, on peut écrire:\n",
    "$$T = \\frac{M V^2}{2} + \\frac{1}{2} \\sum_n m_n (x_{nl}^2 \\delta_{ij} - x_{ni} x_{nj}) \\Omega_i \\Omega_j$$\n",
    "On trouve donc\n",
    "$$T = \\frac{M V^2}{2} + \\frac{1}{2} I_{ij} \\Omega_i \\Omega_j$$\n",
    "avec \n",
    "$$I_{ij} =  \\sum_n m_n (x_{nl}^2 \\delta_{ij} - x_{ni} x_{nj})$$\n",
    "le tenseur d'inertie."
   ]
  },
  {
   "cell_type": "markdown",
   "id": "09fc87a3-b489-468c-ac73-9bcdb51b96be",
   "metadata": {},
   "source": [
    "## Vitesse angulaire en fonction d'angles d'Euler\n",
    "\n",
    "Dans le repère du centre de masse $(x,y,z)$:\n",
    "\\begin{align*}\n",
    "\\Omega_x &= \\dot{\\psi} \\sin \\theta \\sin \\varphi + \\dot{\\theta} \\cos \\varphi \\\\\n",
    "\\Omega_y &= \\dot{\\psi} \\sin \\theta \\cos \\varphi - \\dot{\\theta} \\sin \\varphi \\\\\n",
    "\\Omega_z &= \\dot{\\psi} \\cos \\theta + \\dot{\\varphi}\n",
    "\\end{align*}"
   ]
  },
  {
   "cell_type": "code",
   "execution_count": 5,
   "id": "c892e137-ac36-4443-b57f-819b06a1a629",
   "metadata": {},
   "outputs": [],
   "source": [
    "phi, theta, psi = symbols(\"phi, theta, psi\", real=True)\n",
    "\n",
    "def R_x(phi):\n",
    "    c = sy.cos(phi)\n",
    "    s = sy.sin(phi)\n",
    "    return sy.Matrix([[1,  0, 0],\n",
    "                  [0, c, -s],\n",
    "                  [0, s,  c]])\n",
    "def R_y(phi):\n",
    "    c = sy.cos(phi)\n",
    "    s = sy.sin(phi)\n",
    "    return sy.Matrix([[ c, 0, s],\n",
    "                  [ 0, 1, 0],\n",
    "                  [-s, 0, c]])\n",
    "\n",
    "def R_z(phi):\n",
    "    c = sy.cos(phi)\n",
    "    s = sy.sin(phi)\n",
    "    return sy.Matrix([[c, -s, 0],\n",
    "                  [s,  c, 0],\n",
    "                  [0,  0, 1]])"
   ]
  },
  {
   "cell_type": "code",
   "execution_count": 11,
   "id": "2b662d8e-512e-4a0e-8446-09e1f8abdac9",
   "metadata": {},
   "outputs": [
    {
     "data": {
      "image/png": "[encoded data removed]",
      "text/latex": [
       "$\\displaystyle \\left[\\begin{matrix}\\psi_{t} \\sin{\\left(\\phi \\right)} \\sin{\\left(\\theta \\right)} + \\theta_{t} \\cos{\\left(\\phi \\right)}\\\\\\psi_{t} \\sin{\\left(\\theta \\right)} \\cos{\\left(\\phi \\right)} - \\theta_{t} \\sin{\\left(\\phi \\right)}\\\\\\phi_{t} + \\psi_{t} \\cos{\\left(\\theta \\right)}\\end{matrix}\\right]$"
      ],
      "text/plain": [
       "⎡ψₜ⋅sin(φ)⋅sin(θ) + θₜ⋅cos(φ)⎤\n",
       "⎢                            ⎥\n",
       "⎢ψₜ⋅sin(θ)⋅cos(φ) - θₜ⋅sin(φ)⎥\n",
       "⎢                            ⎥\n",
       "⎣       φₜ + ψₜ⋅cos(θ)       ⎦"
      ]
     },
     "execution_count": 11,
     "metadata": {},
     "output_type": "execute_result"
    }
   ],
   "source": [
    "# d phi/d t est dirigé selon ez(mobile)\n",
    "# d theta/d t est dirigé selon la ligne nodale eN\n",
    "# d psi/d t est dirigé selon eZ (fixe)\n",
    "psi_t, theta_t, phi_t = sy.symbols(\"psi_t, theta_t, phi_t\", real=True)\n",
    "#\n",
    "ez = sy.Matrix([0,0,1])\n",
    "ex = sy.Matrix([1,0,0])\n",
    "\n",
    "eZ = R_z(-phi)*R_x(-theta)*ez\n",
    "eN = R_z(-phi)*R_x(-theta)*ex\n",
    "Omega = phi_t*ez + theta_t*eN + psi_t*eZ\n",
    "Omega"
   ]
  },
  {
   "cell_type": "markdown",
   "id": "bc2517e3-05ca-471e-a77f-bc76489d1937",
   "metadata": {},
   "source": [
    "## Équation d'Euler\n",
    "\n",
    "La variation d'un vector quelconque $\\bm A$ se décompose dans une partie de variation intrinsèque (dans le repère mobile) qu'on note avec une prime, et une autre partie due à la rotation de vitesse angulaire $\\bm \\Omega$:\n",
    "$$\\frac{\\D \\bm A}{\\D t} = \\frac{\\D' \\bm A}{\\D t} + \\Omega \\times \\bm A$$\n",
    "On peut aussi noter explicitement les repères:\n",
    "$$\\left. \\frac{\\D \\bm A}{\\D t} \\right|_{(X,Y,Z)} = \\left. \\frac{\\D \\bm A}{\\D t} \\right|_{(x,y,x)} + \\left. \\Omega \\times \\bm A \\right|_{(x,y,z)}$$"
   ]
  },
  {
   "cell_type": "markdown",
   "id": "a94a8575-9a89-491a-aca6-395118dfe69f",
   "metadata": {},
   "source": [
    "## Moment cinétique\n",
    "\n",
    "Pour un ensemble de points matériels le moment cinétique (ou moment angulaire) $\\bm L$:\n",
    "$$\\bm L = \\sum_n m_n \\bm r_n \\times \\bm v_n$$\n",
    "Un changement du centre de coordonnées par une translation $\\bm d$, $\\bm r = \\bm r' + \\bm d$ transforme le moment \n",
    "$$\\bm L = \\sum_n (\\bm r'_n \\times \\bm p_n + \\bm d \\times \\bm p_n) = \\bm L' + \\bm d \\times \\bm P$$\n",
    "Si deux systèmes ont une vitesse relative $\\bm V$: $\\bm v_n = \\bm v'_n + \\bm V$, le moment cinétique change selon la loi:\n",
    "$$\\bm L = \\bm L' + M \\bm R \\times V$$\n",
    "\n",
    "### Solide\n",
    "\n",
    "La généralisation à un corps solide consiste à remplacer la vitesse des particules par la vitesse angulaire du solide $\\bm \\Omega \\times \\bm r$:\n",
    "$$L_i = I_{ij} \\Omega_j$$\n",
    "(toujours on somme sur les indices répétés).\n",
    "Notez:\n",
    "$$\\bm r \\times (\\bm \\Omega \\times \\bm r) = \\bm \\Omega r^2 - \\bm r (\\Omega \\cdot \\bm r)$$\n",
    "ce qui s'écrit comme le produit du tenseur d'inertie par le vecteur de vitesse angulaire. \n",
    "\n",
    "Il convient de faire un changement de coordonnées pour exprimer le tenseur d'inertie selon ses axes principales:\n",
    "$$ L_x = I_x \\Omega_x,\\; L_y = I_y \\Omega_y, \\; L_z = I_z \\Omega_z$$\n",
    "\n",
    "### Variation de $\\bm L$\n",
    "\n",
    "La variation \"instantanée\" du moment $\\bm L$ est donnée par la formule générale, applicable à tout vecteur:\n",
    "$$\\left. \\frac{\\D \\bm L}{\\D t} \\right|_{(X,Y,Z)} = \\left. \\frac{\\D \\bm L}{\\D t} \\right|_{(x,y,x)} + \\left. \\Omega \\times \\bm L \\right|_{(x,y,z)}$$\n",
    "où $(X,Y,Z)$ est le repère fixe, et $(x,y,z)$ le repére fixé au solide, mobile par rapport à $(X,Y,Z)$.\n",
    "\n",
    "Dans le cas où le tenseur $I$ est diagonal, on a\n",
    "\\begin{align*}\n",
    "\\dot{L}_x &= I_x \\frac{\\D \\Omega_x}{\\D t} + (I_z-I_y)\\Omega_y \\Omega_z \\\\\n",
    "\\dot{L}_y &= I_y \\frac{\\D \\Omega_y}{\\D t} + (I_z-I_x)\\Omega_x \\Omega_z \\\\\n",
    "\\dot{L}_z &= I_z \\frac{\\D \\Omega_z}{\\D t} + (I_y-I_x)\\Omega_x \\Omega_y \\\\\n",
    "\\end{align*}"
   ]
  },
  {
   "cell_type": "markdown",
   "id": "3102ac0d-8812-4f11-bc29-891fcd86fa85",
   "metadata": {},
   "source": [
    "# Triangle"
   ]
  },
  {
   "cell_type": "code",
   "execution_count": 17,
   "id": "118708e3-7fc0-4988-a6d4-14d24bf10f3a",
   "metadata": {},
   "outputs": [
    {
     "data": {
      "text/plain": [
       "[Text(0, 0.0, '$0$'), Text(0, 1.5, '$h$')]"
      ]
     },
     "execution_count": 17,
     "metadata": {},
     "output_type": "execute_result"
    },
    {
     "data": {
      "image/png": "[encoded data removed]",
      "text/plain": [
       "<Figure size 288x288 with 1 Axes>"
      ]
     },
     "metadata": {
      "needs_background": "light"
     },
     "output_type": "display_data"
    }
   ],
   "source": [
    "N = 65\n",
    "x = np.linspace(-1,1,N)\n",
    "y = -1.5*np.abs(x) + 1.5\n",
    "fig, ax = plt.subplots(figsize = (4,4))\n",
    "ax.plot(x, y, color = '0.35')\n",
    "ax.plot([-1,1], [0,0], color = '0.35')\n",
    "ax.plot([0,0], [0,1.5], \":\", color = '0.35')\n",
    "ax.plot([0,0], [0,0], \".\", color = '#800', ms = 18)\n",
    "ax.set_xticks([-1, 0, 1])\n",
    "ax.set_xticklabels([\"$-a$\", \"$0$\", \"$a$\"], fontsize = 18)\n",
    "ax.set_yticks([0, 1.5])\n",
    "ax.set_yticklabels([\"$0$\", \"$h$\"], fontsize = 18)"
   ]
  },
  {
   "cell_type": "markdown",
   "id": "f58fa877-f733-4237-a6b4-05fbbe513a6f",
   "metadata": {},
   "source": [
    "On a un triangle $y=-(b/a) |x| + h$, et on veut calculer son moment d'inertie (en prennant $(0,0)$ comme centre de coordonnées associées au corps)."
   ]
  },
  {
   "cell_type": "code",
   "execution_count": 18,
   "id": "878a5f92-d06c-44b9-a7a0-da082b4e99b6",
   "metadata": {},
   "outputs": [],
   "source": [
    "x, y = sy.symbols(\"x, y\", real=True)\n",
    "a, h = sy.symbols(\"a h\", real=True)\n",
    "rho, M = sy.symbols(\"rho M\", real=True)"
   ]
  },
  {
   "cell_type": "code",
   "execution_count": 19,
   "id": "cf96e551-f786-4cea-9af7-3eae47258a37",
   "metadata": {},
   "outputs": [],
   "source": [
    "# intégrale double sur le triangle\n",
    "def I_triangle(f):\n",
    "    return sy.integrate(sy.integrate(f, (y, 0,  (h/a)*x + h)), (x, -a, 0)) +\\\n",
    "           sy.integrate(sy.integrate(f, (y, 0, -(h/a)*x + h)), (x, 0, a))"
   ]
  },
  {
   "cell_type": "code",
   "execution_count": 20,
   "id": "7a7fc553-8a0e-4e00-bebf-6853bf875631",
   "metadata": {},
   "outputs": [
    {
     "data": {
      "image/png": "[encoded data removed]",
      "text/latex": [
       "$\\displaystyle a h$"
      ],
      "text/plain": [
       "a⋅h"
      ]
     },
     "execution_count": 20,
     "metadata": {},
     "output_type": "execute_result"
    }
   ],
   "source": [
    "# aire du triangle A, on a M = rho A\n",
    "A = I_triangle(1)\n",
    "A"
   ]
  },
  {
   "cell_type": "code",
   "execution_count": 21,
   "id": "f4a9ca47-8cd7-4ecb-8e33-ff9836a73e78",
   "metadata": {},
   "outputs": [
    {
     "data": {
      "image/png": "[encoded data removed]",
      "text/latex": [
       "$\\displaystyle \\left[\\begin{matrix}\\frac{M h^{2}}{6} & 0 & 0\\\\0 & \\frac{M a^{2}}{6} & 0\\\\0 & 0 & \\frac{M \\left(a^{2} + h^{2}\\right)}{6}\\end{matrix}\\right]$"
      ],
      "text/plain": [
       "⎡   2                   ⎤\n",
       "⎢M⋅h                    ⎥\n",
       "⎢────   0         0     ⎥\n",
       "⎢ 6                     ⎥\n",
       "⎢                       ⎥\n",
       "⎢         2             ⎥\n",
       "⎢      M⋅a              ⎥\n",
       "⎢ 0    ────       0     ⎥\n",
       "⎢       6               ⎥\n",
       "⎢                       ⎥\n",
       "⎢              ⎛ 2    2⎞⎥\n",
       "⎢            M⋅⎝a  + h ⎠⎥\n",
       "⎢ 0     0    ───────────⎥\n",
       "⎣                 6     ⎦"
      ]
     },
     "execution_count": 21,
     "metadata": {},
     "output_type": "execute_result"
    }
   ],
   "source": [
    "# inertie\n",
    "# I_xx, I_yy, I_zz = I_xx + I_yy, I_xy = I_yx = 0\n",
    "I_xx = (M/A) * I_triangle(y**2)\n",
    "I_yy = (M/A) * I_triangle(x**2)\n",
    "I_xy = (M/A) * I_triangle(x*y)\n",
    "I_zz = sy.simplify(I_xx + I_yy)\n",
    "\n",
    "I = sy.Matrix([[I_xx, I_xy, 0], [I_xy, I_yy, 0], [0, 0, I_zz]])\n",
    "I"
   ]
  },
  {
   "cell_type": "code",
   "execution_count": 32,
   "id": "d8d2cf0f-913d-4efa-a637-001687be2cf2",
   "metadata": {},
   "outputs": [
    {
     "data": {
      "image/png": "[encoded data removed]",
      "text/latex": [
       "$\\displaystyle \\left[\\begin{matrix}\\theta_{t}\\\\\\psi_{t} \\sin{\\left(\\theta \\right)}\\\\\\psi_{t} \\cos{\\left(\\theta \\right)}\\end{matrix}\\right]$"
      ],
      "text/plain": [
       "⎡   θₜ    ⎤\n",
       "⎢         ⎥\n",
       "⎢ψₜ⋅sin(θ)⎥\n",
       "⎢         ⎥\n",
       "⎣ψₜ⋅cos(θ)⎦"
      ]
     },
     "execution_count": 32,
     "metadata": {},
     "output_type": "execute_result"
    }
   ],
   "source": [
    "# vitesse angulaire (xyz)\n",
    "w = Omega.subs([(phi,0), (phi_t,0)])\n",
    "w_x, w_y, w_z = w[0], w[1], w[2]\n",
    "w"
   ]
  },
  {
   "cell_type": "code",
   "execution_count": 33,
   "id": "1f0cc6b4-cc4e-44a6-bb59-9288a4b2ef1f",
   "metadata": {},
   "outputs": [
    {
     "data": {
      "image/png": "[encoded data removed]",
      "text/latex": [
       "$\\displaystyle \\left[\\begin{matrix}\\frac{M h^{2} \\theta_{t}}{6}\\\\\\frac{M a^{2} \\psi_{t} \\sin{\\left(\\theta \\right)}}{6}\\\\\\frac{M \\psi_{t} \\left(a^{2} + h^{2}\\right) \\cos{\\left(\\theta \\right)}}{6}\\end{matrix}\\right]$"
      ],
      "text/plain": [
       "⎡          2          ⎤\n",
       "⎢       M⋅h ⋅θₜ       ⎥\n",
       "⎢       ───────       ⎥\n",
       "⎢          6          ⎥\n",
       "⎢                     ⎥\n",
       "⎢      2              ⎥\n",
       "⎢   M⋅a ⋅ψₜ⋅sin(θ)    ⎥\n",
       "⎢   ──────────────    ⎥\n",
       "⎢         6           ⎥\n",
       "⎢                     ⎥\n",
       "⎢     ⎛ 2    2⎞       ⎥\n",
       "⎢M⋅ψₜ⋅⎝a  + h ⎠⋅cos(θ)⎥\n",
       "⎢─────────────────────⎥\n",
       "⎣          6          ⎦"
      ]
     },
     "execution_count": 33,
     "metadata": {},
     "output_type": "execute_result"
    }
   ],
   "source": [
    "# Angular momentum (xyz)\n",
    "L_xyz = sy.Matrix([I_xx * w_x, I_yy * w_y, I_zz * w_z])\n",
    "L_xyz"
   ]
  }
 ],
 "metadata": {
  "kernelspec": {
   "display_name": "Python 3 (ipykernel)",
   "language": "python",
   "name": "python3"
  },
  "language_info": {
   "codemirror_mode": {
    "name": "ipython",
    "version": 3
   },
   "file_extension": ".py",
   "mimetype": "text/x-python",
   "name": "python",
   "nbconvert_exporter": "python",
   "pygments_lexer": "ipython3",
   "version": "3.8.12"
  }
 },
 "nbformat": 4,
 "nbformat_minor": 5
}
